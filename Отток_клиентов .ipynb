{
  "cells": [
    {
      "cell_type": "markdown",
      "metadata": {
        "toc": true,
        "id": "wo1IBcI9sTmt"
      },
      "source": [
        "<h1>Содержание<span class=\"tocSkip\"></span></h1>\n",
        "<div class=\"toc\"><ul class=\"toc-item\"><li><span><a href=\"#Подготовка-данных\" data-toc-modified-id=\"Подготовка-данных-1\"><span class=\"toc-item-num\">1&nbsp;&nbsp;</span>Подготовка данных</a></span></li><li><span><a href=\"#Исследование-задачи\" data-toc-modified-id=\"Исследование-задачи-2\"><span class=\"toc-item-num\">2&nbsp;&nbsp;</span>Исследование задачи</a></span></li><li><span><a href=\"#Борьба-с-дисбалансом\" data-toc-modified-id=\"Борьба-с-дисбалансом-3\"><span class=\"toc-item-num\">3&nbsp;&nbsp;</span>Борьба с дисбалансом</a></span><ul class=\"toc-item\"><li><span><a href=\"#Проверка-качества-модели-логистической-регрессии,-учитывая-дисбаланс-классов.\" data-toc-modified-id=\"Проверка-качества-модели-логистической-регрессии,-учитывая-дисбаланс-классов.-3.1\"><span class=\"toc-item-num\">3.1&nbsp;&nbsp;</span>Проверка качества модели логистической регрессии, учитывая дисбаланс классов.</a></span></li><li><span><a href=\"#Проверка-качества-модели-решающего-дерева,-учитывая-дисбаланс-классов.\" data-toc-modified-id=\"Проверка-качества-модели-решающего-дерева,-учитывая-дисбаланс-классов.-3.2\"><span class=\"toc-item-num\">3.2&nbsp;&nbsp;</span>Проверка качества модели решающего дерева, учитывая дисбаланс классов.</a></span></li><li><span><a href=\"#Поиск-лучших-параметров-для-модели-случайного-леса-с-помощью-модуля-GridSearchCV.\" data-toc-modified-id=\"Поиск-лучших-параметров-для-модели-случайного-леса-с-помощью-модуля-GridSearchCV.-3.3\"><span class=\"toc-item-num\">3.3&nbsp;&nbsp;</span>Поиск лучших параметров для модели случайного леса с помощью модуля GridSearchCV.</a></span></li></ul></li><li><span><a href=\"#Тестирование-модели\" data-toc-modified-id=\"Тестирование-модели-4\"><span class=\"toc-item-num\">4&nbsp;&nbsp;</span>Тестирование модели</a></span></li></ul></div>"
      ]
    },
    {
      "cell_type": "markdown",
      "metadata": {
        "id": "2FnOKbDQsTmv"
      },
      "source": [
        "# Отток клиентов"
      ]
    },
    {
      "cell_type": "markdown",
      "metadata": {
        "id": "vbKx5txbsTmx"
      },
      "source": [
        "<div class=\"alert alert-block alert-info\">\n",
        "<b>Изменения:</b> \n",
        "    \n",
        "**Цель проекта:** Из банка ежемесячно стали уходить клиенты. Банковские маркетологи посчитали: сохранять текущих клиентов дешевле, чем привлекать новых.У нас есть данные о поведении клиентов и расторжении договоров с банком. Мне необходимо спрогнозировать уйдёт ли клиент из банка в ближайшее время. \n",
        "    \n",
        "**План работы:** Подготовить и исследовать данные. Посмотреть на баланс классов и построить модели, выбрав лучший метод борьбы с дисбалансом. Найти лучшие параметры для каждой модели и выбрать ту, которая показывает предельно большое значение F1-меры. Дополнительно измерять AUC-ROC. Проверить F1 на тестовой выборке, получить метрику не ниже 0.59."
      ]
    },
    {
      "cell_type": "markdown",
      "metadata": {
        "id": "KTcTmVj8sTmz"
      },
      "source": [
        "## Подготовка данных"
      ]
    },
    {
      "cell_type": "markdown",
      "source": [
        "Выполняю импорт нужных для исследования библиотек."
      ],
      "metadata": {
        "id": "8t34Sa-wveAR"
      }
    },
    {
      "cell_type": "code",
      "execution_count": 2,
      "metadata": {
        "id": "YMqvrTVCsTm0"
      },
      "outputs": [],
      "source": [
        "import pandas as pd\n",
        "import numpy as np\n",
        "import seaborn as sns\n",
        "import matplotlib.pyplot as plt\n",
        "from sklearn.model_selection import train_test_split, GridSearchCV\n",
        "from sklearn.preprocessing import OneHotEncoder, StandardScaler\n",
        "from sklearn.metrics import f1_score, confusion_matrix, roc_auc_score, roc_curve, \\\n",
        "                        precision_score, recall_score, make_scorer\n",
        "from sklearn.utils import shuffle\n",
        "\n",
        "from sklearn.linear_model import LogisticRegression\n",
        "from sklearn.dummy import DummyClassifier\n",
        "from sklearn.tree import DecisionTreeClassifier\n",
        "from sklearn.ensemble import RandomForestClassifier\n",
        "from catboost import CatBoostClassifier\n",
        "import warnings"
      ]
    },
    {
      "cell_type": "markdown",
      "source": [
        "Открываю данные и посмотрю на общую информацию по таблице."
      ],
      "metadata": {
        "id": "O3bjgRZtvRGL"
      }
    },
    {
      "cell_type": "code",
      "execution_count": 6,
      "metadata": {
        "id": "255tF607sTm3"
      },
      "outputs": [],
      "source": [
        "try:\n",
        "    data = pd.read_csv('/datasets/Churn.csv')\n",
        "except:\n",
        "    data = pd.read_csv('https://code.s3.yandex.net/datasets/Churn.csv')"
      ]
    },
    {
      "cell_type": "code",
      "source": [
        "data.info()"
      ],
      "metadata": {
        "colab": {
          "base_uri": "https://localhost:8080/"
        },
        "id": "tGdPGKqSuJBZ",
        "outputId": "0fdbc500-c042-4131-ab6c-90278bb4dcff"
      },
      "execution_count": 7,
      "outputs": [
        {
          "output_type": "stream",
          "name": "stdout",
          "text": [
            "<class 'pandas.core.frame.DataFrame'>\n",
            "RangeIndex: 10000 entries, 0 to 9999\n",
            "Data columns (total 14 columns):\n",
            " #   Column           Non-Null Count  Dtype  \n",
            "---  ------           --------------  -----  \n",
            " 0   RowNumber        10000 non-null  int64  \n",
            " 1   CustomerId       10000 non-null  int64  \n",
            " 2   Surname          10000 non-null  object \n",
            " 3   CreditScore      10000 non-null  int64  \n",
            " 4   Geography        10000 non-null  object \n",
            " 5   Gender           10000 non-null  object \n",
            " 6   Age              10000 non-null  int64  \n",
            " 7   Tenure           9091 non-null   float64\n",
            " 8   Balance          10000 non-null  float64\n",
            " 9   NumOfProducts    10000 non-null  int64  \n",
            " 10  HasCrCard        10000 non-null  int64  \n",
            " 11  IsActiveMember   10000 non-null  int64  \n",
            " 12  EstimatedSalary  10000 non-null  float64\n",
            " 13  Exited           10000 non-null  int64  \n",
            "dtypes: float64(3), int64(8), object(3)\n",
            "memory usage: 1.1+ MB\n"
          ]
        }
      ]
    },
    {
      "cell_type": "markdown",
      "metadata": {
        "id": "ISlejXlBsTm4"
      },
      "source": [
        "Удалю столбец с индексом строки, чтобы не путаться в индексах и удалим столбцы с фамилией и id клиента, они не помогут мне в прогнозировании ухода."
      ]
    },
    {
      "cell_type": "code",
      "execution_count": 8,
      "metadata": {
        "id": "NlC0dF7hsTm5"
      },
      "outputs": [],
      "source": [
        "data = data.drop(['RowNumber', 'Surname', 'CustomerId'], axis=1)"
      ]
    },
    {
      "cell_type": "markdown",
      "metadata": {
        "id": "-DYDtRNMsTnG"
      },
      "source": [
        "Приведу названия столбцов к змеиному регистру."
      ]
    },
    {
      "cell_type": "code",
      "source": [
        "data.columns = data.columns.str.replace(r\"([A-Z])\", r\" \\1\").str.lower().str.replace(' ', '_').str[1:]"
      ],
      "metadata": {
        "colab": {
          "base_uri": "https://localhost:8080/"
        },
        "id": "JQKdFtoLuQI_",
        "outputId": "75018ad2-bb7a-49b3-c8a2-8441eaec4e86"
      },
      "execution_count": 9,
      "outputs": [
        {
          "output_type": "stream",
          "name": "stderr",
          "text": [
            "<ipython-input-9-19857ba1cf44>:1: FutureWarning: The default value of regex will change from True to False in a future version.\n",
            "  data.columns = data.columns.str.replace(r\"([A-Z])\", r\" \\1\").str.lower().str.replace(' ', '_').str[1:]\n"
          ]
        }
      ]
    },
    {
      "cell_type": "markdown",
      "metadata": {
        "id": "LJayEmX-sTnJ"
      },
      "source": [
        "В данных есть пропуски в столбце tenure, заполню их значением -1, чтобы выделить в отдельный класс."
      ]
    },
    {
      "cell_type": "code",
      "execution_count": 11,
      "metadata": {
        "colab": {
          "base_uri": "https://localhost:8080/"
        },
        "id": "CEZEVw3ssTnK",
        "outputId": "a88a98a1-b28c-443b-89f6-ff26cdc91830"
      },
      "outputs": [
        {
          "output_type": "execute_result",
          "data": {
            "text/plain": [
              "1.0     952\n",
              "2.0     950\n",
              "8.0     933\n",
              "3.0     928\n",
              "5.0     927\n",
              "7.0     925\n",
              "4.0     885\n",
              "9.0     882\n",
              "6.0     881\n",
              "10.0    446\n",
              "0.0     382\n",
              "Name: tenure, dtype: int64"
            ]
          },
          "metadata": {},
          "execution_count": 11
        }
      ],
      "source": [
        "data['tenure'].value_counts()"
      ]
    },
    {
      "cell_type": "code",
      "execution_count": 12,
      "metadata": {
        "id": "n4QypdzDsTnL"
      },
      "outputs": [],
      "source": [
        "data['tenure'] = data['tenure'].fillna(-1)"
      ]
    },
    {
      "cell_type": "markdown",
      "metadata": {
        "id": "vTDNwEWEsTnN"
      },
      "source": [
        "Разделю фрейм на признаки и целевой признак."
      ]
    },
    {
      "cell_type": "code",
      "execution_count": 13,
      "metadata": {
        "id": "Qwh2z3vwsTnO"
      },
      "outputs": [],
      "source": [
        "target = data['exited']\n",
        "features = data.drop(['exited'], axis=1)"
      ]
    },
    {
      "cell_type": "markdown",
      "metadata": {
        "id": "fNduUqHzsTnO"
      },
      "source": [
        "Разделю обучающую и валидационную выборки."
      ]
    },
    {
      "cell_type": "code",
      "execution_count": 14,
      "metadata": {
        "id": "kRtgFgtqsTnO"
      },
      "outputs": [],
      "source": [
        "features_train, features_valid, target_train, target_valid = train_test_split( \n",
        "            features, target, test_size=0.4, random_state=12345)"
      ]
    },
    {
      "cell_type": "markdown",
      "metadata": {
        "id": "BUdLoQRZsTnP"
      },
      "source": [
        "Разделю валидационную выборку на валидационную и тестовую."
      ]
    },
    {
      "cell_type": "code",
      "execution_count": 15,
      "metadata": {
        "id": "4tLNFKi2sTnP"
      },
      "outputs": [],
      "source": [
        "features_valid, features_test, target_valid, target_test = train_test_split( \n",
        "            features_valid, target_valid, test_size=0.5, random_state=12345)"
      ]
    },
    {
      "cell_type": "markdown",
      "metadata": {
        "id": "fTYIDi8asTnP"
      },
      "source": [
        "Проверю размеры выборок."
      ]
    },
    {
      "cell_type": "code",
      "execution_count": 16,
      "metadata": {
        "colab": {
          "base_uri": "https://localhost:8080/"
        },
        "id": "9YVbCZx5sTnQ",
        "outputId": "e83146a7-1cee-487f-bdbf-5c4ceb2c8ca1"
      },
      "outputs": [
        {
          "output_type": "stream",
          "name": "stdout",
          "text": [
            "Обучающая: (6000, 10) (6000,)\n",
            "Валидационная: (2000, 10) (2000,)\n",
            "Тестовая: (2000, 10) (2000,)\n"
          ]
        }
      ],
      "source": [
        "print('Обучающая:', features_train.shape, target_train.shape)\n",
        "print('Валидационная:', features_valid.shape, target_valid.shape)\n",
        "print('Тестовая:', features_test.shape, target_test.shape)"
      ]
    },
    {
      "cell_type": "code",
      "execution_count": 17,
      "metadata": {
        "scrolled": false,
        "colab": {
          "base_uri": "https://localhost:8080/",
          "height": 204
        },
        "id": "uezcBtGOsTnR",
        "outputId": "e36ea8b6-f87c-4c85-dfed-3e43732432ca"
      },
      "outputs": [
        {
          "output_type": "execute_result",
          "data": {
            "text/plain": [
              "      credit_score geography  gender  age  tenure    balance  num_of_products  \\\n",
              "7479           567     Spain    Male   35     8.0  153137.74                1   \n",
              "3411           711    France  Female   37     8.0  113899.92                1   \n",
              "6027           850   Germany    Male   44     3.0  140393.65                2   \n",
              "1247           512    France    Male   24     6.0       0.00                2   \n",
              "3716           665   Germany  Female   27     2.0  147435.96                1   \n",
              "\n",
              "      has_cr_card  is_active_member  estimated_salary  \n",
              "7479            1                 0          88659.07  \n",
              "3411            0                 0          80215.20  \n",
              "6027            0                 1         186285.52  \n",
              "1247            1                 0          37654.31  \n",
              "3716            0                 0         187508.06  "
            ],
            "text/html": [
              "\n",
              "  <div id=\"df-da0c0476-0f74-4335-9ee6-7f61c29404f6\">\n",
              "    <div class=\"colab-df-container\">\n",
              "      <div>\n",
              "<style scoped>\n",
              "    .dataframe tbody tr th:only-of-type {\n",
              "        vertical-align: middle;\n",
              "    }\n",
              "\n",
              "    .dataframe tbody tr th {\n",
              "        vertical-align: top;\n",
              "    }\n",
              "\n",
              "    .dataframe thead th {\n",
              "        text-align: right;\n",
              "    }\n",
              "</style>\n",
              "<table border=\"1\" class=\"dataframe\">\n",
              "  <thead>\n",
              "    <tr style=\"text-align: right;\">\n",
              "      <th></th>\n",
              "      <th>credit_score</th>\n",
              "      <th>geography</th>\n",
              "      <th>gender</th>\n",
              "      <th>age</th>\n",
              "      <th>tenure</th>\n",
              "      <th>balance</th>\n",
              "      <th>num_of_products</th>\n",
              "      <th>has_cr_card</th>\n",
              "      <th>is_active_member</th>\n",
              "      <th>estimated_salary</th>\n",
              "    </tr>\n",
              "  </thead>\n",
              "  <tbody>\n",
              "    <tr>\n",
              "      <th>7479</th>\n",
              "      <td>567</td>\n",
              "      <td>Spain</td>\n",
              "      <td>Male</td>\n",
              "      <td>35</td>\n",
              "      <td>8.0</td>\n",
              "      <td>153137.74</td>\n",
              "      <td>1</td>\n",
              "      <td>1</td>\n",
              "      <td>0</td>\n",
              "      <td>88659.07</td>\n",
              "    </tr>\n",
              "    <tr>\n",
              "      <th>3411</th>\n",
              "      <td>711</td>\n",
              "      <td>France</td>\n",
              "      <td>Female</td>\n",
              "      <td>37</td>\n",
              "      <td>8.0</td>\n",
              "      <td>113899.92</td>\n",
              "      <td>1</td>\n",
              "      <td>0</td>\n",
              "      <td>0</td>\n",
              "      <td>80215.20</td>\n",
              "    </tr>\n",
              "    <tr>\n",
              "      <th>6027</th>\n",
              "      <td>850</td>\n",
              "      <td>Germany</td>\n",
              "      <td>Male</td>\n",
              "      <td>44</td>\n",
              "      <td>3.0</td>\n",
              "      <td>140393.65</td>\n",
              "      <td>2</td>\n",
              "      <td>0</td>\n",
              "      <td>1</td>\n",
              "      <td>186285.52</td>\n",
              "    </tr>\n",
              "    <tr>\n",
              "      <th>1247</th>\n",
              "      <td>512</td>\n",
              "      <td>France</td>\n",
              "      <td>Male</td>\n",
              "      <td>24</td>\n",
              "      <td>6.0</td>\n",
              "      <td>0.00</td>\n",
              "      <td>2</td>\n",
              "      <td>1</td>\n",
              "      <td>0</td>\n",
              "      <td>37654.31</td>\n",
              "    </tr>\n",
              "    <tr>\n",
              "      <th>3716</th>\n",
              "      <td>665</td>\n",
              "      <td>Germany</td>\n",
              "      <td>Female</td>\n",
              "      <td>27</td>\n",
              "      <td>2.0</td>\n",
              "      <td>147435.96</td>\n",
              "      <td>1</td>\n",
              "      <td>0</td>\n",
              "      <td>0</td>\n",
              "      <td>187508.06</td>\n",
              "    </tr>\n",
              "  </tbody>\n",
              "</table>\n",
              "</div>\n",
              "      <button class=\"colab-df-convert\" onclick=\"convertToInteractive('df-da0c0476-0f74-4335-9ee6-7f61c29404f6')\"\n",
              "              title=\"Convert this dataframe to an interactive table.\"\n",
              "              style=\"display:none;\">\n",
              "        \n",
              "  <svg xmlns=\"http://www.w3.org/2000/svg\" height=\"24px\"viewBox=\"0 0 24 24\"\n",
              "       width=\"24px\">\n",
              "    <path d=\"M0 0h24v24H0V0z\" fill=\"none\"/>\n",
              "    <path d=\"M18.56 5.44l.94 2.06.94-2.06 2.06-.94-2.06-.94-.94-2.06-.94 2.06-2.06.94zm-11 1L8.5 8.5l.94-2.06 2.06-.94-2.06-.94L8.5 2.5l-.94 2.06-2.06.94zm10 10l.94 2.06.94-2.06 2.06-.94-2.06-.94-.94-2.06-.94 2.06-2.06.94z\"/><path d=\"M17.41 7.96l-1.37-1.37c-.4-.4-.92-.59-1.43-.59-.52 0-1.04.2-1.43.59L10.3 9.45l-7.72 7.72c-.78.78-.78 2.05 0 2.83L4 21.41c.39.39.9.59 1.41.59.51 0 1.02-.2 1.41-.59l7.78-7.78 2.81-2.81c.8-.78.8-2.07 0-2.86zM5.41 20L4 18.59l7.72-7.72 1.47 1.35L5.41 20z\"/>\n",
              "  </svg>\n",
              "      </button>\n",
              "      \n",
              "  <style>\n",
              "    .colab-df-container {\n",
              "      display:flex;\n",
              "      flex-wrap:wrap;\n",
              "      gap: 12px;\n",
              "    }\n",
              "\n",
              "    .colab-df-convert {\n",
              "      background-color: #E8F0FE;\n",
              "      border: none;\n",
              "      border-radius: 50%;\n",
              "      cursor: pointer;\n",
              "      display: none;\n",
              "      fill: #1967D2;\n",
              "      height: 32px;\n",
              "      padding: 0 0 0 0;\n",
              "      width: 32px;\n",
              "    }\n",
              "\n",
              "    .colab-df-convert:hover {\n",
              "      background-color: #E2EBFA;\n",
              "      box-shadow: 0px 1px 2px rgba(60, 64, 67, 0.3), 0px 1px 3px 1px rgba(60, 64, 67, 0.15);\n",
              "      fill: #174EA6;\n",
              "    }\n",
              "\n",
              "    [theme=dark] .colab-df-convert {\n",
              "      background-color: #3B4455;\n",
              "      fill: #D2E3FC;\n",
              "    }\n",
              "\n",
              "    [theme=dark] .colab-df-convert:hover {\n",
              "      background-color: #434B5C;\n",
              "      box-shadow: 0px 1px 3px 1px rgba(0, 0, 0, 0.15);\n",
              "      filter: drop-shadow(0px 1px 2px rgba(0, 0, 0, 0.3));\n",
              "      fill: #FFFFFF;\n",
              "    }\n",
              "  </style>\n",
              "\n",
              "      <script>\n",
              "        const buttonEl =\n",
              "          document.querySelector('#df-da0c0476-0f74-4335-9ee6-7f61c29404f6 button.colab-df-convert');\n",
              "        buttonEl.style.display =\n",
              "          google.colab.kernel.accessAllowed ? 'block' : 'none';\n",
              "\n",
              "        async function convertToInteractive(key) {\n",
              "          const element = document.querySelector('#df-da0c0476-0f74-4335-9ee6-7f61c29404f6');\n",
              "          const dataTable =\n",
              "            await google.colab.kernel.invokeFunction('convertToInteractive',\n",
              "                                                     [key], {});\n",
              "          if (!dataTable) return;\n",
              "\n",
              "          const docLinkHtml = 'Like what you see? Visit the ' +\n",
              "            '<a target=\"_blank\" href=https://colab.research.google.com/notebooks/data_table.ipynb>data table notebook</a>'\n",
              "            + ' to learn more about interactive tables.';\n",
              "          element.innerHTML = '';\n",
              "          dataTable['output_type'] = 'display_data';\n",
              "          await google.colab.output.renderOutput(dataTable, element);\n",
              "          const docLink = document.createElement('div');\n",
              "          docLink.innerHTML = docLinkHtml;\n",
              "          element.appendChild(docLink);\n",
              "        }\n",
              "      </script>\n",
              "    </div>\n",
              "  </div>\n",
              "  "
            ]
          },
          "metadata": {},
          "execution_count": 17
        }
      ],
      "source": [
        "features_train.head()"
      ]
    },
    {
      "cell_type": "markdown",
      "metadata": {
        "id": "2nhiSgMnsTnR"
      },
      "source": [
        "Преобразую категориальные признаки техникой прямого кодирования. Кодировать мне понадобится только страну и пол."
      ]
    },
    {
      "cell_type": "code",
      "execution_count": 18,
      "metadata": {
        "colab": {
          "base_uri": "https://localhost:8080/",
          "height": 128
        },
        "id": "NBmXwAcEsTnR",
        "outputId": "59ee2ba3-5722-4fd2-8f7b-fce3430b3ff7"
      },
      "outputs": [
        {
          "output_type": "stream",
          "name": "stderr",
          "text": [
            "/usr/local/lib/python3.10/dist-packages/sklearn/preprocessing/_encoders.py:868: FutureWarning: `sparse` was renamed to `sparse_output` in version 1.2 and will be removed in 1.4. `sparse_output` is ignored unless you leave `sparse` to its default value.\n",
            "  warnings.warn(\n"
          ]
        },
        {
          "output_type": "execute_result",
          "data": {
            "text/plain": [
              "OneHotEncoder(drop='first', sparse=False, sparse_output=False)"
            ],
            "text/html": [
              "<style>#sk-container-id-1 {color: black;background-color: white;}#sk-container-id-1 pre{padding: 0;}#sk-container-id-1 div.sk-toggleable {background-color: white;}#sk-container-id-1 label.sk-toggleable__label {cursor: pointer;display: block;width: 100%;margin-bottom: 0;padding: 0.3em;box-sizing: border-box;text-align: center;}#sk-container-id-1 label.sk-toggleable__label-arrow:before {content: \"▸\";float: left;margin-right: 0.25em;color: #696969;}#sk-container-id-1 label.sk-toggleable__label-arrow:hover:before {color: black;}#sk-container-id-1 div.sk-estimator:hover label.sk-toggleable__label-arrow:before {color: black;}#sk-container-id-1 div.sk-toggleable__content {max-height: 0;max-width: 0;overflow: hidden;text-align: left;background-color: #f0f8ff;}#sk-container-id-1 div.sk-toggleable__content pre {margin: 0.2em;color: black;border-radius: 0.25em;background-color: #f0f8ff;}#sk-container-id-1 input.sk-toggleable__control:checked~div.sk-toggleable__content {max-height: 200px;max-width: 100%;overflow: auto;}#sk-container-id-1 input.sk-toggleable__control:checked~label.sk-toggleable__label-arrow:before {content: \"▾\";}#sk-container-id-1 div.sk-estimator input.sk-toggleable__control:checked~label.sk-toggleable__label {background-color: #d4ebff;}#sk-container-id-1 div.sk-label input.sk-toggleable__control:checked~label.sk-toggleable__label {background-color: #d4ebff;}#sk-container-id-1 input.sk-hidden--visually {border: 0;clip: rect(1px 1px 1px 1px);clip: rect(1px, 1px, 1px, 1px);height: 1px;margin: -1px;overflow: hidden;padding: 0;position: absolute;width: 1px;}#sk-container-id-1 div.sk-estimator {font-family: monospace;background-color: #f0f8ff;border: 1px dotted black;border-radius: 0.25em;box-sizing: border-box;margin-bottom: 0.5em;}#sk-container-id-1 div.sk-estimator:hover {background-color: #d4ebff;}#sk-container-id-1 div.sk-parallel-item::after {content: \"\";width: 100%;border-bottom: 1px solid gray;flex-grow: 1;}#sk-container-id-1 div.sk-label:hover label.sk-toggleable__label {background-color: #d4ebff;}#sk-container-id-1 div.sk-serial::before {content: \"\";position: absolute;border-left: 1px solid gray;box-sizing: border-box;top: 0;bottom: 0;left: 50%;z-index: 0;}#sk-container-id-1 div.sk-serial {display: flex;flex-direction: column;align-items: center;background-color: white;padding-right: 0.2em;padding-left: 0.2em;position: relative;}#sk-container-id-1 div.sk-item {position: relative;z-index: 1;}#sk-container-id-1 div.sk-parallel {display: flex;align-items: stretch;justify-content: center;background-color: white;position: relative;}#sk-container-id-1 div.sk-item::before, #sk-container-id-1 div.sk-parallel-item::before {content: \"\";position: absolute;border-left: 1px solid gray;box-sizing: border-box;top: 0;bottom: 0;left: 50%;z-index: -1;}#sk-container-id-1 div.sk-parallel-item {display: flex;flex-direction: column;z-index: 1;position: relative;background-color: white;}#sk-container-id-1 div.sk-parallel-item:first-child::after {align-self: flex-end;width: 50%;}#sk-container-id-1 div.sk-parallel-item:last-child::after {align-self: flex-start;width: 50%;}#sk-container-id-1 div.sk-parallel-item:only-child::after {width: 0;}#sk-container-id-1 div.sk-dashed-wrapped {border: 1px dashed gray;margin: 0 0.4em 0.5em 0.4em;box-sizing: border-box;padding-bottom: 0.4em;background-color: white;}#sk-container-id-1 div.sk-label label {font-family: monospace;font-weight: bold;display: inline-block;line-height: 1.2em;}#sk-container-id-1 div.sk-label-container {text-align: center;}#sk-container-id-1 div.sk-container {/* jupyter's `normalize.less` sets `[hidden] { display: none; }` but bootstrap.min.css set `[hidden] { display: none !important; }` so we also need the `!important` here to be able to override the default hidden behavior on the sphinx rendered scikit-learn.org. See: https://github.com/scikit-learn/scikit-learn/issues/21755 */display: inline-block !important;position: relative;}#sk-container-id-1 div.sk-text-repr-fallback {display: none;}</style><div id=\"sk-container-id-1\" class=\"sk-top-container\"><div class=\"sk-text-repr-fallback\"><pre>OneHotEncoder(drop=&#x27;first&#x27;, sparse=False, sparse_output=False)</pre><b>In a Jupyter environment, please rerun this cell to show the HTML representation or trust the notebook. <br />On GitHub, the HTML representation is unable to render, please try loading this page with nbviewer.org.</b></div><div class=\"sk-container\" hidden><div class=\"sk-item\"><div class=\"sk-estimator sk-toggleable\"><input class=\"sk-toggleable__control sk-hidden--visually\" id=\"sk-estimator-id-1\" type=\"checkbox\" checked><label for=\"sk-estimator-id-1\" class=\"sk-toggleable__label sk-toggleable__label-arrow\">OneHotEncoder</label><div class=\"sk-toggleable__content\"><pre>OneHotEncoder(drop=&#x27;first&#x27;, sparse=False, sparse_output=False)</pre></div></div></div></div></div>"
            ]
          },
          "metadata": {},
          "execution_count": 18
        }
      ],
      "source": [
        "cat_columns = features_train.select_dtypes('object').columns\n",
        "ohe = OneHotEncoder(drop='first', sparse=False)\n",
        "ohe.fit(features_train[cat_columns])"
      ]
    },
    {
      "cell_type": "code",
      "execution_count": 24,
      "metadata": {
        "id": "W1ak2lG9sTnX"
      },
      "outputs": [],
      "source": [
        "%%capture --no-display\n",
        "\n",
        "try:\n",
        "  features_train[ohe.get_feature_names()] = pd.DataFrame(ohe.transform(features_train[cat_columns]), columns=ohe.get_feature_names(), index=features_train.index)\n",
        "  features_valid[ohe.get_feature_names()] = pd.DataFrame(ohe.transform(features_valid[cat_columns]), columns=ohe.get_feature_names(), index=features_valid.index)\n",
        "  features_test[ohe.get_feature_names()] = pd.DataFrame(ohe.transform(features_test[cat_columns]), columns=ohe.get_feature_names(), index=features_test.index)\n",
        "except:\n",
        "  features_train[ohe.get_feature_names_out()] = pd.DataFrame(ohe.transform(features_train[cat_columns]), columns=ohe.get_feature_names_out(), index=features_train.index)  \n",
        "  features_valid[ohe.get_feature_names_out()] = pd.DataFrame(ohe.transform(features_valid[cat_columns]), columns=ohe.get_feature_names_out(), index=features_valid.index)\n",
        "  features_test[ohe.get_feature_names_out()] = pd.DataFrame(ohe.transform(features_test[cat_columns]), columns=ohe.get_feature_names_out(), index=features_test.index)"
      ]
    },
    {
      "cell_type": "code",
      "execution_count": 25,
      "metadata": {
        "id": "PfwiMTr0sTnX"
      },
      "outputs": [],
      "source": [
        "%%capture --no-display\n",
        "\n",
        "features_train.drop(columns=cat_columns, inplace=True)\n",
        "features_valid.drop(columns=cat_columns, inplace=True)\n",
        "features_test.drop(columns=cat_columns, inplace=True)"
      ]
    },
    {
      "cell_type": "code",
      "execution_count": 26,
      "metadata": {
        "colab": {
          "base_uri": "https://localhost:8080/",
          "height": 204
        },
        "id": "lSc-YH8usTnY",
        "outputId": "98d88853-bd01-446a-a101-b9e6507d8eef"
      },
      "outputs": [
        {
          "output_type": "execute_result",
          "data": {
            "text/plain": [
              "      credit_score  age  tenure    balance  num_of_products  has_cr_card  \\\n",
              "7479           567   35     8.0  153137.74                1            1   \n",
              "3411           711   37     8.0  113899.92                1            0   \n",
              "6027           850   44     3.0  140393.65                2            0   \n",
              "1247           512   24     6.0       0.00                2            1   \n",
              "3716           665   27     2.0  147435.96                1            0   \n",
              "\n",
              "      is_active_member  estimated_salary  geography_Germany  geography_Spain  \\\n",
              "7479                 0          88659.07                0.0              1.0   \n",
              "3411                 0          80215.20                0.0              0.0   \n",
              "6027                 1         186285.52                1.0              0.0   \n",
              "1247                 0          37654.31                0.0              0.0   \n",
              "3716                 0         187508.06                1.0              0.0   \n",
              "\n",
              "      gender_Male  \n",
              "7479          1.0  \n",
              "3411          0.0  \n",
              "6027          1.0  \n",
              "1247          1.0  \n",
              "3716          0.0  "
            ],
            "text/html": [
              "\n",
              "  <div id=\"df-aaffe934-60ba-4a32-abf8-6350912bd99c\">\n",
              "    <div class=\"colab-df-container\">\n",
              "      <div>\n",
              "<style scoped>\n",
              "    .dataframe tbody tr th:only-of-type {\n",
              "        vertical-align: middle;\n",
              "    }\n",
              "\n",
              "    .dataframe tbody tr th {\n",
              "        vertical-align: top;\n",
              "    }\n",
              "\n",
              "    .dataframe thead th {\n",
              "        text-align: right;\n",
              "    }\n",
              "</style>\n",
              "<table border=\"1\" class=\"dataframe\">\n",
              "  <thead>\n",
              "    <tr style=\"text-align: right;\">\n",
              "      <th></th>\n",
              "      <th>credit_score</th>\n",
              "      <th>age</th>\n",
              "      <th>tenure</th>\n",
              "      <th>balance</th>\n",
              "      <th>num_of_products</th>\n",
              "      <th>has_cr_card</th>\n",
              "      <th>is_active_member</th>\n",
              "      <th>estimated_salary</th>\n",
              "      <th>geography_Germany</th>\n",
              "      <th>geography_Spain</th>\n",
              "      <th>gender_Male</th>\n",
              "    </tr>\n",
              "  </thead>\n",
              "  <tbody>\n",
              "    <tr>\n",
              "      <th>7479</th>\n",
              "      <td>567</td>\n",
              "      <td>35</td>\n",
              "      <td>8.0</td>\n",
              "      <td>153137.74</td>\n",
              "      <td>1</td>\n",
              "      <td>1</td>\n",
              "      <td>0</td>\n",
              "      <td>88659.07</td>\n",
              "      <td>0.0</td>\n",
              "      <td>1.0</td>\n",
              "      <td>1.0</td>\n",
              "    </tr>\n",
              "    <tr>\n",
              "      <th>3411</th>\n",
              "      <td>711</td>\n",
              "      <td>37</td>\n",
              "      <td>8.0</td>\n",
              "      <td>113899.92</td>\n",
              "      <td>1</td>\n",
              "      <td>0</td>\n",
              "      <td>0</td>\n",
              "      <td>80215.20</td>\n",
              "      <td>0.0</td>\n",
              "      <td>0.0</td>\n",
              "      <td>0.0</td>\n",
              "    </tr>\n",
              "    <tr>\n",
              "      <th>6027</th>\n",
              "      <td>850</td>\n",
              "      <td>44</td>\n",
              "      <td>3.0</td>\n",
              "      <td>140393.65</td>\n",
              "      <td>2</td>\n",
              "      <td>0</td>\n",
              "      <td>1</td>\n",
              "      <td>186285.52</td>\n",
              "      <td>1.0</td>\n",
              "      <td>0.0</td>\n",
              "      <td>1.0</td>\n",
              "    </tr>\n",
              "    <tr>\n",
              "      <th>1247</th>\n",
              "      <td>512</td>\n",
              "      <td>24</td>\n",
              "      <td>6.0</td>\n",
              "      <td>0.00</td>\n",
              "      <td>2</td>\n",
              "      <td>1</td>\n",
              "      <td>0</td>\n",
              "      <td>37654.31</td>\n",
              "      <td>0.0</td>\n",
              "      <td>0.0</td>\n",
              "      <td>1.0</td>\n",
              "    </tr>\n",
              "    <tr>\n",
              "      <th>3716</th>\n",
              "      <td>665</td>\n",
              "      <td>27</td>\n",
              "      <td>2.0</td>\n",
              "      <td>147435.96</td>\n",
              "      <td>1</td>\n",
              "      <td>0</td>\n",
              "      <td>0</td>\n",
              "      <td>187508.06</td>\n",
              "      <td>1.0</td>\n",
              "      <td>0.0</td>\n",
              "      <td>0.0</td>\n",
              "    </tr>\n",
              "  </tbody>\n",
              "</table>\n",
              "</div>\n",
              "      <button class=\"colab-df-convert\" onclick=\"convertToInteractive('df-aaffe934-60ba-4a32-abf8-6350912bd99c')\"\n",
              "              title=\"Convert this dataframe to an interactive table.\"\n",
              "              style=\"display:none;\">\n",
              "        \n",
              "  <svg xmlns=\"http://www.w3.org/2000/svg\" height=\"24px\"viewBox=\"0 0 24 24\"\n",
              "       width=\"24px\">\n",
              "    <path d=\"M0 0h24v24H0V0z\" fill=\"none\"/>\n",
              "    <path d=\"M18.56 5.44l.94 2.06.94-2.06 2.06-.94-2.06-.94-.94-2.06-.94 2.06-2.06.94zm-11 1L8.5 8.5l.94-2.06 2.06-.94-2.06-.94L8.5 2.5l-.94 2.06-2.06.94zm10 10l.94 2.06.94-2.06 2.06-.94-2.06-.94-.94-2.06-.94 2.06-2.06.94z\"/><path d=\"M17.41 7.96l-1.37-1.37c-.4-.4-.92-.59-1.43-.59-.52 0-1.04.2-1.43.59L10.3 9.45l-7.72 7.72c-.78.78-.78 2.05 0 2.83L4 21.41c.39.39.9.59 1.41.59.51 0 1.02-.2 1.41-.59l7.78-7.78 2.81-2.81c.8-.78.8-2.07 0-2.86zM5.41 20L4 18.59l7.72-7.72 1.47 1.35L5.41 20z\"/>\n",
              "  </svg>\n",
              "      </button>\n",
              "      \n",
              "  <style>\n",
              "    .colab-df-container {\n",
              "      display:flex;\n",
              "      flex-wrap:wrap;\n",
              "      gap: 12px;\n",
              "    }\n",
              "\n",
              "    .colab-df-convert {\n",
              "      background-color: #E8F0FE;\n",
              "      border: none;\n",
              "      border-radius: 50%;\n",
              "      cursor: pointer;\n",
              "      display: none;\n",
              "      fill: #1967D2;\n",
              "      height: 32px;\n",
              "      padding: 0 0 0 0;\n",
              "      width: 32px;\n",
              "    }\n",
              "\n",
              "    .colab-df-convert:hover {\n",
              "      background-color: #E2EBFA;\n",
              "      box-shadow: 0px 1px 2px rgba(60, 64, 67, 0.3), 0px 1px 3px 1px rgba(60, 64, 67, 0.15);\n",
              "      fill: #174EA6;\n",
              "    }\n",
              "\n",
              "    [theme=dark] .colab-df-convert {\n",
              "      background-color: #3B4455;\n",
              "      fill: #D2E3FC;\n",
              "    }\n",
              "\n",
              "    [theme=dark] .colab-df-convert:hover {\n",
              "      background-color: #434B5C;\n",
              "      box-shadow: 0px 1px 3px 1px rgba(0, 0, 0, 0.15);\n",
              "      filter: drop-shadow(0px 1px 2px rgba(0, 0, 0, 0.3));\n",
              "      fill: #FFFFFF;\n",
              "    }\n",
              "  </style>\n",
              "\n",
              "      <script>\n",
              "        const buttonEl =\n",
              "          document.querySelector('#df-aaffe934-60ba-4a32-abf8-6350912bd99c button.colab-df-convert');\n",
              "        buttonEl.style.display =\n",
              "          google.colab.kernel.accessAllowed ? 'block' : 'none';\n",
              "\n",
              "        async function convertToInteractive(key) {\n",
              "          const element = document.querySelector('#df-aaffe934-60ba-4a32-abf8-6350912bd99c');\n",
              "          const dataTable =\n",
              "            await google.colab.kernel.invokeFunction('convertToInteractive',\n",
              "                                                     [key], {});\n",
              "          if (!dataTable) return;\n",
              "\n",
              "          const docLinkHtml = 'Like what you see? Visit the ' +\n",
              "            '<a target=\"_blank\" href=https://colab.research.google.com/notebooks/data_table.ipynb>data table notebook</a>'\n",
              "            + ' to learn more about interactive tables.';\n",
              "          element.innerHTML = '';\n",
              "          dataTable['output_type'] = 'display_data';\n",
              "          await google.colab.output.renderOutput(dataTable, element);\n",
              "          const docLink = document.createElement('div');\n",
              "          docLink.innerHTML = docLinkHtml;\n",
              "          element.appendChild(docLink);\n",
              "        }\n",
              "      </script>\n",
              "    </div>\n",
              "  </div>\n",
              "  "
            ]
          },
          "metadata": {},
          "execution_count": 26
        }
      ],
      "source": [
        "features_train.head()"
      ]
    },
    {
      "cell_type": "markdown",
      "metadata": {
        "id": "TOc2_A6KsTng"
      },
      "source": [
        "Масштабирую признаки: баланс на счете и предполагаемая зарплата."
      ]
    },
    {
      "cell_type": "code",
      "execution_count": 27,
      "metadata": {
        "colab": {
          "base_uri": "https://localhost:8080/",
          "height": 204
        },
        "id": "joc4Ct-LsTng",
        "outputId": "7ad00821-af9b-48ce-c438-cd53e8fe8b88"
      },
      "outputs": [
        {
          "output_type": "display_data",
          "data": {
            "text/plain": [
              "      credit_score       age    tenure   balance  num_of_products  \\\n",
              "7479     -0.886751 -0.373192  1.083651  1.232271        -0.891560   \n",
              "3411      0.608663 -0.183385  1.083651  0.600563        -0.891560   \n",
              "6027      2.052152  0.480939 -0.452862  1.027098         0.830152   \n",
              "1247     -1.457915 -1.417129  0.469046 -1.233163         0.830152   \n",
              "3716      0.130961 -1.132419 -0.760164  1.140475        -0.891560   \n",
              "\n",
              "      has_cr_card  is_active_member  estimated_salary  geography_Germany  \\\n",
              "7479            1                 0         -0.187705                0.0   \n",
              "3411            0                 0         -0.333945                0.0   \n",
              "6027            0                 1          1.503095                1.0   \n",
              "1247            1                 0         -1.071061                0.0   \n",
              "3716            0                 0          1.524268                1.0   \n",
              "\n",
              "      geography_Spain  gender_Male  \n",
              "7479              1.0          1.0  \n",
              "3411              0.0          0.0  \n",
              "6027              0.0          1.0  \n",
              "1247              0.0          1.0  \n",
              "3716              0.0          0.0  "
            ],
            "text/html": [
              "\n",
              "  <div id=\"df-0cd2653b-2dd6-4bef-9ae4-f2d04c50d0ea\">\n",
              "    <div class=\"colab-df-container\">\n",
              "      <div>\n",
              "<style scoped>\n",
              "    .dataframe tbody tr th:only-of-type {\n",
              "        vertical-align: middle;\n",
              "    }\n",
              "\n",
              "    .dataframe tbody tr th {\n",
              "        vertical-align: top;\n",
              "    }\n",
              "\n",
              "    .dataframe thead th {\n",
              "        text-align: right;\n",
              "    }\n",
              "</style>\n",
              "<table border=\"1\" class=\"dataframe\">\n",
              "  <thead>\n",
              "    <tr style=\"text-align: right;\">\n",
              "      <th></th>\n",
              "      <th>credit_score</th>\n",
              "      <th>age</th>\n",
              "      <th>tenure</th>\n",
              "      <th>balance</th>\n",
              "      <th>num_of_products</th>\n",
              "      <th>has_cr_card</th>\n",
              "      <th>is_active_member</th>\n",
              "      <th>estimated_salary</th>\n",
              "      <th>geography_Germany</th>\n",
              "      <th>geography_Spain</th>\n",
              "      <th>gender_Male</th>\n",
              "    </tr>\n",
              "  </thead>\n",
              "  <tbody>\n",
              "    <tr>\n",
              "      <th>7479</th>\n",
              "      <td>-0.886751</td>\n",
              "      <td>-0.373192</td>\n",
              "      <td>1.083651</td>\n",
              "      <td>1.232271</td>\n",
              "      <td>-0.891560</td>\n",
              "      <td>1</td>\n",
              "      <td>0</td>\n",
              "      <td>-0.187705</td>\n",
              "      <td>0.0</td>\n",
              "      <td>1.0</td>\n",
              "      <td>1.0</td>\n",
              "    </tr>\n",
              "    <tr>\n",
              "      <th>3411</th>\n",
              "      <td>0.608663</td>\n",
              "      <td>-0.183385</td>\n",
              "      <td>1.083651</td>\n",
              "      <td>0.600563</td>\n",
              "      <td>-0.891560</td>\n",
              "      <td>0</td>\n",
              "      <td>0</td>\n",
              "      <td>-0.333945</td>\n",
              "      <td>0.0</td>\n",
              "      <td>0.0</td>\n",
              "      <td>0.0</td>\n",
              "    </tr>\n",
              "    <tr>\n",
              "      <th>6027</th>\n",
              "      <td>2.052152</td>\n",
              "      <td>0.480939</td>\n",
              "      <td>-0.452862</td>\n",
              "      <td>1.027098</td>\n",
              "      <td>0.830152</td>\n",
              "      <td>0</td>\n",
              "      <td>1</td>\n",
              "      <td>1.503095</td>\n",
              "      <td>1.0</td>\n",
              "      <td>0.0</td>\n",
              "      <td>1.0</td>\n",
              "    </tr>\n",
              "    <tr>\n",
              "      <th>1247</th>\n",
              "      <td>-1.457915</td>\n",
              "      <td>-1.417129</td>\n",
              "      <td>0.469046</td>\n",
              "      <td>-1.233163</td>\n",
              "      <td>0.830152</td>\n",
              "      <td>1</td>\n",
              "      <td>0</td>\n",
              "      <td>-1.071061</td>\n",
              "      <td>0.0</td>\n",
              "      <td>0.0</td>\n",
              "      <td>1.0</td>\n",
              "    </tr>\n",
              "    <tr>\n",
              "      <th>3716</th>\n",
              "      <td>0.130961</td>\n",
              "      <td>-1.132419</td>\n",
              "      <td>-0.760164</td>\n",
              "      <td>1.140475</td>\n",
              "      <td>-0.891560</td>\n",
              "      <td>0</td>\n",
              "      <td>0</td>\n",
              "      <td>1.524268</td>\n",
              "      <td>1.0</td>\n",
              "      <td>0.0</td>\n",
              "      <td>0.0</td>\n",
              "    </tr>\n",
              "  </tbody>\n",
              "</table>\n",
              "</div>\n",
              "      <button class=\"colab-df-convert\" onclick=\"convertToInteractive('df-0cd2653b-2dd6-4bef-9ae4-f2d04c50d0ea')\"\n",
              "              title=\"Convert this dataframe to an interactive table.\"\n",
              "              style=\"display:none;\">\n",
              "        \n",
              "  <svg xmlns=\"http://www.w3.org/2000/svg\" height=\"24px\"viewBox=\"0 0 24 24\"\n",
              "       width=\"24px\">\n",
              "    <path d=\"M0 0h24v24H0V0z\" fill=\"none\"/>\n",
              "    <path d=\"M18.56 5.44l.94 2.06.94-2.06 2.06-.94-2.06-.94-.94-2.06-.94 2.06-2.06.94zm-11 1L8.5 8.5l.94-2.06 2.06-.94-2.06-.94L8.5 2.5l-.94 2.06-2.06.94zm10 10l.94 2.06.94-2.06 2.06-.94-2.06-.94-.94-2.06-.94 2.06-2.06.94z\"/><path d=\"M17.41 7.96l-1.37-1.37c-.4-.4-.92-.59-1.43-.59-.52 0-1.04.2-1.43.59L10.3 9.45l-7.72 7.72c-.78.78-.78 2.05 0 2.83L4 21.41c.39.39.9.59 1.41.59.51 0 1.02-.2 1.41-.59l7.78-7.78 2.81-2.81c.8-.78.8-2.07 0-2.86zM5.41 20L4 18.59l7.72-7.72 1.47 1.35L5.41 20z\"/>\n",
              "  </svg>\n",
              "      </button>\n",
              "      \n",
              "  <style>\n",
              "    .colab-df-container {\n",
              "      display:flex;\n",
              "      flex-wrap:wrap;\n",
              "      gap: 12px;\n",
              "    }\n",
              "\n",
              "    .colab-df-convert {\n",
              "      background-color: #E8F0FE;\n",
              "      border: none;\n",
              "      border-radius: 50%;\n",
              "      cursor: pointer;\n",
              "      display: none;\n",
              "      fill: #1967D2;\n",
              "      height: 32px;\n",
              "      padding: 0 0 0 0;\n",
              "      width: 32px;\n",
              "    }\n",
              "\n",
              "    .colab-df-convert:hover {\n",
              "      background-color: #E2EBFA;\n",
              "      box-shadow: 0px 1px 2px rgba(60, 64, 67, 0.3), 0px 1px 3px 1px rgba(60, 64, 67, 0.15);\n",
              "      fill: #174EA6;\n",
              "    }\n",
              "\n",
              "    [theme=dark] .colab-df-convert {\n",
              "      background-color: #3B4455;\n",
              "      fill: #D2E3FC;\n",
              "    }\n",
              "\n",
              "    [theme=dark] .colab-df-convert:hover {\n",
              "      background-color: #434B5C;\n",
              "      box-shadow: 0px 1px 3px 1px rgba(0, 0, 0, 0.15);\n",
              "      filter: drop-shadow(0px 1px 2px rgba(0, 0, 0, 0.3));\n",
              "      fill: #FFFFFF;\n",
              "    }\n",
              "  </style>\n",
              "\n",
              "      <script>\n",
              "        const buttonEl =\n",
              "          document.querySelector('#df-0cd2653b-2dd6-4bef-9ae4-f2d04c50d0ea button.colab-df-convert');\n",
              "        buttonEl.style.display =\n",
              "          google.colab.kernel.accessAllowed ? 'block' : 'none';\n",
              "\n",
              "        async function convertToInteractive(key) {\n",
              "          const element = document.querySelector('#df-0cd2653b-2dd6-4bef-9ae4-f2d04c50d0ea');\n",
              "          const dataTable =\n",
              "            await google.colab.kernel.invokeFunction('convertToInteractive',\n",
              "                                                     [key], {});\n",
              "          if (!dataTable) return;\n",
              "\n",
              "          const docLinkHtml = 'Like what you see? Visit the ' +\n",
              "            '<a target=\"_blank\" href=https://colab.research.google.com/notebooks/data_table.ipynb>data table notebook</a>'\n",
              "            + ' to learn more about interactive tables.';\n",
              "          element.innerHTML = '';\n",
              "          dataTable['output_type'] = 'display_data';\n",
              "          await google.colab.output.renderOutput(dataTable, element);\n",
              "          const docLink = document.createElement('div');\n",
              "          docLink.innerHTML = docLinkHtml;\n",
              "          element.appendChild(docLink);\n",
              "        }\n",
              "      </script>\n",
              "    </div>\n",
              "  </div>\n",
              "  "
            ]
          },
          "metadata": {}
        }
      ],
      "source": [
        "warnings.filterwarnings('ignore')\n",
        "\n",
        "numeric = ['credit_score', 'age', 'balance', 'tenure', 'num_of_products', 'estimated_salary']\n",
        "\n",
        "scaler = StandardScaler()\n",
        "scaler.fit(features_train[numeric])\n",
        "\n",
        "features_train[numeric] = scaler.transform(features_train[numeric])\n",
        "features_valid[numeric] = scaler.transform(features_valid[numeric])\n",
        "features_test[numeric] = scaler.transform(features_test[numeric])\n",
        "\n",
        "#pd.options.mode.chained_assignment = None\n",
        "display(features_train.head())"
      ]
    },
    {
      "cell_type": "markdown",
      "metadata": {
        "id": "KwGLUFfXsTnh"
      },
      "source": [
        "**Проверю наши признаки на мультиколлинеарность.**"
      ]
    },
    {
      "cell_type": "code",
      "execution_count": 28,
      "metadata": {
        "colab": {
          "base_uri": "https://localhost:8080/",
          "height": 832
        },
        "id": "XgxCgeO7sTni",
        "outputId": "44cfc510-665d-4696-9582-5f133f745711"
      },
      "outputs": [
        {
          "output_type": "display_data",
          "data": {
            "text/plain": [
              "<Figure size 1500x800 with 2 Axes>"
            ],
            "image/png": "[encoded data removed]"
          },
          "metadata": {}
        }
      ],
      "source": [
        "correlation_matrix = features_train.corr()\n",
        "sns.set(rc = {'figure.figsize':(15,8)})\n",
        "sns.heatmap(correlation_matrix, annot = True);"
      ]
    },
    {
      "cell_type": "markdown",
      "metadata": {
        "id": "jjd0WRmNsTni"
      },
      "source": [
        "<div style=\"border:solid blue 2px; padding: 30px\">\n",
        "Я заполнила пропуски, удалила столбцы, не имеющие значение для нашего исследования, закодировала категориальные данные и масштабировала признаки."
      ]
    },
    {
      "cell_type": "markdown",
      "metadata": {
        "id": "w9s5SpCbsTnj"
      },
      "source": [
        "## Исследование задачи"
      ]
    },
    {
      "cell_type": "markdown",
      "metadata": {
        "id": "vsIYhVpAsTnj"
      },
      "source": [
        "Посмотрю на баланс классов."
      ]
    },
    {
      "cell_type": "code",
      "execution_count": 29,
      "metadata": {
        "colab": {
          "base_uri": "https://localhost:8080/",
          "height": 726
        },
        "id": "lP8_8whnsTnk",
        "outputId": "bb8a87a4-76fe-43a5-e7f7-71bc9ff28c23"
      },
      "outputs": [
        {
          "output_type": "stream",
          "name": "stdout",
          "text": [
            "0    7963\n",
            "1    2037\n",
            "Name: exited, dtype: int64\n"
          ]
        },
        {
          "output_type": "display_data",
          "data": {
            "text/plain": [
              "<Figure size 1500x800 with 1 Axes>"
            ],
            "image/png": "[encoded data removed]"
          },
          "metadata": {}
        }
      ],
      "source": [
        "print(target.value_counts())\n",
        "target.value_counts(normalize=True).plot(kind='bar');"
      ]
    },
    {
      "cell_type": "markdown",
      "metadata": {
        "id": "NsGJrNt6sTnk"
      },
      "source": [
        "**В данных наблюдается дисбаланс классов, отрицательного почти в 4 раза больше. Если мы будем прогнозировать, что никто не уйдёт из банка, то в 80% случаев мы будем правы.**"
      ]
    },
    {
      "cell_type": "markdown",
      "metadata": {
        "id": "UgfgcZmFsTnl"
      },
      "source": [
        "Создам модель логистической регрессии без учета дисбаланса и обучу её."
      ]
    },
    {
      "cell_type": "code",
      "execution_count": 30,
      "metadata": {
        "id": "LeJmwavisTnl"
      },
      "outputs": [],
      "source": [
        "model_logistic_dis = LogisticRegression(random_state=12345)\n",
        "model_logistic_dis.fit(features_train, target_train);"
      ]
    },
    {
      "cell_type": "markdown",
      "metadata": {
        "id": "eimxYypssTnl"
      },
      "source": [
        "**Создам функцию для просчета метрик R2, F1 и AUC-ROC. На вход функция получает модель, признаки и целевой признак, а возвращает метрики.**"
      ]
    },
    {
      "cell_type": "code",
      "execution_count": 32,
      "metadata": {
        "id": "AniwD0xssTnm"
      },
      "outputs": [],
      "source": [
        "def print_metrics(model, features, target):\n",
        "    predict = model.predict(features) # предказания модели\n",
        "    proba = model.predict_proba(features)[:, 1] # вероятность положительного класса\n",
        "\n",
        "# нахожу долю правильных ответов R2\n",
        "    print('R2:', model.score(features, target))\n",
        "\n",
        "# нахожу среднее гармоническое полноты и точности F1\n",
        "    print(f'F1: {round(f1_score(target, predict), 5)}')\n",
        "\n",
        "# нахожу значение AUC-ROC (покажет как сильно наша модель отличается от случайной)\n",
        "    print(f'AUC-ROC: {round(roc_auc_score(target, proba), 5)}')"
      ]
    },
    {
      "cell_type": "code",
      "execution_count": 33,
      "metadata": {
        "colab": {
          "base_uri": "https://localhost:8080/"
        },
        "id": "u23B0q2ssTnm",
        "outputId": "68da9462-bf86-45d8-ec7c-c0a3481de104"
      },
      "outputs": [
        {
          "output_type": "stream",
          "name": "stdout",
          "text": [
            "R2: 0.8025\n",
            "F1: 0.3339\n",
            "AUC-ROC: 0.75868\n"
          ]
        }
      ],
      "source": [
        "# посмотрим на метрики нашей модели логистической регрессии.\n",
        "print_metrics(model_logistic_dis, features_valid, target_valid)"
      ]
    },
    {
      "cell_type": "markdown",
      "metadata": {
        "id": "wpqZWgS5sTnn"
      },
      "source": [
        "**У модели доля правильных ответов, как раз и составляет 80%, но правильно предсказывает положительный класс она в 33% случаев.**\n",
        "\n",
        "Обучим модель случайного леса также без учета дисбаланса."
      ]
    },
    {
      "cell_type": "code",
      "execution_count": null,
      "metadata": {
        "id": "6jdwTOFQsTnn",
        "outputId": "d2b6b643-215a-4259-9ca9-e835643b39bc"
      },
      "outputs": [
        {
          "name": "stdout",
          "output_type": "stream",
          "text": [
            "R2: 0.8605\n",
            "F1: 0.59031\n",
            "AUC-ROC: 0.84191\n"
          ]
        }
      ],
      "source": [
        "model_forest_dis = RandomForestClassifier(random_state=12345)\n",
        "model_forest_dis.fit(features_train, target_train)\n",
        "\n",
        "# Узнаем метрики нашей модели решающего дерева\n",
        "print_metrics(model_forest_dis, features_valid, target_valid)"
      ]
    },
    {
      "cell_type": "markdown",
      "metadata": {
        "id": "jz3zk2zBsTnn"
      },
      "source": [
        "**У модели случайного леса F1-мера больше на 0.23, а AUC-ROC на 0.08.**"
      ]
    },
    {
      "cell_type": "markdown",
      "metadata": {
        "id": "BcSIBh9zsTno"
      },
      "source": [
        "<div style=\"border:solid blue 2px; padding: 30px\">\n",
        "На этом этапе я выяснила, что положительного класса у нас в 4 раза меньше и провела обучение двух моделей, не учитывая дисбаланс классов. Модель логистической регрессии показала плохие результаты F1, всего 0.33. А вот модель решающего дерева F1 показала лучше, но дала низкий результат AUC-ROC."
      ]
    },
    {
      "cell_type": "markdown",
      "metadata": {
        "id": "7-EgCwqusTnp"
      },
      "source": [
        "## Борьба с дисбалансом"
      ]
    },
    {
      "cell_type": "markdown",
      "metadata": {
        "id": "i48bOPymsTnq"
      },
      "source": [
        "Теперь построю модель логистической регресии, но сбалансирую классы с помощью параметра \"class weight = 'balanced'\"."
      ]
    },
    {
      "cell_type": "code",
      "execution_count": null,
      "metadata": {
        "id": "9lieonbLsTnq",
        "outputId": "1f2594ae-69c0-4d7f-ac2d-58320860c8ab"
      },
      "outputs": [
        {
          "name": "stdout",
          "output_type": "stream",
          "text": [
            "R2: 0.701\n",
            "F1: 0.48889\n",
            "AUC-ROC: 0.76347\n"
          ]
        }
      ],
      "source": [
        "model_logistic = LogisticRegression(class_weight='balanced', solver='liblinear', random_state=12345)\n",
        "model_logistic.fit(features_train, target_train)\n",
        "\n",
        "# смотрим метрики нашей модели логистической регрессии с балансом классов\n",
        "print_metrics(model_logistic, features_valid, target_valid)"
      ]
    },
    {
      "cell_type": "code",
      "execution_count": null,
      "metadata": {
        "id": "VNPWuZplsTnr",
        "outputId": "fa3087e4-2668-41aa-9171-0e4d0263a36b"
      },
      "outputs": [
        {
          "name": "stdout",
          "output_type": "stream",
          "text": [
            "R2: 0.8575\n",
            "F1: 0.56489\n",
            "AUC-ROC: 0.84355\n"
          ]
        }
      ],
      "source": [
        "model_forest = RandomForestClassifier(class_weight='balanced', random_state=12345)\n",
        "model_forest.fit(features_train, target_train)\n",
        "\n",
        "# смотрим метрики модели решающего дерева с балансом классов\n",
        "print_metrics(model_forest, features_valid, target_valid)"
      ]
    },
    {
      "cell_type": "markdown",
      "metadata": {
        "id": "1vpa5F-UsTnr"
      },
      "source": [
        "**F1-мера у логистической регрессии увеличилась на 0.15, а у случаного леса стала немного хуже.**\n",
        "\n",
        "\n",
        "Теперь посмотрим значения метрик, увеличив положительный класс в 4 раза с помощью функции upsample."
      ]
    },
    {
      "cell_type": "code",
      "execution_count": null,
      "metadata": {
        "scrolled": true,
        "id": "fQxfJpJ7sTns",
        "outputId": "293bf55a-b1d3-4518-e0c6-0718e93c9e87"
      },
      "outputs": [
        {
          "name": "stdout",
          "output_type": "stream",
          "text": [
            "(9588, 11)\n",
            "(9588,)\n"
          ]
        }
      ],
      "source": [
        "def upsample(features, target, repeat):\n",
        "    # отбираю в разные переменные признаки, относящиеся к классу 0 и к классу 1\n",
        "    features_zeros = features[target == 0] \n",
        "    features_ones = features[target == 1]\n",
        "    # делю целевой признак по классам\n",
        "    target_zeros = target[target == 0]\n",
        "    target_ones = target[target == 1]\n",
        "    # соединяю таблицы с разными классами в общие переменные\n",
        "    features_upsampled = pd.concat([features_zeros] + [features_ones] * repeat)\n",
        "    target_upsampled = pd.concat([target_zeros] + [target_ones] * repeat)\n",
        "    \n",
        "    # перемешаю наши данные\n",
        "    features_upsampled, target_upsampled = shuffle(\n",
        "        features_upsampled, target_upsampled, random_state=12345)\n",
        "    \n",
        "    # функция возвращает наши новые таблицы с признаками и целевым признаком\n",
        "    return features_upsampled, target_upsampled\n",
        "\n",
        "features_train_upsampled, target_train_upsampled = upsample(features_train, target_train, 4)\n",
        "print(features_train_upsampled.shape) # проверю размер таблицы признаков\n",
        "print(target_train_upsampled.shape) # проверю размер таблицы целевого признака"
      ]
    },
    {
      "cell_type": "markdown",
      "metadata": {
        "id": "JwYDyYiAsTnt"
      },
      "source": [
        "Обучу модель на новых признаках."
      ]
    },
    {
      "cell_type": "code",
      "execution_count": null,
      "metadata": {
        "id": "MVEASKg2sTnt",
        "outputId": "2600abca-46fc-4e76-974b-9a35851d03f8"
      },
      "outputs": [
        {
          "name": "stdout",
          "output_type": "stream",
          "text": [
            "R2: 0.7005\n",
            "F1: 0.4876\n",
            "AUC-ROC: 0.7634\n"
          ]
        }
      ],
      "source": [
        "model_logistic_up = LogisticRegression(solver='liblinear', random_state=12345)\n",
        "model_logistic_up.fit(features_train_upsampled, target_train_upsampled)\n",
        "\n",
        "# смотрим метрики нашей модели логистической регрессии с балансом классов\n",
        "print_metrics(model_logistic_up, features_valid, target_valid)"
      ]
    },
    {
      "cell_type": "code",
      "execution_count": null,
      "metadata": {
        "id": "2H2cXmKesTnu",
        "outputId": "9bbffea0-2a94-4665-da6d-e6307ed48678"
      },
      "outputs": [
        {
          "name": "stdout",
          "output_type": "stream",
          "text": [
            "R2: 0.8495\n",
            "F1: 0.59705\n",
            "AUC-ROC: 0.83738\n"
          ]
        }
      ],
      "source": [
        "model_forest_up = RandomForestClassifier(random_state=12345)\n",
        "model_forest_up.fit(features_train_upsampled, target_train_upsampled)\n",
        "\n",
        "# смотрим метрики модели решающего дерева с балансом классов\n",
        "print_metrics(model_forest_up, features_valid, target_valid)"
      ]
    },
    {
      "cell_type": "markdown",
      "metadata": {
        "id": "RMoZ30jHsTnu"
      },
      "source": [
        "**Результат у первой модели совсем немного хуже, чем в предыдущем варианте, где мы сбалансировали вес классов с помощью параметров. А у леса F1 такой же, как при дисбалансе.**\n",
        "\n",
        "Теперь сбалансируем, создав функцию по уменьшению отрицательного класса по тому же принципу, но здесь мы задаем значение frac."
      ]
    },
    {
      "cell_type": "code",
      "execution_count": null,
      "metadata": {
        "id": "7IlnYnt3sTnu"
      },
      "outputs": [],
      "source": [
        "def downsample(features, target, fraction):\n",
        "    features_zeros = features[target == 0]\n",
        "    features_ones = features[target == 1]\n",
        "    target_zeros = target[target == 0]\n",
        "    target_ones = target[target == 1]\n",
        "\n",
        "    features_downsampled = pd.concat(\n",
        "        [features_zeros.sample(frac=fraction, random_state=12345)] + [features_ones])\n",
        "    target_downsampled = pd.concat(\n",
        "        [target_zeros.sample(frac=fraction, random_state=12345)] + [target_ones])\n",
        "    \n",
        "    features_downsampled, target_downsampled = shuffle(\n",
        "        features_downsampled, target_downsampled, random_state=12345)\n",
        "    \n",
        "    return features_downsampled, target_downsampled"
      ]
    },
    {
      "cell_type": "markdown",
      "metadata": {
        "id": "JRzQTgE1sTnv"
      },
      "source": [
        "Задаю переменной frac значение 0.25 - доля класса 0, которая нам нужна, чтобы сравняться с классом 1.\n"
      ]
    },
    {
      "cell_type": "code",
      "execution_count": null,
      "metadata": {
        "id": "WxzFsYvcsTnv",
        "outputId": "ad62117a-8830-4f18-a1a2-a847449e2022"
      },
      "outputs": [
        {
          "name": "stdout",
          "output_type": "stream",
          "text": [
            "R2: 0.703\n",
            "F1: 0.48969\n",
            "AUC-ROC: 0.7627\n"
          ]
        }
      ],
      "source": [
        "features_downsampled, target_downsampled = downsample(features_train, target_train, 0.25)\n",
        "\n",
        "# обучаю модель на новых признаках\n",
        "model_logistic_down = LogisticRegression(solver='liblinear', random_state=12345)\n",
        "model_logistic_down.fit(features_downsampled, target_downsampled)\n",
        "\n",
        "# смотрим метрики нашей модели логистической регрессии с балансом классов\n",
        "print_metrics(model_logistic_down, features_valid, target_valid)"
      ]
    },
    {
      "cell_type": "markdown",
      "metadata": {
        "id": "1_8UIbRfsTnw"
      },
      "source": [
        "**Доля правильных ответов и F1 немного лучше, чем при дисбалансе классов и при увеличении положительного класса.**"
      ]
    },
    {
      "cell_type": "code",
      "execution_count": null,
      "metadata": {
        "id": "f3N3Zd0esTnw",
        "outputId": "09e8b58f-4e7b-42b2-c64b-60712f5071f7"
      },
      "outputs": [
        {
          "name": "stdout",
          "output_type": "stream",
          "text": [
            "R2: 0.7795\n",
            "F1: 0.58357\n",
            "AUC-ROC: 0.84454\n"
          ]
        }
      ],
      "source": [
        "model_forest_down = RandomForestClassifier(random_state=12345)\n",
        "model_forest_down.fit(features_downsampled, target_downsampled)\n",
        "\n",
        "# смотрю метрики решающего дерева с балансом классов\n",
        "print_metrics(model_forest_down, features_valid, target_valid)"
      ]
    },
    {
      "cell_type": "markdown",
      "metadata": {
        "id": "RbMb9UdzsTnw"
      },
      "source": [
        "**Доля правильных ответов ниже, чем при дисбалансе классов, но метрики стали лучше.**"
      ]
    },
    {
      "cell_type": "markdown",
      "metadata": {
        "id": "6qesOaKYsTnx"
      },
      "source": [
        "Теперь найду порог классификации, при котором F1 максимально высокое."
      ]
    },
    {
      "cell_type": "code",
      "execution_count": null,
      "metadata": {
        "id": "BFNmL3nOsTnx",
        "outputId": "0c0c480a-7514-418d-c365-e2778911aaa7"
      },
      "outputs": [
        {
          "name": "stdout",
          "output_type": "stream",
          "text": [
            "Порог = 0.26 | Точность = 0.433, Полнота = 0.589, F1 = 0.499\n"
          ]
        }
      ],
      "source": [
        "# выделю вероятность положительного класса\n",
        "probabilities_one_valid = model_logistic_dis.predict_proba(features_valid)[:, 1]\n",
        "\n",
        "# создаю переменные для сравнения с лучшими результатами\n",
        "max_f1 = 0\n",
        "threshold_best = 0\n",
        "pre = 0\n",
        "re = 0\n",
        "\n",
        "# создаю функцию по подбору порога для максимизации F1\n",
        "for threshold in np.arange(0, 1, 0.02):\n",
        "    predicted_valid = probabilities_one_valid > threshold\n",
        "    precision = precision_score(target_valid, predicted_valid)\n",
        "    recall = recall_score(target_valid, predicted_valid)\n",
        "    f1 = f1_score(target_valid, predicted_valid)\n",
        "    if f1 > max_f1:\n",
        "        max_f1 = f1\n",
        "        threshold_best = threshold\n",
        "        pre = precision\n",
        "        re = recall\n",
        "\n",
        "# вывод лучшего результата       \n",
        "print(\"Порог = {:.2f} | Точность = {:.3f}, Полнота = {:.3f}, F1 = {:.3f}\".format(\n",
        "        threshold_best, pre, re, max_f1))"
      ]
    },
    {
      "cell_type": "markdown",
      "metadata": {
        "id": "48xUMoNcsTny"
      },
      "source": [
        "Сбалансирую классы по полученному порогу и посмотрим на метрики."
      ]
    },
    {
      "cell_type": "code",
      "execution_count": null,
      "metadata": {
        "scrolled": true,
        "id": "XB_17CyXsTnz",
        "outputId": "111cfe67-845b-44d9-c273-eea87f00be6e"
      },
      "outputs": [
        {
          "name": "stdout",
          "output_type": "stream",
          "text": [
            "R2: 0.7545\n",
            "F1: 0.49949\n",
            "AUC-ROC: 0.7626\n"
          ]
        }
      ],
      "source": [
        "model_logistic = LogisticRegression(class_weight={0: 0.26, 1:0.74}, solver='liblinear', random_state=12345)\n",
        "model_logistic.fit(features_train, target_train)\n",
        "\n",
        "# смотрим метрики нашей модели логистической регрессии с балансом классов\n",
        "print_metrics(model_logistic, features_valid, target_valid)"
      ]
    },
    {
      "cell_type": "markdown",
      "metadata": {
        "id": "vivIu2AcsTn0"
      },
      "source": [
        "**Доля правильных ответов и F1 немного лучше, чем при дисбалансе классов и при увеличении положительного класса.**"
      ]
    },
    {
      "cell_type": "code",
      "execution_count": null,
      "metadata": {
        "id": "_xWarb26sTn1",
        "outputId": "b9dca9ff-c8c8-4fad-92c3-e2a2888c685d"
      },
      "outputs": [
        {
          "name": "stdout",
          "output_type": "stream",
          "text": [
            "Порог = 0.30 | Точность = 0.587, Полнота = 0.663, F1 = 0.622\n"
          ]
        }
      ],
      "source": [
        "# выделю вероятности положительного класса\n",
        "probabilities_one_valid = model_forest_dis.predict_proba(features_valid)[:, 1]\n",
        "\n",
        "# создам переменные для сравнения с лучшими результатами\n",
        "max_f1 = 0\n",
        "threshold_best = 0\n",
        "pre = 0\n",
        "re = 0\n",
        "\n",
        "# создам функцию по подбору порога для максимизации F1\n",
        "for threshold in np.arange(0, 1, 0.02):\n",
        "    predicted_valid = probabilities_one_valid > threshold\n",
        "    precision = precision_score(target_valid, predicted_valid)\n",
        "    recall = recall_score(target_valid, predicted_valid)\n",
        "    f1 = f1_score(target_valid, predicted_valid)\n",
        "    if f1 > max_f1:\n",
        "        max_f1 = f1\n",
        "        threshold_best = threshold\n",
        "        pre = precision\n",
        "        re = recall\n",
        "\n",
        "# вывожу лучший результат        \n",
        "print(\"Порог = {:.2f} | Точность = {:.3f}, Полнота = {:.3f}, F1 = {:.3f}\".format(\n",
        "        threshold_best, pre, re, max_f1))"
      ]
    },
    {
      "cell_type": "markdown",
      "metadata": {
        "id": "PosLwh-ssTn2"
      },
      "source": [
        "Сбалансирую классы по полученному порогу и посмотрим на метрики."
      ]
    },
    {
      "cell_type": "code",
      "execution_count": null,
      "metadata": {
        "scrolled": true,
        "id": "XLsa_MKqsTn3",
        "outputId": "723249a1-b2c7-402c-bdf2-607c42a62db1"
      },
      "outputs": [
        {
          "name": "stdout",
          "output_type": "stream",
          "text": [
            "R2: 0.859\n",
            "F1: 0.56748\n",
            "AUC-ROC: 0.83888\n"
          ]
        }
      ],
      "source": [
        "model_forest = RandomForestClassifier(class_weight={0: 0.34, 1:0.66}, random_state=12345)\n",
        "model_forest.fit(features_train, target_train)\n",
        "\n",
        "# смотрим на метрики нашей модели логистической регрессии с балансом классов\n",
        "print_metrics(model_forest, features_valid, target_valid)"
      ]
    },
    {
      "cell_type": "markdown",
      "metadata": {
        "id": "ES0fQu4DsTn3"
      },
      "source": [
        "**Доля правильных ответов осталась такой же, а метрики стали ниже, чем при дисбалансе классов.**"
      ]
    },
    {
      "cell_type": "markdown",
      "metadata": {
        "id": "9J3OhZJKsTn4"
      },
      "source": [
        "<div style=\"border:solid blue 2px; padding: 30px\">\n",
        "      Доля правильно предсказанных ответов у модели логистической регрессии, учитывающей дисбаланс классов с помощью порога классификации стала на 0.05 ниже, чем с дисбалансом, но метрика F1 увеличилась с 0.33 до 0.497.\n",
        "\n",
        "    \n",
        "У леса результаты почти не отличаются с балансом и дисбалансом классов, улучшенный результат показала увеличенная выборка и cass_weight='balanced'.   \n",
        "Продолжу работать с балансом классов с помощью гиперпараметра class_weight.   "
      ]
    },
    {
      "cell_type": "markdown",
      "metadata": {
        "id": "VRh1xnwWsTn5"
      },
      "source": [
        "### Проверка качества модели логистической регрессии, учитывая дисбаланс классов."
      ]
    },
    {
      "cell_type": "markdown",
      "metadata": {
        "id": "XKU0HwObsTn8"
      },
      "source": [
        "Подберу лучшие параметры для нашей модели, используя модуль GridSearchCV."
      ]
    },
    {
      "cell_type": "code",
      "execution_count": 35,
      "metadata": {
        "id": "YhBcR69IsTn8"
      },
      "outputs": [],
      "source": [
        "with warnings.catch_warnings():\n",
        "    model_grid_logistic = GridSearchCV(\n",
        "    LogisticRegression(class_weight='balanced', solver='liblinear', random_state=12345),\n",
        "                param_grid = {'penalty': ('l1', 'l2', 'elasticnet'), # какие параметры подбираю\n",
        "                'C': np.logspace(-4, 3, 10),\n",
        "                'max_iter': range(1, 101, 5)},\n",
        "    scoring=make_scorer(f1_score), # метрика, по которой будет оцениваться модель\n",
        "    n_jobs=2, # параллельная оценка разных комбинаций параметров\n",
        "    return_train_score=True)\n",
        "    \n",
        "    model_grid_logistic.fit(features_train, target_train);"
      ]
    },
    {
      "cell_type": "code",
      "execution_count": 36,
      "metadata": {
        "colab": {
          "base_uri": "https://localhost:8080/"
        },
        "id": "BhF5stBvsTn9",
        "outputId": "0c7b970e-9a5b-4f2e-8592-5333b22eae59"
      },
      "outputs": [
        {
          "output_type": "stream",
          "name": "stdout",
          "text": [
            "Лучший результат F1: 0.5072\n",
            "Модель для лучшего F1: LogisticRegression(C=0.021544346900318846, class_weight='balanced', max_iter=6,\n",
            "                   penalty='l1', random_state=12345, solver='liblinear')\n"
          ]
        }
      ],
      "source": [
        "# вывожу результаты\n",
        "print(f'Лучший результат F1: {round(model_grid_logistic.best_score_, 5)}')\n",
        "print('Модель для лучшего F1: {}'.format(model_grid_logistic.best_estimator_))"
      ]
    },
    {
      "cell_type": "markdown",
      "metadata": {
        "id": "mKwzFthosTn-"
      },
      "source": [
        "Обучу модель логистической регресии с подобранными лучшими параметрами, учитывая дисбаланс классов."
      ]
    },
    {
      "cell_type": "code",
      "execution_count": null,
      "metadata": {
        "id": "rJ0tHvevsTn_"
      },
      "outputs": [],
      "source": [
        "model_logistic = LogisticRegression(C=0.021544346900318846, class_weight='balanced', max_iter=6,\n",
        "                   penalty='l1', random_state=12345, solver='liblinear')\n",
        "\n",
        "model_logistic.fit(features_train, target_train);"
      ]
    },
    {
      "cell_type": "markdown",
      "metadata": {
        "id": "qZleB4kysTn_"
      },
      "source": [
        "Вывожу на экран результаты метрик логистической регресии."
      ]
    },
    {
      "cell_type": "code",
      "execution_count": null,
      "metadata": {
        "id": "lojO8GNhsToA",
        "outputId": "fb2a440f-507a-4ce9-d630-f1819cabadba"
      },
      "outputs": [
        {
          "name": "stdout",
          "output_type": "stream",
          "text": [
            "Метрики модели логистической регрессии:\n",
            "R2: 0.7175\n",
            "F1: 0.49599\n",
            "AUC-ROC: 0.76908\n"
          ]
        }
      ],
      "source": [
        "print('Метрики модели логистической регрессии:')\n",
        "print_metrics(model_logistic, features_valid, target_valid)"
      ]
    },
    {
      "cell_type": "markdown",
      "metadata": {
        "id": "b3Yi01AtsToA"
      },
      "source": [
        "### Проверка качества модели решающего дерева, учитывая дисбаланс классов."
      ]
    },
    {
      "cell_type": "markdown",
      "metadata": {
        "id": "gK7Dy7UQsToB"
      },
      "source": [
        "Найду лучшие параметы модели."
      ]
    },
    {
      "cell_type": "code",
      "execution_count": 37,
      "metadata": {
        "colab": {
          "base_uri": "https://localhost:8080/",
          "height": 150
        },
        "id": "OHDMCk7rsToC",
        "outputId": "6891f586-4180-41f5-e04d-060ef45b2f10"
      },
      "outputs": [
        {
          "output_type": "stream",
          "name": "stdout",
          "text": [
            "CPU times: user 585 ms, sys: 58.9 ms, total: 644 ms\n",
            "Wall time: 11.4 s\n"
          ]
        },
        {
          "output_type": "execute_result",
          "data": {
            "text/plain": [
              "GridSearchCV(estimator=DecisionTreeClassifier(class_weight='balanced',\n",
              "                                              random_state=12345),\n",
              "             n_jobs=2,\n",
              "             param_grid={'criterion': ('gini', 'entropy', 'log_loss'),\n",
              "                         'max_depth': range(1, 11),\n",
              "                         'min_samples_leaf': range(1, 5)},\n",
              "             scoring=make_scorer(f1_score))"
            ],
            "text/html": [
              "<style>#sk-container-id-2 {color: black;background-color: white;}#sk-container-id-2 pre{padding: 0;}#sk-container-id-2 div.sk-toggleable {background-color: white;}#sk-container-id-2 label.sk-toggleable__label {cursor: pointer;display: block;width: 100%;margin-bottom: 0;padding: 0.3em;box-sizing: border-box;text-align: center;}#sk-container-id-2 label.sk-toggleable__label-arrow:before {content: \"▸\";float: left;margin-right: 0.25em;color: #696969;}#sk-container-id-2 label.sk-toggleable__label-arrow:hover:before {color: black;}#sk-container-id-2 div.sk-estimator:hover label.sk-toggleable__label-arrow:before {color: black;}#sk-container-id-2 div.sk-toggleable__content {max-height: 0;max-width: 0;overflow: hidden;text-align: left;background-color: #f0f8ff;}#sk-container-id-2 div.sk-toggleable__content pre {margin: 0.2em;color: black;border-radius: 0.25em;background-color: #f0f8ff;}#sk-container-id-2 input.sk-toggleable__control:checked~div.sk-toggleable__content {max-height: 200px;max-width: 100%;overflow: auto;}#sk-container-id-2 input.sk-toggleable__control:checked~label.sk-toggleable__label-arrow:before {content: \"▾\";}#sk-container-id-2 div.sk-estimator input.sk-toggleable__control:checked~label.sk-toggleable__label {background-color: #d4ebff;}#sk-container-id-2 div.sk-label input.sk-toggleable__control:checked~label.sk-toggleable__label {background-color: #d4ebff;}#sk-container-id-2 input.sk-hidden--visually {border: 0;clip: rect(1px 1px 1px 1px);clip: rect(1px, 1px, 1px, 1px);height: 1px;margin: -1px;overflow: hidden;padding: 0;position: absolute;width: 1px;}#sk-container-id-2 div.sk-estimator {font-family: monospace;background-color: #f0f8ff;border: 1px dotted black;border-radius: 0.25em;box-sizing: border-box;margin-bottom: 0.5em;}#sk-container-id-2 div.sk-estimator:hover {background-color: #d4ebff;}#sk-container-id-2 div.sk-parallel-item::after {content: \"\";width: 100%;border-bottom: 1px solid gray;flex-grow: 1;}#sk-container-id-2 div.sk-label:hover label.sk-toggleable__label {background-color: #d4ebff;}#sk-container-id-2 div.sk-serial::before {content: \"\";position: absolute;border-left: 1px solid gray;box-sizing: border-box;top: 0;bottom: 0;left: 50%;z-index: 0;}#sk-container-id-2 div.sk-serial {display: flex;flex-direction: column;align-items: center;background-color: white;padding-right: 0.2em;padding-left: 0.2em;position: relative;}#sk-container-id-2 div.sk-item {position: relative;z-index: 1;}#sk-container-id-2 div.sk-parallel {display: flex;align-items: stretch;justify-content: center;background-color: white;position: relative;}#sk-container-id-2 div.sk-item::before, #sk-container-id-2 div.sk-parallel-item::before {content: \"\";position: absolute;border-left: 1px solid gray;box-sizing: border-box;top: 0;bottom: 0;left: 50%;z-index: -1;}#sk-container-id-2 div.sk-parallel-item {display: flex;flex-direction: column;z-index: 1;position: relative;background-color: white;}#sk-container-id-2 div.sk-parallel-item:first-child::after {align-self: flex-end;width: 50%;}#sk-container-id-2 div.sk-parallel-item:last-child::after {align-self: flex-start;width: 50%;}#sk-container-id-2 div.sk-parallel-item:only-child::after {width: 0;}#sk-container-id-2 div.sk-dashed-wrapped {border: 1px dashed gray;margin: 0 0.4em 0.5em 0.4em;box-sizing: border-box;padding-bottom: 0.4em;background-color: white;}#sk-container-id-2 div.sk-label label {font-family: monospace;font-weight: bold;display: inline-block;line-height: 1.2em;}#sk-container-id-2 div.sk-label-container {text-align: center;}#sk-container-id-2 div.sk-container {/* jupyter's `normalize.less` sets `[hidden] { display: none; }` but bootstrap.min.css set `[hidden] { display: none !important; }` so we also need the `!important` here to be able to override the default hidden behavior on the sphinx rendered scikit-learn.org. See: https://github.com/scikit-learn/scikit-learn/issues/21755 */display: inline-block !important;position: relative;}#sk-container-id-2 div.sk-text-repr-fallback {display: none;}</style><div id=\"sk-container-id-2\" class=\"sk-top-container\"><div class=\"sk-text-repr-fallback\"><pre>GridSearchCV(estimator=DecisionTreeClassifier(class_weight=&#x27;balanced&#x27;,\n",
              "                                              random_state=12345),\n",
              "             n_jobs=2,\n",
              "             param_grid={&#x27;criterion&#x27;: (&#x27;gini&#x27;, &#x27;entropy&#x27;, &#x27;log_loss&#x27;),\n",
              "                         &#x27;max_depth&#x27;: range(1, 11),\n",
              "                         &#x27;min_samples_leaf&#x27;: range(1, 5)},\n",
              "             scoring=make_scorer(f1_score))</pre><b>In a Jupyter environment, please rerun this cell to show the HTML representation or trust the notebook. <br />On GitHub, the HTML representation is unable to render, please try loading this page with nbviewer.org.</b></div><div class=\"sk-container\" hidden><div class=\"sk-item sk-dashed-wrapped\"><div class=\"sk-label-container\"><div class=\"sk-label sk-toggleable\"><input class=\"sk-toggleable__control sk-hidden--visually\" id=\"sk-estimator-id-2\" type=\"checkbox\" ><label for=\"sk-estimator-id-2\" class=\"sk-toggleable__label sk-toggleable__label-arrow\">GridSearchCV</label><div class=\"sk-toggleable__content\"><pre>GridSearchCV(estimator=DecisionTreeClassifier(class_weight=&#x27;balanced&#x27;,\n",
              "                                              random_state=12345),\n",
              "             n_jobs=2,\n",
              "             param_grid={&#x27;criterion&#x27;: (&#x27;gini&#x27;, &#x27;entropy&#x27;, &#x27;log_loss&#x27;),\n",
              "                         &#x27;max_depth&#x27;: range(1, 11),\n",
              "                         &#x27;min_samples_leaf&#x27;: range(1, 5)},\n",
              "             scoring=make_scorer(f1_score))</pre></div></div></div><div class=\"sk-parallel\"><div class=\"sk-parallel-item\"><div class=\"sk-item\"><div class=\"sk-label-container\"><div class=\"sk-label sk-toggleable\"><input class=\"sk-toggleable__control sk-hidden--visually\" id=\"sk-estimator-id-3\" type=\"checkbox\" ><label for=\"sk-estimator-id-3\" class=\"sk-toggleable__label sk-toggleable__label-arrow\">estimator: DecisionTreeClassifier</label><div class=\"sk-toggleable__content\"><pre>DecisionTreeClassifier(class_weight=&#x27;balanced&#x27;, random_state=12345)</pre></div></div></div><div class=\"sk-serial\"><div class=\"sk-item\"><div class=\"sk-estimator sk-toggleable\"><input class=\"sk-toggleable__control sk-hidden--visually\" id=\"sk-estimator-id-4\" type=\"checkbox\" ><label for=\"sk-estimator-id-4\" class=\"sk-toggleable__label sk-toggleable__label-arrow\">DecisionTreeClassifier</label><div class=\"sk-toggleable__content\"><pre>DecisionTreeClassifier(class_weight=&#x27;balanced&#x27;, random_state=12345)</pre></div></div></div></div></div></div></div></div></div></div>"
            ]
          },
          "metadata": {},
          "execution_count": 37
        }
      ],
      "source": [
        "%%time\n",
        "\n",
        "warnings.filterwarnings('ignore')\n",
        "\n",
        "model_grid_tree = GridSearchCV(\n",
        "    DecisionTreeClassifier(class_weight='balanced', random_state=12345),\n",
        "              param_grid = { 'criterion': ('gini', 'entropy', 'log_loss'),\n",
        "                'max_depth': range (1, 11, 1),\n",
        "                'min_samples_leaf': range (1, 5, 1) },\n",
        "    scoring=make_scorer(f1_score),\n",
        "    n_jobs=2)\n",
        "    \n",
        "model_grid_tree.fit(features_train, target_train);"
      ]
    },
    {
      "cell_type": "code",
      "execution_count": 38,
      "metadata": {
        "scrolled": false,
        "colab": {
          "base_uri": "https://localhost:8080/"
        },
        "id": "iVSGKzhssToC",
        "outputId": "b8614135-5029-403c-f3ff-859f5433281c"
      },
      "outputs": [
        {
          "output_type": "stream",
          "name": "stdout",
          "text": [
            "Лучший результат F1: 0.56306\n",
            "Модель для лучшего F1: DecisionTreeClassifier(class_weight='balanced', criterion='entropy',\n",
            "                       max_depth=6, min_samples_leaf=2, random_state=12345)\n"
          ]
        }
      ],
      "source": [
        "# выводим результаты\n",
        "print(f'Лучший результат F1: {round(model_grid_tree.best_score_, 5)}')\n",
        "print('Модель для лучшего F1: {}'.format(model_grid_tree.best_estimator_))"
      ]
    },
    {
      "cell_type": "code",
      "execution_count": 39,
      "metadata": {
        "scrolled": true,
        "colab": {
          "base_uri": "https://localhost:8080/"
        },
        "id": "A7D0dVwMsToD",
        "outputId": "b06e257f-98a4-4620-9d6b-0b1e7416e4fd"
      },
      "outputs": [
        {
          "output_type": "stream",
          "name": "stdout",
          "text": [
            "Метрики модели решающего дерева:\n",
            "R2: 0.759\n",
            "F1: 0.5642\n",
            "AUC-ROC: 0.82278\n"
          ]
        }
      ],
      "source": [
        "# обучаем модель по нашим лучшим параметрам\n",
        "model_tree = DecisionTreeClassifier(class_weight='balanced', criterion='entropy',\n",
        "                       max_depth=6, min_samples_leaf=2, random_state=12345)\n",
        "model_tree.fit(features_train, target_train)\n",
        "predict_valid = model_tree.predict(features_valid)\n",
        "\n",
        "# выводим результаты метрик\n",
        "print('Метрики модели решающего дерева:')\n",
        "print_metrics(model_tree, features_valid, target_valid)"
      ]
    },
    {
      "cell_type": "markdown",
      "metadata": {
        "id": "XVbRau6asToD"
      },
      "source": [
        "### Поиск лучших параметров для модели случайного леса с помощью модуля GridSearchCV."
      ]
    },
    {
      "cell_type": "code",
      "execution_count": 40,
      "metadata": {
        "colab": {
          "base_uri": "https://localhost:8080/",
          "height": 150
        },
        "id": "rXS3ApFIsToE",
        "outputId": "fa29825a-fc7b-46d4-d656-072cfdbcc0b8"
      },
      "outputs": [
        {
          "output_type": "stream",
          "name": "stdout",
          "text": [
            "CPU times: user 1.21 s, sys: 52 ms, total: 1.26 s\n",
            "Wall time: 37 s\n"
          ]
        },
        {
          "output_type": "execute_result",
          "data": {
            "text/plain": [
              "GridSearchCV(estimator=RandomForestClassifier(class_weight='balanced',\n",
              "                                              random_state=12345),\n",
              "             n_jobs=2,\n",
              "             param_grid={'max_depth': range(1, 12, 2),\n",
              "                         'n_estimators': range(10, 101, 20)},\n",
              "             return_train_score=True, scoring=make_scorer(f1_score))"
            ],
            "text/html": [
              "<style>#sk-container-id-3 {color: black;background-color: white;}#sk-container-id-3 pre{padding: 0;}#sk-container-id-3 div.sk-toggleable {background-color: white;}#sk-container-id-3 label.sk-toggleable__label {cursor: pointer;display: block;width: 100%;margin-bottom: 0;padding: 0.3em;box-sizing: border-box;text-align: center;}#sk-container-id-3 label.sk-toggleable__label-arrow:before {content: \"▸\";float: left;margin-right: 0.25em;color: #696969;}#sk-container-id-3 label.sk-toggleable__label-arrow:hover:before {color: black;}#sk-container-id-3 div.sk-estimator:hover label.sk-toggleable__label-arrow:before {color: black;}#sk-container-id-3 div.sk-toggleable__content {max-height: 0;max-width: 0;overflow: hidden;text-align: left;background-color: #f0f8ff;}#sk-container-id-3 div.sk-toggleable__content pre {margin: 0.2em;color: black;border-radius: 0.25em;background-color: #f0f8ff;}#sk-container-id-3 input.sk-toggleable__control:checked~div.sk-toggleable__content {max-height: 200px;max-width: 100%;overflow: auto;}#sk-container-id-3 input.sk-toggleable__control:checked~label.sk-toggleable__label-arrow:before {content: \"▾\";}#sk-container-id-3 div.sk-estimator input.sk-toggleable__control:checked~label.sk-toggleable__label {background-color: #d4ebff;}#sk-container-id-3 div.sk-label input.sk-toggleable__control:checked~label.sk-toggleable__label {background-color: #d4ebff;}#sk-container-id-3 input.sk-hidden--visually {border: 0;clip: rect(1px 1px 1px 1px);clip: rect(1px, 1px, 1px, 1px);height: 1px;margin: -1px;overflow: hidden;padding: 0;position: absolute;width: 1px;}#sk-container-id-3 div.sk-estimator {font-family: monospace;background-color: #f0f8ff;border: 1px dotted black;border-radius: 0.25em;box-sizing: border-box;margin-bottom: 0.5em;}#sk-container-id-3 div.sk-estimator:hover {background-color: #d4ebff;}#sk-container-id-3 div.sk-parallel-item::after {content: \"\";width: 100%;border-bottom: 1px solid gray;flex-grow: 1;}#sk-container-id-3 div.sk-label:hover label.sk-toggleable__label {background-color: #d4ebff;}#sk-container-id-3 div.sk-serial::before {content: \"\";position: absolute;border-left: 1px solid gray;box-sizing: border-box;top: 0;bottom: 0;left: 50%;z-index: 0;}#sk-container-id-3 div.sk-serial {display: flex;flex-direction: column;align-items: center;background-color: white;padding-right: 0.2em;padding-left: 0.2em;position: relative;}#sk-container-id-3 div.sk-item {position: relative;z-index: 1;}#sk-container-id-3 div.sk-parallel {display: flex;align-items: stretch;justify-content: center;background-color: white;position: relative;}#sk-container-id-3 div.sk-item::before, #sk-container-id-3 div.sk-parallel-item::before {content: \"\";position: absolute;border-left: 1px solid gray;box-sizing: border-box;top: 0;bottom: 0;left: 50%;z-index: -1;}#sk-container-id-3 div.sk-parallel-item {display: flex;flex-direction: column;z-index: 1;position: relative;background-color: white;}#sk-container-id-3 div.sk-parallel-item:first-child::after {align-self: flex-end;width: 50%;}#sk-container-id-3 div.sk-parallel-item:last-child::after {align-self: flex-start;width: 50%;}#sk-container-id-3 div.sk-parallel-item:only-child::after {width: 0;}#sk-container-id-3 div.sk-dashed-wrapped {border: 1px dashed gray;margin: 0 0.4em 0.5em 0.4em;box-sizing: border-box;padding-bottom: 0.4em;background-color: white;}#sk-container-id-3 div.sk-label label {font-family: monospace;font-weight: bold;display: inline-block;line-height: 1.2em;}#sk-container-id-3 div.sk-label-container {text-align: center;}#sk-container-id-3 div.sk-container {/* jupyter's `normalize.less` sets `[hidden] { display: none; }` but bootstrap.min.css set `[hidden] { display: none !important; }` so we also need the `!important` here to be able to override the default hidden behavior on the sphinx rendered scikit-learn.org. See: https://github.com/scikit-learn/scikit-learn/issues/21755 */display: inline-block !important;position: relative;}#sk-container-id-3 div.sk-text-repr-fallback {display: none;}</style><div id=\"sk-container-id-3\" class=\"sk-top-container\"><div class=\"sk-text-repr-fallback\"><pre>GridSearchCV(estimator=RandomForestClassifier(class_weight=&#x27;balanced&#x27;,\n",
              "                                              random_state=12345),\n",
              "             n_jobs=2,\n",
              "             param_grid={&#x27;max_depth&#x27;: range(1, 12, 2),\n",
              "                         &#x27;n_estimators&#x27;: range(10, 101, 20)},\n",
              "             return_train_score=True, scoring=make_scorer(f1_score))</pre><b>In a Jupyter environment, please rerun this cell to show the HTML representation or trust the notebook. <br />On GitHub, the HTML representation is unable to render, please try loading this page with nbviewer.org.</b></div><div class=\"sk-container\" hidden><div class=\"sk-item sk-dashed-wrapped\"><div class=\"sk-label-container\"><div class=\"sk-label sk-toggleable\"><input class=\"sk-toggleable__control sk-hidden--visually\" id=\"sk-estimator-id-5\" type=\"checkbox\" ><label for=\"sk-estimator-id-5\" class=\"sk-toggleable__label sk-toggleable__label-arrow\">GridSearchCV</label><div class=\"sk-toggleable__content\"><pre>GridSearchCV(estimator=RandomForestClassifier(class_weight=&#x27;balanced&#x27;,\n",
              "                                              random_state=12345),\n",
              "             n_jobs=2,\n",
              "             param_grid={&#x27;max_depth&#x27;: range(1, 12, 2),\n",
              "                         &#x27;n_estimators&#x27;: range(10, 101, 20)},\n",
              "             return_train_score=True, scoring=make_scorer(f1_score))</pre></div></div></div><div class=\"sk-parallel\"><div class=\"sk-parallel-item\"><div class=\"sk-item\"><div class=\"sk-label-container\"><div class=\"sk-label sk-toggleable\"><input class=\"sk-toggleable__control sk-hidden--visually\" id=\"sk-estimator-id-6\" type=\"checkbox\" ><label for=\"sk-estimator-id-6\" class=\"sk-toggleable__label sk-toggleable__label-arrow\">estimator: RandomForestClassifier</label><div class=\"sk-toggleable__content\"><pre>RandomForestClassifier(class_weight=&#x27;balanced&#x27;, random_state=12345)</pre></div></div></div><div class=\"sk-serial\"><div class=\"sk-item\"><div class=\"sk-estimator sk-toggleable\"><input class=\"sk-toggleable__control sk-hidden--visually\" id=\"sk-estimator-id-7\" type=\"checkbox\" ><label for=\"sk-estimator-id-7\" class=\"sk-toggleable__label sk-toggleable__label-arrow\">RandomForestClassifier</label><div class=\"sk-toggleable__content\"><pre>RandomForestClassifier(class_weight=&#x27;balanced&#x27;, random_state=12345)</pre></div></div></div></div></div></div></div></div></div></div>"
            ]
          },
          "metadata": {},
          "execution_count": 40
        }
      ],
      "source": [
        "%%time\n",
        "\n",
        "warnings.filterwarnings('ignore')\n",
        "\n",
        "model_grid_forrest = GridSearchCV(\n",
        "    RandomForestClassifier(class_weight='balanced', random_state=12345),\n",
        "    param_grid = { 'n_estimators': range (10, 101, 20),\n",
        "                   'max_depth': range (1,12, 2) },\n",
        "    scoring=make_scorer(f1_score),\n",
        "    n_jobs=2,\n",
        "    return_train_score=True)\n",
        "    \n",
        "model_grid_forrest.fit(features_train, target_train);"
      ]
    },
    {
      "cell_type": "code",
      "execution_count": 41,
      "metadata": {
        "scrolled": false,
        "colab": {
          "base_uri": "https://localhost:8080/"
        },
        "id": "zPwfLIyQsToE",
        "outputId": "ca3a4e51-e797-48bd-f034-8824d2771fb2"
      },
      "outputs": [
        {
          "output_type": "stream",
          "name": "stdout",
          "text": [
            "Лучший результат F1: 0.61532\n",
            "Модель для лучшего F1: RandomForestClassifier(class_weight='balanced', max_depth=9, n_estimators=90,\n",
            "                       random_state=12345)\n"
          ]
        }
      ],
      "source": [
        "print(f'Лучший результат F1: {round(model_grid_forrest.best_score_, 5)}')\n",
        "print('Модель для лучшего F1: {}'.format(model_grid_forrest.best_estimator_))"
      ]
    },
    {
      "cell_type": "markdown",
      "metadata": {
        "id": "cEd2ch8tsToF"
      },
      "source": [
        "**Мы получили лучшую максимальную глубину 9, а количество деревьев = 90. Обучим модель с этими параметрами.**"
      ]
    },
    {
      "cell_type": "code",
      "execution_count": 42,
      "metadata": {
        "colab": {
          "base_uri": "https://localhost:8080/"
        },
        "id": "BOdEZIhBsToF",
        "outputId": "48f4f57c-7a6a-4cfa-e930-122580d2571b"
      },
      "outputs": [
        {
          "output_type": "stream",
          "name": "stdout",
          "text": [
            "Метрики лучшей модели случайного леса:\n",
            "R2: 0.8325\n",
            "F1: 0.62061\n",
            "AUC-ROC: 0.85401\n"
          ]
        }
      ],
      "source": [
        "model_forrest_best = RandomForestClassifier(class_weight='balanced', max_depth=9,\n",
        "                       n_estimators=90, random_state=12345)\n",
        "model_forrest_best.fit(features_train, target_train)\n",
        "predict_valid_forrest = model_forrest_best.predict(features_valid)\n",
        "\n",
        "print('Метрики лучшей модели случайного леса:')\n",
        "print_metrics(model_forrest_best, features_valid, target_valid)"
      ]
    },
    {
      "cell_type": "markdown",
      "metadata": {
        "id": "e2TYTvX4sToG"
      },
      "source": [
        "<div style=\"border:solid blue 2px; padding: 30px\">\n",
        "Эта модель получила наилучшие метрики."
      ]
    },
    {
      "cell_type": "markdown",
      "metadata": {
        "id": "5bM3N9NFsToG"
      },
      "source": [
        "<div style=\"border:solid blue 2px; padding: 30px\">\n",
        "Я сравнила три модели. Метрики у случайного леса лучше, чем у остальных моделей.\n",
        "Лучшая модель имеет максимальную глубину 9 и количество деревьев - 90.\n",
        "Правильных ответов у этой модели 83%, среднее гаромоническое точности и полноты 0.62, а площадь под кривой ROC 0.85."
      ]
    },
    {
      "cell_type": "markdown",
      "metadata": {
        "id": "QI2uLlUYsToH"
      },
      "source": [
        "## Тестирование модели"
      ]
    },
    {
      "cell_type": "markdown",
      "metadata": {
        "id": "s4FQGNDvsToH"
      },
      "source": [
        "Проведу финальное тестирование нашей лучшей модели на тестовой выборке."
      ]
    },
    {
      "cell_type": "code",
      "execution_count": 43,
      "metadata": {
        "colab": {
          "base_uri": "https://localhost:8080/"
        },
        "id": "1lb0kMTxsToH",
        "outputId": "29ed1faf-0404-4d48-c1b5-783c06def31a"
      },
      "outputs": [
        {
          "output_type": "stream",
          "name": "stdout",
          "text": [
            "F1: 0.6212290502793296\n"
          ]
        }
      ],
      "source": [
        "predict_test_forrest = model_forrest_best.predict(features_test)\n",
        "print('F1:', f1_score(target_test, predict_test_forrest))"
      ]
    },
    {
      "cell_type": "markdown",
      "metadata": {
        "id": "BgCn1DKZsToI"
      },
      "source": [
        "**Построим ROC-кривую**"
      ]
    },
    {
      "cell_type": "code",
      "execution_count": 44,
      "metadata": {
        "scrolled": false,
        "colab": {
          "base_uri": "https://localhost:8080/",
          "height": 727
        },
        "id": "OFNydN6esToJ",
        "outputId": "c62eadbd-1e99-43d0-a92d-51cf2d4915ae"
      },
      "outputs": [
        {
          "output_type": "display_data",
          "data": {
            "text/plain": [
              "<Figure size 1500x800 with 1 Axes>"
            ],
            "image/png": "[encoded data removed]"
          },
          "metadata": {}
        }
      ],
      "source": [
        "probabilities_one_valid = model_forrest_best.predict_proba(features_valid)[:, 1] # вероятность положительного класса\n",
        "\n",
        "fpr, tpr, thresholds = roc_curve(target_valid, probabilities_one_valid)\n",
        "\n",
        "plt.figure()\n",
        "\n",
        "# ROC-кривая случайной модели \n",
        "plt.plot([0, 1], [0, 1], linestyle='--')\n",
        "plt.plot(fpr, tpr)\n",
        "\n",
        "# границы осей от 0 до 1\n",
        "plt.xlim([0.0, 1.0])\n",
        "plt.ylim([0.0, 1.0])\n",
        "\n",
        "# название осей\n",
        "plt.xlabel('False Positive Rate')\n",
        "plt.ylabel('True Positive Rate')\n",
        "\n",
        "# заголовок\n",
        "plt.title('ROC-кривая')\n",
        "plt.show()"
      ]
    },
    {
      "cell_type": "markdown",
      "metadata": {
        "id": "q0gtKkJ6sToK"
      },
      "source": [
        "<div style=\"border:solid blue 2px; padding: 20px\">\n",
        "    \n",
        "<div class=\"alert alert-info\">  <b>Итог исследования:<b> </div>\n",
        "    \n",
        "Я изучила и подготовила данные, избавившись от пропусков и ненужных данных, которые не влияют на нашу задачу - это индекс строки, фамилия и id клиента. Затем я закодировала категориальные данные - страна проживания и пол, после чего провела масштабирование признаков, чтобы модель при обучении все признаки расценивала, как равнозначные.\n",
        "    \n",
        "На следующем этапе я исследовала баланс классов. Отрицательный класс оказался в 4 раза больше положительного. При обучении модели без учёта дисбаланса классов я получила очень низкое значение F1-меры у логистической регрессии(0.33).\n",
        "    \n",
        "Затем эту же модель я обучила на сбалансированных разными методами классах. Лучшие результаты показал метод балансировки через параметр class_weight. Балансировка классов у модели случайного леса дала незначительное улучшение результатов.\n",
        "\n",
        "В ходе исследования я сравнила три модели, подбирая для каждой лучшие гиперпараметры с помощью модуля GridSearchCV. Наилучшие результаты показала модель случайного леса. Она имеет максимальную глубину 9 и количество деревьев - 90.\n",
        "Правильных ответов у нашей модели 83%, среднее гаромоническое точности и полноты 0.6206, а площадь под кривой ROC 0.85.\n",
        "    \n",
        "В конце нашей работы я проверила модель-победитель на тестовой выборке и получили результат F1 = 0.6212 и построили ROC-кривую этой модели."
      ]
    }
  ],
  "metadata": {
    "ExecuteTimeLog": [
      {
        "duration": 352,
        "start_time": "2022-11-21T08:09:55.593Z"
      },
      {
        "duration": 70,
        "start_time": "2022-11-21T08:09:56.204Z"
      },
      {
        "duration": 65,
        "start_time": "2022-11-21T08:10:23.176Z"
      },
      {
        "duration": 79,
        "start_time": "2022-11-21T08:10:44.614Z"
      },
      {
        "duration": 49,
        "start_time": "2022-11-21T08:12:06.146Z"
      },
      {
        "duration": 27,
        "start_time": "2022-11-21T08:12:18.097Z"
      },
      {
        "duration": 43,
        "start_time": "2022-11-21T08:24:23.234Z"
      },
      {
        "duration": 60,
        "start_time": "2022-11-21T08:26:49.631Z"
      },
      {
        "duration": 71,
        "start_time": "2022-11-21T08:28:00.714Z"
      },
      {
        "duration": 89,
        "start_time": "2022-11-21T08:28:37.574Z"
      },
      {
        "duration": 52,
        "start_time": "2022-11-21T08:28:47.692Z"
      },
      {
        "duration": 116,
        "start_time": "2022-11-21T08:29:07.930Z"
      },
      {
        "duration": 86,
        "start_time": "2022-11-21T08:32:47.144Z"
      },
      {
        "duration": 51,
        "start_time": "2022-11-21T08:32:58.081Z"
      },
      {
        "duration": 10,
        "start_time": "2022-11-21T08:33:57.931Z"
      },
      {
        "duration": 20,
        "start_time": "2022-11-21T08:34:07.133Z"
      },
      {
        "duration": 84,
        "start_time": "2022-11-21T08:37:55.512Z"
      },
      {
        "duration": 4,
        "start_time": "2022-11-21T08:38:11.319Z"
      },
      {
        "duration": 13,
        "start_time": "2022-11-21T08:38:12.774Z"
      },
      {
        "duration": 6,
        "start_time": "2022-11-21T08:41:49.216Z"
      },
      {
        "duration": 5,
        "start_time": "2022-11-21T08:42:42.398Z"
      },
      {
        "duration": 11,
        "start_time": "2022-11-21T08:42:51.796Z"
      },
      {
        "duration": 5,
        "start_time": "2022-11-21T08:43:24.199Z"
      },
      {
        "duration": 16,
        "start_time": "2022-11-21T08:43:44.262Z"
      },
      {
        "duration": 4,
        "start_time": "2022-11-21T08:44:02.805Z"
      },
      {
        "duration": 23,
        "start_time": "2022-11-21T08:44:14.548Z"
      },
      {
        "duration": 6,
        "start_time": "2022-11-21T08:44:28.709Z"
      },
      {
        "duration": 48,
        "start_time": "2022-11-21T08:44:34.995Z"
      },
      {
        "duration": 4,
        "start_time": "2022-11-21T08:44:38.489Z"
      },
      {
        "duration": 4,
        "start_time": "2022-11-21T08:44:43.818Z"
      },
      {
        "duration": 5,
        "start_time": "2022-11-21T08:44:58.851Z"
      },
      {
        "duration": 17,
        "start_time": "2022-11-21T08:45:06.524Z"
      },
      {
        "duration": 4,
        "start_time": "2022-11-21T08:45:13.787Z"
      },
      {
        "duration": 9,
        "start_time": "2022-11-21T08:46:02.765Z"
      },
      {
        "duration": 7,
        "start_time": "2022-11-21T08:46:14.101Z"
      },
      {
        "duration": 11,
        "start_time": "2022-11-21T08:46:24.545Z"
      },
      {
        "duration": 7,
        "start_time": "2022-11-21T08:46:50.887Z"
      },
      {
        "duration": 6,
        "start_time": "2022-11-21T08:47:17.417Z"
      },
      {
        "duration": 60,
        "start_time": "2022-11-21T08:47:42.419Z"
      },
      {
        "duration": 5,
        "start_time": "2022-11-21T08:47:43.924Z"
      },
      {
        "duration": 6,
        "start_time": "2022-11-21T08:47:47.632Z"
      },
      {
        "duration": 5,
        "start_time": "2022-11-21T08:48:10.186Z"
      },
      {
        "duration": 6,
        "start_time": "2022-11-21T08:48:12.427Z"
      },
      {
        "duration": 9,
        "start_time": "2022-11-21T08:48:18.406Z"
      },
      {
        "duration": 8,
        "start_time": "2022-11-21T08:48:33.755Z"
      },
      {
        "duration": 60,
        "start_time": "2022-11-21T08:48:39.407Z"
      },
      {
        "duration": 6,
        "start_time": "2022-11-21T08:48:42.196Z"
      },
      {
        "duration": 5,
        "start_time": "2022-11-21T08:48:46.321Z"
      },
      {
        "duration": 5,
        "start_time": "2022-11-21T08:48:48.393Z"
      },
      {
        "duration": 6,
        "start_time": "2022-11-21T08:48:50.405Z"
      },
      {
        "duration": 11,
        "start_time": "2022-11-21T08:52:40.752Z"
      },
      {
        "duration": 10,
        "start_time": "2022-11-21T08:52:53.452Z"
      },
      {
        "duration": 9,
        "start_time": "2022-11-21T08:54:51.751Z"
      },
      {
        "duration": 4,
        "start_time": "2022-11-21T08:58:55.166Z"
      },
      {
        "duration": 12,
        "start_time": "2022-11-21T08:58:59.107Z"
      },
      {
        "duration": 8,
        "start_time": "2022-11-21T08:59:03.020Z"
      },
      {
        "duration": 10,
        "start_time": "2022-11-21T09:00:58.848Z"
      },
      {
        "duration": 168,
        "start_time": "2022-11-21T09:01:33.544Z"
      },
      {
        "duration": 8,
        "start_time": "2022-11-21T09:02:27.370Z"
      },
      {
        "duration": 13,
        "start_time": "2022-11-21T09:02:50.816Z"
      },
      {
        "duration": 13,
        "start_time": "2022-11-21T09:02:55.269Z"
      },
      {
        "duration": 171,
        "start_time": "2022-11-21T09:02:56.581Z"
      },
      {
        "duration": 19,
        "start_time": "2022-11-21T09:03:07.943Z"
      },
      {
        "duration": 13,
        "start_time": "2022-11-21T09:05:44.075Z"
      },
      {
        "duration": 49,
        "start_time": "2022-11-21T09:05:48.835Z"
      },
      {
        "duration": 6,
        "start_time": "2022-11-21T09:05:50.535Z"
      },
      {
        "duration": 5,
        "start_time": "2022-11-21T09:05:53.145Z"
      },
      {
        "duration": 11,
        "start_time": "2022-11-21T09:06:24.119Z"
      },
      {
        "duration": 12,
        "start_time": "2022-11-21T09:06:38.942Z"
      },
      {
        "duration": 7,
        "start_time": "2022-11-21T09:06:45.383Z"
      },
      {
        "duration": 6,
        "start_time": "2022-11-21T09:06:46.495Z"
      },
      {
        "duration": 7,
        "start_time": "2022-11-21T09:06:55.368Z"
      },
      {
        "duration": 7,
        "start_time": "2022-11-21T09:07:02.024Z"
      },
      {
        "duration": 10,
        "start_time": "2022-11-21T09:07:41.135Z"
      },
      {
        "duration": 12,
        "start_time": "2022-11-21T09:07:46.419Z"
      },
      {
        "duration": 59,
        "start_time": "2022-11-21T09:08:01.544Z"
      },
      {
        "duration": 12,
        "start_time": "2022-11-21T09:08:16.665Z"
      },
      {
        "duration": 9,
        "start_time": "2022-11-21T09:08:25.493Z"
      },
      {
        "duration": 6,
        "start_time": "2022-11-21T09:08:39.468Z"
      },
      {
        "duration": 7,
        "start_time": "2022-11-21T09:08:54.199Z"
      },
      {
        "duration": 7,
        "start_time": "2022-11-21T09:08:59.304Z"
      },
      {
        "duration": 7,
        "start_time": "2022-11-21T09:09:00.804Z"
      },
      {
        "duration": 59,
        "start_time": "2022-11-21T09:17:04.217Z"
      },
      {
        "duration": 48,
        "start_time": "2022-11-21T09:17:23.535Z"
      },
      {
        "duration": 6,
        "start_time": "2022-11-21T09:17:24.649Z"
      },
      {
        "duration": 11,
        "start_time": "2022-11-21T09:17:26.582Z"
      },
      {
        "duration": 9,
        "start_time": "2022-11-21T09:17:33.989Z"
      },
      {
        "duration": 7,
        "start_time": "2022-11-21T09:17:47.189Z"
      },
      {
        "duration": 3,
        "start_time": "2022-11-21T09:18:34.649Z"
      },
      {
        "duration": 7,
        "start_time": "2022-11-21T09:18:38.125Z"
      },
      {
        "duration": 428,
        "start_time": "2022-11-21T09:18:44.514Z"
      },
      {
        "duration": 52,
        "start_time": "2022-11-21T09:18:44.944Z"
      },
      {
        "duration": 3,
        "start_time": "2022-11-21T09:18:44.998Z"
      },
      {
        "duration": 44,
        "start_time": "2022-11-21T09:18:45.003Z"
      },
      {
        "duration": 24,
        "start_time": "2022-11-21T09:18:45.050Z"
      },
      {
        "duration": 14,
        "start_time": "2022-11-21T09:18:45.075Z"
      },
      {
        "duration": 23,
        "start_time": "2022-11-21T09:18:45.091Z"
      },
      {
        "duration": 25,
        "start_time": "2022-11-21T09:18:45.116Z"
      },
      {
        "duration": 6,
        "start_time": "2022-11-21T09:18:57.517Z"
      },
      {
        "duration": 16,
        "start_time": "2022-11-21T09:19:00.752Z"
      },
      {
        "duration": 6,
        "start_time": "2022-11-21T09:19:05.923Z"
      },
      {
        "duration": 7,
        "start_time": "2022-11-21T09:19:12.324Z"
      },
      {
        "duration": 11,
        "start_time": "2022-11-21T09:19:15.601Z"
      },
      {
        "duration": 7,
        "start_time": "2022-11-21T09:19:31.088Z"
      },
      {
        "duration": 6,
        "start_time": "2022-11-21T09:19:34.406Z"
      },
      {
        "duration": 12,
        "start_time": "2022-11-21T09:19:37.177Z"
      },
      {
        "duration": 69,
        "start_time": "2022-11-21T09:19:41.975Z"
      },
      {
        "duration": 6,
        "start_time": "2022-11-21T09:19:46.589Z"
      },
      {
        "duration": 9,
        "start_time": "2022-11-21T09:19:48.730Z"
      },
      {
        "duration": 12,
        "start_time": "2022-11-21T09:20:02.527Z"
      },
      {
        "duration": 9,
        "start_time": "2022-11-21T09:20:17.303Z"
      },
      {
        "duration": 8,
        "start_time": "2022-11-21T09:20:52.822Z"
      },
      {
        "duration": 10,
        "start_time": "2022-11-21T09:21:00.461Z"
      },
      {
        "duration": 8,
        "start_time": "2022-11-21T09:21:03.716Z"
      },
      {
        "duration": 7,
        "start_time": "2022-11-21T09:21:29.278Z"
      },
      {
        "duration": 7,
        "start_time": "2022-11-21T09:21:45.002Z"
      },
      {
        "duration": 58,
        "start_time": "2022-11-21T09:21:49.018Z"
      },
      {
        "duration": 5,
        "start_time": "2022-11-21T09:21:50.528Z"
      },
      {
        "duration": 5,
        "start_time": "2022-11-21T09:21:54.380Z"
      },
      {
        "duration": 16,
        "start_time": "2022-11-21T09:21:56.253Z"
      },
      {
        "duration": 8,
        "start_time": "2022-11-21T09:22:19.757Z"
      },
      {
        "duration": 17,
        "start_time": "2022-11-21T09:22:20.831Z"
      },
      {
        "duration": 186,
        "start_time": "2022-11-21T09:22:51.637Z"
      },
      {
        "duration": 397,
        "start_time": "2022-11-21T09:24:27.892Z"
      },
      {
        "duration": 51,
        "start_time": "2022-11-21T09:24:28.291Z"
      },
      {
        "duration": 13,
        "start_time": "2022-11-21T09:24:28.344Z"
      },
      {
        "duration": 16,
        "start_time": "2022-11-21T09:24:28.360Z"
      },
      {
        "duration": 36,
        "start_time": "2022-11-21T09:24:28.378Z"
      },
      {
        "duration": 10,
        "start_time": "2022-11-21T09:24:28.415Z"
      },
      {
        "duration": 255,
        "start_time": "2022-11-21T09:24:28.426Z"
      },
      {
        "duration": 0,
        "start_time": "2022-11-21T09:24:28.683Z"
      },
      {
        "duration": 0,
        "start_time": "2022-11-21T09:24:28.685Z"
      },
      {
        "duration": 246,
        "start_time": "2022-11-21T09:24:44.855Z"
      },
      {
        "duration": 16,
        "start_time": "2022-11-21T09:25:21.475Z"
      },
      {
        "duration": 21,
        "start_time": "2022-11-21T09:25:36.183Z"
      },
      {
        "duration": 19,
        "start_time": "2022-11-21T09:25:50.245Z"
      },
      {
        "duration": 62,
        "start_time": "2022-11-21T09:26:51.158Z"
      },
      {
        "duration": 12,
        "start_time": "2022-11-21T09:26:55.516Z"
      },
      {
        "duration": 7,
        "start_time": "2022-11-21T09:26:57.673Z"
      },
      {
        "duration": 415,
        "start_time": "2022-11-21T09:27:57.053Z"
      },
      {
        "duration": 49,
        "start_time": "2022-11-21T09:27:57.470Z"
      },
      {
        "duration": 4,
        "start_time": "2022-11-21T09:27:57.521Z"
      },
      {
        "duration": 36,
        "start_time": "2022-11-21T09:27:57.527Z"
      },
      {
        "duration": 23,
        "start_time": "2022-11-21T09:27:57.564Z"
      },
      {
        "duration": 9,
        "start_time": "2022-11-21T09:27:57.589Z"
      },
      {
        "duration": 36,
        "start_time": "2022-11-21T09:27:57.600Z"
      },
      {
        "duration": 9,
        "start_time": "2022-11-21T09:28:31.034Z"
      },
      {
        "duration": 6,
        "start_time": "2022-11-21T09:28:59.919Z"
      },
      {
        "duration": 13,
        "start_time": "2022-11-21T09:29:03.795Z"
      },
      {
        "duration": 13,
        "start_time": "2022-11-21T09:29:28.280Z"
      },
      {
        "duration": 69,
        "start_time": "2022-11-24T05:52:25.111Z"
      },
      {
        "duration": 432,
        "start_time": "2022-11-24T05:52:30.820Z"
      },
      {
        "duration": 165,
        "start_time": "2022-11-24T05:52:31.254Z"
      },
      {
        "duration": 5,
        "start_time": "2022-11-24T05:52:31.421Z"
      },
      {
        "duration": 27,
        "start_time": "2022-11-24T05:52:31.428Z"
      },
      {
        "duration": 49,
        "start_time": "2022-11-24T05:52:31.457Z"
      },
      {
        "duration": 17,
        "start_time": "2022-11-24T05:52:31.508Z"
      },
      {
        "duration": 25,
        "start_time": "2022-11-24T05:52:31.526Z"
      },
      {
        "duration": 16,
        "start_time": "2022-11-24T05:52:31.553Z"
      },
      {
        "duration": 7,
        "start_time": "2022-11-24T05:52:31.571Z"
      },
      {
        "duration": 725,
        "start_time": "2022-11-24T05:55:08.583Z"
      },
      {
        "duration": 6,
        "start_time": "2022-11-24T05:55:50.065Z"
      },
      {
        "duration": 9,
        "start_time": "2022-11-24T05:56:32.158Z"
      },
      {
        "duration": 5,
        "start_time": "2022-11-24T05:57:08.619Z"
      },
      {
        "duration": 6,
        "start_time": "2022-11-24T05:57:23.355Z"
      },
      {
        "duration": 96,
        "start_time": "2022-11-24T05:59:26.740Z"
      },
      {
        "duration": 7,
        "start_time": "2022-11-24T05:59:56.524Z"
      },
      {
        "duration": 6,
        "start_time": "2022-11-24T06:01:30.914Z"
      },
      {
        "duration": 5,
        "start_time": "2022-11-24T06:01:41.128Z"
      },
      {
        "duration": 15,
        "start_time": "2022-11-24T06:02:21.328Z"
      },
      {
        "duration": 5,
        "start_time": "2022-11-24T06:02:39.236Z"
      },
      {
        "duration": 12,
        "start_time": "2022-11-24T06:02:40.669Z"
      },
      {
        "duration": 6,
        "start_time": "2022-11-24T06:03:23.501Z"
      },
      {
        "duration": 5,
        "start_time": "2022-11-24T06:03:25.444Z"
      },
      {
        "duration": 15,
        "start_time": "2022-11-24T06:03:29.365Z"
      },
      {
        "duration": 77,
        "start_time": "2022-11-24T06:21:08.007Z"
      },
      {
        "duration": 3,
        "start_time": "2022-11-24T06:21:13.405Z"
      },
      {
        "duration": 110,
        "start_time": "2022-11-24T06:21:19.268Z"
      },
      {
        "duration": 73,
        "start_time": "2022-11-24T06:21:24.056Z"
      },
      {
        "duration": 10,
        "start_time": "2022-11-24T06:21:31.554Z"
      },
      {
        "duration": 12,
        "start_time": "2022-11-24T06:21:34.773Z"
      },
      {
        "duration": 14,
        "start_time": "2022-11-24T06:25:42.608Z"
      },
      {
        "duration": 1132,
        "start_time": "2022-11-24T06:26:02.752Z"
      },
      {
        "duration": 52,
        "start_time": "2022-11-24T06:26:03.886Z"
      },
      {
        "duration": 4,
        "start_time": "2022-11-24T06:26:03.940Z"
      },
      {
        "duration": 9,
        "start_time": "2022-11-24T06:26:03.946Z"
      },
      {
        "duration": 18,
        "start_time": "2022-11-24T06:26:03.957Z"
      },
      {
        "duration": 8,
        "start_time": "2022-11-24T06:26:03.976Z"
      },
      {
        "duration": 6,
        "start_time": "2022-11-24T06:26:03.985Z"
      },
      {
        "duration": 24,
        "start_time": "2022-11-24T06:26:03.992Z"
      },
      {
        "duration": 10,
        "start_time": "2022-11-24T06:26:04.018Z"
      },
      {
        "duration": 16,
        "start_time": "2022-11-24T06:26:04.029Z"
      },
      {
        "duration": 8,
        "start_time": "2022-11-24T06:26:04.048Z"
      },
      {
        "duration": 8,
        "start_time": "2022-11-24T06:26:04.058Z"
      },
      {
        "duration": 6,
        "start_time": "2022-11-24T06:26:04.068Z"
      },
      {
        "duration": 14,
        "start_time": "2022-11-24T06:26:04.106Z"
      },
      {
        "duration": 1146,
        "start_time": "2022-11-24T06:28:40.323Z"
      },
      {
        "duration": 59,
        "start_time": "2022-11-24T06:28:41.471Z"
      },
      {
        "duration": 5,
        "start_time": "2022-11-24T06:28:41.532Z"
      },
      {
        "duration": 10,
        "start_time": "2022-11-24T06:28:41.539Z"
      },
      {
        "duration": 14,
        "start_time": "2022-11-24T06:28:41.550Z"
      },
      {
        "duration": 6,
        "start_time": "2022-11-24T06:28:41.566Z"
      },
      {
        "duration": 10,
        "start_time": "2022-11-24T06:28:41.574Z"
      },
      {
        "duration": 25,
        "start_time": "2022-11-24T06:28:41.606Z"
      },
      {
        "duration": 11,
        "start_time": "2022-11-24T06:28:41.634Z"
      },
      {
        "duration": 15,
        "start_time": "2022-11-24T06:28:41.647Z"
      },
      {
        "duration": 10,
        "start_time": "2022-11-24T06:28:41.664Z"
      },
      {
        "duration": 10,
        "start_time": "2022-11-24T06:28:41.676Z"
      },
      {
        "duration": 13,
        "start_time": "2022-11-24T06:28:41.704Z"
      },
      {
        "duration": 27,
        "start_time": "2022-11-24T06:28:41.719Z"
      },
      {
        "duration": 12,
        "start_time": "2022-11-24T06:30:34.360Z"
      },
      {
        "duration": 4,
        "start_time": "2022-11-24T06:30:52.261Z"
      },
      {
        "duration": 3,
        "start_time": "2022-11-24T06:36:31.421Z"
      },
      {
        "duration": 37,
        "start_time": "2022-11-24T06:52:18.088Z"
      },
      {
        "duration": 42,
        "start_time": "2022-11-24T06:52:25.457Z"
      },
      {
        "duration": 112,
        "start_time": "2022-11-24T06:53:41.110Z"
      },
      {
        "duration": 11,
        "start_time": "2022-11-24T06:53:51.898Z"
      },
      {
        "duration": 11,
        "start_time": "2022-11-24T06:54:20.379Z"
      },
      {
        "duration": 34,
        "start_time": "2022-11-24T06:54:29.087Z"
      },
      {
        "duration": 43,
        "start_time": "2022-11-24T06:54:35.834Z"
      },
      {
        "duration": 51,
        "start_time": "2022-11-24T06:54:48.973Z"
      },
      {
        "duration": 6,
        "start_time": "2022-11-24T08:17:19.702Z"
      },
      {
        "duration": 26,
        "start_time": "2022-11-24T08:27:27.503Z"
      },
      {
        "duration": 32,
        "start_time": "2022-11-24T08:31:08.322Z"
      },
      {
        "duration": 16,
        "start_time": "2022-11-24T08:35:39.524Z"
      },
      {
        "duration": 17,
        "start_time": "2022-11-24T08:35:53.996Z"
      },
      {
        "duration": 3,
        "start_time": "2022-11-24T08:38:44.090Z"
      },
      {
        "duration": 18,
        "start_time": "2022-11-24T08:50:34.543Z"
      },
      {
        "duration": 180,
        "start_time": "2022-11-24T08:50:41.626Z"
      },
      {
        "duration": 193,
        "start_time": "2022-11-24T08:51:47.824Z"
      },
      {
        "duration": 127,
        "start_time": "2022-11-24T08:52:35.680Z"
      },
      {
        "duration": 3,
        "start_time": "2022-11-24T08:52:42.346Z"
      },
      {
        "duration": 120,
        "start_time": "2022-11-24T08:52:54.588Z"
      },
      {
        "duration": 191,
        "start_time": "2022-11-24T08:54:53.315Z"
      },
      {
        "duration": 1077,
        "start_time": "2022-11-24T08:54:57.919Z"
      },
      {
        "duration": 50,
        "start_time": "2022-11-24T08:54:58.998Z"
      },
      {
        "duration": 5,
        "start_time": "2022-11-24T08:54:59.049Z"
      },
      {
        "duration": 14,
        "start_time": "2022-11-24T08:54:59.056Z"
      },
      {
        "duration": 19,
        "start_time": "2022-11-24T08:54:59.072Z"
      },
      {
        "duration": 6,
        "start_time": "2022-11-24T08:54:59.093Z"
      },
      {
        "duration": 5,
        "start_time": "2022-11-24T08:54:59.101Z"
      },
      {
        "duration": 15,
        "start_time": "2022-11-24T08:54:59.107Z"
      },
      {
        "duration": 10,
        "start_time": "2022-11-24T08:54:59.124Z"
      },
      {
        "duration": 113,
        "start_time": "2022-11-24T08:54:59.137Z"
      },
      {
        "duration": 10,
        "start_time": "2022-11-24T08:54:59.251Z"
      },
      {
        "duration": 9,
        "start_time": "2022-11-24T08:54:59.262Z"
      },
      {
        "duration": 7,
        "start_time": "2022-11-24T08:54:59.273Z"
      },
      {
        "duration": 5,
        "start_time": "2022-11-24T08:54:59.281Z"
      },
      {
        "duration": 38,
        "start_time": "2022-11-24T08:54:59.288Z"
      },
      {
        "duration": 5,
        "start_time": "2022-11-24T08:54:59.328Z"
      },
      {
        "duration": 353,
        "start_time": "2022-11-24T08:54:59.334Z"
      },
      {
        "duration": 39,
        "start_time": "2022-11-24T08:55:39.575Z"
      },
      {
        "duration": 21,
        "start_time": "2022-11-24T08:56:29.419Z"
      },
      {
        "duration": 10,
        "start_time": "2022-11-24T08:56:40.516Z"
      },
      {
        "duration": 10,
        "start_time": "2022-11-24T08:56:59.582Z"
      },
      {
        "duration": 1030,
        "start_time": "2022-11-24T08:57:09.058Z"
      },
      {
        "duration": 51,
        "start_time": "2022-11-24T08:57:10.090Z"
      },
      {
        "duration": 4,
        "start_time": "2022-11-24T08:57:10.143Z"
      },
      {
        "duration": 34,
        "start_time": "2022-11-24T08:57:10.150Z"
      },
      {
        "duration": 25,
        "start_time": "2022-11-24T08:57:10.186Z"
      },
      {
        "duration": 26,
        "start_time": "2022-11-24T08:57:10.213Z"
      },
      {
        "duration": 20,
        "start_time": "2022-11-24T08:57:10.241Z"
      },
      {
        "duration": 20,
        "start_time": "2022-11-24T08:57:10.263Z"
      },
      {
        "duration": 27,
        "start_time": "2022-11-24T08:57:10.285Z"
      },
      {
        "duration": 17,
        "start_time": "2022-11-24T08:57:10.314Z"
      },
      {
        "duration": 32,
        "start_time": "2022-11-24T08:57:10.333Z"
      },
      {
        "duration": 18,
        "start_time": "2022-11-24T08:57:10.367Z"
      },
      {
        "duration": 17,
        "start_time": "2022-11-24T08:57:10.387Z"
      },
      {
        "duration": 31,
        "start_time": "2022-11-24T08:57:10.405Z"
      },
      {
        "duration": 130,
        "start_time": "2022-11-24T08:57:10.438Z"
      },
      {
        "duration": 0,
        "start_time": "2022-11-24T08:57:10.570Z"
      },
      {
        "duration": 0,
        "start_time": "2022-11-24T08:57:10.571Z"
      },
      {
        "duration": 11,
        "start_time": "2022-11-24T08:57:30.715Z"
      },
      {
        "duration": 20,
        "start_time": "2022-11-24T09:00:31.606Z"
      },
      {
        "duration": 15,
        "start_time": "2022-11-24T09:01:03.774Z"
      },
      {
        "duration": 16,
        "start_time": "2022-11-24T09:01:30.653Z"
      },
      {
        "duration": 15,
        "start_time": "2022-11-24T09:01:33.419Z"
      },
      {
        "duration": 15,
        "start_time": "2022-11-24T09:01:47.271Z"
      },
      {
        "duration": 1095,
        "start_time": "2022-11-24T09:03:00.725Z"
      },
      {
        "duration": 65,
        "start_time": "2022-11-24T09:03:01.821Z"
      },
      {
        "duration": 4,
        "start_time": "2022-11-24T09:03:01.888Z"
      },
      {
        "duration": 30,
        "start_time": "2022-11-24T09:03:01.894Z"
      },
      {
        "duration": 25,
        "start_time": "2022-11-24T09:03:01.925Z"
      },
      {
        "duration": 20,
        "start_time": "2022-11-24T09:03:01.952Z"
      },
      {
        "duration": 8,
        "start_time": "2022-11-24T09:03:01.974Z"
      },
      {
        "duration": 16,
        "start_time": "2022-11-24T09:03:01.984Z"
      },
      {
        "duration": 11,
        "start_time": "2022-11-24T09:03:02.001Z"
      },
      {
        "duration": 13,
        "start_time": "2022-11-24T09:03:02.014Z"
      },
      {
        "duration": 32,
        "start_time": "2022-11-24T09:03:02.028Z"
      },
      {
        "duration": 19,
        "start_time": "2022-11-24T09:03:02.062Z"
      },
      {
        "duration": 13,
        "start_time": "2022-11-24T09:03:02.083Z"
      },
      {
        "duration": 7,
        "start_time": "2022-11-24T09:03:02.098Z"
      },
      {
        "duration": 130,
        "start_time": "2022-11-24T09:03:02.107Z"
      },
      {
        "duration": 0,
        "start_time": "2022-11-24T09:03:02.240Z"
      },
      {
        "duration": 0,
        "start_time": "2022-11-24T09:03:02.241Z"
      },
      {
        "duration": 9,
        "start_time": "2022-11-24T09:03:54.834Z"
      },
      {
        "duration": 26,
        "start_time": "2022-11-24T09:04:07.869Z"
      },
      {
        "duration": 16,
        "start_time": "2022-11-24T09:04:24.848Z"
      },
      {
        "duration": 21,
        "start_time": "2022-11-24T09:05:12.508Z"
      },
      {
        "duration": 30,
        "start_time": "2022-11-24T09:05:20.406Z"
      },
      {
        "duration": 30,
        "start_time": "2022-11-24T09:05:48.712Z"
      },
      {
        "duration": 33,
        "start_time": "2022-11-24T09:06:18.471Z"
      },
      {
        "duration": 30,
        "start_time": "2022-11-24T09:07:26.908Z"
      },
      {
        "duration": 29,
        "start_time": "2022-11-24T09:07:45.213Z"
      },
      {
        "duration": 35,
        "start_time": "2022-11-24T09:07:51.488Z"
      },
      {
        "duration": 1134,
        "start_time": "2022-11-24T09:07:59.288Z"
      },
      {
        "duration": 51,
        "start_time": "2022-11-24T09:08:00.424Z"
      },
      {
        "duration": 5,
        "start_time": "2022-11-24T09:08:00.477Z"
      },
      {
        "duration": 8,
        "start_time": "2022-11-24T09:08:00.485Z"
      },
      {
        "duration": 30,
        "start_time": "2022-11-24T09:08:00.495Z"
      },
      {
        "duration": 15,
        "start_time": "2022-11-24T09:08:00.526Z"
      },
      {
        "duration": 12,
        "start_time": "2022-11-24T09:08:00.542Z"
      },
      {
        "duration": 25,
        "start_time": "2022-11-24T09:08:00.556Z"
      },
      {
        "duration": 21,
        "start_time": "2022-11-24T09:08:00.583Z"
      },
      {
        "duration": 18,
        "start_time": "2022-11-24T09:08:00.607Z"
      },
      {
        "duration": 14,
        "start_time": "2022-11-24T09:08:00.626Z"
      },
      {
        "duration": 15,
        "start_time": "2022-11-24T09:08:00.642Z"
      },
      {
        "duration": 26,
        "start_time": "2022-11-24T09:08:00.659Z"
      },
      {
        "duration": 21,
        "start_time": "2022-11-24T09:08:00.686Z"
      },
      {
        "duration": 43,
        "start_time": "2022-11-24T09:08:00.709Z"
      },
      {
        "duration": 109,
        "start_time": "2022-11-24T09:08:00.754Z"
      },
      {
        "duration": 0,
        "start_time": "2022-11-24T09:08:00.864Z"
      },
      {
        "duration": 0,
        "start_time": "2022-11-24T09:08:00.866Z"
      },
      {
        "duration": 27,
        "start_time": "2022-11-24T09:08:10.833Z"
      },
      {
        "duration": 58,
        "start_time": "2022-11-24T09:08:24.826Z"
      },
      {
        "duration": 29,
        "start_time": "2022-11-24T09:08:31.373Z"
      },
      {
        "duration": 5,
        "start_time": "2022-11-24T09:08:42.322Z"
      },
      {
        "duration": 233,
        "start_time": "2022-11-24T09:08:47.483Z"
      },
      {
        "duration": 4,
        "start_time": "2022-11-24T09:12:52.124Z"
      },
      {
        "duration": 8,
        "start_time": "2022-11-24T09:13:02.881Z"
      },
      {
        "duration": 36,
        "start_time": "2022-11-24T09:18:37.920Z"
      },
      {
        "duration": 313,
        "start_time": "2022-11-24T09:18:50.798Z"
      },
      {
        "duration": 3,
        "start_time": "2022-11-24T09:19:18.877Z"
      },
      {
        "duration": 5,
        "start_time": "2022-11-24T09:20:45.891Z"
      },
      {
        "duration": 6,
        "start_time": "2022-11-24T09:25:02.503Z"
      },
      {
        "duration": 8,
        "start_time": "2022-11-24T09:26:01.213Z"
      },
      {
        "duration": 4,
        "start_time": "2022-11-24T09:26:47.432Z"
      },
      {
        "duration": 8,
        "start_time": "2022-11-24T09:27:00.736Z"
      },
      {
        "duration": 9,
        "start_time": "2022-11-24T09:27:08.274Z"
      },
      {
        "duration": 7,
        "start_time": "2022-11-24T09:27:40.643Z"
      },
      {
        "duration": 4,
        "start_time": "2022-11-24T09:32:25.780Z"
      },
      {
        "duration": 7,
        "start_time": "2022-11-24T09:32:50.700Z"
      },
      {
        "duration": 8,
        "start_time": "2022-11-24T09:33:16.900Z"
      },
      {
        "duration": 5,
        "start_time": "2022-11-24T09:36:50.170Z"
      },
      {
        "duration": 26,
        "start_time": "2022-11-24T09:55:06.050Z"
      },
      {
        "duration": 30,
        "start_time": "2022-11-24T09:57:07.912Z"
      },
      {
        "duration": 30,
        "start_time": "2022-11-24T09:57:22.383Z"
      },
      {
        "duration": 33,
        "start_time": "2022-11-24T09:57:29.293Z"
      },
      {
        "duration": 12,
        "start_time": "2022-11-24T10:01:34.240Z"
      },
      {
        "duration": 18,
        "start_time": "2022-11-24T10:02:19.088Z"
      },
      {
        "duration": 12,
        "start_time": "2022-11-24T10:02:45.813Z"
      },
      {
        "duration": 6,
        "start_time": "2022-11-24T10:03:22.169Z"
      },
      {
        "duration": 6,
        "start_time": "2022-11-24T10:03:26.534Z"
      },
      {
        "duration": 1522,
        "start_time": "2022-11-24T10:03:57.005Z"
      },
      {
        "duration": 5,
        "start_time": "2022-11-24T10:04:04.484Z"
      },
      {
        "duration": 170,
        "start_time": "2022-11-24T10:05:57.436Z"
      },
      {
        "duration": 128,
        "start_time": "2022-11-24T10:06:19.690Z"
      },
      {
        "duration": 236,
        "start_time": "2022-11-24T10:07:14.270Z"
      },
      {
        "duration": 223,
        "start_time": "2022-11-24T10:07:45.283Z"
      },
      {
        "duration": 300,
        "start_time": "2022-11-24T10:07:54.712Z"
      },
      {
        "duration": 380,
        "start_time": "2022-11-24T10:09:17.330Z"
      },
      {
        "duration": 752,
        "start_time": "2022-11-24T10:41:06.855Z"
      },
      {
        "duration": 4,
        "start_time": "2022-11-24T10:41:22.441Z"
      },
      {
        "duration": 227,
        "start_time": "2022-11-24T10:41:27.779Z"
      },
      {
        "duration": 482,
        "start_time": "2022-11-24T10:41:46.324Z"
      },
      {
        "duration": 403,
        "start_time": "2022-11-24T10:41:56.924Z"
      },
      {
        "duration": 849,
        "start_time": "2022-11-24T10:42:03.272Z"
      },
      {
        "duration": 7,
        "start_time": "2022-11-24T10:42:09.850Z"
      },
      {
        "duration": 10,
        "start_time": "2022-11-24T10:42:33.274Z"
      },
      {
        "duration": 7,
        "start_time": "2022-11-24T10:45:55.700Z"
      },
      {
        "duration": 7,
        "start_time": "2022-11-24T10:46:23.246Z"
      },
      {
        "duration": 665,
        "start_time": "2022-11-24T10:46:31.371Z"
      },
      {
        "duration": 24,
        "start_time": "2022-11-24T10:46:50.243Z"
      },
      {
        "duration": 7,
        "start_time": "2022-11-24T10:46:55.740Z"
      },
      {
        "duration": 1082,
        "start_time": "2022-11-24T10:49:12.525Z"
      },
      {
        "duration": 122,
        "start_time": "2022-11-24T10:56:50.805Z"
      },
      {
        "duration": 4,
        "start_time": "2022-11-24T10:57:37.685Z"
      },
      {
        "duration": 4,
        "start_time": "2022-11-24T10:58:07.153Z"
      },
      {
        "duration": 3,
        "start_time": "2022-11-24T10:58:31.491Z"
      },
      {
        "duration": 128,
        "start_time": "2022-11-24T11:01:57.377Z"
      },
      {
        "duration": 184,
        "start_time": "2022-11-24T11:02:08.126Z"
      },
      {
        "duration": 1048,
        "start_time": "2022-11-24T11:02:12.290Z"
      },
      {
        "duration": 121,
        "start_time": "2022-11-24T11:02:13.418Z"
      },
      {
        "duration": 50,
        "start_time": "2022-11-24T11:03:15.689Z"
      },
      {
        "duration": 125,
        "start_time": "2022-11-24T11:03:45.780Z"
      },
      {
        "duration": 111,
        "start_time": "2022-11-24T11:03:57.603Z"
      },
      {
        "duration": 76,
        "start_time": "2022-11-24T11:04:07.834Z"
      },
      {
        "duration": 890,
        "start_time": "2022-11-24T11:04:25.730Z"
      },
      {
        "duration": 85,
        "start_time": "2022-11-24T11:07:09.325Z"
      },
      {
        "duration": 773,
        "start_time": "2022-11-24T11:10:04.181Z"
      },
      {
        "duration": 254420,
        "start_time": "2022-11-24T11:12:45.342Z"
      },
      {
        "duration": 6,
        "start_time": "2022-11-24T11:16:59.766Z"
      },
      {
        "duration": 108723,
        "start_time": "2022-11-24T11:17:53.072Z"
      },
      {
        "duration": 17285,
        "start_time": "2022-11-24T11:19:51.933Z"
      },
      {
        "duration": 6687,
        "start_time": "2022-11-24T11:21:06.492Z"
      },
      {
        "duration": 27309,
        "start_time": "2022-11-24T11:21:27.169Z"
      },
      {
        "duration": 146,
        "start_time": "2022-11-24T11:22:35.234Z"
      },
      {
        "duration": 49,
        "start_time": "2022-11-24T11:23:21.227Z"
      },
      {
        "duration": 75308,
        "start_time": "2022-11-24T11:23:36.885Z"
      },
      {
        "duration": 13,
        "start_time": "2022-11-24T11:26:07.035Z"
      },
      {
        "duration": 720,
        "start_time": "2022-11-24T11:27:22.925Z"
      },
      {
        "duration": 739,
        "start_time": "2022-11-24T11:28:11.403Z"
      },
      {
        "duration": 737,
        "start_time": "2022-11-24T11:28:30.993Z"
      },
      {
        "duration": 762,
        "start_time": "2022-11-24T11:28:46.522Z"
      },
      {
        "duration": 6,
        "start_time": "2022-11-24T11:32:13.631Z"
      },
      {
        "duration": 122,
        "start_time": "2022-11-24T11:33:14.194Z"
      },
      {
        "duration": 6,
        "start_time": "2022-11-24T11:33:18.038Z"
      },
      {
        "duration": 1109,
        "start_time": "2022-11-25T05:11:42.906Z"
      },
      {
        "duration": 3,
        "start_time": "2022-11-25T05:11:44.017Z"
      },
      {
        "duration": 415,
        "start_time": "2022-11-25T05:11:44.021Z"
      },
      {
        "duration": 17,
        "start_time": "2022-11-25T05:11:44.440Z"
      },
      {
        "duration": 5,
        "start_time": "2022-11-25T05:11:44.458Z"
      },
      {
        "duration": 13,
        "start_time": "2022-11-25T05:11:44.464Z"
      },
      {
        "duration": 6,
        "start_time": "2022-11-25T05:11:44.478Z"
      },
      {
        "duration": 6,
        "start_time": "2022-11-25T05:11:44.485Z"
      },
      {
        "duration": 16,
        "start_time": "2022-11-25T05:11:44.493Z"
      },
      {
        "duration": 9,
        "start_time": "2022-11-25T05:11:44.511Z"
      },
      {
        "duration": 40,
        "start_time": "2022-11-25T05:11:44.522Z"
      },
      {
        "duration": 9,
        "start_time": "2022-11-25T05:11:44.564Z"
      },
      {
        "duration": 7,
        "start_time": "2022-11-25T05:11:44.575Z"
      },
      {
        "duration": 7,
        "start_time": "2022-11-25T05:11:44.583Z"
      },
      {
        "duration": 6,
        "start_time": "2022-11-25T05:11:44.591Z"
      },
      {
        "duration": 119,
        "start_time": "2022-11-25T05:11:44.599Z"
      },
      {
        "duration": 0,
        "start_time": "2022-11-25T05:11:44.719Z"
      },
      {
        "duration": 0,
        "start_time": "2022-11-25T05:11:44.721Z"
      },
      {
        "duration": 0,
        "start_time": "2022-11-25T05:11:44.726Z"
      },
      {
        "duration": 0,
        "start_time": "2022-11-25T05:11:44.727Z"
      },
      {
        "duration": 0,
        "start_time": "2022-11-25T05:11:44.728Z"
      },
      {
        "duration": 0,
        "start_time": "2022-11-25T05:11:44.737Z"
      },
      {
        "duration": 1,
        "start_time": "2022-11-25T05:11:44.737Z"
      },
      {
        "duration": 0,
        "start_time": "2022-11-25T05:11:44.738Z"
      },
      {
        "duration": 0,
        "start_time": "2022-11-25T05:11:44.739Z"
      },
      {
        "duration": 45,
        "start_time": "2022-11-25T05:12:20.219Z"
      },
      {
        "duration": 33,
        "start_time": "2022-11-25T05:12:28.747Z"
      },
      {
        "duration": 27,
        "start_time": "2022-11-25T05:12:45.375Z"
      },
      {
        "duration": 33,
        "start_time": "2022-11-25T05:12:51.430Z"
      },
      {
        "duration": 59,
        "start_time": "2022-11-25T05:14:49.886Z"
      },
      {
        "duration": 1163,
        "start_time": "2022-11-25T05:16:13.060Z"
      },
      {
        "duration": 4,
        "start_time": "2022-11-25T05:16:14.225Z"
      },
      {
        "duration": 66,
        "start_time": "2022-11-25T05:16:14.231Z"
      },
      {
        "duration": 4,
        "start_time": "2022-11-25T05:16:14.300Z"
      },
      {
        "duration": 7,
        "start_time": "2022-11-25T05:16:14.306Z"
      },
      {
        "duration": 16,
        "start_time": "2022-11-25T05:16:14.315Z"
      },
      {
        "duration": 18,
        "start_time": "2022-11-25T05:16:14.332Z"
      },
      {
        "duration": 11,
        "start_time": "2022-11-25T05:16:14.351Z"
      },
      {
        "duration": 13,
        "start_time": "2022-11-25T05:16:14.363Z"
      },
      {
        "duration": 12,
        "start_time": "2022-11-25T05:16:14.380Z"
      },
      {
        "duration": 14,
        "start_time": "2022-11-25T05:16:14.395Z"
      },
      {
        "duration": 6,
        "start_time": "2022-11-25T05:16:14.411Z"
      },
      {
        "duration": 26,
        "start_time": "2022-11-25T05:16:14.419Z"
      },
      {
        "duration": 17,
        "start_time": "2022-11-25T05:16:14.447Z"
      },
      {
        "duration": 6,
        "start_time": "2022-11-25T05:16:14.466Z"
      },
      {
        "duration": 44,
        "start_time": "2022-11-25T05:16:14.473Z"
      },
      {
        "duration": 79,
        "start_time": "2022-11-25T05:16:14.518Z"
      },
      {
        "duration": 0,
        "start_time": "2022-11-25T05:16:14.599Z"
      },
      {
        "duration": 0,
        "start_time": "2022-11-25T05:16:14.600Z"
      },
      {
        "duration": 0,
        "start_time": "2022-11-25T05:16:14.602Z"
      },
      {
        "duration": 1,
        "start_time": "2022-11-25T05:16:14.603Z"
      },
      {
        "duration": 0,
        "start_time": "2022-11-25T05:16:14.605Z"
      },
      {
        "duration": 0,
        "start_time": "2022-11-25T05:16:14.606Z"
      },
      {
        "duration": 0,
        "start_time": "2022-11-25T05:16:14.608Z"
      },
      {
        "duration": 0,
        "start_time": "2022-11-25T05:16:14.609Z"
      },
      {
        "duration": 1145,
        "start_time": "2022-11-25T05:17:14.600Z"
      },
      {
        "duration": 7,
        "start_time": "2022-11-25T05:17:15.750Z"
      },
      {
        "duration": 61,
        "start_time": "2022-11-25T05:17:15.761Z"
      },
      {
        "duration": 8,
        "start_time": "2022-11-25T05:17:15.825Z"
      },
      {
        "duration": 34,
        "start_time": "2022-11-25T05:17:15.836Z"
      },
      {
        "duration": 18,
        "start_time": "2022-11-25T05:17:15.872Z"
      },
      {
        "duration": 9,
        "start_time": "2022-11-25T05:17:15.892Z"
      },
      {
        "duration": 4,
        "start_time": "2022-11-25T05:17:15.903Z"
      },
      {
        "duration": 14,
        "start_time": "2022-11-25T05:17:15.908Z"
      },
      {
        "duration": 8,
        "start_time": "2022-11-25T05:17:15.925Z"
      },
      {
        "duration": 30,
        "start_time": "2022-11-25T05:17:15.935Z"
      },
      {
        "duration": 6,
        "start_time": "2022-11-25T05:17:15.967Z"
      },
      {
        "duration": 6,
        "start_time": "2022-11-25T05:17:15.976Z"
      },
      {
        "duration": 5,
        "start_time": "2022-11-25T05:17:15.984Z"
      },
      {
        "duration": 7,
        "start_time": "2022-11-25T05:17:15.991Z"
      },
      {
        "duration": 160,
        "start_time": "2022-11-25T05:17:15.999Z"
      },
      {
        "duration": 0,
        "start_time": "2022-11-25T05:17:16.161Z"
      },
      {
        "duration": 0,
        "start_time": "2022-11-25T05:17:16.162Z"
      },
      {
        "duration": 0,
        "start_time": "2022-11-25T05:17:16.163Z"
      },
      {
        "duration": 0,
        "start_time": "2022-11-25T05:17:16.164Z"
      },
      {
        "duration": 0,
        "start_time": "2022-11-25T05:17:16.166Z"
      },
      {
        "duration": 0,
        "start_time": "2022-11-25T05:17:16.166Z"
      },
      {
        "duration": 0,
        "start_time": "2022-11-25T05:17:16.167Z"
      },
      {
        "duration": 0,
        "start_time": "2022-11-25T05:17:16.168Z"
      },
      {
        "duration": 0,
        "start_time": "2022-11-25T05:17:16.169Z"
      },
      {
        "duration": 39,
        "start_time": "2022-11-25T05:17:27.765Z"
      },
      {
        "duration": 1090,
        "start_time": "2022-11-25T05:17:49.407Z"
      },
      {
        "duration": 3,
        "start_time": "2022-11-25T05:17:50.499Z"
      },
      {
        "duration": 60,
        "start_time": "2022-11-25T05:17:50.503Z"
      },
      {
        "duration": 5,
        "start_time": "2022-11-25T05:17:50.565Z"
      },
      {
        "duration": 8,
        "start_time": "2022-11-25T05:17:50.571Z"
      },
      {
        "duration": 15,
        "start_time": "2022-11-25T05:17:50.580Z"
      },
      {
        "duration": 7,
        "start_time": "2022-11-25T05:17:50.597Z"
      },
      {
        "duration": 3,
        "start_time": "2022-11-25T05:17:50.606Z"
      },
      {
        "duration": 43,
        "start_time": "2022-11-25T05:17:50.611Z"
      },
      {
        "duration": 8,
        "start_time": "2022-11-25T05:17:50.657Z"
      },
      {
        "duration": 11,
        "start_time": "2022-11-25T05:17:50.667Z"
      },
      {
        "duration": 7,
        "start_time": "2022-11-25T05:17:50.680Z"
      },
      {
        "duration": 11,
        "start_time": "2022-11-25T05:17:50.689Z"
      },
      {
        "duration": 6,
        "start_time": "2022-11-25T05:17:50.702Z"
      },
      {
        "duration": 6,
        "start_time": "2022-11-25T05:17:50.710Z"
      },
      {
        "duration": 148,
        "start_time": "2022-11-25T05:17:50.718Z"
      },
      {
        "duration": 0,
        "start_time": "2022-11-25T05:17:50.868Z"
      },
      {
        "duration": 0,
        "start_time": "2022-11-25T05:17:50.869Z"
      },
      {
        "duration": 0,
        "start_time": "2022-11-25T05:17:50.870Z"
      },
      {
        "duration": 0,
        "start_time": "2022-11-25T05:17:50.872Z"
      },
      {
        "duration": 0,
        "start_time": "2022-11-25T05:17:50.872Z"
      },
      {
        "duration": 0,
        "start_time": "2022-11-25T05:17:50.873Z"
      },
      {
        "duration": 0,
        "start_time": "2022-11-25T05:17:50.874Z"
      },
      {
        "duration": 0,
        "start_time": "2022-11-25T05:17:50.875Z"
      },
      {
        "duration": 0,
        "start_time": "2022-11-25T05:17:50.876Z"
      },
      {
        "duration": 40,
        "start_time": "2022-11-25T05:18:21.304Z"
      },
      {
        "duration": 1108,
        "start_time": "2022-11-25T05:18:47.779Z"
      },
      {
        "duration": 2,
        "start_time": "2022-11-25T05:18:48.890Z"
      },
      {
        "duration": 76,
        "start_time": "2022-11-25T05:18:48.894Z"
      },
      {
        "duration": 5,
        "start_time": "2022-11-25T05:18:48.973Z"
      },
      {
        "duration": 14,
        "start_time": "2022-11-25T05:18:48.980Z"
      },
      {
        "duration": 19,
        "start_time": "2022-11-25T05:18:48.996Z"
      },
      {
        "duration": 24,
        "start_time": "2022-11-25T05:18:49.019Z"
      },
      {
        "duration": 38,
        "start_time": "2022-11-25T05:18:49.045Z"
      },
      {
        "duration": 20,
        "start_time": "2022-11-25T05:18:49.085Z"
      },
      {
        "duration": 15,
        "start_time": "2022-11-25T05:18:49.110Z"
      },
      {
        "duration": 15,
        "start_time": "2022-11-25T05:18:49.128Z"
      },
      {
        "duration": 28,
        "start_time": "2022-11-25T05:18:49.145Z"
      },
      {
        "duration": 16,
        "start_time": "2022-11-25T05:18:49.177Z"
      },
      {
        "duration": 10,
        "start_time": "2022-11-25T05:18:49.195Z"
      },
      {
        "duration": 9,
        "start_time": "2022-11-25T05:18:49.207Z"
      },
      {
        "duration": 43,
        "start_time": "2022-11-25T05:18:49.218Z"
      },
      {
        "duration": 72,
        "start_time": "2022-11-25T05:18:49.263Z"
      },
      {
        "duration": 0,
        "start_time": "2022-11-25T05:18:49.338Z"
      },
      {
        "duration": 0,
        "start_time": "2022-11-25T05:18:49.339Z"
      },
      {
        "duration": 0,
        "start_time": "2022-11-25T05:18:49.340Z"
      },
      {
        "duration": 0,
        "start_time": "2022-11-25T05:18:49.342Z"
      },
      {
        "duration": 0,
        "start_time": "2022-11-25T05:18:49.343Z"
      },
      {
        "duration": 0,
        "start_time": "2022-11-25T05:18:49.344Z"
      },
      {
        "duration": 0,
        "start_time": "2022-11-25T05:18:49.346Z"
      },
      {
        "duration": 0,
        "start_time": "2022-11-25T05:18:49.350Z"
      },
      {
        "duration": 1099,
        "start_time": "2022-11-25T05:20:30.071Z"
      },
      {
        "duration": 3,
        "start_time": "2022-11-25T05:20:31.173Z"
      },
      {
        "duration": 54,
        "start_time": "2022-11-25T05:20:31.177Z"
      },
      {
        "duration": 6,
        "start_time": "2022-11-25T05:20:31.233Z"
      },
      {
        "duration": 21,
        "start_time": "2022-11-25T05:20:31.240Z"
      },
      {
        "duration": 18,
        "start_time": "2022-11-25T05:20:31.262Z"
      },
      {
        "duration": 6,
        "start_time": "2022-11-25T05:20:31.281Z"
      },
      {
        "duration": 10,
        "start_time": "2022-11-25T05:20:31.289Z"
      },
      {
        "duration": 16,
        "start_time": "2022-11-25T05:20:31.300Z"
      },
      {
        "duration": 10,
        "start_time": "2022-11-25T05:20:31.320Z"
      },
      {
        "duration": 27,
        "start_time": "2022-11-25T05:20:31.331Z"
      },
      {
        "duration": 13,
        "start_time": "2022-11-25T05:20:31.360Z"
      },
      {
        "duration": 13,
        "start_time": "2022-11-25T05:20:31.375Z"
      },
      {
        "duration": 6,
        "start_time": "2022-11-25T05:20:31.390Z"
      },
      {
        "duration": 7,
        "start_time": "2022-11-25T05:20:31.397Z"
      },
      {
        "duration": 123,
        "start_time": "2022-11-25T05:20:31.406Z"
      },
      {
        "duration": 0,
        "start_time": "2022-11-25T05:20:31.530Z"
      },
      {
        "duration": 0,
        "start_time": "2022-11-25T05:20:31.532Z"
      },
      {
        "duration": 0,
        "start_time": "2022-11-25T05:20:31.532Z"
      },
      {
        "duration": 0,
        "start_time": "2022-11-25T05:20:31.534Z"
      },
      {
        "duration": 0,
        "start_time": "2022-11-25T05:20:31.537Z"
      },
      {
        "duration": 0,
        "start_time": "2022-11-25T05:20:31.538Z"
      },
      {
        "duration": 0,
        "start_time": "2022-11-25T05:20:31.539Z"
      },
      {
        "duration": 1,
        "start_time": "2022-11-25T05:20:31.539Z"
      },
      {
        "duration": 0,
        "start_time": "2022-11-25T05:20:31.540Z"
      },
      {
        "duration": 26,
        "start_time": "2022-11-25T05:20:52.925Z"
      },
      {
        "duration": 22,
        "start_time": "2022-11-25T05:21:12.731Z"
      },
      {
        "duration": 21,
        "start_time": "2022-11-25T05:22:22.085Z"
      },
      {
        "duration": 21,
        "start_time": "2022-11-25T05:22:29.217Z"
      },
      {
        "duration": 14,
        "start_time": "2022-11-25T05:22:44.154Z"
      },
      {
        "duration": 22,
        "start_time": "2022-11-25T05:23:08.780Z"
      },
      {
        "duration": 18,
        "start_time": "2022-11-25T05:23:18.106Z"
      },
      {
        "duration": 18,
        "start_time": "2022-11-25T05:23:42.216Z"
      },
      {
        "duration": 1155,
        "start_time": "2022-11-25T05:24:43.629Z"
      },
      {
        "duration": 2,
        "start_time": "2022-11-25T05:24:44.786Z"
      },
      {
        "duration": 56,
        "start_time": "2022-11-25T05:24:44.790Z"
      },
      {
        "duration": 4,
        "start_time": "2022-11-25T05:24:44.849Z"
      },
      {
        "duration": 6,
        "start_time": "2022-11-25T05:24:44.855Z"
      },
      {
        "duration": 11,
        "start_time": "2022-11-25T05:24:44.863Z"
      },
      {
        "duration": 6,
        "start_time": "2022-11-25T05:24:44.876Z"
      },
      {
        "duration": 6,
        "start_time": "2022-11-25T05:24:44.883Z"
      },
      {
        "duration": 12,
        "start_time": "2022-11-25T05:24:44.891Z"
      },
      {
        "duration": 43,
        "start_time": "2022-11-25T05:24:44.906Z"
      },
      {
        "duration": 12,
        "start_time": "2022-11-25T05:24:44.951Z"
      },
      {
        "duration": 8,
        "start_time": "2022-11-25T05:24:44.964Z"
      },
      {
        "duration": 10,
        "start_time": "2022-11-25T05:24:44.974Z"
      },
      {
        "duration": 6,
        "start_time": "2022-11-25T05:24:44.985Z"
      },
      {
        "duration": 7,
        "start_time": "2022-11-25T05:24:44.992Z"
      },
      {
        "duration": 46,
        "start_time": "2022-11-25T05:24:45.001Z"
      },
      {
        "duration": 43,
        "start_time": "2022-11-25T05:24:45.049Z"
      },
      {
        "duration": 7,
        "start_time": "2022-11-25T05:24:45.094Z"
      },
      {
        "duration": 85,
        "start_time": "2022-11-25T05:24:45.103Z"
      },
      {
        "duration": 0,
        "start_time": "2022-11-25T05:24:45.190Z"
      },
      {
        "duration": 0,
        "start_time": "2022-11-25T05:24:45.191Z"
      },
      {
        "duration": 0,
        "start_time": "2022-11-25T05:24:45.192Z"
      },
      {
        "duration": 0,
        "start_time": "2022-11-25T05:24:45.194Z"
      },
      {
        "duration": 0,
        "start_time": "2022-11-25T05:24:45.195Z"
      },
      {
        "duration": 0,
        "start_time": "2022-11-25T05:24:45.196Z"
      },
      {
        "duration": 0,
        "start_time": "2022-11-25T05:24:45.197Z"
      },
      {
        "duration": 0,
        "start_time": "2022-11-25T05:24:45.199Z"
      },
      {
        "duration": 1128,
        "start_time": "2022-11-25T05:26:51.725Z"
      },
      {
        "duration": 3,
        "start_time": "2022-11-25T05:26:52.855Z"
      },
      {
        "duration": 54,
        "start_time": "2022-11-25T05:26:52.860Z"
      },
      {
        "duration": 4,
        "start_time": "2022-11-25T05:26:52.916Z"
      },
      {
        "duration": 8,
        "start_time": "2022-11-25T05:26:52.921Z"
      },
      {
        "duration": 18,
        "start_time": "2022-11-25T05:26:52.930Z"
      },
      {
        "duration": 8,
        "start_time": "2022-11-25T05:26:52.952Z"
      },
      {
        "duration": 5,
        "start_time": "2022-11-25T05:26:52.962Z"
      },
      {
        "duration": 13,
        "start_time": "2022-11-25T05:26:52.968Z"
      },
      {
        "duration": 8,
        "start_time": "2022-11-25T05:26:52.984Z"
      },
      {
        "duration": 12,
        "start_time": "2022-11-25T05:26:52.994Z"
      },
      {
        "duration": 10,
        "start_time": "2022-11-25T05:26:53.007Z"
      },
      {
        "duration": 25,
        "start_time": "2022-11-25T05:26:53.019Z"
      },
      {
        "duration": 9,
        "start_time": "2022-11-25T05:26:53.046Z"
      },
      {
        "duration": 6,
        "start_time": "2022-11-25T05:26:53.057Z"
      },
      {
        "duration": 8,
        "start_time": "2022-11-25T05:26:53.065Z"
      },
      {
        "duration": 123,
        "start_time": "2022-11-25T05:26:53.075Z"
      },
      {
        "duration": 0,
        "start_time": "2022-11-25T05:26:53.200Z"
      },
      {
        "duration": 0,
        "start_time": "2022-11-25T05:26:53.201Z"
      },
      {
        "duration": 0,
        "start_time": "2022-11-25T05:26:53.202Z"
      },
      {
        "duration": 0,
        "start_time": "2022-11-25T05:26:53.203Z"
      },
      {
        "duration": 0,
        "start_time": "2022-11-25T05:26:53.204Z"
      },
      {
        "duration": 0,
        "start_time": "2022-11-25T05:26:53.205Z"
      },
      {
        "duration": 0,
        "start_time": "2022-11-25T05:26:53.206Z"
      },
      {
        "duration": 0,
        "start_time": "2022-11-25T05:26:53.206Z"
      },
      {
        "duration": 0,
        "start_time": "2022-11-25T05:26:53.207Z"
      },
      {
        "duration": 0,
        "start_time": "2022-11-25T05:26:53.208Z"
      },
      {
        "duration": 39,
        "start_time": "2022-11-25T05:27:07.589Z"
      },
      {
        "duration": 15,
        "start_time": "2022-11-25T05:27:15.137Z"
      },
      {
        "duration": 1181,
        "start_time": "2022-11-25T05:27:20.712Z"
      },
      {
        "duration": 3,
        "start_time": "2022-11-25T05:27:21.895Z"
      },
      {
        "duration": 67,
        "start_time": "2022-11-25T05:27:21.899Z"
      },
      {
        "duration": 4,
        "start_time": "2022-11-25T05:27:21.968Z"
      },
      {
        "duration": 10,
        "start_time": "2022-11-25T05:27:21.973Z"
      },
      {
        "duration": 11,
        "start_time": "2022-11-25T05:27:21.985Z"
      },
      {
        "duration": 6,
        "start_time": "2022-11-25T05:27:21.997Z"
      },
      {
        "duration": 5,
        "start_time": "2022-11-25T05:27:22.004Z"
      },
      {
        "duration": 39,
        "start_time": "2022-11-25T05:27:22.011Z"
      },
      {
        "duration": 11,
        "start_time": "2022-11-25T05:27:22.053Z"
      },
      {
        "duration": 15,
        "start_time": "2022-11-25T05:27:22.066Z"
      },
      {
        "duration": 8,
        "start_time": "2022-11-25T05:27:22.083Z"
      },
      {
        "duration": 7,
        "start_time": "2022-11-25T05:27:22.093Z"
      },
      {
        "duration": 5,
        "start_time": "2022-11-25T05:27:22.101Z"
      },
      {
        "duration": 7,
        "start_time": "2022-11-25T05:27:22.108Z"
      },
      {
        "duration": 36,
        "start_time": "2022-11-25T05:27:22.116Z"
      },
      {
        "duration": 45,
        "start_time": "2022-11-25T05:27:22.154Z"
      },
      {
        "duration": 7,
        "start_time": "2022-11-25T05:27:22.202Z"
      },
      {
        "duration": 76,
        "start_time": "2022-11-25T05:27:22.211Z"
      },
      {
        "duration": 0,
        "start_time": "2022-11-25T05:27:22.288Z"
      },
      {
        "duration": 0,
        "start_time": "2022-11-25T05:27:22.289Z"
      },
      {
        "duration": 0,
        "start_time": "2022-11-25T05:27:22.290Z"
      },
      {
        "duration": 0,
        "start_time": "2022-11-25T05:27:22.291Z"
      },
      {
        "duration": 0,
        "start_time": "2022-11-25T05:27:22.292Z"
      },
      {
        "duration": 0,
        "start_time": "2022-11-25T05:27:22.293Z"
      },
      {
        "duration": 0,
        "start_time": "2022-11-25T05:27:22.294Z"
      },
      {
        "duration": 1,
        "start_time": "2022-11-25T05:27:22.295Z"
      },
      {
        "duration": 37,
        "start_time": "2022-11-25T05:27:45.107Z"
      },
      {
        "duration": 8,
        "start_time": "2022-11-25T05:27:49.505Z"
      },
      {
        "duration": 1070,
        "start_time": "2022-11-25T05:28:20.096Z"
      },
      {
        "duration": 3,
        "start_time": "2022-11-25T05:28:21.168Z"
      },
      {
        "duration": 56,
        "start_time": "2022-11-25T05:28:21.172Z"
      },
      {
        "duration": 4,
        "start_time": "2022-11-25T05:28:21.230Z"
      },
      {
        "duration": 6,
        "start_time": "2022-11-25T05:28:21.236Z"
      },
      {
        "duration": 12,
        "start_time": "2022-11-25T05:28:21.244Z"
      },
      {
        "duration": 6,
        "start_time": "2022-11-25T05:28:21.257Z"
      },
      {
        "duration": 5,
        "start_time": "2022-11-25T05:28:21.265Z"
      },
      {
        "duration": 19,
        "start_time": "2022-11-25T05:28:21.271Z"
      },
      {
        "duration": 9,
        "start_time": "2022-11-25T05:28:21.292Z"
      },
      {
        "duration": 35,
        "start_time": "2022-11-25T05:28:21.303Z"
      },
      {
        "duration": 7,
        "start_time": "2022-11-25T05:28:21.340Z"
      },
      {
        "duration": 9,
        "start_time": "2022-11-25T05:28:21.348Z"
      },
      {
        "duration": 14,
        "start_time": "2022-11-25T05:28:21.359Z"
      },
      {
        "duration": 9,
        "start_time": "2022-11-25T05:28:21.374Z"
      },
      {
        "duration": 10,
        "start_time": "2022-11-25T05:28:21.384Z"
      },
      {
        "duration": 55,
        "start_time": "2022-11-25T05:28:21.396Z"
      },
      {
        "duration": 7,
        "start_time": "2022-11-25T05:28:21.453Z"
      },
      {
        "duration": 71,
        "start_time": "2022-11-25T05:28:21.462Z"
      },
      {
        "duration": 0,
        "start_time": "2022-11-25T05:28:21.534Z"
      },
      {
        "duration": 0,
        "start_time": "2022-11-25T05:28:21.535Z"
      },
      {
        "duration": 0,
        "start_time": "2022-11-25T05:28:21.536Z"
      },
      {
        "duration": 0,
        "start_time": "2022-11-25T05:28:21.537Z"
      },
      {
        "duration": 0,
        "start_time": "2022-11-25T05:28:21.538Z"
      },
      {
        "duration": 0,
        "start_time": "2022-11-25T05:28:21.539Z"
      },
      {
        "duration": 0,
        "start_time": "2022-11-25T05:28:21.541Z"
      },
      {
        "duration": 0,
        "start_time": "2022-11-25T05:28:21.542Z"
      },
      {
        "duration": 29,
        "start_time": "2022-11-25T05:31:01.559Z"
      },
      {
        "duration": 1132,
        "start_time": "2022-11-25T05:31:15.708Z"
      },
      {
        "duration": 2,
        "start_time": "2022-11-25T05:31:16.842Z"
      },
      {
        "duration": 53,
        "start_time": "2022-11-25T05:31:16.845Z"
      },
      {
        "duration": 4,
        "start_time": "2022-11-25T05:31:16.901Z"
      },
      {
        "duration": 5,
        "start_time": "2022-11-25T05:31:16.906Z"
      },
      {
        "duration": 15,
        "start_time": "2022-11-25T05:31:16.913Z"
      },
      {
        "duration": 4,
        "start_time": "2022-11-25T05:31:16.930Z"
      },
      {
        "duration": 7,
        "start_time": "2022-11-25T05:31:16.936Z"
      },
      {
        "duration": 13,
        "start_time": "2022-11-25T05:31:16.945Z"
      },
      {
        "duration": 9,
        "start_time": "2022-11-25T05:31:16.961Z"
      },
      {
        "duration": 12,
        "start_time": "2022-11-25T05:31:16.971Z"
      },
      {
        "duration": 8,
        "start_time": "2022-11-25T05:31:16.984Z"
      },
      {
        "duration": 6,
        "start_time": "2022-11-25T05:31:16.993Z"
      },
      {
        "duration": 5,
        "start_time": "2022-11-25T05:31:17.001Z"
      },
      {
        "duration": 32,
        "start_time": "2022-11-25T05:31:17.007Z"
      },
      {
        "duration": 31,
        "start_time": "2022-11-25T05:31:17.041Z"
      },
      {
        "duration": 72,
        "start_time": "2022-11-25T05:31:17.073Z"
      },
      {
        "duration": 0,
        "start_time": "2022-11-25T05:31:17.146Z"
      },
      {
        "duration": 0,
        "start_time": "2022-11-25T05:31:17.148Z"
      },
      {
        "duration": 0,
        "start_time": "2022-11-25T05:31:17.149Z"
      },
      {
        "duration": 0,
        "start_time": "2022-11-25T05:31:17.150Z"
      },
      {
        "duration": 0,
        "start_time": "2022-11-25T05:31:17.152Z"
      },
      {
        "duration": 0,
        "start_time": "2022-11-25T05:31:17.153Z"
      },
      {
        "duration": 0,
        "start_time": "2022-11-25T05:31:17.155Z"
      },
      {
        "duration": 0,
        "start_time": "2022-11-25T05:31:17.156Z"
      },
      {
        "duration": 0,
        "start_time": "2022-11-25T05:31:17.157Z"
      },
      {
        "duration": 5,
        "start_time": "2022-11-25T05:31:20.951Z"
      },
      {
        "duration": 8,
        "start_time": "2022-11-25T05:31:23.290Z"
      },
      {
        "duration": 278,
        "start_time": "2022-11-25T05:31:25.266Z"
      },
      {
        "duration": 284,
        "start_time": "2022-11-25T05:31:42.357Z"
      },
      {
        "duration": 52,
        "start_time": "2022-11-25T05:31:45.689Z"
      },
      {
        "duration": 76,
        "start_time": "2022-11-25T05:31:55.661Z"
      },
      {
        "duration": 42,
        "start_time": "2022-11-25T05:32:02.525Z"
      },
      {
        "duration": 15457,
        "start_time": "2022-11-25T05:32:11.497Z"
      },
      {
        "duration": 23934,
        "start_time": "2022-11-25T05:32:26.956Z"
      },
      {
        "duration": 680,
        "start_time": "2022-11-25T05:33:16.565Z"
      },
      {
        "duration": 676,
        "start_time": "2022-11-25T05:33:41.920Z"
      },
      {
        "duration": 7,
        "start_time": "2022-11-25T05:34:03.095Z"
      },
      {
        "duration": 4,
        "start_time": "2022-11-25T05:34:46.246Z"
      },
      {
        "duration": 14,
        "start_time": "2022-11-25T05:35:18.319Z"
      },
      {
        "duration": 14,
        "start_time": "2022-11-25T05:38:03.365Z"
      },
      {
        "duration": 180,
        "start_time": "2022-11-25T05:38:46.115Z"
      },
      {
        "duration": 13,
        "start_time": "2022-11-25T05:38:57.673Z"
      },
      {
        "duration": 20613,
        "start_time": "2022-11-25T05:39:01.020Z"
      },
      {
        "duration": 838,
        "start_time": "2022-11-25T05:39:33.927Z"
      },
      {
        "duration": 34123,
        "start_time": "2022-11-25T05:39:50.619Z"
      },
      {
        "duration": 32984,
        "start_time": "2022-11-25T05:40:44.183Z"
      },
      {
        "duration": 921,
        "start_time": "2022-11-25T05:41:47.481Z"
      },
      {
        "duration": 32,
        "start_time": "2022-11-25T06:41:24.426Z"
      },
      {
        "duration": 74,
        "start_time": "2022-11-25T06:44:48.908Z"
      },
      {
        "duration": 676,
        "start_time": "2022-11-25T06:45:40.267Z"
      },
      {
        "duration": 58,
        "start_time": "2022-11-25T06:46:06.440Z"
      },
      {
        "duration": 21703,
        "start_time": "2022-11-25T06:46:53.497Z"
      },
      {
        "duration": 13,
        "start_time": "2022-11-25T06:47:23.753Z"
      },
      {
        "duration": 298,
        "start_time": "2022-11-25T06:48:58.756Z"
      },
      {
        "duration": 93,
        "start_time": "2022-11-25T06:49:28.946Z"
      },
      {
        "duration": 21464,
        "start_time": "2022-11-25T06:51:34.607Z"
      },
      {
        "duration": 99,
        "start_time": "2022-11-25T06:52:11.040Z"
      },
      {
        "duration": 12,
        "start_time": "2022-11-25T06:55:08.458Z"
      },
      {
        "duration": 156,
        "start_time": "2022-11-25T07:26:46.813Z"
      },
      {
        "duration": 113,
        "start_time": "2022-11-25T07:27:57.877Z"
      },
      {
        "duration": 12,
        "start_time": "2022-11-25T07:28:12.052Z"
      },
      {
        "duration": 92,
        "start_time": "2022-11-25T07:29:52.451Z"
      },
      {
        "duration": 104,
        "start_time": "2022-11-25T07:32:39.055Z"
      },
      {
        "duration": 4,
        "start_time": "2022-11-25T07:33:12.718Z"
      },
      {
        "duration": 130,
        "start_time": "2022-11-25T07:33:47.954Z"
      },
      {
        "duration": 2681,
        "start_time": "2022-11-25T07:34:30.059Z"
      },
      {
        "duration": 13,
        "start_time": "2022-11-25T07:35:32.168Z"
      },
      {
        "duration": 12,
        "start_time": "2022-11-25T07:35:39.855Z"
      },
      {
        "duration": 128,
        "start_time": "2022-11-25T07:35:53.527Z"
      },
      {
        "duration": 3647,
        "start_time": "2022-11-25T07:36:02.255Z"
      },
      {
        "duration": 44391,
        "start_time": "2022-11-25T07:37:22.008Z"
      },
      {
        "duration": 57617,
        "start_time": "2022-11-25T07:38:11.307Z"
      },
      {
        "duration": 37107,
        "start_time": "2022-11-25T07:39:10.032Z"
      },
      {
        "duration": 83,
        "start_time": "2022-11-25T07:41:53.766Z"
      },
      {
        "duration": 456,
        "start_time": "2022-11-25T07:52:43.685Z"
      },
      {
        "duration": 580,
        "start_time": "2022-11-25T07:53:41.365Z"
      },
      {
        "duration": 13,
        "start_time": "2022-11-25T08:02:20.317Z"
      },
      {
        "duration": 12,
        "start_time": "2022-11-25T08:03:23.374Z"
      },
      {
        "duration": 32173,
        "start_time": "2022-11-25T08:03:33.914Z"
      },
      {
        "duration": 185,
        "start_time": "2022-11-25T08:05:13.987Z"
      },
      {
        "duration": 537,
        "start_time": "2022-11-25T08:08:41.503Z"
      },
      {
        "duration": 6,
        "start_time": "2022-11-25T08:08:43.260Z"
      },
      {
        "duration": 10,
        "start_time": "2022-11-25T08:09:09.617Z"
      },
      {
        "duration": 32,
        "start_time": "2022-11-25T08:09:18.267Z"
      },
      {
        "duration": 139,
        "start_time": "2022-11-25T08:10:14.129Z"
      },
      {
        "duration": 32986,
        "start_time": "2022-11-25T08:11:06.726Z"
      },
      {
        "duration": 65,
        "start_time": "2022-11-25T08:14:44.687Z"
      },
      {
        "duration": 193744,
        "start_time": "2022-11-25T08:32:04.904Z"
      },
      {
        "duration": 1251,
        "start_time": "2022-11-25T08:37:16.165Z"
      },
      {
        "duration": 11,
        "start_time": "2022-11-25T08:37:17.419Z"
      },
      {
        "duration": 89,
        "start_time": "2022-11-25T08:37:17.432Z"
      },
      {
        "duration": 5,
        "start_time": "2022-11-25T08:37:17.522Z"
      },
      {
        "duration": 6,
        "start_time": "2022-11-25T08:37:17.529Z"
      },
      {
        "duration": 42,
        "start_time": "2022-11-25T08:37:17.536Z"
      },
      {
        "duration": 7,
        "start_time": "2022-11-25T08:37:17.579Z"
      },
      {
        "duration": 5,
        "start_time": "2022-11-25T08:37:17.587Z"
      },
      {
        "duration": 21,
        "start_time": "2022-11-25T08:37:17.594Z"
      },
      {
        "duration": 11,
        "start_time": "2022-11-25T08:37:17.617Z"
      },
      {
        "duration": 17,
        "start_time": "2022-11-25T08:37:17.630Z"
      },
      {
        "duration": 27,
        "start_time": "2022-11-25T08:37:17.649Z"
      },
      {
        "duration": 8,
        "start_time": "2022-11-25T08:37:17.677Z"
      },
      {
        "duration": 5,
        "start_time": "2022-11-25T08:37:17.689Z"
      },
      {
        "duration": 9,
        "start_time": "2022-11-25T08:37:17.695Z"
      },
      {
        "duration": 48,
        "start_time": "2022-11-25T08:37:17.706Z"
      },
      {
        "duration": 17,
        "start_time": "2022-11-25T08:37:17.757Z"
      },
      {
        "duration": 12,
        "start_time": "2022-11-25T08:37:17.777Z"
      },
      {
        "duration": 549,
        "start_time": "2022-11-25T08:37:17.790Z"
      },
      {
        "duration": 95,
        "start_time": "2022-11-25T08:37:18.344Z"
      },
      {
        "duration": 35712,
        "start_time": "2022-11-25T08:37:18.440Z"
      },
      {
        "duration": 80,
        "start_time": "2022-11-25T08:37:54.162Z"
      },
      {
        "duration": 32778,
        "start_time": "2022-11-25T08:37:54.244Z"
      },
      {
        "duration": 114,
        "start_time": "2022-11-25T08:38:27.023Z"
      },
      {
        "duration": 24273,
        "start_time": "2022-11-25T08:38:27.139Z"
      },
      {
        "duration": 37910,
        "start_time": "2022-11-25T08:38:51.414Z"
      },
      {
        "duration": 1015,
        "start_time": "2022-11-25T08:39:29.326Z"
      },
      {
        "duration": 62,
        "start_time": "2022-11-25T08:39:30.342Z"
      },
      {
        "duration": 86493,
        "start_time": "2022-11-25T08:39:30.405Z"
      },
      {
        "duration": 6,
        "start_time": "2022-11-25T08:40:56.900Z"
      },
      {
        "duration": 484174,
        "start_time": "2022-11-25T08:40:56.908Z"
      },
      {
        "duration": 30391,
        "start_time": "2022-11-25T08:55:09.216Z"
      },
      {
        "duration": 20,
        "start_time": "2022-11-25T08:56:36.582Z"
      },
      {
        "duration": 1662,
        "start_time": "2022-11-25T13:37:59.775Z"
      },
      {
        "duration": 115,
        "start_time": "2022-11-25T13:38:09.521Z"
      },
      {
        "duration": 1447,
        "start_time": "2022-11-25T13:38:26.497Z"
      },
      {
        "duration": 3,
        "start_time": "2022-11-25T13:38:27.945Z"
      },
      {
        "duration": 495,
        "start_time": "2022-11-25T13:38:27.949Z"
      },
      {
        "duration": 4,
        "start_time": "2022-11-25T13:38:28.446Z"
      },
      {
        "duration": 35,
        "start_time": "2022-11-25T13:38:28.452Z"
      },
      {
        "duration": 9,
        "start_time": "2022-11-25T13:38:28.489Z"
      },
      {
        "duration": 6,
        "start_time": "2022-11-25T13:38:28.500Z"
      },
      {
        "duration": 5,
        "start_time": "2022-11-25T13:38:28.508Z"
      },
      {
        "duration": 14,
        "start_time": "2022-11-25T13:38:28.514Z"
      },
      {
        "duration": 10,
        "start_time": "2022-11-25T13:38:28.530Z"
      },
      {
        "duration": 36,
        "start_time": "2022-11-25T13:38:28.541Z"
      },
      {
        "duration": 17,
        "start_time": "2022-11-25T13:38:28.579Z"
      },
      {
        "duration": 7,
        "start_time": "2022-11-25T13:38:28.598Z"
      },
      {
        "duration": 6,
        "start_time": "2022-11-25T13:38:28.607Z"
      },
      {
        "duration": 9,
        "start_time": "2022-11-25T13:38:28.614Z"
      },
      {
        "duration": 53,
        "start_time": "2022-11-25T13:38:28.624Z"
      },
      {
        "duration": 2196,
        "start_time": "2022-11-25T13:38:28.678Z"
      },
      {
        "duration": 86,
        "start_time": "2022-11-25T13:38:30.876Z"
      },
      {
        "duration": 0,
        "start_time": "2022-11-25T13:38:30.964Z"
      },
      {
        "duration": 0,
        "start_time": "2022-11-25T13:38:30.965Z"
      },
      {
        "duration": 0,
        "start_time": "2022-11-25T13:38:30.966Z"
      },
      {
        "duration": 0,
        "start_time": "2022-11-25T13:38:30.968Z"
      },
      {
        "duration": 0,
        "start_time": "2022-11-25T13:38:30.978Z"
      },
      {
        "duration": 0,
        "start_time": "2022-11-25T13:38:30.979Z"
      },
      {
        "duration": 0,
        "start_time": "2022-11-25T13:38:30.980Z"
      },
      {
        "duration": 0,
        "start_time": "2022-11-25T13:38:30.982Z"
      },
      {
        "duration": 0,
        "start_time": "2022-11-25T13:38:30.983Z"
      },
      {
        "duration": 0,
        "start_time": "2022-11-25T13:38:30.985Z"
      },
      {
        "duration": 0,
        "start_time": "2022-11-25T13:38:30.986Z"
      },
      {
        "duration": 251,
        "start_time": "2022-11-25T13:38:54.602Z"
      },
      {
        "duration": 1401,
        "start_time": "2022-11-25T13:40:12.701Z"
      },
      {
        "duration": 7,
        "start_time": "2022-11-25T13:50:08.285Z"
      },
      {
        "duration": 550,
        "start_time": "2022-11-25T13:50:10.803Z"
      },
      {
        "duration": 1453,
        "start_time": "2022-11-25T13:51:17.923Z"
      },
      {
        "duration": 2,
        "start_time": "2022-11-25T13:51:19.378Z"
      },
      {
        "duration": 56,
        "start_time": "2022-11-25T13:51:19.381Z"
      },
      {
        "duration": 4,
        "start_time": "2022-11-25T13:51:19.439Z"
      },
      {
        "duration": 9,
        "start_time": "2022-11-25T13:51:19.444Z"
      },
      {
        "duration": 10,
        "start_time": "2022-11-25T13:51:19.454Z"
      },
      {
        "duration": 7,
        "start_time": "2022-11-25T13:51:19.466Z"
      },
      {
        "duration": 5,
        "start_time": "2022-11-25T13:51:19.474Z"
      },
      {
        "duration": 14,
        "start_time": "2022-11-25T13:51:19.480Z"
      },
      {
        "duration": 9,
        "start_time": "2022-11-25T13:51:19.497Z"
      },
      {
        "duration": 12,
        "start_time": "2022-11-25T13:51:19.507Z"
      },
      {
        "duration": 32,
        "start_time": "2022-11-25T13:51:19.521Z"
      },
      {
        "duration": 9,
        "start_time": "2022-11-25T13:51:19.554Z"
      },
      {
        "duration": 5,
        "start_time": "2022-11-25T13:51:19.564Z"
      },
      {
        "duration": 4,
        "start_time": "2022-11-25T13:51:19.571Z"
      },
      {
        "duration": 38,
        "start_time": "2022-11-25T13:51:19.577Z"
      },
      {
        "duration": 1331,
        "start_time": "2022-11-25T13:51:19.616Z"
      },
      {
        "duration": 6,
        "start_time": "2022-11-25T13:51:20.949Z"
      },
      {
        "duration": 296,
        "start_time": "2022-11-25T13:51:20.957Z"
      },
      {
        "duration": 100,
        "start_time": "2022-11-25T13:51:21.255Z"
      },
      {
        "duration": 34408,
        "start_time": "2022-11-25T13:51:21.356Z"
      },
      {
        "duration": 95,
        "start_time": "2022-11-25T13:51:55.766Z"
      },
      {
        "duration": 27153,
        "start_time": "2022-11-25T13:51:55.863Z"
      },
      {
        "duration": 56,
        "start_time": "2022-11-25T13:52:23.018Z"
      },
      {
        "duration": 20195,
        "start_time": "2022-11-25T13:52:23.151Z"
      },
      {
        "duration": 32698,
        "start_time": "2022-11-25T13:52:43.352Z"
      },
      {
        "duration": 907,
        "start_time": "2022-11-25T13:53:16.052Z"
      },
      {
        "duration": 74,
        "start_time": "2022-11-25T13:53:16.963Z"
      },
      {
        "duration": 14,
        "start_time": "2022-11-25T13:53:17.039Z"
      },
      {
        "duration": 1547,
        "start_time": "2022-11-26T12:03:54.403Z"
      },
      {
        "duration": 1406,
        "start_time": "2022-11-26T12:07:04.958Z"
      },
      {
        "duration": 3,
        "start_time": "2022-11-26T12:07:06.366Z"
      },
      {
        "duration": 185,
        "start_time": "2022-11-26T12:07:06.370Z"
      },
      {
        "duration": 5,
        "start_time": "2022-11-26T12:07:06.557Z"
      },
      {
        "duration": 27,
        "start_time": "2022-11-26T12:07:06.563Z"
      },
      {
        "duration": 49,
        "start_time": "2022-11-26T12:07:06.591Z"
      },
      {
        "duration": 28,
        "start_time": "2022-11-26T12:07:06.642Z"
      },
      {
        "duration": 39,
        "start_time": "2022-11-26T12:07:06.671Z"
      },
      {
        "duration": 28,
        "start_time": "2022-11-26T12:07:06.712Z"
      },
      {
        "duration": 17,
        "start_time": "2022-11-26T12:07:06.743Z"
      },
      {
        "duration": 28,
        "start_time": "2022-11-26T12:07:06.762Z"
      },
      {
        "duration": 19,
        "start_time": "2022-11-26T12:07:06.792Z"
      },
      {
        "duration": 41,
        "start_time": "2022-11-26T12:07:06.812Z"
      },
      {
        "duration": 27,
        "start_time": "2022-11-26T12:07:06.854Z"
      },
      {
        "duration": 23,
        "start_time": "2022-11-26T12:07:06.883Z"
      },
      {
        "duration": 75,
        "start_time": "2022-11-26T12:07:06.908Z"
      },
      {
        "duration": 1995,
        "start_time": "2022-11-26T12:07:06.984Z"
      },
      {
        "duration": 5,
        "start_time": "2022-11-26T12:07:08.981Z"
      },
      {
        "duration": 291,
        "start_time": "2022-11-26T12:07:08.988Z"
      },
      {
        "duration": 106,
        "start_time": "2022-11-26T12:07:09.281Z"
      },
      {
        "duration": 27,
        "start_time": "2022-11-26T12:07:09.389Z"
      },
      {
        "duration": 0,
        "start_time": "2022-11-26T12:07:09.417Z"
      },
      {
        "duration": 0,
        "start_time": "2022-11-26T12:07:09.419Z"
      },
      {
        "duration": 0,
        "start_time": "2022-11-26T12:07:09.420Z"
      },
      {
        "duration": 0,
        "start_time": "2022-11-26T12:07:09.421Z"
      },
      {
        "duration": 0,
        "start_time": "2022-11-26T12:07:09.422Z"
      },
      {
        "duration": 0,
        "start_time": "2022-11-26T12:07:09.423Z"
      },
      {
        "duration": 0,
        "start_time": "2022-11-26T12:07:09.424Z"
      },
      {
        "duration": 0,
        "start_time": "2022-11-26T12:07:09.425Z"
      },
      {
        "duration": 3,
        "start_time": "2022-11-26T12:09:03.293Z"
      },
      {
        "duration": 605,
        "start_time": "2022-11-26T12:09:31.662Z"
      },
      {
        "duration": 136,
        "start_time": "2022-11-26T12:09:49.004Z"
      },
      {
        "duration": 44,
        "start_time": "2022-11-26T12:10:19.380Z"
      },
      {
        "duration": 45,
        "start_time": "2022-11-26T12:10:24.920Z"
      },
      {
        "duration": 946,
        "start_time": "2022-11-26T12:10:58.120Z"
      },
      {
        "duration": 630,
        "start_time": "2022-11-26T12:11:56.022Z"
      },
      {
        "duration": 827,
        "start_time": "2022-11-26T12:12:35.131Z"
      },
      {
        "duration": 8,
        "start_time": "2022-11-26T12:13:33.774Z"
      },
      {
        "duration": 849,
        "start_time": "2022-11-26T12:13:44.829Z"
      },
      {
        "duration": 5,
        "start_time": "2022-11-26T12:15:15.506Z"
      },
      {
        "duration": 6,
        "start_time": "2022-11-26T12:15:45.224Z"
      },
      {
        "duration": 7,
        "start_time": "2022-11-26T12:15:55.336Z"
      },
      {
        "duration": 34931,
        "start_time": "2022-11-26T12:16:42.060Z"
      },
      {
        "duration": 101,
        "start_time": "2022-11-26T12:17:17.077Z"
      },
      {
        "duration": 3,
        "start_time": "2022-11-26T12:17:47.399Z"
      },
      {
        "duration": 221,
        "start_time": "2022-11-26T12:25:30.030Z"
      },
      {
        "duration": 140,
        "start_time": "2022-11-26T12:25:52.343Z"
      },
      {
        "duration": 130,
        "start_time": "2022-11-26T12:25:56.565Z"
      },
      {
        "duration": 156,
        "start_time": "2022-11-26T12:26:10.162Z"
      },
      {
        "duration": 12,
        "start_time": "2022-11-26T12:26:26.270Z"
      },
      {
        "duration": 139,
        "start_time": "2022-11-26T12:26:32.939Z"
      },
      {
        "duration": 133,
        "start_time": "2022-11-26T12:26:40.354Z"
      },
      {
        "duration": 4,
        "start_time": "2022-11-26T12:29:35.150Z"
      },
      {
        "duration": 74,
        "start_time": "2022-11-26T12:29:51.621Z"
      },
      {
        "duration": 89,
        "start_time": "2022-11-26T12:29:55.503Z"
      },
      {
        "duration": 87,
        "start_time": "2022-11-26T12:31:21.399Z"
      },
      {
        "duration": 184,
        "start_time": "2022-11-26T12:32:07.100Z"
      },
      {
        "duration": 51,
        "start_time": "2022-11-26T12:32:16.437Z"
      },
      {
        "duration": 121,
        "start_time": "2022-11-26T12:32:21.561Z"
      },
      {
        "duration": 175,
        "start_time": "2022-11-26T12:33:36.213Z"
      },
      {
        "duration": 164,
        "start_time": "2022-11-26T12:34:00.225Z"
      },
      {
        "duration": 69,
        "start_time": "2022-11-26T12:36:03.826Z"
      },
      {
        "duration": 95,
        "start_time": "2022-11-26T12:36:43.396Z"
      },
      {
        "duration": 63,
        "start_time": "2022-11-26T12:36:46.517Z"
      },
      {
        "duration": 4,
        "start_time": "2022-11-26T12:42:20.124Z"
      },
      {
        "duration": 123,
        "start_time": "2022-11-26T12:43:12.267Z"
      },
      {
        "duration": 3,
        "start_time": "2022-11-26T12:43:33.469Z"
      },
      {
        "duration": 4,
        "start_time": "2022-11-26T12:43:36.051Z"
      },
      {
        "duration": 32,
        "start_time": "2022-11-26T12:43:38.642Z"
      },
      {
        "duration": 31,
        "start_time": "2022-11-26T12:43:45.476Z"
      },
      {
        "duration": 168,
        "start_time": "2022-11-26T12:43:50.812Z"
      },
      {
        "duration": 89,
        "start_time": "2022-11-26T12:43:51.689Z"
      },
      {
        "duration": 4,
        "start_time": "2022-11-26T12:44:10.194Z"
      },
      {
        "duration": 93,
        "start_time": "2022-11-26T12:44:28.686Z"
      },
      {
        "duration": 47,
        "start_time": "2022-11-26T12:44:31.131Z"
      },
      {
        "duration": 119,
        "start_time": "2022-11-26T12:44:32.560Z"
      },
      {
        "duration": 31,
        "start_time": "2022-11-26T13:48:07.588Z"
      },
      {
        "duration": 85,
        "start_time": "2022-11-26T13:52:28.096Z"
      },
      {
        "duration": 75,
        "start_time": "2022-11-26T13:52:33.706Z"
      },
      {
        "duration": 27408,
        "start_time": "2022-11-26T13:53:47.497Z"
      },
      {
        "duration": 42,
        "start_time": "2022-11-26T13:54:14.907Z"
      },
      {
        "duration": 20212,
        "start_time": "2022-11-26T13:54:19.066Z"
      },
      {
        "duration": 46102,
        "start_time": "2022-11-26T13:55:29.742Z"
      },
      {
        "duration": 939,
        "start_time": "2022-11-26T13:56:40.475Z"
      },
      {
        "duration": 50371,
        "start_time": "2022-11-26T13:57:33.214Z"
      },
      {
        "duration": 921,
        "start_time": "2022-11-26T13:58:40.130Z"
      },
      {
        "duration": 794,
        "start_time": "2022-11-26T14:02:15.296Z"
      },
      {
        "duration": 5,
        "start_time": "2022-11-26T14:02:37.809Z"
      },
      {
        "duration": 898,
        "start_time": "2022-11-26T14:04:24.133Z"
      },
      {
        "duration": 4,
        "start_time": "2022-11-26T14:04:35.479Z"
      },
      {
        "duration": 1047,
        "start_time": "2022-11-26T14:04:36.238Z"
      },
      {
        "duration": 5,
        "start_time": "2022-11-26T14:04:43.060Z"
      },
      {
        "duration": 1051,
        "start_time": "2022-11-26T14:04:43.830Z"
      },
      {
        "duration": 4,
        "start_time": "2022-11-26T14:04:50.613Z"
      },
      {
        "duration": 947,
        "start_time": "2022-11-26T14:04:51.195Z"
      },
      {
        "duration": 4,
        "start_time": "2022-11-26T14:05:10.979Z"
      },
      {
        "duration": 844,
        "start_time": "2022-11-26T14:05:11.456Z"
      },
      {
        "duration": 5,
        "start_time": "2022-11-26T14:05:17.803Z"
      },
      {
        "duration": 976,
        "start_time": "2022-11-26T14:05:18.245Z"
      },
      {
        "duration": 4,
        "start_time": "2022-11-26T14:05:23.782Z"
      },
      {
        "duration": 869,
        "start_time": "2022-11-26T14:05:24.402Z"
      },
      {
        "duration": 11,
        "start_time": "2022-11-26T14:06:28.123Z"
      },
      {
        "duration": 10,
        "start_time": "2022-11-26T14:08:22.872Z"
      },
      {
        "duration": 199,
        "start_time": "2022-11-26T14:08:31.484Z"
      },
      {
        "duration": 10,
        "start_time": "2022-11-26T14:08:33.059Z"
      },
      {
        "duration": 336,
        "start_time": "2022-11-26T14:09:41.056Z"
      },
      {
        "duration": 288,
        "start_time": "2022-11-26T14:10:18.993Z"
      },
      {
        "duration": 444,
        "start_time": "2022-11-26T14:10:19.483Z"
      },
      {
        "duration": 96,
        "start_time": "2022-11-26T14:10:23.196Z"
      },
      {
        "duration": 911,
        "start_time": "2022-11-26T14:10:23.792Z"
      },
      {
        "duration": 760,
        "start_time": "2022-11-26T14:10:34.159Z"
      },
      {
        "duration": 927,
        "start_time": "2022-11-26T14:10:35.170Z"
      },
      {
        "duration": 798,
        "start_time": "2022-11-26T14:10:41.133Z"
      },
      {
        "duration": 926,
        "start_time": "2022-11-26T14:10:42.104Z"
      },
      {
        "duration": 770,
        "start_time": "2022-11-26T14:10:46.747Z"
      },
      {
        "duration": 958,
        "start_time": "2022-11-26T14:10:47.519Z"
      },
      {
        "duration": 3,
        "start_time": "2022-11-26T14:18:50.223Z"
      },
      {
        "duration": 5,
        "start_time": "2022-11-26T14:18:54.538Z"
      },
      {
        "duration": 55,
        "start_time": "2022-11-26T14:35:34.808Z"
      },
      {
        "duration": 5,
        "start_time": "2022-11-26T14:36:02.149Z"
      },
      {
        "duration": 5,
        "start_time": "2022-11-26T14:36:22.661Z"
      },
      {
        "duration": 223,
        "start_time": "2022-11-26T14:36:32.158Z"
      },
      {
        "duration": 5,
        "start_time": "2022-11-26T14:38:17.492Z"
      },
      {
        "duration": 13,
        "start_time": "2022-11-26T14:38:35.746Z"
      },
      {
        "duration": 4,
        "start_time": "2022-11-26T14:39:25.425Z"
      },
      {
        "duration": 12,
        "start_time": "2022-11-26T14:39:34.006Z"
      },
      {
        "duration": 5,
        "start_time": "2022-11-26T14:40:21.911Z"
      },
      {
        "duration": 207,
        "start_time": "2022-11-26T14:40:55.953Z"
      },
      {
        "duration": 10,
        "start_time": "2022-11-26T14:41:54.140Z"
      },
      {
        "duration": 4,
        "start_time": "2022-11-26T14:42:17.300Z"
      },
      {
        "duration": 9,
        "start_time": "2022-11-26T14:43:05.793Z"
      },
      {
        "duration": 9,
        "start_time": "2022-11-26T14:43:16.074Z"
      },
      {
        "duration": 13,
        "start_time": "2022-11-26T14:43:42.783Z"
      },
      {
        "duration": 4,
        "start_time": "2022-11-26T14:44:17.808Z"
      },
      {
        "duration": 66,
        "start_time": "2022-11-26T14:44:25.984Z"
      },
      {
        "duration": 72,
        "start_time": "2022-11-26T14:44:30.147Z"
      },
      {
        "duration": 3,
        "start_time": "2022-11-26T14:44:36.929Z"
      },
      {
        "duration": 19,
        "start_time": "2022-11-26T14:44:48.277Z"
      },
      {
        "duration": 10,
        "start_time": "2022-11-26T14:45:34.522Z"
      },
      {
        "duration": 4,
        "start_time": "2022-11-26T14:45:42.230Z"
      },
      {
        "duration": 3,
        "start_time": "2022-11-26T14:45:51.341Z"
      },
      {
        "duration": 4,
        "start_time": "2022-11-26T14:48:53.611Z"
      },
      {
        "duration": 35137,
        "start_time": "2022-11-26T14:57:03.942Z"
      },
      {
        "duration": 50,
        "start_time": "2022-11-26T14:58:14.574Z"
      },
      {
        "duration": 836,
        "start_time": "2022-11-26T14:58:48.589Z"
      },
      {
        "duration": 4,
        "start_time": "2022-11-26T14:59:05.509Z"
      },
      {
        "duration": 980,
        "start_time": "2022-11-26T14:59:10.187Z"
      },
      {
        "duration": 55,
        "start_time": "2022-11-26T14:59:18.536Z"
      },
      {
        "duration": 802,
        "start_time": "2022-11-26T14:59:31.378Z"
      },
      {
        "duration": 46,
        "start_time": "2022-11-26T14:59:38.900Z"
      },
      {
        "duration": 771,
        "start_time": "2022-11-26T15:00:17.179Z"
      },
      {
        "duration": 44,
        "start_time": "2022-11-26T15:00:32.773Z"
      },
      {
        "duration": 33590,
        "start_time": "2022-11-26T15:00:51.899Z"
      },
      {
        "duration": 739,
        "start_time": "2022-11-26T15:01:41.396Z"
      },
      {
        "duration": 42,
        "start_time": "2022-11-26T15:01:44.522Z"
      },
      {
        "duration": 141030,
        "start_time": "2022-11-26T15:10:31.395Z"
      },
      {
        "duration": 74026,
        "start_time": "2022-11-26T15:13:12.351Z"
      },
      {
        "duration": 613,
        "start_time": "2022-11-26T15:18:48.329Z"
      },
      {
        "duration": 46,
        "start_time": "2022-11-26T15:19:13.937Z"
      },
      {
        "duration": 44,
        "start_time": "2022-11-26T15:19:25.517Z"
      },
      {
        "duration": 233,
        "start_time": "2022-11-26T15:20:49.849Z"
      },
      {
        "duration": 260,
        "start_time": "2022-11-26T15:21:18.728Z"
      },
      {
        "duration": 243,
        "start_time": "2022-11-26T15:21:31.536Z"
      },
      {
        "duration": 188,
        "start_time": "2022-11-26T15:23:58.598Z"
      },
      {
        "duration": 176,
        "start_time": "2022-11-26T15:25:36.103Z"
      },
      {
        "duration": 28,
        "start_time": "2022-11-26T15:26:05.988Z"
      },
      {
        "duration": 28,
        "start_time": "2022-11-26T15:26:23.682Z"
      },
      {
        "duration": 118,
        "start_time": "2022-11-26T15:26:34.866Z"
      },
      {
        "duration": 84,
        "start_time": "2022-11-26T15:26:59.095Z"
      },
      {
        "duration": 29,
        "start_time": "2022-11-26T15:27:15.012Z"
      },
      {
        "duration": 36,
        "start_time": "2022-11-26T15:27:20.742Z"
      },
      {
        "duration": 11,
        "start_time": "2022-11-26T15:28:08.716Z"
      },
      {
        "duration": 13,
        "start_time": "2022-11-26T15:28:37.275Z"
      },
      {
        "duration": 27,
        "start_time": "2022-11-26T15:30:07.420Z"
      },
      {
        "duration": 26,
        "start_time": "2022-11-26T15:30:17.535Z"
      },
      {
        "duration": 11,
        "start_time": "2022-11-26T15:31:39.244Z"
      },
      {
        "duration": 38,
        "start_time": "2022-11-26T15:31:42.761Z"
      },
      {
        "duration": 52,
        "start_time": "2022-11-26T15:33:20.927Z"
      },
      {
        "duration": 27,
        "start_time": "2022-11-26T15:33:29.751Z"
      },
      {
        "duration": 25056,
        "start_time": "2022-11-26T15:35:34.531Z"
      },
      {
        "duration": 53,
        "start_time": "2022-11-26T15:36:30.501Z"
      },
      {
        "duration": 43,
        "start_time": "2022-11-26T15:37:35.848Z"
      },
      {
        "duration": 32,
        "start_time": "2022-11-26T15:38:06.950Z"
      },
      {
        "duration": 37,
        "start_time": "2022-11-26T15:38:54.205Z"
      },
      {
        "duration": 28331,
        "start_time": "2022-11-26T15:39:32.616Z"
      },
      {
        "duration": 649,
        "start_time": "2022-11-26T15:41:09.983Z"
      },
      {
        "duration": 45,
        "start_time": "2022-11-26T15:41:23.723Z"
      },
      {
        "duration": 768,
        "start_time": "2022-11-26T15:41:45.060Z"
      },
      {
        "duration": 45,
        "start_time": "2022-11-26T15:41:48.175Z"
      },
      {
        "duration": 844,
        "start_time": "2022-11-26T15:43:20.288Z"
      },
      {
        "duration": 46,
        "start_time": "2022-11-26T15:43:23.500Z"
      },
      {
        "duration": 778,
        "start_time": "2022-11-26T15:43:45.744Z"
      },
      {
        "duration": 33311,
        "start_time": "2022-11-26T15:44:06.574Z"
      },
      {
        "duration": 599,
        "start_time": "2022-11-26T15:44:48.230Z"
      },
      {
        "duration": 40,
        "start_time": "2022-11-26T15:44:52.866Z"
      },
      {
        "duration": 42,
        "start_time": "2022-11-26T15:44:59.336Z"
      },
      {
        "duration": 905,
        "start_time": "2022-11-26T15:45:01.263Z"
      },
      {
        "duration": 47,
        "start_time": "2022-11-26T15:45:04.545Z"
      },
      {
        "duration": 25584,
        "start_time": "2022-11-26T15:45:23.438Z"
      },
      {
        "duration": 25,
        "start_time": "2022-11-26T15:47:43.682Z"
      },
      {
        "duration": 15,
        "start_time": "2022-11-26T15:47:50.561Z"
      },
      {
        "duration": 126,
        "start_time": "2022-11-26T15:48:03.766Z"
      },
      {
        "duration": 4,
        "start_time": "2022-11-26T15:49:22.623Z"
      },
      {
        "duration": 31,
        "start_time": "2022-11-26T15:50:56.589Z"
      },
      {
        "duration": 114,
        "start_time": "2022-11-26T15:51:16.365Z"
      },
      {
        "duration": 28,
        "start_time": "2022-11-26T15:53:06.193Z"
      },
      {
        "duration": 95,
        "start_time": "2022-11-26T15:53:15.383Z"
      },
      {
        "duration": 23,
        "start_time": "2022-11-26T15:56:58.293Z"
      },
      {
        "duration": 100,
        "start_time": "2022-11-26T15:57:07.781Z"
      },
      {
        "duration": 32,
        "start_time": "2022-11-26T15:57:42.484Z"
      },
      {
        "duration": 58,
        "start_time": "2022-11-26T15:57:50.519Z"
      },
      {
        "duration": 71,
        "start_time": "2022-11-26T15:58:03.514Z"
      },
      {
        "duration": 30,
        "start_time": "2022-11-26T15:58:04.248Z"
      },
      {
        "duration": 82,
        "start_time": "2022-11-26T15:59:34.496Z"
      },
      {
        "duration": 5,
        "start_time": "2022-11-26T15:59:50.949Z"
      },
      {
        "duration": 49,
        "start_time": "2022-11-26T16:00:11.840Z"
      },
      {
        "duration": 78,
        "start_time": "2022-11-26T16:00:57.000Z"
      },
      {
        "duration": 15,
        "start_time": "2022-11-26T16:01:17.336Z"
      },
      {
        "duration": 12,
        "start_time": "2022-11-26T16:01:47.013Z"
      },
      {
        "duration": 44,
        "start_time": "2022-11-26T16:02:33.234Z"
      },
      {
        "duration": 99,
        "start_time": "2022-11-26T16:03:16.179Z"
      },
      {
        "duration": 79,
        "start_time": "2022-11-26T16:03:33.402Z"
      },
      {
        "duration": 81,
        "start_time": "2022-11-26T16:03:45.499Z"
      },
      {
        "duration": 24,
        "start_time": "2022-11-26T16:04:40.811Z"
      },
      {
        "duration": 1393,
        "start_time": "2022-11-26T16:05:27.663Z"
      },
      {
        "duration": 3,
        "start_time": "2022-11-26T16:05:29.058Z"
      },
      {
        "duration": 61,
        "start_time": "2022-11-26T16:05:29.062Z"
      },
      {
        "duration": 5,
        "start_time": "2022-11-26T16:05:29.125Z"
      },
      {
        "duration": 11,
        "start_time": "2022-11-26T16:05:29.131Z"
      },
      {
        "duration": 17,
        "start_time": "2022-11-26T16:05:29.144Z"
      },
      {
        "duration": 28,
        "start_time": "2022-11-26T16:05:29.163Z"
      },
      {
        "duration": 39,
        "start_time": "2022-11-26T16:05:29.193Z"
      },
      {
        "duration": 36,
        "start_time": "2022-11-26T16:05:29.233Z"
      },
      {
        "duration": 19,
        "start_time": "2022-11-26T16:05:29.271Z"
      },
      {
        "duration": 32,
        "start_time": "2022-11-26T16:05:29.292Z"
      },
      {
        "duration": 26,
        "start_time": "2022-11-26T16:05:29.325Z"
      },
      {
        "duration": 18,
        "start_time": "2022-11-26T16:05:29.353Z"
      },
      {
        "duration": 24,
        "start_time": "2022-11-26T16:05:29.374Z"
      },
      {
        "duration": 23,
        "start_time": "2022-11-26T16:05:29.399Z"
      },
      {
        "duration": 41,
        "start_time": "2022-11-26T16:05:29.424Z"
      },
      {
        "duration": 1381,
        "start_time": "2022-11-26T16:05:29.467Z"
      },
      {
        "duration": 171,
        "start_time": "2022-11-26T16:05:30.850Z"
      },
      {
        "duration": 159,
        "start_time": "2022-11-26T16:05:31.023Z"
      },
      {
        "duration": 4,
        "start_time": "2022-11-26T16:05:31.184Z"
      },
      {
        "duration": 25,
        "start_time": "2022-11-26T16:05:31.278Z"
      },
      {
        "duration": 122,
        "start_time": "2022-11-26T16:05:31.379Z"
      },
      {
        "duration": 172,
        "start_time": "2022-11-26T16:05:31.578Z"
      },
      {
        "duration": 127,
        "start_time": "2022-11-26T16:05:31.751Z"
      },
      {
        "duration": 5,
        "start_time": "2022-11-26T16:05:31.880Z"
      },
      {
        "duration": 197,
        "start_time": "2022-11-26T16:05:31.887Z"
      },
      {
        "duration": 35194,
        "start_time": "2022-11-26T16:05:32.086Z"
      },
      {
        "duration": 22,
        "start_time": "2022-11-26T16:06:07.281Z"
      },
      {
        "duration": 83,
        "start_time": "2022-11-26T16:06:07.304Z"
      },
      {
        "duration": 429,
        "start_time": "2022-11-26T16:06:07.388Z"
      },
      {
        "duration": 24030,
        "start_time": "2022-11-26T16:06:07.878Z"
      },
      {
        "duration": 26871,
        "start_time": "2022-11-26T16:06:31.910Z"
      },
      {
        "duration": 48,
        "start_time": "2022-11-26T16:06:58.783Z"
      },
      {
        "duration": 56,
        "start_time": "2022-11-26T16:06:58.833Z"
      },
      {
        "duration": 33,
        "start_time": "2022-11-26T16:06:58.891Z"
      },
      {
        "duration": 34791,
        "start_time": "2022-11-26T16:06:58.926Z"
      },
      {
        "duration": 829,
        "start_time": "2022-11-26T16:07:33.719Z"
      },
      {
        "duration": 53,
        "start_time": "2022-11-26T16:07:34.549Z"
      },
      {
        "duration": 145,
        "start_time": "2022-11-26T16:07:34.603Z"
      },
      {
        "duration": 1,
        "start_time": "2022-11-26T16:07:34.749Z"
      },
      {
        "duration": 47,
        "start_time": "2022-11-26T16:08:01.732Z"
      },
      {
        "duration": 4,
        "start_time": "2022-11-26T16:09:29.417Z"
      },
      {
        "duration": 211,
        "start_time": "2022-11-26T16:09:34.843Z"
      },
      {
        "duration": 42,
        "start_time": "2022-11-26T16:09:42.518Z"
      },
      {
        "duration": 1467,
        "start_time": "2022-11-26T16:15:28.778Z"
      },
      {
        "duration": 5,
        "start_time": "2022-11-26T16:17:42.694Z"
      },
      {
        "duration": 1415,
        "start_time": "2022-11-26T16:17:49.824Z"
      },
      {
        "duration": 3,
        "start_time": "2022-11-26T16:17:51.241Z"
      },
      {
        "duration": 61,
        "start_time": "2022-11-26T16:17:51.245Z"
      },
      {
        "duration": 4,
        "start_time": "2022-11-26T16:17:51.308Z"
      },
      {
        "duration": 9,
        "start_time": "2022-11-26T16:17:51.314Z"
      },
      {
        "duration": 8,
        "start_time": "2022-11-26T16:17:51.325Z"
      },
      {
        "duration": 12,
        "start_time": "2022-11-26T16:17:51.335Z"
      },
      {
        "duration": 14,
        "start_time": "2022-11-26T16:17:51.349Z"
      },
      {
        "duration": 6,
        "start_time": "2022-11-26T16:17:51.380Z"
      },
      {
        "duration": 43,
        "start_time": "2022-11-26T16:17:51.394Z"
      },
      {
        "duration": 10,
        "start_time": "2022-11-26T16:17:51.439Z"
      },
      {
        "duration": 15,
        "start_time": "2022-11-26T16:17:51.451Z"
      },
      {
        "duration": 1360,
        "start_time": "2022-11-26T16:17:51.468Z"
      },
      {
        "duration": 6,
        "start_time": "2022-11-26T16:17:52.830Z"
      },
      {
        "duration": 10,
        "start_time": "2022-11-26T16:17:52.838Z"
      },
      {
        "duration": 12,
        "start_time": "2022-11-26T16:17:52.850Z"
      },
      {
        "duration": 35,
        "start_time": "2022-11-26T16:17:52.865Z"
      },
      {
        "duration": 59,
        "start_time": "2022-11-26T16:17:52.902Z"
      },
      {
        "duration": 1375,
        "start_time": "2022-11-26T16:17:52.963Z"
      },
      {
        "duration": 170,
        "start_time": "2022-11-26T16:17:54.340Z"
      },
      {
        "duration": 583,
        "start_time": "2022-11-26T16:17:54.512Z"
      },
      {
        "duration": 7,
        "start_time": "2022-11-26T16:17:55.102Z"
      },
      {
        "duration": 177,
        "start_time": "2022-11-26T16:17:55.111Z"
      },
      {
        "duration": 194,
        "start_time": "2022-11-26T16:17:55.295Z"
      },
      {
        "duration": 90,
        "start_time": "2022-11-26T16:17:55.491Z"
      },
      {
        "duration": 46,
        "start_time": "2022-11-26T16:17:55.582Z"
      },
      {
        "duration": 11,
        "start_time": "2022-11-26T16:17:55.694Z"
      },
      {
        "duration": 184,
        "start_time": "2022-11-26T16:17:55.714Z"
      },
      {
        "duration": 8487,
        "start_time": "2022-11-26T16:17:55.906Z"
      },
      {
        "duration": 19,
        "start_time": "2022-11-26T16:18:04.396Z"
      },
      {
        "duration": 74,
        "start_time": "2022-11-26T16:18:04.416Z"
      },
      {
        "duration": 7497,
        "start_time": "2022-11-26T16:18:04.492Z"
      },
      {
        "duration": 46,
        "start_time": "2022-11-26T16:18:11.994Z"
      },
      {
        "duration": 7059,
        "start_time": "2022-11-26T16:18:12.042Z"
      },
      {
        "duration": 901,
        "start_time": "2022-11-26T16:18:19.103Z"
      },
      {
        "duration": 296,
        "start_time": "2022-11-26T16:18:20.006Z"
      },
      {
        "duration": 53,
        "start_time": "2022-11-26T16:18:20.304Z"
      },
      {
        "duration": 886,
        "start_time": "2022-11-26T16:19:00.495Z"
      },
      {
        "duration": 46,
        "start_time": "2022-11-26T16:19:07.095Z"
      },
      {
        "duration": 1325,
        "start_time": "2022-11-26T16:19:43.002Z"
      },
      {
        "duration": 52,
        "start_time": "2022-11-26T16:19:56.534Z"
      },
      {
        "duration": 1274,
        "start_time": "2022-11-26T16:19:58.038Z"
      },
      {
        "duration": 16,
        "start_time": "2022-11-26T16:21:05.422Z"
      },
      {
        "duration": 4,
        "start_time": "2022-11-26T16:21:11.946Z"
      },
      {
        "duration": 9,
        "start_time": "2022-11-26T16:21:15.827Z"
      },
      {
        "duration": 14,
        "start_time": "2022-11-26T16:21:18.954Z"
      },
      {
        "duration": 1918,
        "start_time": "2022-11-26T16:21:31.113Z"
      },
      {
        "duration": 1490,
        "start_time": "2022-11-26T16:21:58.225Z"
      },
      {
        "duration": 2,
        "start_time": "2022-11-26T16:21:59.717Z"
      },
      {
        "duration": 66,
        "start_time": "2022-11-26T16:21:59.721Z"
      },
      {
        "duration": 5,
        "start_time": "2022-11-26T16:21:59.795Z"
      },
      {
        "duration": 8,
        "start_time": "2022-11-26T16:21:59.803Z"
      },
      {
        "duration": 17,
        "start_time": "2022-11-26T16:21:59.813Z"
      },
      {
        "duration": 6,
        "start_time": "2022-11-26T16:21:59.832Z"
      },
      {
        "duration": 5,
        "start_time": "2022-11-26T16:21:59.840Z"
      },
      {
        "duration": 14,
        "start_time": "2022-11-26T16:21:59.847Z"
      },
      {
        "duration": 25,
        "start_time": "2022-11-26T16:21:59.863Z"
      },
      {
        "duration": 25,
        "start_time": "2022-11-26T16:21:59.890Z"
      },
      {
        "duration": 13,
        "start_time": "2022-11-26T16:21:59.916Z"
      },
      {
        "duration": 10,
        "start_time": "2022-11-26T16:21:59.931Z"
      },
      {
        "duration": 7,
        "start_time": "2022-11-26T16:21:59.944Z"
      },
      {
        "duration": 10,
        "start_time": "2022-11-26T16:21:59.953Z"
      },
      {
        "duration": 52,
        "start_time": "2022-11-26T16:21:59.965Z"
      },
      {
        "duration": 1630,
        "start_time": "2022-11-26T16:22:00.018Z"
      },
      {
        "duration": 178,
        "start_time": "2022-11-26T16:22:01.650Z"
      },
      {
        "duration": 247,
        "start_time": "2022-11-26T16:22:01.830Z"
      },
      {
        "duration": 98,
        "start_time": "2022-11-26T16:22:02.084Z"
      },
      {
        "duration": 95,
        "start_time": "2022-11-26T16:22:02.187Z"
      },
      {
        "duration": 292,
        "start_time": "2022-11-26T16:22:02.291Z"
      },
      {
        "duration": 98,
        "start_time": "2022-11-26T16:22:02.585Z"
      },
      {
        "duration": 95,
        "start_time": "2022-11-26T16:22:02.689Z"
      },
      {
        "duration": 109,
        "start_time": "2022-11-26T16:22:02.786Z"
      },
      {
        "duration": 103,
        "start_time": "2022-11-26T16:22:02.899Z"
      },
      {
        "duration": 31135,
        "start_time": "2022-11-26T16:22:03.084Z"
      },
      {
        "duration": 28,
        "start_time": "2022-11-26T16:22:34.288Z"
      },
      {
        "duration": 68,
        "start_time": "2022-11-26T16:22:34.318Z"
      },
      {
        "duration": 30531,
        "start_time": "2022-11-26T16:22:34.388Z"
      },
      {
        "duration": 69,
        "start_time": "2022-11-26T16:23:04.921Z"
      },
      {
        "duration": 33988,
        "start_time": "2022-11-26T16:23:04.999Z"
      },
      {
        "duration": 847,
        "start_time": "2022-11-26T16:23:38.989Z"
      },
      {
        "duration": 243,
        "start_time": "2022-11-26T16:23:39.838Z"
      },
      {
        "duration": 49,
        "start_time": "2022-11-26T16:23:40.083Z"
      },
      {
        "duration": 74,
        "start_time": "2022-11-26T16:35:10.303Z"
      },
      {
        "duration": 258,
        "start_time": "2022-11-26T16:40:05.597Z"
      },
      {
        "duration": 302,
        "start_time": "2022-11-26T16:41:04.032Z"
      },
      {
        "duration": 3,
        "start_time": "2022-11-26T16:43:11.096Z"
      },
      {
        "duration": 169,
        "start_time": "2022-11-26T16:43:18.747Z"
      },
      {
        "duration": 255,
        "start_time": "2022-11-26T17:03:52.870Z"
      },
      {
        "duration": 208,
        "start_time": "2022-11-26T17:04:07.318Z"
      },
      {
        "duration": 363,
        "start_time": "2022-11-26T17:04:20.723Z"
      },
      {
        "duration": 320,
        "start_time": "2022-11-26T17:04:33.331Z"
      },
      {
        "duration": 372,
        "start_time": "2022-11-26T17:05:10.681Z"
      },
      {
        "duration": 335,
        "start_time": "2022-11-26T17:05:32.611Z"
      },
      {
        "duration": 402,
        "start_time": "2022-11-26T17:06:12.072Z"
      },
      {
        "duration": 314,
        "start_time": "2022-11-26T17:06:16.122Z"
      },
      {
        "duration": 170,
        "start_time": "2022-11-26T18:09:37.215Z"
      },
      {
        "duration": 55,
        "start_time": "2022-11-26T18:11:53.336Z"
      },
      {
        "duration": 39,
        "start_time": "2022-11-26T18:17:07.241Z"
      },
      {
        "duration": 51,
        "start_time": "2022-11-26T18:17:13.282Z"
      },
      {
        "duration": 43,
        "start_time": "2022-11-26T18:17:26.136Z"
      },
      {
        "duration": 38,
        "start_time": "2022-11-26T18:17:43.304Z"
      },
      {
        "duration": 4811,
        "start_time": "2022-11-26T18:18:01.821Z"
      },
      {
        "duration": 36,
        "start_time": "2022-11-26T18:18:17.260Z"
      },
      {
        "duration": 77,
        "start_time": "2022-11-26T18:18:49.093Z"
      },
      {
        "duration": 239,
        "start_time": "2022-11-26T18:19:02.845Z"
      },
      {
        "duration": 215,
        "start_time": "2022-11-26T18:19:43.972Z"
      },
      {
        "duration": 429,
        "start_time": "2022-11-26T18:20:07.196Z"
      },
      {
        "duration": 231,
        "start_time": "2022-11-26T18:20:25.654Z"
      },
      {
        "duration": 86,
        "start_time": "2022-11-26T18:22:58.881Z"
      },
      {
        "duration": 4,
        "start_time": "2022-11-26T18:23:28.690Z"
      },
      {
        "duration": 90,
        "start_time": "2022-11-26T18:23:32.365Z"
      },
      {
        "duration": 1653,
        "start_time": "2022-11-26T21:06:24.708Z"
      },
      {
        "duration": 3,
        "start_time": "2022-11-26T21:06:26.363Z"
      },
      {
        "duration": 125,
        "start_time": "2022-11-26T21:06:26.367Z"
      },
      {
        "duration": 5,
        "start_time": "2022-11-26T21:06:26.495Z"
      },
      {
        "duration": 26,
        "start_time": "2022-11-26T21:06:26.502Z"
      },
      {
        "duration": 18,
        "start_time": "2022-11-26T21:06:26.535Z"
      },
      {
        "duration": 15,
        "start_time": "2022-11-26T21:06:26.555Z"
      },
      {
        "duration": 7,
        "start_time": "2022-11-26T21:06:26.572Z"
      },
      {
        "duration": 16,
        "start_time": "2022-11-26T21:06:26.581Z"
      },
      {
        "duration": 15,
        "start_time": "2022-11-26T21:06:26.600Z"
      },
      {
        "duration": 19,
        "start_time": "2022-11-26T21:06:26.616Z"
      },
      {
        "duration": 5,
        "start_time": "2022-11-26T21:06:26.637Z"
      },
      {
        "duration": 7,
        "start_time": "2022-11-26T21:06:26.643Z"
      },
      {
        "duration": 9,
        "start_time": "2022-11-26T21:06:26.651Z"
      },
      {
        "duration": 5,
        "start_time": "2022-11-26T21:06:26.661Z"
      },
      {
        "duration": 36,
        "start_time": "2022-11-26T21:06:26.668Z"
      },
      {
        "duration": 1395,
        "start_time": "2022-11-26T21:06:26.705Z"
      },
      {
        "duration": 148,
        "start_time": "2022-11-26T21:06:28.101Z"
      },
      {
        "duration": 788,
        "start_time": "2022-11-26T21:06:28.250Z"
      },
      {
        "duration": 85,
        "start_time": "2022-11-26T21:06:29.041Z"
      },
      {
        "duration": 102,
        "start_time": "2022-11-26T21:06:29.128Z"
      },
      {
        "duration": 205,
        "start_time": "2022-11-26T21:06:29.236Z"
      },
      {
        "duration": 103,
        "start_time": "2022-11-26T21:06:29.444Z"
      },
      {
        "duration": 102,
        "start_time": "2022-11-26T21:06:29.632Z"
      },
      {
        "duration": 5,
        "start_time": "2022-11-26T21:06:29.736Z"
      },
      {
        "duration": 111,
        "start_time": "2022-11-26T21:06:29.743Z"
      },
      {
        "duration": 233,
        "start_time": "2022-11-26T21:06:29.928Z"
      },
      {
        "duration": 21,
        "start_time": "2022-11-26T21:06:30.164Z"
      },
      {
        "duration": 145,
        "start_time": "2022-11-26T21:06:30.186Z"
      },
      {
        "duration": 27360,
        "start_time": "2022-11-26T21:06:30.340Z"
      },
      {
        "duration": 52,
        "start_time": "2022-11-26T21:06:57.701Z"
      },
      {
        "duration": 32884,
        "start_time": "2022-11-26T21:06:57.754Z"
      },
      {
        "duration": 771,
        "start_time": "2022-11-26T21:07:30.639Z"
      },
      {
        "duration": 234,
        "start_time": "2022-11-26T21:07:31.411Z"
      },
      {
        "duration": 42,
        "start_time": "2022-11-26T21:07:31.647Z"
      },
      {
        "duration": 55,
        "start_time": "2022-11-26T21:10:58.067Z"
      },
      {
        "duration": 43444,
        "start_time": "2022-11-26T21:12:33.582Z"
      },
      {
        "duration": 119,
        "start_time": "2022-11-27T09:57:16.427Z"
      },
      {
        "duration": 1584,
        "start_time": "2022-11-27T09:57:23.518Z"
      },
      {
        "duration": 3,
        "start_time": "2022-11-27T09:57:25.104Z"
      },
      {
        "duration": 101,
        "start_time": "2022-11-27T09:57:25.108Z"
      },
      {
        "duration": 5,
        "start_time": "2022-11-27T09:57:25.211Z"
      },
      {
        "duration": 6,
        "start_time": "2022-11-27T09:57:25.219Z"
      },
      {
        "duration": 14,
        "start_time": "2022-11-27T09:57:25.227Z"
      },
      {
        "duration": 9,
        "start_time": "2022-11-27T09:57:25.243Z"
      },
      {
        "duration": 5,
        "start_time": "2022-11-27T09:57:25.254Z"
      },
      {
        "duration": 15,
        "start_time": "2022-11-27T09:57:25.260Z"
      },
      {
        "duration": 40,
        "start_time": "2022-11-27T09:57:25.276Z"
      },
      {
        "duration": 13,
        "start_time": "2022-11-27T09:57:25.318Z"
      },
      {
        "duration": 9,
        "start_time": "2022-11-27T09:57:25.334Z"
      },
      {
        "duration": 7,
        "start_time": "2022-11-27T09:57:25.346Z"
      },
      {
        "duration": 6,
        "start_time": "2022-11-27T09:57:25.356Z"
      },
      {
        "duration": 5,
        "start_time": "2022-11-27T09:57:25.364Z"
      },
      {
        "duration": 72,
        "start_time": "2022-11-27T09:57:25.371Z"
      },
      {
        "duration": 1595,
        "start_time": "2022-11-27T09:57:25.445Z"
      },
      {
        "duration": 150,
        "start_time": "2022-11-27T09:57:27.041Z"
      },
      {
        "duration": 2528,
        "start_time": "2022-11-27T09:57:27.192Z"
      },
      {
        "duration": 91,
        "start_time": "2022-11-27T09:57:29.722Z"
      },
      {
        "duration": 21,
        "start_time": "2022-11-27T09:57:29.814Z"
      },
      {
        "duration": 398,
        "start_time": "2022-11-27T09:57:29.913Z"
      },
      {
        "duration": 15,
        "start_time": "2022-11-27T09:57:30.313Z"
      },
      {
        "duration": 182,
        "start_time": "2022-11-27T09:57:30.331Z"
      },
      {
        "duration": 6,
        "start_time": "2022-11-27T09:57:30.518Z"
      },
      {
        "duration": 192,
        "start_time": "2022-11-27T09:57:30.526Z"
      },
      {
        "duration": 34316,
        "start_time": "2022-11-27T09:57:30.721Z"
      },
      {
        "duration": 25,
        "start_time": "2022-11-27T09:58:05.039Z"
      },
      {
        "duration": 60,
        "start_time": "2022-11-27T09:58:05.066Z"
      },
      {
        "duration": 30550,
        "start_time": "2022-11-27T09:58:05.213Z"
      },
      {
        "duration": 51,
        "start_time": "2022-11-27T09:58:35.765Z"
      },
      {
        "duration": 36363,
        "start_time": "2022-11-27T09:58:35.818Z"
      },
      {
        "duration": 940,
        "start_time": "2022-11-27T09:59:12.182Z"
      },
      {
        "duration": 248,
        "start_time": "2022-11-27T09:59:13.124Z"
      },
      {
        "duration": 68,
        "start_time": "2022-11-27T09:59:13.374Z"
      },
      {
        "duration": 38247,
        "start_time": "2022-11-27T10:00:14.869Z"
      },
      {
        "duration": 50,
        "start_time": "2022-11-27T10:04:18.010Z"
      },
      {
        "duration": 52,
        "start_time": "2022-11-27T10:06:07.591Z"
      },
      {
        "duration": 48330,
        "start_time": "2022-11-27T10:06:21.589Z"
      },
      {
        "duration": 41536,
        "start_time": "2022-11-27T10:12:21.282Z"
      },
      {
        "duration": 39274,
        "start_time": "2022-11-27T10:13:47.544Z"
      },
      {
        "duration": 17167,
        "start_time": "2022-11-27T10:15:50.390Z"
      },
      {
        "duration": 40217,
        "start_time": "2022-11-27T10:16:09.925Z"
      },
      {
        "duration": 4,
        "start_time": "2022-11-27T10:21:06.524Z"
      },
      {
        "duration": 10008,
        "start_time": "2022-11-27T10:23:05.468Z"
      },
      {
        "duration": 4,
        "start_time": "2022-11-27T10:23:49.002Z"
      },
      {
        "duration": 5,
        "start_time": "2022-11-27T10:25:37.100Z"
      },
      {
        "duration": 7280,
        "start_time": "2022-11-27T10:26:07.967Z"
      },
      {
        "duration": 51,
        "start_time": "2022-11-27T10:26:57.807Z"
      },
      {
        "duration": 3,
        "start_time": "2022-11-27T10:27:02.402Z"
      },
      {
        "duration": 3,
        "start_time": "2022-11-27T10:27:08.908Z"
      },
      {
        "duration": 3,
        "start_time": "2022-11-27T10:28:20.127Z"
      },
      {
        "duration": 3,
        "start_time": "2022-11-27T10:28:35.894Z"
      },
      {
        "duration": 73,
        "start_time": "2022-11-27T10:29:25.295Z"
      },
      {
        "duration": 46,
        "start_time": "2022-11-27T10:29:35.562Z"
      },
      {
        "duration": 49,
        "start_time": "2022-11-27T10:30:02.067Z"
      },
      {
        "duration": 16,
        "start_time": "2022-11-27T10:30:23.292Z"
      },
      {
        "duration": 3,
        "start_time": "2022-11-27T10:30:45.880Z"
      },
      {
        "duration": 279,
        "start_time": "2022-11-27T10:32:22.022Z"
      },
      {
        "duration": 4,
        "start_time": "2022-11-27T10:33:44.851Z"
      },
      {
        "duration": 19,
        "start_time": "2022-11-27T10:34:52.506Z"
      },
      {
        "duration": 24,
        "start_time": "2022-11-27T10:34:58.471Z"
      },
      {
        "duration": 83,
        "start_time": "2022-11-27T10:34:59.830Z"
      },
      {
        "duration": 5,
        "start_time": "2022-11-27T10:36:12.196Z"
      },
      {
        "duration": 9182,
        "start_time": "2022-11-27T10:37:18.200Z"
      },
      {
        "duration": 4,
        "start_time": "2022-11-27T10:37:36.691Z"
      },
      {
        "duration": 5,
        "start_time": "2022-11-27T10:39:14.657Z"
      },
      {
        "duration": 25,
        "start_time": "2022-11-27T10:40:13.958Z"
      },
      {
        "duration": 28,
        "start_time": "2022-11-27T10:40:15.586Z"
      },
      {
        "duration": 16,
        "start_time": "2022-11-27T10:40:39.841Z"
      },
      {
        "duration": 16,
        "start_time": "2022-11-27T10:40:42.124Z"
      },
      {
        "duration": 17,
        "start_time": "2022-11-27T10:42:03.517Z"
      },
      {
        "duration": 11,
        "start_time": "2022-11-27T10:42:06.970Z"
      },
      {
        "duration": 10,
        "start_time": "2022-11-27T10:42:16.991Z"
      },
      {
        "duration": 9083,
        "start_time": "2022-11-27T10:42:33.761Z"
      },
      {
        "duration": 4,
        "start_time": "2022-11-27T10:42:45.452Z"
      },
      {
        "duration": 4,
        "start_time": "2022-11-27T10:42:46.014Z"
      },
      {
        "duration": 8074,
        "start_time": "2022-11-27T10:43:08.940Z"
      },
      {
        "duration": 4,
        "start_time": "2022-11-27T10:43:19.605Z"
      },
      {
        "duration": 4,
        "start_time": "2022-11-27T10:43:21.015Z"
      },
      {
        "duration": 8073,
        "start_time": "2022-11-27T10:43:48.203Z"
      },
      {
        "duration": 5367,
        "start_time": "2022-11-27T10:44:01.759Z"
      },
      {
        "duration": 4,
        "start_time": "2022-11-27T10:44:10.187Z"
      },
      {
        "duration": 23,
        "start_time": "2022-11-27T10:44:11.721Z"
      },
      {
        "duration": 108,
        "start_time": "2022-11-27T10:44:13.213Z"
      },
      {
        "duration": 19,
        "start_time": "2022-11-27T10:44:37.717Z"
      },
      {
        "duration": 15,
        "start_time": "2022-11-27T10:44:46.227Z"
      },
      {
        "duration": 54,
        "start_time": "2022-11-27T10:44:48.168Z"
      },
      {
        "duration": 10939,
        "start_time": "2022-11-27T10:45:30.622Z"
      },
      {
        "duration": 3,
        "start_time": "2022-11-27T10:45:47.496Z"
      },
      {
        "duration": 16,
        "start_time": "2022-11-27T10:45:52.982Z"
      },
      {
        "duration": 105,
        "start_time": "2022-11-27T10:45:54.208Z"
      },
      {
        "duration": 21122,
        "start_time": "2022-11-27T10:46:50.514Z"
      },
      {
        "duration": 11,
        "start_time": "2022-11-27T10:47:25.419Z"
      },
      {
        "duration": 18,
        "start_time": "2022-11-27T10:47:26.836Z"
      },
      {
        "duration": 324,
        "start_time": "2022-11-27T10:52:09.663Z"
      },
      {
        "duration": 181,
        "start_time": "2022-11-27T10:53:03.235Z"
      },
      {
        "duration": 385,
        "start_time": "2022-11-27T10:53:04.309Z"
      },
      {
        "duration": 19,
        "start_time": "2022-11-27T10:54:03.866Z"
      },
      {
        "duration": 378,
        "start_time": "2022-11-27T10:54:05.112Z"
      },
      {
        "duration": 15,
        "start_time": "2022-11-27T10:54:07.869Z"
      },
      {
        "duration": 22,
        "start_time": "2022-11-27T10:58:09.250Z"
      },
      {
        "duration": 64,
        "start_time": "2022-11-27T10:58:48.749Z"
      },
      {
        "duration": 25,
        "start_time": "2022-11-27T10:58:51.794Z"
      },
      {
        "duration": 24,
        "start_time": "2022-11-27T10:59:02.215Z"
      },
      {
        "duration": 50,
        "start_time": "2022-11-27T10:59:10.962Z"
      },
      {
        "duration": 82,
        "start_time": "2022-11-27T10:59:51.334Z"
      },
      {
        "duration": 351,
        "start_time": "2022-11-27T10:59:55.582Z"
      },
      {
        "duration": 49,
        "start_time": "2022-11-27T10:59:56.263Z"
      },
      {
        "duration": 15,
        "start_time": "2022-11-27T11:00:32.701Z"
      },
      {
        "duration": 331,
        "start_time": "2022-11-27T11:00:33.882Z"
      },
      {
        "duration": 73,
        "start_time": "2022-11-27T11:00:35.443Z"
      },
      {
        "duration": 215,
        "start_time": "2022-11-27T11:01:15.101Z"
      },
      {
        "duration": 414,
        "start_time": "2022-11-27T11:01:16.205Z"
      },
      {
        "duration": 15,
        "start_time": "2022-11-27T11:01:23.798Z"
      },
      {
        "duration": 312,
        "start_time": "2022-11-27T11:01:25.773Z"
      },
      {
        "duration": 44,
        "start_time": "2022-11-27T11:02:13.988Z"
      },
      {
        "duration": 72,
        "start_time": "2022-11-27T11:02:30.405Z"
      },
      {
        "duration": 45,
        "start_time": "2022-11-27T11:02:42.706Z"
      },
      {
        "duration": 49,
        "start_time": "2022-11-27T11:02:47.422Z"
      },
      {
        "duration": 50,
        "start_time": "2022-11-27T11:03:07.442Z"
      },
      {
        "duration": 50,
        "start_time": "2022-11-27T11:03:21.130Z"
      },
      {
        "duration": 42,
        "start_time": "2022-11-27T11:03:32.798Z"
      },
      {
        "duration": 44,
        "start_time": "2022-11-27T11:03:44.531Z"
      },
      {
        "duration": 77,
        "start_time": "2022-11-27T11:04:16.061Z"
      },
      {
        "duration": 60,
        "start_time": "2022-11-27T11:04:25.225Z"
      },
      {
        "duration": 42,
        "start_time": "2022-11-27T11:04:56.778Z"
      },
      {
        "duration": 38,
        "start_time": "2022-11-27T11:05:05.822Z"
      },
      {
        "duration": 71078,
        "start_time": "2022-11-27T11:06:17.039Z"
      },
      {
        "duration": 3,
        "start_time": "2022-11-27T11:07:28.119Z"
      },
      {
        "duration": 4,
        "start_time": "2022-11-27T11:07:38.142Z"
      },
      {
        "duration": 17,
        "start_time": "2022-11-27T11:08:01.700Z"
      },
      {
        "duration": 99,
        "start_time": "2022-11-27T11:08:07.316Z"
      },
      {
        "duration": 18,
        "start_time": "2022-11-27T11:09:06.448Z"
      },
      {
        "duration": 16,
        "start_time": "2022-11-27T11:09:07.746Z"
      },
      {
        "duration": 342,
        "start_time": "2022-11-27T11:09:16.008Z"
      },
      {
        "duration": 17,
        "start_time": "2022-11-27T11:09:17.146Z"
      },
      {
        "duration": 12,
        "start_time": "2022-11-27T11:09:21.925Z"
      },
      {
        "duration": 38,
        "start_time": "2022-11-27T11:09:24.375Z"
      },
      {
        "duration": 17,
        "start_time": "2022-11-27T11:09:37.392Z"
      },
      {
        "duration": 38,
        "start_time": "2022-11-27T11:09:38.475Z"
      },
      {
        "duration": 14,
        "start_time": "2022-11-27T11:09:48.505Z"
      },
      {
        "duration": 16,
        "start_time": "2022-11-27T11:09:49.551Z"
      },
      {
        "duration": 63315,
        "start_time": "2022-11-27T11:12:06.148Z"
      },
      {
        "duration": 18,
        "start_time": "2022-11-27T11:13:09.465Z"
      },
      {
        "duration": 14,
        "start_time": "2022-11-27T11:16:29.818Z"
      },
      {
        "duration": 344,
        "start_time": "2022-11-27T11:27:47.035Z"
      },
      {
        "duration": 65780,
        "start_time": "2022-11-27T11:32:20.645Z"
      },
      {
        "duration": 5,
        "start_time": "2022-11-27T11:33:26.427Z"
      },
      {
        "duration": 71521,
        "start_time": "2022-11-27T11:41:40.140Z"
      },
      {
        "duration": 4,
        "start_time": "2022-11-27T11:43:01.465Z"
      },
      {
        "duration": 13,
        "start_time": "2022-11-27T11:43:02.941Z"
      },
      {
        "duration": 62,
        "start_time": "2022-11-27T11:43:04.553Z"
      },
      {
        "duration": 4,
        "start_time": "2022-11-27T11:44:53.480Z"
      },
      {
        "duration": 32,
        "start_time": "2022-11-27T11:46:52.553Z"
      },
      {
        "duration": 195,
        "start_time": "2022-11-27T11:47:12.389Z"
      },
      {
        "duration": 40107,
        "start_time": "2022-11-27T11:50:07.225Z"
      },
      {
        "duration": 4,
        "start_time": "2022-11-27T11:50:57.135Z"
      },
      {
        "duration": 4,
        "start_time": "2022-11-27T11:52:19.662Z"
      },
      {
        "duration": 43,
        "start_time": "2022-11-27T11:52:54.096Z"
      },
      {
        "duration": 42,
        "start_time": "2022-11-27T12:27:29.637Z"
      },
      {
        "duration": 47,
        "start_time": "2022-11-27T12:27:59.776Z"
      },
      {
        "duration": 41,
        "start_time": "2022-11-27T12:28:30.888Z"
      },
      {
        "duration": 54,
        "start_time": "2022-11-27T12:37:12.206Z"
      },
      {
        "duration": 78818,
        "start_time": "2022-11-27T12:37:20.902Z"
      },
      {
        "duration": 4,
        "start_time": "2022-11-27T12:39:02.076Z"
      },
      {
        "duration": 16,
        "start_time": "2022-11-27T12:40:20.097Z"
      },
      {
        "duration": 10,
        "start_time": "2022-11-27T12:40:27.399Z"
      },
      {
        "duration": 4,
        "start_time": "2022-11-27T12:40:51.609Z"
      },
      {
        "duration": 43,
        "start_time": "2022-11-27T12:42:21.141Z"
      },
      {
        "duration": 35,
        "start_time": "2022-11-27T12:43:25.871Z"
      },
      {
        "duration": 12217,
        "start_time": "2022-11-27T12:44:00.271Z"
      },
      {
        "duration": 41,
        "start_time": "2022-11-27T12:46:05.893Z"
      },
      {
        "duration": 216,
        "start_time": "2022-11-27T12:46:08.549Z"
      },
      {
        "duration": 25,
        "start_time": "2022-11-27T12:46:43.883Z"
      },
      {
        "duration": 42801,
        "start_time": "2022-11-27T12:47:01.513Z"
      },
      {
        "duration": 4,
        "start_time": "2022-11-27T12:48:46.627Z"
      },
      {
        "duration": 4,
        "start_time": "2022-11-27T12:49:11.525Z"
      },
      {
        "duration": 48,
        "start_time": "2022-11-27T12:49:45.403Z"
      },
      {
        "duration": 610,
        "start_time": "2022-11-27T12:53:17.077Z"
      },
      {
        "duration": 42435,
        "start_time": "2022-11-27T12:59:17.344Z"
      },
      {
        "duration": 36854,
        "start_time": "2022-11-27T13:02:09.363Z"
      },
      {
        "duration": 4,
        "start_time": "2022-11-27T13:03:05.205Z"
      },
      {
        "duration": 608,
        "start_time": "2022-11-27T13:04:05.296Z"
      },
      {
        "duration": 267,
        "start_time": "2022-11-27T13:04:50.359Z"
      },
      {
        "duration": 41,
        "start_time": "2022-11-27T13:05:11.038Z"
      },
      {
        "duration": 2737,
        "start_time": "2022-11-27T15:27:54.990Z"
      },
      {
        "duration": 4,
        "start_time": "2022-11-27T15:27:57.730Z"
      },
      {
        "duration": 255,
        "start_time": "2022-11-27T15:27:57.736Z"
      },
      {
        "duration": 8,
        "start_time": "2022-11-27T15:27:57.994Z"
      },
      {
        "duration": 21,
        "start_time": "2022-11-27T15:27:58.010Z"
      },
      {
        "duration": 10,
        "start_time": "2022-11-27T15:27:58.033Z"
      },
      {
        "duration": 14,
        "start_time": "2022-11-27T15:27:58.045Z"
      },
      {
        "duration": 54,
        "start_time": "2022-11-27T15:27:58.065Z"
      },
      {
        "duration": 26,
        "start_time": "2022-11-27T15:27:58.121Z"
      },
      {
        "duration": 50,
        "start_time": "2022-11-27T15:27:58.150Z"
      },
      {
        "duration": 51,
        "start_time": "2022-11-27T15:27:58.207Z"
      },
      {
        "duration": 65,
        "start_time": "2022-11-27T15:27:58.260Z"
      },
      {
        "duration": 11,
        "start_time": "2022-11-27T15:27:58.330Z"
      },
      {
        "duration": 13,
        "start_time": "2022-11-27T15:27:58.346Z"
      },
      {
        "duration": 55,
        "start_time": "2022-11-27T15:27:58.362Z"
      },
      {
        "duration": 70,
        "start_time": "2022-11-27T15:27:58.420Z"
      },
      {
        "duration": 2049,
        "start_time": "2022-11-27T15:27:58.492Z"
      },
      {
        "duration": 299,
        "start_time": "2022-11-27T15:28:00.544Z"
      },
      {
        "duration": 445,
        "start_time": "2022-11-27T15:28:00.847Z"
      },
      {
        "duration": 41,
        "start_time": "2022-11-27T15:28:01.322Z"
      },
      {
        "duration": 125,
        "start_time": "2022-11-27T15:28:01.381Z"
      },
      {
        "duration": 336,
        "start_time": "2022-11-27T15:28:01.577Z"
      },
      {
        "duration": 54,
        "start_time": "2022-11-27T15:28:01.971Z"
      },
      {
        "duration": 240,
        "start_time": "2022-11-27T15:28:02.028Z"
      },
      {
        "duration": 19,
        "start_time": "2022-11-27T15:28:02.298Z"
      },
      {
        "duration": 172,
        "start_time": "2022-11-27T15:28:02.325Z"
      },
      {
        "duration": 95,
        "start_time": "2022-11-27T15:28:02.507Z"
      },
      {
        "duration": 442,
        "start_time": "2022-11-27T15:28:02.604Z"
      },
      {
        "duration": 167,
        "start_time": "2022-11-27T15:28:03.048Z"
      },
      {
        "duration": 100161,
        "start_time": "2022-11-27T15:28:03.252Z"
      },
      {
        "duration": 6,
        "start_time": "2022-11-27T15:29:43.417Z"
      },
      {
        "duration": 34,
        "start_time": "2022-11-27T15:29:43.426Z"
      },
      {
        "duration": 124,
        "start_time": "2022-11-27T15:29:43.463Z"
      },
      {
        "duration": 57939,
        "start_time": "2022-11-27T15:29:43.596Z"
      },
      {
        "duration": 8,
        "start_time": "2022-11-27T15:30:41.538Z"
      },
      {
        "duration": 80,
        "start_time": "2022-11-27T15:30:41.548Z"
      },
      {
        "duration": 40474,
        "start_time": "2022-11-27T15:30:41.630Z"
      },
      {
        "duration": 15,
        "start_time": "2022-11-27T15:31:22.106Z"
      },
      {
        "duration": 0,
        "start_time": "2022-11-27T15:31:22.123Z"
      },
      {
        "duration": 0,
        "start_time": "2022-11-27T15:31:22.125Z"
      },
      {
        "duration": 0,
        "start_time": "2022-11-27T15:31:22.127Z"
      },
      {
        "duration": 12,
        "start_time": "2022-11-27T15:31:31.597Z"
      },
      {
        "duration": 54827,
        "start_time": "2022-11-27T15:31:38.820Z"
      },
      {
        "duration": 2001,
        "start_time": "2022-11-27T15:41:17.186Z"
      },
      {
        "duration": 80,
        "start_time": "2022-11-27T15:41:19.189Z"
      },
      {
        "duration": 6,
        "start_time": "2022-11-27T15:41:19.271Z"
      },
      {
        "duration": 21,
        "start_time": "2022-11-27T15:41:19.280Z"
      },
      {
        "duration": 19,
        "start_time": "2022-11-27T15:41:19.304Z"
      },
      {
        "duration": 6,
        "start_time": "2022-11-27T15:41:19.325Z"
      },
      {
        "duration": 15,
        "start_time": "2022-11-27T15:41:19.333Z"
      },
      {
        "duration": 80,
        "start_time": "2022-11-27T15:41:19.350Z"
      },
      {
        "duration": 26,
        "start_time": "2022-11-27T15:41:19.433Z"
      },
      {
        "duration": 53,
        "start_time": "2022-11-27T15:41:19.464Z"
      },
      {
        "duration": 26,
        "start_time": "2022-11-27T15:41:19.519Z"
      },
      {
        "duration": 67,
        "start_time": "2022-11-27T15:41:19.547Z"
      },
      {
        "duration": 9,
        "start_time": "2022-11-27T15:41:19.617Z"
      },
      {
        "duration": 11,
        "start_time": "2022-11-27T15:41:19.628Z"
      },
      {
        "duration": 87,
        "start_time": "2022-11-27T15:41:19.641Z"
      },
      {
        "duration": 1977,
        "start_time": "2022-11-27T15:41:19.731Z"
      },
      {
        "duration": 252,
        "start_time": "2022-11-27T15:41:21.710Z"
      },
      {
        "duration": 695,
        "start_time": "2022-11-27T15:41:21.972Z"
      },
      {
        "duration": 17,
        "start_time": "2022-11-27T15:41:22.678Z"
      },
      {
        "duration": 119,
        "start_time": "2022-11-27T15:41:22.752Z"
      },
      {
        "duration": 214,
        "start_time": "2022-11-27T15:41:22.881Z"
      },
      {
        "duration": 61,
        "start_time": "2022-11-27T15:41:23.102Z"
      },
      {
        "duration": 219,
        "start_time": "2022-11-27T15:41:23.168Z"
      },
      {
        "duration": 63,
        "start_time": "2022-11-27T15:41:23.392Z"
      },
      {
        "duration": 98,
        "start_time": "2022-11-27T15:41:23.461Z"
      },
      {
        "duration": 84,
        "start_time": "2022-11-27T15:41:23.567Z"
      },
      {
        "duration": 491,
        "start_time": "2022-11-27T15:41:23.656Z"
      },
      {
        "duration": 200,
        "start_time": "2022-11-27T15:41:24.170Z"
      },
      {
        "duration": 93593,
        "start_time": "2022-11-27T15:41:24.379Z"
      },
      {
        "duration": 8,
        "start_time": "2022-11-27T15:42:57.974Z"
      },
      {
        "duration": 50,
        "start_time": "2022-11-27T15:42:57.984Z"
      },
      {
        "duration": 134,
        "start_time": "2022-11-27T15:42:58.037Z"
      },
      {
        "duration": 54794,
        "start_time": "2022-11-27T15:42:58.177Z"
      },
      {
        "duration": 7,
        "start_time": "2022-11-27T15:43:52.973Z"
      },
      {
        "duration": 81,
        "start_time": "2022-11-27T15:43:52.982Z"
      },
      {
        "duration": 49786,
        "start_time": "2022-11-27T15:43:53.065Z"
      },
      {
        "duration": 16,
        "start_time": "2022-11-27T15:44:42.860Z"
      },
      {
        "duration": 836,
        "start_time": "2022-11-27T15:44:42.883Z"
      },
      {
        "duration": 347,
        "start_time": "2022-11-27T15:44:43.721Z"
      },
      {
        "duration": 57,
        "start_time": "2022-11-27T15:44:44.075Z"
      },
      {
        "duration": 86588,
        "start_time": "2022-11-27T15:46:47.518Z"
      },
      {
        "duration": 88422,
        "start_time": "2022-11-27T15:57:29.648Z"
      },
      {
        "duration": 792,
        "start_time": "2022-11-27T16:02:56.910Z"
      },
      {
        "duration": 311,
        "start_time": "2022-11-27T16:03:03.503Z"
      },
      {
        "duration": 50737,
        "start_time": "2022-11-27T16:03:21.470Z"
      },
      {
        "duration": 6,
        "start_time": "2022-11-27T16:07:42.030Z"
      },
      {
        "duration": 256,
        "start_time": "2022-11-27T16:08:00.176Z"
      },
      {
        "duration": 324,
        "start_time": "2022-11-27T16:08:07.283Z"
      },
      {
        "duration": 28,
        "start_time": "2022-11-27T16:08:23.203Z"
      },
      {
        "duration": 200,
        "start_time": "2022-11-27T16:09:08.683Z"
      },
      {
        "duration": 5,
        "start_time": "2022-11-27T16:09:13.767Z"
      },
      {
        "duration": 229,
        "start_time": "2022-11-27T16:10:28.254Z"
      },
      {
        "duration": 29,
        "start_time": "2022-11-27T16:10:33.134Z"
      },
      {
        "duration": 53647,
        "start_time": "2022-11-27T16:10:56.554Z"
      },
      {
        "duration": 6,
        "start_time": "2022-11-27T16:12:43.733Z"
      },
      {
        "duration": 6,
        "start_time": "2022-11-27T16:12:44.319Z"
      },
      {
        "duration": 779,
        "start_time": "2022-11-27T16:12:51.333Z"
      },
      {
        "duration": 53,
        "start_time": "2022-11-27T16:12:55.163Z"
      },
      {
        "duration": 55,
        "start_time": "2022-11-27T16:14:01.250Z"
      },
      {
        "duration": 83,
        "start_time": "2022-11-27T16:14:11.629Z"
      },
      {
        "duration": 100228,
        "start_time": "2022-11-27T16:14:16.874Z"
      },
      {
        "duration": 5,
        "start_time": "2022-11-27T16:21:35.730Z"
      },
      {
        "duration": 102435,
        "start_time": "2022-11-27T16:22:37.018Z"
      },
      {
        "duration": 104872,
        "start_time": "2022-11-27T16:37:17.426Z"
      },
      {
        "duration": 52,
        "start_time": "2022-11-27T16:39:02.300Z"
      },
      {
        "duration": 5,
        "start_time": "2022-11-27T16:39:13.242Z"
      },
      {
        "duration": 4,
        "start_time": "2022-11-27T16:40:47.773Z"
      },
      {
        "duration": 1866,
        "start_time": "2022-11-27T16:40:54.470Z"
      },
      {
        "duration": 67,
        "start_time": "2022-11-27T16:40:56.339Z"
      },
      {
        "duration": 5,
        "start_time": "2022-11-27T16:40:56.408Z"
      },
      {
        "duration": 57,
        "start_time": "2022-11-27T16:40:56.416Z"
      },
      {
        "duration": 29,
        "start_time": "2022-11-27T16:40:56.475Z"
      },
      {
        "duration": 33,
        "start_time": "2022-11-27T16:40:56.506Z"
      },
      {
        "duration": 48,
        "start_time": "2022-11-27T16:40:56.541Z"
      },
      {
        "duration": 23,
        "start_time": "2022-11-27T16:40:56.592Z"
      },
      {
        "duration": 45,
        "start_time": "2022-11-27T16:40:56.617Z"
      },
      {
        "duration": 52,
        "start_time": "2022-11-27T16:40:56.665Z"
      },
      {
        "duration": 58,
        "start_time": "2022-11-27T16:40:56.719Z"
      },
      {
        "duration": 40,
        "start_time": "2022-11-27T16:40:56.780Z"
      },
      {
        "duration": 53,
        "start_time": "2022-11-27T16:40:56.822Z"
      },
      {
        "duration": 41,
        "start_time": "2022-11-27T16:40:56.878Z"
      },
      {
        "duration": 141,
        "start_time": "2022-11-27T16:40:56.921Z"
      },
      {
        "duration": 3316,
        "start_time": "2022-11-27T16:40:57.065Z"
      },
      {
        "duration": 196,
        "start_time": "2022-11-27T16:41:00.383Z"
      },
      {
        "duration": 601,
        "start_time": "2022-11-27T16:41:00.582Z"
      },
      {
        "duration": 89,
        "start_time": "2022-11-27T16:41:01.186Z"
      },
      {
        "duration": 109,
        "start_time": "2022-11-27T16:41:01.350Z"
      },
      {
        "duration": 285,
        "start_time": "2022-11-27T16:41:01.472Z"
      },
      {
        "duration": 112,
        "start_time": "2022-11-27T16:41:01.759Z"
      },
      {
        "duration": 112,
        "start_time": "2022-11-27T16:41:01.874Z"
      },
      {
        "duration": 67,
        "start_time": "2022-11-27T16:41:01.989Z"
      },
      {
        "duration": 192,
        "start_time": "2022-11-27T16:41:02.061Z"
      },
      {
        "duration": 132,
        "start_time": "2022-11-27T16:41:02.257Z"
      },
      {
        "duration": 381,
        "start_time": "2022-11-27T16:41:02.391Z"
      },
      {
        "duration": 181,
        "start_time": "2022-11-27T16:41:02.777Z"
      },
      {
        "duration": 32490,
        "start_time": "2022-11-27T16:41:02.961Z"
      },
      {
        "duration": 0,
        "start_time": "2022-11-27T16:41:35.453Z"
      },
      {
        "duration": 0,
        "start_time": "2022-11-27T16:41:35.461Z"
      },
      {
        "duration": 0,
        "start_time": "2022-11-27T16:41:35.462Z"
      },
      {
        "duration": 0,
        "start_time": "2022-11-27T16:41:35.465Z"
      },
      {
        "duration": 0,
        "start_time": "2022-11-27T16:41:35.466Z"
      },
      {
        "duration": 0,
        "start_time": "2022-11-27T16:41:35.469Z"
      },
      {
        "duration": 0,
        "start_time": "2022-11-27T16:41:35.473Z"
      },
      {
        "duration": 0,
        "start_time": "2022-11-27T16:41:35.474Z"
      },
      {
        "duration": 0,
        "start_time": "2022-11-27T16:41:35.476Z"
      },
      {
        "duration": 0,
        "start_time": "2022-11-27T16:41:35.478Z"
      },
      {
        "duration": 0,
        "start_time": "2022-11-27T16:41:35.479Z"
      },
      {
        "duration": 0,
        "start_time": "2022-11-27T16:41:35.481Z"
      },
      {
        "duration": 0,
        "start_time": "2022-11-27T16:41:35.483Z"
      },
      {
        "duration": 0,
        "start_time": "2022-11-27T16:41:35.484Z"
      },
      {
        "duration": 6,
        "start_time": "2022-11-27T16:42:09.475Z"
      },
      {
        "duration": 1615,
        "start_time": "2022-11-27T16:42:23.818Z"
      },
      {
        "duration": 61,
        "start_time": "2022-11-27T16:42:25.436Z"
      },
      {
        "duration": 5,
        "start_time": "2022-11-27T16:42:25.499Z"
      },
      {
        "duration": 16,
        "start_time": "2022-11-27T16:42:25.506Z"
      },
      {
        "duration": 12,
        "start_time": "2022-11-27T16:42:25.524Z"
      },
      {
        "duration": 9,
        "start_time": "2022-11-27T16:42:25.538Z"
      },
      {
        "duration": 18,
        "start_time": "2022-11-27T16:42:25.550Z"
      },
      {
        "duration": 34,
        "start_time": "2022-11-27T16:42:25.573Z"
      },
      {
        "duration": 15,
        "start_time": "2022-11-27T16:42:25.609Z"
      },
      {
        "duration": 38,
        "start_time": "2022-11-27T16:42:25.627Z"
      },
      {
        "duration": 15,
        "start_time": "2022-11-27T16:42:25.667Z"
      },
      {
        "duration": 8,
        "start_time": "2022-11-27T16:42:25.685Z"
      },
      {
        "duration": 11,
        "start_time": "2022-11-27T16:42:25.695Z"
      },
      {
        "duration": 6,
        "start_time": "2022-11-27T16:42:25.708Z"
      },
      {
        "duration": 78,
        "start_time": "2022-11-27T16:42:25.717Z"
      },
      {
        "duration": 1639,
        "start_time": "2022-11-27T16:42:25.797Z"
      },
      {
        "duration": 7,
        "start_time": "2022-11-27T16:42:27.439Z"
      },
      {
        "duration": 237,
        "start_time": "2022-11-27T16:42:27.449Z"
      },
      {
        "duration": 686,
        "start_time": "2022-11-27T16:42:27.688Z"
      },
      {
        "duration": 75,
        "start_time": "2022-11-27T16:42:28.377Z"
      },
      {
        "duration": 220,
        "start_time": "2022-11-27T16:42:28.457Z"
      },
      {
        "duration": 376,
        "start_time": "2022-11-27T16:42:28.679Z"
      },
      {
        "duration": 31,
        "start_time": "2022-11-27T16:42:29.060Z"
      },
      {
        "duration": 305,
        "start_time": "2022-11-27T16:42:29.151Z"
      },
      {
        "duration": 8,
        "start_time": "2022-11-27T16:42:29.461Z"
      },
      {
        "duration": 82,
        "start_time": "2022-11-27T16:42:29.471Z"
      },
      {
        "duration": 134,
        "start_time": "2022-11-27T16:42:29.561Z"
      },
      {
        "duration": 496,
        "start_time": "2022-11-27T16:42:29.700Z"
      },
      {
        "duration": 249,
        "start_time": "2022-11-27T16:42:30.204Z"
      },
      {
        "duration": 88592,
        "start_time": "2022-11-27T16:42:30.461Z"
      },
      {
        "duration": 10,
        "start_time": "2022-11-27T16:43:59.062Z"
      },
      {
        "duration": 19,
        "start_time": "2022-11-27T16:43:59.075Z"
      },
      {
        "duration": 166,
        "start_time": "2022-11-27T16:43:59.097Z"
      },
      {
        "duration": 30154,
        "start_time": "2022-11-27T16:43:59.266Z"
      },
      {
        "duration": 5,
        "start_time": "2022-11-27T16:44:29.422Z"
      },
      {
        "duration": 62,
        "start_time": "2022-11-27T16:44:29.429Z"
      },
      {
        "duration": 843,
        "start_time": "2022-11-27T16:44:29.493Z"
      },
      {
        "duration": 293,
        "start_time": "2022-11-27T16:44:30.338Z"
      },
      {
        "duration": 94027,
        "start_time": "2022-11-27T16:44:30.634Z"
      },
      {
        "duration": 5,
        "start_time": "2022-11-27T16:46:04.663Z"
      },
      {
        "duration": 21,
        "start_time": "2022-11-27T16:46:04.670Z"
      },
      {
        "duration": 698,
        "start_time": "2022-11-27T16:46:04.693Z"
      },
      {
        "duration": 306,
        "start_time": "2022-11-27T16:46:05.393Z"
      },
      {
        "duration": 70,
        "start_time": "2022-11-27T16:46:05.701Z"
      },
      {
        "duration": 4,
        "start_time": "2022-11-27T16:48:50.324Z"
      },
      {
        "duration": 7,
        "start_time": "2022-11-27T16:48:59.587Z"
      },
      {
        "duration": 148,
        "start_time": "2022-11-27T16:49:30.040Z"
      },
      {
        "duration": 4,
        "start_time": "2022-11-27T16:49:32.095Z"
      },
      {
        "duration": 4,
        "start_time": "2022-11-27T16:49:39.525Z"
      },
      {
        "duration": 8,
        "start_time": "2022-11-27T16:50:09.824Z"
      },
      {
        "duration": 135,
        "start_time": "2022-11-27T16:50:20.932Z"
      },
      {
        "duration": 7,
        "start_time": "2022-11-27T16:50:22.473Z"
      },
      {
        "duration": 54,
        "start_time": "2022-11-27T16:52:27.931Z"
      },
      {
        "duration": 6,
        "start_time": "2022-11-27T16:52:29.285Z"
      },
      {
        "duration": 98,
        "start_time": "2022-11-27T16:52:36.487Z"
      },
      {
        "duration": 6,
        "start_time": "2022-11-27T16:52:37.300Z"
      },
      {
        "duration": 107,
        "start_time": "2022-11-27T16:53:05.677Z"
      },
      {
        "duration": 11,
        "start_time": "2022-11-27T16:53:19.712Z"
      },
      {
        "duration": 70,
        "start_time": "2022-11-27T16:53:30.001Z"
      },
      {
        "duration": 11,
        "start_time": "2022-11-27T16:53:37.273Z"
      },
      {
        "duration": 8,
        "start_time": "2022-11-27T16:53:54.370Z"
      },
      {
        "duration": 78,
        "start_time": "2022-11-27T16:56:29.301Z"
      },
      {
        "duration": 8,
        "start_time": "2022-11-27T16:56:30.179Z"
      },
      {
        "duration": 93,
        "start_time": "2022-11-27T16:56:56.676Z"
      },
      {
        "duration": 6,
        "start_time": "2022-11-27T16:56:58.824Z"
      },
      {
        "duration": 5,
        "start_time": "2022-11-27T16:57:03.644Z"
      },
      {
        "duration": 63,
        "start_time": "2022-11-27T17:01:41.100Z"
      },
      {
        "duration": 62,
        "start_time": "2022-11-27T17:02:15.897Z"
      },
      {
        "duration": 1901,
        "start_time": "2022-11-27T17:43:34.483Z"
      },
      {
        "duration": 101,
        "start_time": "2022-11-27T17:43:36.386Z"
      },
      {
        "duration": 7,
        "start_time": "2022-11-27T17:43:36.507Z"
      },
      {
        "duration": 8,
        "start_time": "2022-11-27T17:43:36.520Z"
      },
      {
        "duration": 18,
        "start_time": "2022-11-27T17:43:36.530Z"
      },
      {
        "duration": 22,
        "start_time": "2022-11-27T17:43:36.550Z"
      },
      {
        "duration": 22,
        "start_time": "2022-11-27T17:43:36.581Z"
      },
      {
        "duration": 21,
        "start_time": "2022-11-27T17:43:36.606Z"
      },
      {
        "duration": 14,
        "start_time": "2022-11-27T17:43:36.629Z"
      },
      {
        "duration": 33,
        "start_time": "2022-11-27T17:43:36.647Z"
      },
      {
        "duration": 19,
        "start_time": "2022-11-27T17:43:36.683Z"
      },
      {
        "duration": 12,
        "start_time": "2022-11-27T17:43:36.704Z"
      },
      {
        "duration": 7,
        "start_time": "2022-11-27T17:43:36.718Z"
      },
      {
        "duration": 9,
        "start_time": "2022-11-27T17:43:36.728Z"
      },
      {
        "duration": 59,
        "start_time": "2022-11-27T17:43:36.739Z"
      },
      {
        "duration": 3429,
        "start_time": "2022-11-27T17:43:36.800Z"
      },
      {
        "duration": 6,
        "start_time": "2022-11-27T17:43:40.231Z"
      },
      {
        "duration": 293,
        "start_time": "2022-11-27T17:43:40.239Z"
      },
      {
        "duration": 557,
        "start_time": "2022-11-27T17:43:40.534Z"
      },
      {
        "duration": 60,
        "start_time": "2022-11-27T17:43:41.099Z"
      },
      {
        "duration": 210,
        "start_time": "2022-11-27T17:43:41.163Z"
      },
      {
        "duration": 192,
        "start_time": "2022-11-27T17:43:41.387Z"
      },
      {
        "duration": 180,
        "start_time": "2022-11-27T17:43:41.581Z"
      },
      {
        "duration": 114,
        "start_time": "2022-11-27T17:43:41.768Z"
      },
      {
        "duration": 14,
        "start_time": "2022-11-27T17:43:41.953Z"
      },
      {
        "duration": 195,
        "start_time": "2022-11-27T17:43:41.973Z"
      },
      {
        "duration": 87,
        "start_time": "2022-11-27T17:43:42.175Z"
      },
      {
        "duration": 446,
        "start_time": "2022-11-27T17:43:42.267Z"
      },
      {
        "duration": 273,
        "start_time": "2022-11-27T17:43:42.715Z"
      },
      {
        "duration": 94875,
        "start_time": "2022-11-27T17:43:42.990Z"
      },
      {
        "duration": 13,
        "start_time": "2022-11-27T17:45:17.870Z"
      },
      {
        "duration": 15,
        "start_time": "2022-11-27T17:45:17.887Z"
      },
      {
        "duration": 91,
        "start_time": "2022-11-27T17:45:17.904Z"
      },
      {
        "duration": 32749,
        "start_time": "2022-11-27T17:45:18.050Z"
      },
      {
        "duration": 11,
        "start_time": "2022-11-27T17:45:50.801Z"
      },
      {
        "duration": 75,
        "start_time": "2022-11-27T17:45:50.815Z"
      },
      {
        "duration": 924,
        "start_time": "2022-11-27T17:45:50.893Z"
      },
      {
        "duration": 376,
        "start_time": "2022-11-27T17:45:51.820Z"
      },
      {
        "duration": 100198,
        "start_time": "2022-11-27T17:45:52.204Z"
      },
      {
        "duration": 5,
        "start_time": "2022-11-27T17:47:32.404Z"
      },
      {
        "duration": 7,
        "start_time": "2022-11-27T17:47:32.411Z"
      },
      {
        "duration": 754,
        "start_time": "2022-11-27T17:47:32.420Z"
      },
      {
        "duration": 293,
        "start_time": "2022-11-27T17:47:33.184Z"
      },
      {
        "duration": 46,
        "start_time": "2022-11-27T17:47:33.484Z"
      },
      {
        "duration": 27,
        "start_time": "2022-11-27T17:55:10.816Z"
      },
      {
        "duration": 148,
        "start_time": "2022-11-27T18:21:16.117Z"
      },
      {
        "duration": 50686,
        "start_time": "2022-11-27T18:37:12.484Z"
      },
      {
        "duration": 10,
        "start_time": "2022-11-27T18:38:55.644Z"
      },
      {
        "duration": 23,
        "start_time": "2022-11-27T18:39:35.384Z"
      },
      {
        "duration": 102,
        "start_time": "2022-11-27T18:39:39.670Z"
      },
      {
        "duration": 228,
        "start_time": "2022-11-27T18:47:20.528Z"
      },
      {
        "duration": 15043,
        "start_time": "2022-11-27T18:47:55.973Z"
      },
      {
        "duration": 92560,
        "start_time": "2022-11-27T18:48:20.724Z"
      },
      {
        "duration": 6,
        "start_time": "2022-11-27T18:50:59.114Z"
      },
      {
        "duration": 12,
        "start_time": "2022-11-27T18:51:44.986Z"
      },
      {
        "duration": 20,
        "start_time": "2022-11-27T18:52:06.799Z"
      },
      {
        "duration": 26,
        "start_time": "2022-11-27T18:52:08.012Z"
      },
      {
        "duration": 25,
        "start_time": "2022-11-27T18:52:18.038Z"
      },
      {
        "duration": 104,
        "start_time": "2022-11-27T18:52:19.373Z"
      },
      {
        "duration": 26588,
        "start_time": "2022-11-27T18:53:14.304Z"
      },
      {
        "duration": 5,
        "start_time": "2022-11-27T18:54:02.220Z"
      },
      {
        "duration": 47,
        "start_time": "2022-11-27T18:54:08.278Z"
      },
      {
        "duration": 34932,
        "start_time": "2022-11-27T18:54:39.502Z"
      },
      {
        "duration": 93468,
        "start_time": "2022-11-27T18:55:23.974Z"
      },
      {
        "duration": 6,
        "start_time": "2022-11-27T18:57:16.808Z"
      },
      {
        "duration": 123368,
        "start_time": "2022-11-27T18:58:34.819Z"
      },
      {
        "duration": 7,
        "start_time": "2022-11-27T19:00:38.189Z"
      },
      {
        "duration": 39,
        "start_time": "2022-11-27T19:00:38.198Z"
      },
      {
        "duration": 66,
        "start_time": "2022-11-27T19:00:38.240Z"
      },
      {
        "duration": 52,
        "start_time": "2022-11-27T19:00:44.296Z"
      },
      {
        "duration": 23,
        "start_time": "2022-11-27T19:01:36.308Z"
      },
      {
        "duration": 183,
        "start_time": "2022-11-27T19:01:37.793Z"
      },
      {
        "duration": 172988,
        "start_time": "2022-11-27T19:08:14.379Z"
      },
      {
        "duration": 87825,
        "start_time": "2022-11-27T19:11:07.370Z"
      },
      {
        "duration": 6,
        "start_time": "2022-11-27T19:12:35.201Z"
      },
      {
        "duration": 17,
        "start_time": "2022-11-27T19:12:52.066Z"
      },
      {
        "duration": 63,
        "start_time": "2022-11-27T19:12:55.521Z"
      },
      {
        "duration": 5,
        "start_time": "2022-11-27T19:13:55.582Z"
      },
      {
        "duration": 4,
        "start_time": "2022-11-27T19:14:07.808Z"
      },
      {
        "duration": 6,
        "start_time": "2022-11-27T19:14:18.202Z"
      },
      {
        "duration": 782,
        "start_time": "2022-11-27T19:14:32.582Z"
      },
      {
        "duration": 331,
        "start_time": "2022-11-27T19:14:39.595Z"
      },
      {
        "duration": 53,
        "start_time": "2022-11-27T19:15:27.775Z"
      },
      {
        "duration": 1563,
        "start_time": "2022-11-27T19:26:34.509Z"
      },
      {
        "duration": 53,
        "start_time": "2022-11-27T19:26:36.074Z"
      },
      {
        "duration": 4,
        "start_time": "2022-11-27T19:26:36.128Z"
      },
      {
        "duration": 7,
        "start_time": "2022-11-27T19:26:36.135Z"
      },
      {
        "duration": 18,
        "start_time": "2022-11-27T19:26:36.144Z"
      },
      {
        "duration": 14,
        "start_time": "2022-11-27T19:26:36.164Z"
      },
      {
        "duration": 13,
        "start_time": "2022-11-27T19:26:36.180Z"
      },
      {
        "duration": 17,
        "start_time": "2022-11-27T19:26:36.195Z"
      },
      {
        "duration": 9,
        "start_time": "2022-11-27T19:26:36.214Z"
      },
      {
        "duration": 35,
        "start_time": "2022-11-27T19:26:36.226Z"
      },
      {
        "duration": 14,
        "start_time": "2022-11-27T19:26:36.263Z"
      },
      {
        "duration": 6,
        "start_time": "2022-11-27T19:26:36.279Z"
      },
      {
        "duration": 8,
        "start_time": "2022-11-27T19:26:36.287Z"
      },
      {
        "duration": 5,
        "start_time": "2022-11-27T19:26:36.297Z"
      },
      {
        "duration": 66,
        "start_time": "2022-11-27T19:26:36.303Z"
      },
      {
        "duration": 1462,
        "start_time": "2022-11-27T19:26:36.371Z"
      },
      {
        "duration": 4,
        "start_time": "2022-11-27T19:26:37.835Z"
      },
      {
        "duration": 1548,
        "start_time": "2022-11-27T19:26:37.841Z"
      },
      {
        "duration": 178,
        "start_time": "2022-11-27T19:26:39.391Z"
      },
      {
        "duration": 583,
        "start_time": "2022-11-27T19:26:39.571Z"
      },
      {
        "duration": 6,
        "start_time": "2022-11-27T19:26:40.156Z"
      },
      {
        "duration": 293,
        "start_time": "2022-11-27T19:26:40.164Z"
      },
      {
        "duration": 196,
        "start_time": "2022-11-27T19:26:40.460Z"
      },
      {
        "duration": 23,
        "start_time": "2022-11-27T19:26:40.659Z"
      },
      {
        "duration": 109,
        "start_time": "2022-11-27T19:26:40.752Z"
      },
      {
        "duration": 89,
        "start_time": "2022-11-27T19:26:40.863Z"
      },
      {
        "duration": 110,
        "start_time": "2022-11-27T19:26:40.957Z"
      },
      {
        "duration": 95,
        "start_time": "2022-11-27T19:26:41.077Z"
      },
      {
        "duration": 361,
        "start_time": "2022-11-27T19:26:41.174Z"
      },
      {
        "duration": 121,
        "start_time": "2022-11-27T19:26:41.537Z"
      },
      {
        "duration": 169499,
        "start_time": "2022-11-27T19:26:41.660Z"
      },
      {
        "duration": 6,
        "start_time": "2022-11-27T19:29:31.162Z"
      },
      {
        "duration": 48,
        "start_time": "2022-11-27T19:29:31.170Z"
      },
      {
        "duration": 138,
        "start_time": "2022-11-27T19:29:31.221Z"
      },
      {
        "duration": 23795,
        "start_time": "2022-11-27T19:29:31.361Z"
      },
      {
        "duration": 13,
        "start_time": "2022-11-27T19:29:55.158Z"
      },
      {
        "duration": 45,
        "start_time": "2022-11-27T19:29:55.176Z"
      },
      {
        "duration": 671,
        "start_time": "2022-11-27T19:29:55.223Z"
      },
      {
        "duration": 292,
        "start_time": "2022-11-27T19:29:55.895Z"
      },
      {
        "duration": 79918,
        "start_time": "2022-11-27T19:29:56.188Z"
      },
      {
        "duration": 5,
        "start_time": "2022-11-27T19:31:16.108Z"
      },
      {
        "duration": 675,
        "start_time": "2022-11-27T19:31:16.114Z"
      },
      {
        "duration": 285,
        "start_time": "2022-11-27T19:31:16.791Z"
      },
      {
        "duration": 45,
        "start_time": "2022-11-27T19:31:17.078Z"
      },
      {
        "duration": 11,
        "start_time": "2022-11-27T19:33:43.752Z"
      },
      {
        "duration": 1445,
        "start_time": "2022-11-27T19:33:44.342Z"
      },
      {
        "duration": 1633,
        "start_time": "2022-11-27T19:33:58.501Z"
      },
      {
        "duration": 68,
        "start_time": "2022-11-27T19:34:00.137Z"
      },
      {
        "duration": 9,
        "start_time": "2022-11-27T19:34:00.207Z"
      },
      {
        "duration": 10,
        "start_time": "2022-11-27T19:34:00.218Z"
      },
      {
        "duration": 18,
        "start_time": "2022-11-27T19:34:00.231Z"
      },
      {
        "duration": 13,
        "start_time": "2022-11-27T19:34:00.257Z"
      },
      {
        "duration": 22,
        "start_time": "2022-11-27T19:34:00.272Z"
      },
      {
        "duration": 23,
        "start_time": "2022-11-27T19:34:00.297Z"
      },
      {
        "duration": 11,
        "start_time": "2022-11-27T19:34:00.323Z"
      },
      {
        "duration": 33,
        "start_time": "2022-11-27T19:34:00.336Z"
      },
      {
        "duration": 18,
        "start_time": "2022-11-27T19:34:00.371Z"
      },
      {
        "duration": 20,
        "start_time": "2022-11-27T19:34:00.391Z"
      },
      {
        "duration": 12,
        "start_time": "2022-11-27T19:34:00.413Z"
      },
      {
        "duration": 17,
        "start_time": "2022-11-27T19:34:00.428Z"
      },
      {
        "duration": 77,
        "start_time": "2022-11-27T19:34:00.447Z"
      },
      {
        "duration": 1583,
        "start_time": "2022-11-27T19:34:00.526Z"
      },
      {
        "duration": 5,
        "start_time": "2022-11-27T19:34:02.111Z"
      },
      {
        "duration": 1585,
        "start_time": "2022-11-27T19:34:02.118Z"
      },
      {
        "duration": 185,
        "start_time": "2022-11-27T19:34:03.705Z"
      },
      {
        "duration": 141,
        "start_time": "2022-11-27T19:34:03.891Z"
      },
      {
        "duration": 0,
        "start_time": "2022-11-27T19:34:04.033Z"
      },
      {
        "duration": 0,
        "start_time": "2022-11-27T19:34:04.035Z"
      },
      {
        "duration": 0,
        "start_time": "2022-11-27T19:34:04.036Z"
      },
      {
        "duration": 0,
        "start_time": "2022-11-27T19:34:04.037Z"
      },
      {
        "duration": 0,
        "start_time": "2022-11-27T19:34:04.038Z"
      },
      {
        "duration": 0,
        "start_time": "2022-11-27T19:34:04.050Z"
      },
      {
        "duration": 0,
        "start_time": "2022-11-27T19:34:04.051Z"
      },
      {
        "duration": 0,
        "start_time": "2022-11-27T19:34:04.054Z"
      },
      {
        "duration": 0,
        "start_time": "2022-11-27T19:34:04.054Z"
      },
      {
        "duration": 0,
        "start_time": "2022-11-27T19:34:04.058Z"
      },
      {
        "duration": 0,
        "start_time": "2022-11-27T19:34:04.058Z"
      },
      {
        "duration": 0,
        "start_time": "2022-11-27T19:34:04.059Z"
      },
      {
        "duration": 0,
        "start_time": "2022-11-27T19:34:04.063Z"
      },
      {
        "duration": 0,
        "start_time": "2022-11-27T19:34:04.066Z"
      },
      {
        "duration": 0,
        "start_time": "2022-11-27T19:34:04.067Z"
      },
      {
        "duration": 0,
        "start_time": "2022-11-27T19:34:04.068Z"
      },
      {
        "duration": 0,
        "start_time": "2022-11-27T19:34:04.069Z"
      },
      {
        "duration": 0,
        "start_time": "2022-11-27T19:34:04.069Z"
      },
      {
        "duration": 0,
        "start_time": "2022-11-27T19:34:04.071Z"
      },
      {
        "duration": 0,
        "start_time": "2022-11-27T19:34:04.074Z"
      },
      {
        "duration": 0,
        "start_time": "2022-11-27T19:34:04.075Z"
      },
      {
        "duration": 0,
        "start_time": "2022-11-27T19:34:04.077Z"
      },
      {
        "duration": 0,
        "start_time": "2022-11-27T19:34:04.078Z"
      },
      {
        "duration": 0,
        "start_time": "2022-11-27T19:34:04.080Z"
      },
      {
        "duration": 18,
        "start_time": "2022-11-27T19:37:46.472Z"
      },
      {
        "duration": 1543,
        "start_time": "2022-11-27T19:38:04.298Z"
      },
      {
        "duration": 55,
        "start_time": "2022-11-27T19:38:05.844Z"
      },
      {
        "duration": 5,
        "start_time": "2022-11-27T19:38:05.901Z"
      },
      {
        "duration": 7,
        "start_time": "2022-11-27T19:38:05.908Z"
      },
      {
        "duration": 15,
        "start_time": "2022-11-27T19:38:05.917Z"
      },
      {
        "duration": 21,
        "start_time": "2022-11-27T19:38:05.934Z"
      },
      {
        "duration": 6,
        "start_time": "2022-11-27T19:38:05.956Z"
      },
      {
        "duration": 23,
        "start_time": "2022-11-27T19:38:05.964Z"
      },
      {
        "duration": 10,
        "start_time": "2022-11-27T19:38:05.989Z"
      },
      {
        "duration": 14,
        "start_time": "2022-11-27T19:38:06.002Z"
      },
      {
        "duration": 44,
        "start_time": "2022-11-27T19:38:06.018Z"
      },
      {
        "duration": 25,
        "start_time": "2022-11-27T19:38:06.064Z"
      },
      {
        "duration": 7,
        "start_time": "2022-11-27T19:38:06.092Z"
      },
      {
        "duration": 6,
        "start_time": "2022-11-27T19:38:06.101Z"
      },
      {
        "duration": 83,
        "start_time": "2022-11-27T19:38:06.109Z"
      },
      {
        "duration": 1582,
        "start_time": "2022-11-27T19:38:06.195Z"
      },
      {
        "duration": 168,
        "start_time": "2022-11-27T19:38:07.778Z"
      },
      {
        "duration": 209,
        "start_time": "2022-11-27T19:38:07.947Z"
      },
      {
        "duration": 4,
        "start_time": "2022-11-27T19:38:08.158Z"
      },
      {
        "duration": 215,
        "start_time": "2022-11-27T19:38:08.165Z"
      },
      {
        "duration": 294,
        "start_time": "2022-11-27T19:38:08.456Z"
      },
      {
        "duration": 226,
        "start_time": "2022-11-27T19:38:08.752Z"
      },
      {
        "duration": 192,
        "start_time": "2022-11-27T19:38:08.979Z"
      },
      {
        "duration": 8,
        "start_time": "2022-11-27T19:38:09.251Z"
      },
      {
        "duration": 108,
        "start_time": "2022-11-27T19:38:09.261Z"
      },
      {
        "duration": 86,
        "start_time": "2022-11-27T19:38:09.374Z"
      },
      {
        "duration": 810,
        "start_time": "2022-11-27T19:38:09.463Z"
      },
      {
        "duration": 195,
        "start_time": "2022-11-27T19:38:10.280Z"
      },
      {
        "duration": 45,
        "start_time": "2022-11-28T14:48:40.496Z"
      },
      {
        "duration": 1626,
        "start_time": "2022-11-28T14:49:01.487Z"
      },
      {
        "duration": 97,
        "start_time": "2022-11-28T14:49:03.116Z"
      },
      {
        "duration": 5,
        "start_time": "2022-11-28T14:49:03.215Z"
      },
      {
        "duration": 61,
        "start_time": "2022-11-28T14:49:03.222Z"
      },
      {
        "duration": 51,
        "start_time": "2022-11-28T14:49:03.285Z"
      },
      {
        "duration": 119,
        "start_time": "2022-11-28T14:49:03.338Z"
      },
      {
        "duration": 25,
        "start_time": "2022-11-28T14:49:03.458Z"
      },
      {
        "duration": 36,
        "start_time": "2022-11-28T14:49:03.485Z"
      },
      {
        "duration": 51,
        "start_time": "2022-11-28T14:49:03.523Z"
      },
      {
        "duration": 45,
        "start_time": "2022-11-28T14:49:03.578Z"
      },
      {
        "duration": 57,
        "start_time": "2022-11-28T14:49:03.624Z"
      },
      {
        "duration": 20,
        "start_time": "2022-11-28T14:49:03.683Z"
      },
      {
        "duration": 36,
        "start_time": "2022-11-28T14:49:03.705Z"
      },
      {
        "duration": 124,
        "start_time": "2022-11-28T14:49:03.743Z"
      },
      {
        "duration": 0,
        "start_time": "2022-11-28T14:49:03.870Z"
      },
      {
        "duration": 0,
        "start_time": "2022-11-28T14:49:03.876Z"
      },
      {
        "duration": 0,
        "start_time": "2022-11-28T14:49:03.877Z"
      },
      {
        "duration": 0,
        "start_time": "2022-11-28T14:49:03.878Z"
      },
      {
        "duration": 0,
        "start_time": "2022-11-28T14:49:03.879Z"
      },
      {
        "duration": 0,
        "start_time": "2022-11-28T14:49:03.880Z"
      },
      {
        "duration": 0,
        "start_time": "2022-11-28T14:49:03.882Z"
      },
      {
        "duration": 0,
        "start_time": "2022-11-28T14:49:03.883Z"
      },
      {
        "duration": 0,
        "start_time": "2022-11-28T14:49:03.884Z"
      },
      {
        "duration": 0,
        "start_time": "2022-11-28T14:49:03.885Z"
      },
      {
        "duration": 0,
        "start_time": "2022-11-28T14:49:03.886Z"
      },
      {
        "duration": 0,
        "start_time": "2022-11-28T14:49:03.887Z"
      },
      {
        "duration": 0,
        "start_time": "2022-11-28T14:49:03.889Z"
      },
      {
        "duration": 0,
        "start_time": "2022-11-28T14:49:03.890Z"
      },
      {
        "duration": 0,
        "start_time": "2022-11-28T14:49:03.890Z"
      },
      {
        "duration": 0,
        "start_time": "2022-11-28T14:49:03.892Z"
      },
      {
        "duration": 0,
        "start_time": "2022-11-28T14:49:03.893Z"
      },
      {
        "duration": 0,
        "start_time": "2022-11-28T14:49:03.894Z"
      },
      {
        "duration": 0,
        "start_time": "2022-11-28T14:49:03.895Z"
      },
      {
        "duration": 0,
        "start_time": "2022-11-28T14:49:03.897Z"
      },
      {
        "duration": 0,
        "start_time": "2022-11-28T14:49:03.898Z"
      },
      {
        "duration": 0,
        "start_time": "2022-11-28T14:49:03.899Z"
      },
      {
        "duration": 0,
        "start_time": "2022-11-28T14:49:03.900Z"
      },
      {
        "duration": 0,
        "start_time": "2022-11-28T14:49:03.901Z"
      },
      {
        "duration": 0,
        "start_time": "2022-11-28T14:49:03.902Z"
      },
      {
        "duration": 0,
        "start_time": "2022-11-28T14:49:03.903Z"
      },
      {
        "duration": 0,
        "start_time": "2022-11-28T14:49:03.904Z"
      },
      {
        "duration": 51,
        "start_time": "2022-11-29T21:03:17.528Z"
      },
      {
        "duration": 1693,
        "start_time": "2022-11-29T21:04:08.899Z"
      },
      {
        "duration": 9,
        "start_time": "2022-11-29T21:15:48.801Z"
      },
      {
        "duration": 10,
        "start_time": "2022-11-29T21:15:57.007Z"
      },
      {
        "duration": 1445,
        "start_time": "2022-11-29T21:16:06.436Z"
      },
      {
        "duration": 0,
        "start_time": "2022-11-29T21:16:07.884Z"
      },
      {
        "duration": 0,
        "start_time": "2022-11-29T21:16:07.885Z"
      },
      {
        "duration": 0,
        "start_time": "2022-11-29T21:16:07.887Z"
      },
      {
        "duration": 0,
        "start_time": "2022-11-29T21:16:07.888Z"
      },
      {
        "duration": 0,
        "start_time": "2022-11-29T21:16:07.890Z"
      },
      {
        "duration": 0,
        "start_time": "2022-11-29T21:16:07.891Z"
      },
      {
        "duration": 0,
        "start_time": "2022-11-29T21:16:07.892Z"
      },
      {
        "duration": 0,
        "start_time": "2022-11-29T21:16:07.893Z"
      },
      {
        "duration": 0,
        "start_time": "2022-11-29T21:16:07.894Z"
      },
      {
        "duration": 0,
        "start_time": "2022-11-29T21:16:07.912Z"
      },
      {
        "duration": 0,
        "start_time": "2022-11-29T21:16:07.913Z"
      },
      {
        "duration": 0,
        "start_time": "2022-11-29T21:16:07.914Z"
      },
      {
        "duration": 0,
        "start_time": "2022-11-29T21:16:07.915Z"
      },
      {
        "duration": 0,
        "start_time": "2022-11-29T21:16:07.917Z"
      },
      {
        "duration": 1,
        "start_time": "2022-11-29T21:16:07.917Z"
      },
      {
        "duration": 0,
        "start_time": "2022-11-29T21:16:07.918Z"
      },
      {
        "duration": 0,
        "start_time": "2022-11-29T21:16:07.919Z"
      },
      {
        "duration": 0,
        "start_time": "2022-11-29T21:16:07.920Z"
      },
      {
        "duration": 0,
        "start_time": "2022-11-29T21:16:07.921Z"
      },
      {
        "duration": 0,
        "start_time": "2022-11-29T21:16:07.923Z"
      },
      {
        "duration": 0,
        "start_time": "2022-11-29T21:16:07.924Z"
      },
      {
        "duration": 0,
        "start_time": "2022-11-29T21:16:07.925Z"
      },
      {
        "duration": 0,
        "start_time": "2022-11-29T21:16:07.926Z"
      },
      {
        "duration": 0,
        "start_time": "2022-11-29T21:16:07.927Z"
      },
      {
        "duration": 0,
        "start_time": "2022-11-29T21:16:07.928Z"
      },
      {
        "duration": 0,
        "start_time": "2022-11-29T21:16:07.929Z"
      },
      {
        "duration": 0,
        "start_time": "2022-11-29T21:16:07.930Z"
      },
      {
        "duration": 0,
        "start_time": "2022-11-29T21:16:07.931Z"
      },
      {
        "duration": 0,
        "start_time": "2022-11-29T21:16:07.932Z"
      },
      {
        "duration": 0,
        "start_time": "2022-11-29T21:16:07.933Z"
      },
      {
        "duration": 0,
        "start_time": "2022-11-29T21:16:07.934Z"
      },
      {
        "duration": 0,
        "start_time": "2022-11-29T21:16:07.935Z"
      },
      {
        "duration": 0,
        "start_time": "2022-11-29T21:16:07.936Z"
      },
      {
        "duration": 0,
        "start_time": "2022-11-29T21:16:07.937Z"
      },
      {
        "duration": 0,
        "start_time": "2022-11-29T21:16:07.938Z"
      },
      {
        "duration": 0,
        "start_time": "2022-11-29T21:16:07.939Z"
      },
      {
        "duration": 0,
        "start_time": "2022-11-29T21:16:07.940Z"
      },
      {
        "duration": 0,
        "start_time": "2022-11-29T21:16:07.941Z"
      },
      {
        "duration": 0,
        "start_time": "2022-11-29T21:16:07.943Z"
      },
      {
        "duration": 0,
        "start_time": "2022-11-29T21:16:07.943Z"
      },
      {
        "duration": 0,
        "start_time": "2022-11-29T21:16:07.945Z"
      },
      {
        "duration": 1463,
        "start_time": "2022-11-29T21:17:08.273Z"
      },
      {
        "duration": 93,
        "start_time": "2022-11-29T21:17:09.738Z"
      },
      {
        "duration": 5,
        "start_time": "2022-11-29T21:17:09.833Z"
      },
      {
        "duration": 10,
        "start_time": "2022-11-29T21:17:09.840Z"
      },
      {
        "duration": 11,
        "start_time": "2022-11-29T21:17:09.852Z"
      },
      {
        "duration": 3,
        "start_time": "2022-11-29T21:17:09.865Z"
      },
      {
        "duration": 6,
        "start_time": "2022-11-29T21:17:09.870Z"
      },
      {
        "duration": 11,
        "start_time": "2022-11-29T21:17:09.877Z"
      },
      {
        "duration": 22,
        "start_time": "2022-11-29T21:17:09.890Z"
      },
      {
        "duration": 5,
        "start_time": "2022-11-29T21:17:09.915Z"
      },
      {
        "duration": 35,
        "start_time": "2022-11-29T21:17:09.922Z"
      },
      {
        "duration": 17,
        "start_time": "2022-11-29T21:17:09.958Z"
      },
      {
        "duration": 142,
        "start_time": "2022-11-29T21:17:09.977Z"
      },
      {
        "duration": 0,
        "start_time": "2022-11-29T21:17:10.122Z"
      },
      {
        "duration": 0,
        "start_time": "2022-11-29T21:17:10.124Z"
      },
      {
        "duration": 0,
        "start_time": "2022-11-29T21:17:10.125Z"
      },
      {
        "duration": 0,
        "start_time": "2022-11-29T21:17:10.127Z"
      },
      {
        "duration": 0,
        "start_time": "2022-11-29T21:17:10.129Z"
      },
      {
        "duration": 0,
        "start_time": "2022-11-29T21:17:10.130Z"
      },
      {
        "duration": 0,
        "start_time": "2022-11-29T21:17:10.134Z"
      },
      {
        "duration": 0,
        "start_time": "2022-11-29T21:17:10.135Z"
      },
      {
        "duration": 0,
        "start_time": "2022-11-29T21:17:10.137Z"
      },
      {
        "duration": 0,
        "start_time": "2022-11-29T21:17:10.138Z"
      },
      {
        "duration": 0,
        "start_time": "2022-11-29T21:17:10.140Z"
      },
      {
        "duration": 0,
        "start_time": "2022-11-29T21:17:10.141Z"
      },
      {
        "duration": 0,
        "start_time": "2022-11-29T21:17:10.143Z"
      },
      {
        "duration": 0,
        "start_time": "2022-11-29T21:17:10.145Z"
      },
      {
        "duration": 0,
        "start_time": "2022-11-29T21:17:10.147Z"
      },
      {
        "duration": 0,
        "start_time": "2022-11-29T21:17:10.148Z"
      },
      {
        "duration": 0,
        "start_time": "2022-11-29T21:17:10.149Z"
      },
      {
        "duration": 0,
        "start_time": "2022-11-29T21:17:10.150Z"
      },
      {
        "duration": 0,
        "start_time": "2022-11-29T21:17:10.151Z"
      },
      {
        "duration": 0,
        "start_time": "2022-11-29T21:17:10.153Z"
      },
      {
        "duration": 0,
        "start_time": "2022-11-29T21:17:10.153Z"
      },
      {
        "duration": 0,
        "start_time": "2022-11-29T21:17:10.154Z"
      },
      {
        "duration": 0,
        "start_time": "2022-11-29T21:17:10.155Z"
      },
      {
        "duration": 0,
        "start_time": "2022-11-29T21:17:10.156Z"
      },
      {
        "duration": 0,
        "start_time": "2022-11-29T21:17:10.157Z"
      },
      {
        "duration": 0,
        "start_time": "2022-11-29T21:17:10.158Z"
      },
      {
        "duration": 0,
        "start_time": "2022-11-29T21:17:10.216Z"
      },
      {
        "duration": 0,
        "start_time": "2022-11-29T21:17:10.217Z"
      },
      {
        "duration": 0,
        "start_time": "2022-11-29T21:17:10.219Z"
      },
      {
        "duration": 442,
        "start_time": "2022-11-29T21:17:18.647Z"
      },
      {
        "duration": 12,
        "start_time": "2022-11-29T21:17:40.526Z"
      },
      {
        "duration": 19,
        "start_time": "2022-11-29T21:19:15.110Z"
      },
      {
        "duration": 14,
        "start_time": "2022-11-29T21:22:35.290Z"
      },
      {
        "duration": 3,
        "start_time": "2022-11-29T21:24:20.766Z"
      },
      {
        "duration": 10,
        "start_time": "2022-11-29T21:25:13.078Z"
      },
      {
        "duration": 3,
        "start_time": "2022-11-29T21:25:16.331Z"
      },
      {
        "duration": 23,
        "start_time": "2022-11-29T21:25:18.960Z"
      },
      {
        "duration": 16,
        "start_time": "2022-11-29T21:25:54.030Z"
      },
      {
        "duration": 14,
        "start_time": "2022-11-29T21:25:59.531Z"
      },
      {
        "duration": 16,
        "start_time": "2022-11-29T21:26:15.005Z"
      },
      {
        "duration": 689,
        "start_time": "2022-11-29T21:36:12.132Z"
      },
      {
        "duration": 21,
        "start_time": "2022-11-29T21:36:24.834Z"
      },
      {
        "duration": 17,
        "start_time": "2022-11-29T21:38:02.245Z"
      },
      {
        "duration": 12,
        "start_time": "2022-11-29T21:38:30.425Z"
      },
      {
        "duration": 4,
        "start_time": "2022-11-29T21:38:35.074Z"
      },
      {
        "duration": 9,
        "start_time": "2022-11-29T21:38:51.231Z"
      },
      {
        "duration": 4,
        "start_time": "2022-11-29T21:39:10.949Z"
      },
      {
        "duration": 17,
        "start_time": "2022-11-29T21:39:49.602Z"
      },
      {
        "duration": 4,
        "start_time": "2022-11-29T21:39:51.812Z"
      },
      {
        "duration": 15,
        "start_time": "2022-11-29T21:40:58.847Z"
      },
      {
        "duration": 4,
        "start_time": "2022-11-29T21:41:10.610Z"
      },
      {
        "duration": 7,
        "start_time": "2022-11-29T21:42:37.628Z"
      },
      {
        "duration": 4,
        "start_time": "2022-11-29T21:42:40.209Z"
      },
      {
        "duration": 8,
        "start_time": "2022-11-29T21:49:38.391Z"
      },
      {
        "duration": 13,
        "start_time": "2022-11-29T21:53:09.102Z"
      },
      {
        "duration": 10,
        "start_time": "2022-11-29T21:53:25.966Z"
      },
      {
        "duration": 10,
        "start_time": "2022-11-29T21:53:33.066Z"
      },
      {
        "duration": 4,
        "start_time": "2022-11-29T21:53:48.138Z"
      },
      {
        "duration": 5,
        "start_time": "2022-11-29T21:54:00.299Z"
      },
      {
        "duration": 11,
        "start_time": "2022-11-29T21:59:19.748Z"
      },
      {
        "duration": 10,
        "start_time": "2022-11-29T21:59:34.186Z"
      },
      {
        "duration": 4,
        "start_time": "2022-11-29T21:59:40.733Z"
      },
      {
        "duration": 4,
        "start_time": "2022-11-29T21:59:56.674Z"
      },
      {
        "duration": 5,
        "start_time": "2022-11-29T22:00:15.675Z"
      },
      {
        "duration": 10,
        "start_time": "2022-11-29T22:00:37.528Z"
      },
      {
        "duration": 4,
        "start_time": "2022-11-29T22:00:49.808Z"
      },
      {
        "duration": 10,
        "start_time": "2022-11-29T22:00:51.853Z"
      },
      {
        "duration": 3,
        "start_time": "2022-11-29T22:00:57.300Z"
      },
      {
        "duration": 10,
        "start_time": "2022-11-29T22:01:35.415Z"
      },
      {
        "duration": 10,
        "start_time": "2022-11-29T22:01:47.174Z"
      },
      {
        "duration": 11,
        "start_time": "2022-11-29T22:02:19.707Z"
      },
      {
        "duration": 11,
        "start_time": "2022-11-29T22:02:30.396Z"
      },
      {
        "duration": 10,
        "start_time": "2022-11-29T22:02:50.694Z"
      },
      {
        "duration": 10,
        "start_time": "2022-11-29T22:02:57.020Z"
      },
      {
        "duration": 4,
        "start_time": "2022-11-29T22:09:05.948Z"
      },
      {
        "duration": 4,
        "start_time": "2022-11-29T22:10:03.918Z"
      },
      {
        "duration": 17,
        "start_time": "2022-11-29T22:10:23.027Z"
      },
      {
        "duration": 3,
        "start_time": "2022-11-29T22:10:43.585Z"
      },
      {
        "duration": 12,
        "start_time": "2022-11-29T22:11:17.863Z"
      },
      {
        "duration": 16,
        "start_time": "2022-11-29T22:11:24.353Z"
      },
      {
        "duration": 13,
        "start_time": "2022-11-29T22:11:35.679Z"
      },
      {
        "duration": 5,
        "start_time": "2022-11-29T22:11:50.928Z"
      },
      {
        "duration": 14,
        "start_time": "2022-11-29T22:12:06.705Z"
      },
      {
        "duration": 8,
        "start_time": "2022-11-29T22:12:35.275Z"
      },
      {
        "duration": 16,
        "start_time": "2022-11-29T22:12:43.468Z"
      },
      {
        "duration": 3,
        "start_time": "2022-11-29T22:13:49.247Z"
      },
      {
        "duration": 16,
        "start_time": "2022-11-29T22:13:50.245Z"
      },
      {
        "duration": 4,
        "start_time": "2022-11-29T22:14:21.271Z"
      },
      {
        "duration": 14,
        "start_time": "2022-11-29T22:14:23.650Z"
      },
      {
        "duration": 18,
        "start_time": "2022-11-29T22:14:36.543Z"
      },
      {
        "duration": 1434,
        "start_time": "2022-11-29T22:14:53.082Z"
      },
      {
        "duration": 54,
        "start_time": "2022-11-29T22:14:54.518Z"
      },
      {
        "duration": 5,
        "start_time": "2022-11-29T22:14:54.574Z"
      },
      {
        "duration": 11,
        "start_time": "2022-11-29T22:14:54.581Z"
      },
      {
        "duration": 30,
        "start_time": "2022-11-29T22:14:54.593Z"
      },
      {
        "duration": 5,
        "start_time": "2022-11-29T22:14:54.625Z"
      },
      {
        "duration": 16,
        "start_time": "2022-11-29T22:14:54.631Z"
      },
      {
        "duration": 19,
        "start_time": "2022-11-29T22:14:54.649Z"
      },
      {
        "duration": 14,
        "start_time": "2022-11-29T22:14:54.669Z"
      },
      {
        "duration": 24,
        "start_time": "2022-11-29T22:14:54.686Z"
      },
      {
        "duration": 34,
        "start_time": "2022-11-29T22:14:54.712Z"
      },
      {
        "duration": 26,
        "start_time": "2022-11-29T22:14:54.748Z"
      },
      {
        "duration": 14,
        "start_time": "2022-11-29T22:14:54.775Z"
      },
      {
        "duration": 25,
        "start_time": "2022-11-29T22:14:54.790Z"
      },
      {
        "duration": 19,
        "start_time": "2022-11-29T22:14:54.817Z"
      },
      {
        "duration": 147,
        "start_time": "2022-11-29T22:14:54.838Z"
      },
      {
        "duration": 0,
        "start_time": "2022-11-29T22:14:54.988Z"
      },
      {
        "duration": 0,
        "start_time": "2022-11-29T22:14:54.989Z"
      },
      {
        "duration": 0,
        "start_time": "2022-11-29T22:14:54.990Z"
      },
      {
        "duration": 1,
        "start_time": "2022-11-29T22:14:54.991Z"
      },
      {
        "duration": 0,
        "start_time": "2022-11-29T22:14:54.993Z"
      },
      {
        "duration": 0,
        "start_time": "2022-11-29T22:14:54.993Z"
      },
      {
        "duration": 0,
        "start_time": "2022-11-29T22:14:54.995Z"
      },
      {
        "duration": 0,
        "start_time": "2022-11-29T22:14:54.996Z"
      },
      {
        "duration": 0,
        "start_time": "2022-11-29T22:14:54.997Z"
      },
      {
        "duration": 0,
        "start_time": "2022-11-29T22:14:54.998Z"
      },
      {
        "duration": 0,
        "start_time": "2022-11-29T22:14:55.012Z"
      },
      {
        "duration": 0,
        "start_time": "2022-11-29T22:14:55.014Z"
      },
      {
        "duration": 0,
        "start_time": "2022-11-29T22:14:55.015Z"
      },
      {
        "duration": 0,
        "start_time": "2022-11-29T22:14:55.016Z"
      },
      {
        "duration": 0,
        "start_time": "2022-11-29T22:14:55.017Z"
      },
      {
        "duration": 0,
        "start_time": "2022-11-29T22:14:55.018Z"
      },
      {
        "duration": 0,
        "start_time": "2022-11-29T22:14:55.019Z"
      },
      {
        "duration": 0,
        "start_time": "2022-11-29T22:14:55.021Z"
      },
      {
        "duration": 0,
        "start_time": "2022-11-29T22:14:55.022Z"
      },
      {
        "duration": 0,
        "start_time": "2022-11-29T22:14:55.023Z"
      },
      {
        "duration": 0,
        "start_time": "2022-11-29T22:14:55.024Z"
      },
      {
        "duration": 0,
        "start_time": "2022-11-29T22:14:55.025Z"
      },
      {
        "duration": 0,
        "start_time": "2022-11-29T22:14:55.026Z"
      },
      {
        "duration": 0,
        "start_time": "2022-11-29T22:14:55.027Z"
      },
      {
        "duration": 0,
        "start_time": "2022-11-29T22:14:55.028Z"
      },
      {
        "duration": 0,
        "start_time": "2022-11-29T22:14:55.030Z"
      },
      {
        "duration": 0,
        "start_time": "2022-11-29T22:14:55.030Z"
      },
      {
        "duration": 0,
        "start_time": "2022-11-29T22:14:55.032Z"
      },
      {
        "duration": 0,
        "start_time": "2022-11-29T22:14:55.033Z"
      },
      {
        "duration": 0,
        "start_time": "2022-11-29T22:14:55.034Z"
      },
      {
        "duration": 0,
        "start_time": "2022-11-29T22:14:55.035Z"
      },
      {
        "duration": 1897,
        "start_time": "2022-11-29T22:15:30.252Z"
      },
      {
        "duration": 83,
        "start_time": "2022-11-29T22:15:32.151Z"
      },
      {
        "duration": 4,
        "start_time": "2022-11-29T22:15:32.236Z"
      },
      {
        "duration": 7,
        "start_time": "2022-11-29T22:15:32.242Z"
      },
      {
        "duration": 63,
        "start_time": "2022-11-29T22:15:32.250Z"
      },
      {
        "duration": 4,
        "start_time": "2022-11-29T22:15:32.316Z"
      },
      {
        "duration": 9,
        "start_time": "2022-11-29T22:15:32.321Z"
      },
      {
        "duration": 7,
        "start_time": "2022-11-29T22:15:32.332Z"
      },
      {
        "duration": 23,
        "start_time": "2022-11-29T22:15:32.341Z"
      },
      {
        "duration": 47,
        "start_time": "2022-11-29T22:15:32.366Z"
      },
      {
        "duration": 16,
        "start_time": "2022-11-29T22:15:32.415Z"
      },
      {
        "duration": 14,
        "start_time": "2022-11-29T22:15:32.432Z"
      },
      {
        "duration": 5,
        "start_time": "2022-11-29T22:15:32.448Z"
      },
      {
        "duration": 5,
        "start_time": "2022-11-29T22:15:32.454Z"
      },
      {
        "duration": 53,
        "start_time": "2022-11-29T22:15:32.461Z"
      },
      {
        "duration": 210,
        "start_time": "2022-11-29T22:15:32.516Z"
      },
      {
        "duration": 0,
        "start_time": "2022-11-29T22:15:32.728Z"
      },
      {
        "duration": 0,
        "start_time": "2022-11-29T22:15:32.729Z"
      },
      {
        "duration": 0,
        "start_time": "2022-11-29T22:15:32.730Z"
      },
      {
        "duration": 0,
        "start_time": "2022-11-29T22:15:32.731Z"
      },
      {
        "duration": 0,
        "start_time": "2022-11-29T22:15:32.732Z"
      },
      {
        "duration": 0,
        "start_time": "2022-11-29T22:15:32.733Z"
      },
      {
        "duration": 0,
        "start_time": "2022-11-29T22:15:32.734Z"
      },
      {
        "duration": 0,
        "start_time": "2022-11-29T22:15:32.735Z"
      },
      {
        "duration": 0,
        "start_time": "2022-11-29T22:15:32.736Z"
      },
      {
        "duration": 0,
        "start_time": "2022-11-29T22:15:32.737Z"
      },
      {
        "duration": 0,
        "start_time": "2022-11-29T22:15:32.738Z"
      },
      {
        "duration": 0,
        "start_time": "2022-11-29T22:15:32.739Z"
      },
      {
        "duration": 0,
        "start_time": "2022-11-29T22:15:32.740Z"
      },
      {
        "duration": 0,
        "start_time": "2022-11-29T22:15:32.741Z"
      },
      {
        "duration": 0,
        "start_time": "2022-11-29T22:15:32.742Z"
      },
      {
        "duration": 0,
        "start_time": "2022-11-29T22:15:32.743Z"
      },
      {
        "duration": 0,
        "start_time": "2022-11-29T22:15:32.743Z"
      },
      {
        "duration": 0,
        "start_time": "2022-11-29T22:15:32.744Z"
      },
      {
        "duration": 0,
        "start_time": "2022-11-29T22:15:32.745Z"
      },
      {
        "duration": 0,
        "start_time": "2022-11-29T22:15:32.746Z"
      },
      {
        "duration": 0,
        "start_time": "2022-11-29T22:15:32.747Z"
      },
      {
        "duration": 0,
        "start_time": "2022-11-29T22:15:32.748Z"
      },
      {
        "duration": 0,
        "start_time": "2022-11-29T22:15:32.749Z"
      },
      {
        "duration": 0,
        "start_time": "2022-11-29T22:15:32.750Z"
      },
      {
        "duration": 0,
        "start_time": "2022-11-29T22:15:32.751Z"
      },
      {
        "duration": 0,
        "start_time": "2022-11-29T22:15:32.813Z"
      },
      {
        "duration": 0,
        "start_time": "2022-11-29T22:15:32.814Z"
      },
      {
        "duration": 0,
        "start_time": "2022-11-29T22:15:32.815Z"
      },
      {
        "duration": 0,
        "start_time": "2022-11-29T22:15:32.815Z"
      },
      {
        "duration": 0,
        "start_time": "2022-11-29T22:15:32.817Z"
      },
      {
        "duration": 0,
        "start_time": "2022-11-29T22:15:32.818Z"
      },
      {
        "duration": 12,
        "start_time": "2022-11-29T22:15:41.199Z"
      },
      {
        "duration": 3,
        "start_time": "2022-11-29T22:16:01.308Z"
      },
      {
        "duration": 7,
        "start_time": "2022-11-29T22:16:01.834Z"
      },
      {
        "duration": 12,
        "start_time": "2022-11-29T22:16:04.335Z"
      },
      {
        "duration": 7,
        "start_time": "2022-11-29T22:17:29.192Z"
      },
      {
        "duration": 17,
        "start_time": "2022-11-29T22:17:31.264Z"
      },
      {
        "duration": 16,
        "start_time": "2022-11-29T22:17:54.184Z"
      },
      {
        "duration": 1939,
        "start_time": "2022-11-29T22:18:11.211Z"
      },
      {
        "duration": 86,
        "start_time": "2022-11-29T22:18:13.151Z"
      },
      {
        "duration": 5,
        "start_time": "2022-11-29T22:18:13.239Z"
      },
      {
        "duration": 18,
        "start_time": "2022-11-29T22:18:13.245Z"
      },
      {
        "duration": 8,
        "start_time": "2022-11-29T22:18:13.313Z"
      },
      {
        "duration": 17,
        "start_time": "2022-11-29T22:18:13.323Z"
      },
      {
        "duration": 36,
        "start_time": "2022-11-29T22:18:13.342Z"
      },
      {
        "duration": 12,
        "start_time": "2022-11-29T22:18:13.413Z"
      },
      {
        "duration": 12,
        "start_time": "2022-11-29T22:18:13.427Z"
      },
      {
        "duration": 37,
        "start_time": "2022-11-29T22:18:13.441Z"
      },
      {
        "duration": 14,
        "start_time": "2022-11-29T22:18:13.512Z"
      },
      {
        "duration": 12,
        "start_time": "2022-11-29T22:18:13.527Z"
      },
      {
        "duration": 22,
        "start_time": "2022-11-29T22:18:13.541Z"
      },
      {
        "duration": 10,
        "start_time": "2022-11-29T22:18:13.613Z"
      },
      {
        "duration": 25,
        "start_time": "2022-11-29T22:18:13.625Z"
      },
      {
        "duration": 198,
        "start_time": "2022-11-29T22:18:13.652Z"
      },
      {
        "duration": 0,
        "start_time": "2022-11-29T22:18:13.852Z"
      },
      {
        "duration": 0,
        "start_time": "2022-11-29T22:18:13.853Z"
      },
      {
        "duration": 0,
        "start_time": "2022-11-29T22:18:13.855Z"
      },
      {
        "duration": 0,
        "start_time": "2022-11-29T22:18:13.856Z"
      },
      {
        "duration": 0,
        "start_time": "2022-11-29T22:18:13.858Z"
      },
      {
        "duration": 0,
        "start_time": "2022-11-29T22:18:13.859Z"
      },
      {
        "duration": 0,
        "start_time": "2022-11-29T22:18:13.860Z"
      },
      {
        "duration": 0,
        "start_time": "2022-11-29T22:18:13.861Z"
      },
      {
        "duration": 0,
        "start_time": "2022-11-29T22:18:13.863Z"
      },
      {
        "duration": 0,
        "start_time": "2022-11-29T22:18:13.874Z"
      },
      {
        "duration": 0,
        "start_time": "2022-11-29T22:18:13.875Z"
      },
      {
        "duration": 0,
        "start_time": "2022-11-29T22:18:13.876Z"
      },
      {
        "duration": 0,
        "start_time": "2022-11-29T22:18:13.877Z"
      },
      {
        "duration": 0,
        "start_time": "2022-11-29T22:18:13.878Z"
      },
      {
        "duration": 0,
        "start_time": "2022-11-29T22:18:13.912Z"
      },
      {
        "duration": 0,
        "start_time": "2022-11-29T22:18:13.913Z"
      },
      {
        "duration": 0,
        "start_time": "2022-11-29T22:18:13.915Z"
      },
      {
        "duration": 0,
        "start_time": "2022-11-29T22:18:13.916Z"
      },
      {
        "duration": 0,
        "start_time": "2022-11-29T22:18:13.917Z"
      },
      {
        "duration": 0,
        "start_time": "2022-11-29T22:18:13.918Z"
      },
      {
        "duration": 0,
        "start_time": "2022-11-29T22:18:13.919Z"
      },
      {
        "duration": 0,
        "start_time": "2022-11-29T22:18:13.921Z"
      },
      {
        "duration": 0,
        "start_time": "2022-11-29T22:18:13.922Z"
      },
      {
        "duration": 0,
        "start_time": "2022-11-29T22:18:13.923Z"
      },
      {
        "duration": 0,
        "start_time": "2022-11-29T22:18:13.924Z"
      },
      {
        "duration": 0,
        "start_time": "2022-11-29T22:18:13.925Z"
      },
      {
        "duration": 0,
        "start_time": "2022-11-29T22:18:13.926Z"
      },
      {
        "duration": 0,
        "start_time": "2022-11-29T22:18:13.927Z"
      },
      {
        "duration": 0,
        "start_time": "2022-11-29T22:18:13.928Z"
      },
      {
        "duration": 0,
        "start_time": "2022-11-29T22:18:13.929Z"
      },
      {
        "duration": 0,
        "start_time": "2022-11-29T22:18:13.930Z"
      },
      {
        "duration": 17,
        "start_time": "2022-11-29T22:18:27.270Z"
      },
      {
        "duration": 1430,
        "start_time": "2022-11-29T22:19:49.228Z"
      },
      {
        "duration": 51,
        "start_time": "2022-11-29T22:19:50.660Z"
      },
      {
        "duration": 5,
        "start_time": "2022-11-29T22:19:50.712Z"
      },
      {
        "duration": 6,
        "start_time": "2022-11-29T22:19:50.719Z"
      },
      {
        "duration": 17,
        "start_time": "2022-11-29T22:19:50.727Z"
      },
      {
        "duration": 5,
        "start_time": "2022-11-29T22:19:50.745Z"
      },
      {
        "duration": 5,
        "start_time": "2022-11-29T22:19:50.752Z"
      },
      {
        "duration": 18,
        "start_time": "2022-11-29T22:19:50.758Z"
      },
      {
        "duration": 10,
        "start_time": "2022-11-29T22:19:50.777Z"
      },
      {
        "duration": 5,
        "start_time": "2022-11-29T22:19:50.791Z"
      },
      {
        "duration": 29,
        "start_time": "2022-11-29T22:19:50.797Z"
      },
      {
        "duration": 14,
        "start_time": "2022-11-29T22:19:50.828Z"
      },
      {
        "duration": 6,
        "start_time": "2022-11-29T22:19:50.844Z"
      },
      {
        "duration": 9,
        "start_time": "2022-11-29T22:19:50.852Z"
      },
      {
        "duration": 22,
        "start_time": "2022-11-29T22:19:50.863Z"
      },
      {
        "duration": 5,
        "start_time": "2022-11-29T22:19:50.912Z"
      },
      {
        "duration": 132,
        "start_time": "2022-11-29T22:19:50.919Z"
      },
      {
        "duration": 0,
        "start_time": "2022-11-29T22:19:51.054Z"
      },
      {
        "duration": 0,
        "start_time": "2022-11-29T22:19:51.055Z"
      },
      {
        "duration": 0,
        "start_time": "2022-11-29T22:19:51.057Z"
      },
      {
        "duration": 0,
        "start_time": "2022-11-29T22:19:51.058Z"
      },
      {
        "duration": 0,
        "start_time": "2022-11-29T22:19:51.060Z"
      },
      {
        "duration": 0,
        "start_time": "2022-11-29T22:19:51.061Z"
      },
      {
        "duration": 0,
        "start_time": "2022-11-29T22:19:51.062Z"
      },
      {
        "duration": 0,
        "start_time": "2022-11-29T22:19:51.064Z"
      },
      {
        "duration": 0,
        "start_time": "2022-11-29T22:19:51.066Z"
      },
      {
        "duration": 0,
        "start_time": "2022-11-29T22:19:51.068Z"
      },
      {
        "duration": 0,
        "start_time": "2022-11-29T22:19:51.070Z"
      },
      {
        "duration": 0,
        "start_time": "2022-11-29T22:19:51.071Z"
      },
      {
        "duration": 0,
        "start_time": "2022-11-29T22:19:51.073Z"
      },
      {
        "duration": 0,
        "start_time": "2022-11-29T22:19:51.074Z"
      },
      {
        "duration": 0,
        "start_time": "2022-11-29T22:19:51.113Z"
      },
      {
        "duration": 0,
        "start_time": "2022-11-29T22:19:51.115Z"
      },
      {
        "duration": 0,
        "start_time": "2022-11-29T22:19:51.116Z"
      },
      {
        "duration": 0,
        "start_time": "2022-11-29T22:19:51.118Z"
      },
      {
        "duration": 0,
        "start_time": "2022-11-29T22:19:51.119Z"
      },
      {
        "duration": 0,
        "start_time": "2022-11-29T22:19:51.121Z"
      },
      {
        "duration": 0,
        "start_time": "2022-11-29T22:19:51.122Z"
      },
      {
        "duration": 0,
        "start_time": "2022-11-29T22:19:51.123Z"
      },
      {
        "duration": 0,
        "start_time": "2022-11-29T22:19:51.125Z"
      },
      {
        "duration": 0,
        "start_time": "2022-11-29T22:19:51.126Z"
      },
      {
        "duration": 0,
        "start_time": "2022-11-29T22:19:51.128Z"
      },
      {
        "duration": 0,
        "start_time": "2022-11-29T22:19:51.129Z"
      },
      {
        "duration": 0,
        "start_time": "2022-11-29T22:19:51.131Z"
      },
      {
        "duration": 0,
        "start_time": "2022-11-29T22:19:51.132Z"
      },
      {
        "duration": 0,
        "start_time": "2022-11-29T22:19:51.134Z"
      },
      {
        "duration": 0,
        "start_time": "2022-11-29T22:19:51.135Z"
      },
      {
        "duration": 1409,
        "start_time": "2022-11-29T22:20:37.055Z"
      },
      {
        "duration": 52,
        "start_time": "2022-11-29T22:20:38.465Z"
      },
      {
        "duration": 5,
        "start_time": "2022-11-29T22:20:38.518Z"
      },
      {
        "duration": 7,
        "start_time": "2022-11-29T22:20:38.525Z"
      },
      {
        "duration": 12,
        "start_time": "2022-11-29T22:20:38.533Z"
      },
      {
        "duration": 5,
        "start_time": "2022-11-29T22:20:38.547Z"
      },
      {
        "duration": 6,
        "start_time": "2022-11-29T22:20:38.553Z"
      },
      {
        "duration": 17,
        "start_time": "2022-11-29T22:20:38.560Z"
      },
      {
        "duration": 13,
        "start_time": "2022-11-29T22:20:38.578Z"
      },
      {
        "duration": 7,
        "start_time": "2022-11-29T22:20:38.594Z"
      },
      {
        "duration": 25,
        "start_time": "2022-11-29T22:20:38.603Z"
      },
      {
        "duration": 13,
        "start_time": "2022-11-29T22:20:38.629Z"
      },
      {
        "duration": 3,
        "start_time": "2022-11-29T22:20:38.644Z"
      },
      {
        "duration": 8,
        "start_time": "2022-11-29T22:20:38.649Z"
      },
      {
        "duration": 12,
        "start_time": "2022-11-29T22:20:38.659Z"
      },
      {
        "duration": 4,
        "start_time": "2022-11-29T22:20:38.673Z"
      },
      {
        "duration": 36,
        "start_time": "2022-11-29T22:20:38.679Z"
      },
      {
        "duration": 117,
        "start_time": "2022-11-29T22:20:38.717Z"
      },
      {
        "duration": 0,
        "start_time": "2022-11-29T22:20:38.836Z"
      },
      {
        "duration": 0,
        "start_time": "2022-11-29T22:20:38.837Z"
      },
      {
        "duration": 0,
        "start_time": "2022-11-29T22:20:38.839Z"
      },
      {
        "duration": 0,
        "start_time": "2022-11-29T22:20:38.840Z"
      },
      {
        "duration": 0,
        "start_time": "2022-11-29T22:20:38.841Z"
      },
      {
        "duration": 0,
        "start_time": "2022-11-29T22:20:38.842Z"
      },
      {
        "duration": 0,
        "start_time": "2022-11-29T22:20:38.843Z"
      },
      {
        "duration": 0,
        "start_time": "2022-11-29T22:20:38.844Z"
      },
      {
        "duration": 0,
        "start_time": "2022-11-29T22:20:38.845Z"
      },
      {
        "duration": 0,
        "start_time": "2022-11-29T22:20:38.845Z"
      },
      {
        "duration": 0,
        "start_time": "2022-11-29T22:20:38.846Z"
      },
      {
        "duration": 0,
        "start_time": "2022-11-29T22:20:38.848Z"
      },
      {
        "duration": 1,
        "start_time": "2022-11-29T22:20:38.848Z"
      },
      {
        "duration": 0,
        "start_time": "2022-11-29T22:20:38.850Z"
      },
      {
        "duration": 0,
        "start_time": "2022-11-29T22:20:38.851Z"
      },
      {
        "duration": 0,
        "start_time": "2022-11-29T22:20:38.851Z"
      },
      {
        "duration": 0,
        "start_time": "2022-11-29T22:20:38.852Z"
      },
      {
        "duration": 0,
        "start_time": "2022-11-29T22:20:38.853Z"
      },
      {
        "duration": 0,
        "start_time": "2022-11-29T22:20:38.854Z"
      },
      {
        "duration": 0,
        "start_time": "2022-11-29T22:20:38.855Z"
      },
      {
        "duration": 0,
        "start_time": "2022-11-29T22:20:38.857Z"
      },
      {
        "duration": 0,
        "start_time": "2022-11-29T22:20:38.858Z"
      },
      {
        "duration": 0,
        "start_time": "2022-11-29T22:20:38.859Z"
      },
      {
        "duration": 0,
        "start_time": "2022-11-29T22:20:38.860Z"
      },
      {
        "duration": 0,
        "start_time": "2022-11-29T22:20:38.861Z"
      },
      {
        "duration": 0,
        "start_time": "2022-11-29T22:20:38.862Z"
      },
      {
        "duration": 0,
        "start_time": "2022-11-29T22:20:38.864Z"
      },
      {
        "duration": 0,
        "start_time": "2022-11-29T22:20:38.865Z"
      },
      {
        "duration": 0,
        "start_time": "2022-11-29T22:20:38.866Z"
      },
      {
        "duration": 17,
        "start_time": "2022-11-29T22:20:56.989Z"
      },
      {
        "duration": 49,
        "start_time": "2022-11-29T22:21:20.559Z"
      },
      {
        "duration": 5,
        "start_time": "2022-11-29T22:21:32.305Z"
      },
      {
        "duration": 10,
        "start_time": "2022-11-29T22:21:34.626Z"
      },
      {
        "duration": 5,
        "start_time": "2022-11-29T22:21:47.256Z"
      },
      {
        "duration": 14,
        "start_time": "2022-11-29T22:22:02.335Z"
      },
      {
        "duration": 14,
        "start_time": "2022-11-29T22:22:09.026Z"
      },
      {
        "duration": 13,
        "start_time": "2022-11-29T22:22:16.289Z"
      },
      {
        "duration": 3,
        "start_time": "2022-11-29T22:22:51.746Z"
      },
      {
        "duration": 4,
        "start_time": "2022-11-29T22:23:16.184Z"
      },
      {
        "duration": 12,
        "start_time": "2022-11-29T22:23:34.337Z"
      },
      {
        "duration": 13,
        "start_time": "2022-11-29T22:23:38.297Z"
      },
      {
        "duration": 12,
        "start_time": "2022-11-29T22:23:50.269Z"
      },
      {
        "duration": 12,
        "start_time": "2022-11-29T22:24:30.331Z"
      },
      {
        "duration": 8,
        "start_time": "2022-11-29T22:24:44.917Z"
      },
      {
        "duration": 20,
        "start_time": "2022-11-29T22:24:59.179Z"
      },
      {
        "duration": 12,
        "start_time": "2022-11-29T22:25:28.056Z"
      },
      {
        "duration": 24,
        "start_time": "2022-11-29T22:25:32.105Z"
      },
      {
        "duration": 1420,
        "start_time": "2022-11-29T22:25:41.275Z"
      },
      {
        "duration": 53,
        "start_time": "2022-11-29T22:25:42.697Z"
      },
      {
        "duration": 4,
        "start_time": "2022-11-29T22:25:42.752Z"
      },
      {
        "duration": 5,
        "start_time": "2022-11-29T22:25:42.759Z"
      },
      {
        "duration": 13,
        "start_time": "2022-11-29T22:25:42.765Z"
      },
      {
        "duration": 14,
        "start_time": "2022-11-29T22:25:42.779Z"
      },
      {
        "duration": 6,
        "start_time": "2022-11-29T22:25:42.795Z"
      },
      {
        "duration": 21,
        "start_time": "2022-11-29T22:25:42.802Z"
      },
      {
        "duration": 16,
        "start_time": "2022-11-29T22:25:42.824Z"
      },
      {
        "duration": 6,
        "start_time": "2022-11-29T22:25:42.843Z"
      },
      {
        "duration": 17,
        "start_time": "2022-11-29T22:25:42.851Z"
      },
      {
        "duration": 12,
        "start_time": "2022-11-29T22:25:42.870Z"
      },
      {
        "duration": 6,
        "start_time": "2022-11-29T22:25:42.883Z"
      },
      {
        "duration": 31,
        "start_time": "2022-11-29T22:25:42.890Z"
      },
      {
        "duration": 8,
        "start_time": "2022-11-29T22:25:42.923Z"
      },
      {
        "duration": 9,
        "start_time": "2022-11-29T22:25:42.933Z"
      },
      {
        "duration": 17,
        "start_time": "2022-11-29T22:25:42.944Z"
      },
      {
        "duration": 6,
        "start_time": "2022-11-29T22:25:42.963Z"
      },
      {
        "duration": 142,
        "start_time": "2022-11-29T22:25:42.971Z"
      },
      {
        "duration": 0,
        "start_time": "2022-11-29T22:25:43.115Z"
      },
      {
        "duration": 0,
        "start_time": "2022-11-29T22:25:43.116Z"
      },
      {
        "duration": 0,
        "start_time": "2022-11-29T22:25:43.117Z"
      },
      {
        "duration": 0,
        "start_time": "2022-11-29T22:25:43.118Z"
      },
      {
        "duration": 0,
        "start_time": "2022-11-29T22:25:43.120Z"
      },
      {
        "duration": 0,
        "start_time": "2022-11-29T22:25:43.121Z"
      },
      {
        "duration": 0,
        "start_time": "2022-11-29T22:25:43.121Z"
      },
      {
        "duration": 0,
        "start_time": "2022-11-29T22:25:43.123Z"
      },
      {
        "duration": 0,
        "start_time": "2022-11-29T22:25:43.124Z"
      },
      {
        "duration": 0,
        "start_time": "2022-11-29T22:25:43.125Z"
      },
      {
        "duration": 0,
        "start_time": "2022-11-29T22:25:43.126Z"
      },
      {
        "duration": 0,
        "start_time": "2022-11-29T22:25:43.127Z"
      },
      {
        "duration": 0,
        "start_time": "2022-11-29T22:25:43.129Z"
      },
      {
        "duration": 0,
        "start_time": "2022-11-29T22:25:43.130Z"
      },
      {
        "duration": 0,
        "start_time": "2022-11-29T22:25:43.131Z"
      },
      {
        "duration": 0,
        "start_time": "2022-11-29T22:25:43.132Z"
      },
      {
        "duration": 0,
        "start_time": "2022-11-29T22:25:43.133Z"
      },
      {
        "duration": 0,
        "start_time": "2022-11-29T22:25:43.134Z"
      },
      {
        "duration": 0,
        "start_time": "2022-11-29T22:25:43.135Z"
      },
      {
        "duration": 0,
        "start_time": "2022-11-29T22:25:43.136Z"
      },
      {
        "duration": 0,
        "start_time": "2022-11-29T22:25:43.137Z"
      },
      {
        "duration": 0,
        "start_time": "2022-11-29T22:25:43.138Z"
      },
      {
        "duration": 0,
        "start_time": "2022-11-29T22:25:43.139Z"
      },
      {
        "duration": 0,
        "start_time": "2022-11-29T22:25:43.140Z"
      },
      {
        "duration": 0,
        "start_time": "2022-11-29T22:25:43.142Z"
      },
      {
        "duration": 0,
        "start_time": "2022-11-29T22:25:43.142Z"
      },
      {
        "duration": 0,
        "start_time": "2022-11-29T22:25:43.144Z"
      },
      {
        "duration": 0,
        "start_time": "2022-11-29T22:25:43.144Z"
      },
      {
        "duration": 0,
        "start_time": "2022-11-29T22:25:43.146Z"
      },
      {
        "duration": 0,
        "start_time": "2022-11-29T22:25:43.147Z"
      },
      {
        "duration": 19,
        "start_time": "2022-11-29T22:25:53.517Z"
      },
      {
        "duration": 16,
        "start_time": "2022-11-29T22:28:00.058Z"
      },
      {
        "duration": 1465,
        "start_time": "2022-11-29T22:28:05.970Z"
      },
      {
        "duration": 52,
        "start_time": "2022-11-29T22:28:07.437Z"
      },
      {
        "duration": 6,
        "start_time": "2022-11-29T22:28:07.491Z"
      },
      {
        "duration": 9,
        "start_time": "2022-11-29T22:28:07.499Z"
      },
      {
        "duration": 10,
        "start_time": "2022-11-29T22:28:07.510Z"
      },
      {
        "duration": 7,
        "start_time": "2022-11-29T22:28:07.521Z"
      },
      {
        "duration": 7,
        "start_time": "2022-11-29T22:28:07.530Z"
      },
      {
        "duration": 8,
        "start_time": "2022-11-29T22:28:07.539Z"
      },
      {
        "duration": 10,
        "start_time": "2022-11-29T22:28:07.549Z"
      },
      {
        "duration": 6,
        "start_time": "2022-11-29T22:28:07.562Z"
      },
      {
        "duration": 36,
        "start_time": "2022-11-29T22:28:07.569Z"
      },
      {
        "duration": 14,
        "start_time": "2022-11-29T22:28:07.607Z"
      },
      {
        "duration": 9,
        "start_time": "2022-11-29T22:28:07.623Z"
      },
      {
        "duration": 16,
        "start_time": "2022-11-29T22:28:07.633Z"
      },
      {
        "duration": 9,
        "start_time": "2022-11-29T22:28:07.651Z"
      },
      {
        "duration": 10,
        "start_time": "2022-11-29T22:28:07.661Z"
      },
      {
        "duration": 20,
        "start_time": "2022-11-29T22:28:07.673Z"
      },
      {
        "duration": 18,
        "start_time": "2022-11-29T22:28:07.695Z"
      },
      {
        "duration": 228,
        "start_time": "2022-11-29T22:28:07.715Z"
      },
      {
        "duration": 0,
        "start_time": "2022-11-29T22:28:07.945Z"
      },
      {
        "duration": 0,
        "start_time": "2022-11-29T22:28:07.946Z"
      },
      {
        "duration": 0,
        "start_time": "2022-11-29T22:28:07.947Z"
      },
      {
        "duration": 0,
        "start_time": "2022-11-29T22:28:07.948Z"
      },
      {
        "duration": 0,
        "start_time": "2022-11-29T22:28:07.949Z"
      },
      {
        "duration": 0,
        "start_time": "2022-11-29T22:28:07.951Z"
      },
      {
        "duration": 0,
        "start_time": "2022-11-29T22:28:07.952Z"
      },
      {
        "duration": 0,
        "start_time": "2022-11-29T22:28:07.953Z"
      },
      {
        "duration": 0,
        "start_time": "2022-11-29T22:28:07.954Z"
      },
      {
        "duration": 0,
        "start_time": "2022-11-29T22:28:07.955Z"
      },
      {
        "duration": 0,
        "start_time": "2022-11-29T22:28:08.013Z"
      },
      {
        "duration": 0,
        "start_time": "2022-11-29T22:28:08.014Z"
      },
      {
        "duration": 0,
        "start_time": "2022-11-29T22:28:08.015Z"
      },
      {
        "duration": 0,
        "start_time": "2022-11-29T22:28:08.016Z"
      },
      {
        "duration": 0,
        "start_time": "2022-11-29T22:28:08.017Z"
      },
      {
        "duration": 0,
        "start_time": "2022-11-29T22:28:08.018Z"
      },
      {
        "duration": 0,
        "start_time": "2022-11-29T22:28:08.019Z"
      },
      {
        "duration": 0,
        "start_time": "2022-11-29T22:28:08.020Z"
      },
      {
        "duration": 0,
        "start_time": "2022-11-29T22:28:08.022Z"
      },
      {
        "duration": 0,
        "start_time": "2022-11-29T22:28:08.022Z"
      },
      {
        "duration": 0,
        "start_time": "2022-11-29T22:28:08.024Z"
      },
      {
        "duration": 0,
        "start_time": "2022-11-29T22:28:08.025Z"
      },
      {
        "duration": 0,
        "start_time": "2022-11-29T22:28:08.026Z"
      },
      {
        "duration": 0,
        "start_time": "2022-11-29T22:28:08.027Z"
      },
      {
        "duration": 0,
        "start_time": "2022-11-29T22:28:08.028Z"
      },
      {
        "duration": 0,
        "start_time": "2022-11-29T22:28:08.029Z"
      },
      {
        "duration": 0,
        "start_time": "2022-11-29T22:28:08.030Z"
      },
      {
        "duration": 0,
        "start_time": "2022-11-29T22:28:08.031Z"
      },
      {
        "duration": 0,
        "start_time": "2022-11-29T22:28:08.032Z"
      },
      {
        "duration": 0,
        "start_time": "2022-11-29T22:28:08.033Z"
      },
      {
        "duration": 2279,
        "start_time": "2022-11-29T22:29:17.968Z"
      },
      {
        "duration": 66,
        "start_time": "2022-11-29T22:29:20.249Z"
      },
      {
        "duration": 5,
        "start_time": "2022-11-29T22:29:20.317Z"
      },
      {
        "duration": 32,
        "start_time": "2022-11-29T22:29:20.324Z"
      },
      {
        "duration": 40,
        "start_time": "2022-11-29T22:29:20.358Z"
      },
      {
        "duration": 31,
        "start_time": "2022-11-29T22:29:20.400Z"
      },
      {
        "duration": 14,
        "start_time": "2022-11-29T22:29:20.433Z"
      },
      {
        "duration": 25,
        "start_time": "2022-11-29T22:29:20.449Z"
      },
      {
        "duration": 36,
        "start_time": "2022-11-29T22:29:20.476Z"
      },
      {
        "duration": 5,
        "start_time": "2022-11-29T22:29:20.515Z"
      },
      {
        "duration": 16,
        "start_time": "2022-11-29T22:29:20.522Z"
      },
      {
        "duration": 12,
        "start_time": "2022-11-29T22:29:20.540Z"
      },
      {
        "duration": 5,
        "start_time": "2022-11-29T22:29:20.554Z"
      },
      {
        "duration": 4,
        "start_time": "2022-11-29T22:29:20.613Z"
      },
      {
        "duration": 18,
        "start_time": "2022-11-29T22:29:20.619Z"
      },
      {
        "duration": 41,
        "start_time": "2022-11-29T22:29:20.638Z"
      },
      {
        "duration": 0,
        "start_time": "2022-11-29T22:29:20.713Z"
      },
      {
        "duration": 0,
        "start_time": "2022-11-29T22:29:20.714Z"
      },
      {
        "duration": 0,
        "start_time": "2022-11-29T22:29:20.715Z"
      },
      {
        "duration": 0,
        "start_time": "2022-11-29T22:29:20.715Z"
      },
      {
        "duration": 0,
        "start_time": "2022-11-29T22:29:20.716Z"
      },
      {
        "duration": 0,
        "start_time": "2022-11-29T22:29:20.717Z"
      },
      {
        "duration": 0,
        "start_time": "2022-11-29T22:29:20.718Z"
      },
      {
        "duration": 0,
        "start_time": "2022-11-29T22:29:20.719Z"
      },
      {
        "duration": 0,
        "start_time": "2022-11-29T22:29:20.720Z"
      },
      {
        "duration": 0,
        "start_time": "2022-11-29T22:29:20.721Z"
      },
      {
        "duration": 0,
        "start_time": "2022-11-29T22:29:20.722Z"
      },
      {
        "duration": 0,
        "start_time": "2022-11-29T22:29:20.723Z"
      },
      {
        "duration": 0,
        "start_time": "2022-11-29T22:29:20.724Z"
      },
      {
        "duration": 0,
        "start_time": "2022-11-29T22:29:20.725Z"
      },
      {
        "duration": 0,
        "start_time": "2022-11-29T22:29:20.726Z"
      },
      {
        "duration": 0,
        "start_time": "2022-11-29T22:29:20.727Z"
      },
      {
        "duration": 0,
        "start_time": "2022-11-29T22:29:20.728Z"
      },
      {
        "duration": 0,
        "start_time": "2022-11-29T22:29:20.729Z"
      },
      {
        "duration": 0,
        "start_time": "2022-11-29T22:29:20.730Z"
      },
      {
        "duration": 0,
        "start_time": "2022-11-29T22:29:20.731Z"
      },
      {
        "duration": 0,
        "start_time": "2022-11-29T22:29:20.732Z"
      },
      {
        "duration": 0,
        "start_time": "2022-11-29T22:29:20.733Z"
      },
      {
        "duration": 0,
        "start_time": "2022-11-29T22:29:20.734Z"
      },
      {
        "duration": 0,
        "start_time": "2022-11-29T22:29:20.735Z"
      },
      {
        "duration": 0,
        "start_time": "2022-11-29T22:29:20.736Z"
      },
      {
        "duration": 0,
        "start_time": "2022-11-29T22:29:20.737Z"
      },
      {
        "duration": 0,
        "start_time": "2022-11-29T22:29:20.738Z"
      },
      {
        "duration": 0,
        "start_time": "2022-11-29T22:29:20.739Z"
      },
      {
        "duration": 0,
        "start_time": "2022-11-29T22:29:20.740Z"
      },
      {
        "duration": 0,
        "start_time": "2022-11-29T22:29:20.741Z"
      },
      {
        "duration": 0,
        "start_time": "2022-11-29T22:29:20.742Z"
      },
      {
        "duration": 0,
        "start_time": "2022-11-29T22:29:20.742Z"
      },
      {
        "duration": 0,
        "start_time": "2022-11-29T22:29:20.744Z"
      },
      {
        "duration": 12,
        "start_time": "2022-11-29T22:29:36.607Z"
      },
      {
        "duration": 108,
        "start_time": "2022-11-29T22:30:14.044Z"
      },
      {
        "duration": 4,
        "start_time": "2022-11-29T22:30:17.467Z"
      },
      {
        "duration": 31,
        "start_time": "2022-11-29T22:30:19.189Z"
      },
      {
        "duration": 1438,
        "start_time": "2022-11-29T22:31:37.016Z"
      },
      {
        "duration": 52,
        "start_time": "2022-11-29T22:31:38.456Z"
      },
      {
        "duration": 5,
        "start_time": "2022-11-29T22:31:38.509Z"
      },
      {
        "duration": 7,
        "start_time": "2022-11-29T22:31:38.516Z"
      },
      {
        "duration": 13,
        "start_time": "2022-11-29T22:31:38.525Z"
      },
      {
        "duration": 6,
        "start_time": "2022-11-29T22:31:38.540Z"
      },
      {
        "duration": 7,
        "start_time": "2022-11-29T22:31:38.547Z"
      },
      {
        "duration": 7,
        "start_time": "2022-11-29T22:31:38.556Z"
      },
      {
        "duration": 5,
        "start_time": "2022-11-29T22:31:38.565Z"
      },
      {
        "duration": 4,
        "start_time": "2022-11-29T22:31:38.573Z"
      },
      {
        "duration": 49,
        "start_time": "2022-11-29T22:31:38.579Z"
      },
      {
        "duration": 13,
        "start_time": "2022-11-29T22:31:38.629Z"
      },
      {
        "duration": 4,
        "start_time": "2022-11-29T22:31:38.644Z"
      },
      {
        "duration": 5,
        "start_time": "2022-11-29T22:31:38.650Z"
      },
      {
        "duration": 31,
        "start_time": "2022-11-29T22:31:38.657Z"
      },
      {
        "duration": 36,
        "start_time": "2022-11-29T22:31:38.689Z"
      },
      {
        "duration": 56,
        "start_time": "2022-11-29T22:31:38.726Z"
      },
      {
        "duration": 0,
        "start_time": "2022-11-29T22:31:38.785Z"
      },
      {
        "duration": 0,
        "start_time": "2022-11-29T22:31:38.787Z"
      },
      {
        "duration": 0,
        "start_time": "2022-11-29T22:31:38.788Z"
      },
      {
        "duration": 0,
        "start_time": "2022-11-29T22:31:38.789Z"
      },
      {
        "duration": 0,
        "start_time": "2022-11-29T22:31:38.791Z"
      },
      {
        "duration": 0,
        "start_time": "2022-11-29T22:31:38.792Z"
      },
      {
        "duration": 0,
        "start_time": "2022-11-29T22:31:38.793Z"
      },
      {
        "duration": 0,
        "start_time": "2022-11-29T22:31:38.794Z"
      },
      {
        "duration": 0,
        "start_time": "2022-11-29T22:31:38.795Z"
      },
      {
        "duration": 0,
        "start_time": "2022-11-29T22:31:38.796Z"
      },
      {
        "duration": 0,
        "start_time": "2022-11-29T22:31:38.797Z"
      },
      {
        "duration": 0,
        "start_time": "2022-11-29T22:31:38.798Z"
      },
      {
        "duration": 0,
        "start_time": "2022-11-29T22:31:38.799Z"
      },
      {
        "duration": 0,
        "start_time": "2022-11-29T22:31:38.801Z"
      },
      {
        "duration": 0,
        "start_time": "2022-11-29T22:31:38.802Z"
      },
      {
        "duration": 0,
        "start_time": "2022-11-29T22:31:38.803Z"
      },
      {
        "duration": 0,
        "start_time": "2022-11-29T22:31:38.804Z"
      },
      {
        "duration": 0,
        "start_time": "2022-11-29T22:31:38.805Z"
      },
      {
        "duration": 0,
        "start_time": "2022-11-29T22:31:38.807Z"
      },
      {
        "duration": 0,
        "start_time": "2022-11-29T22:31:38.808Z"
      },
      {
        "duration": 0,
        "start_time": "2022-11-29T22:31:38.811Z"
      },
      {
        "duration": 0,
        "start_time": "2022-11-29T22:31:38.812Z"
      },
      {
        "duration": 0,
        "start_time": "2022-11-29T22:31:38.813Z"
      },
      {
        "duration": 0,
        "start_time": "2022-11-29T22:31:38.815Z"
      },
      {
        "duration": 0,
        "start_time": "2022-11-29T22:31:38.816Z"
      },
      {
        "duration": 0,
        "start_time": "2022-11-29T22:31:38.817Z"
      },
      {
        "duration": 0,
        "start_time": "2022-11-29T22:31:38.818Z"
      },
      {
        "duration": 0,
        "start_time": "2022-11-29T22:31:38.819Z"
      },
      {
        "duration": 0,
        "start_time": "2022-11-29T22:31:38.820Z"
      },
      {
        "duration": 0,
        "start_time": "2022-11-29T22:31:38.821Z"
      },
      {
        "duration": 0,
        "start_time": "2022-11-29T22:31:38.823Z"
      },
      {
        "duration": 0,
        "start_time": "2022-11-29T22:31:38.824Z"
      },
      {
        "duration": 6,
        "start_time": "2022-11-29T22:32:55.065Z"
      },
      {
        "duration": 6,
        "start_time": "2022-11-29T22:32:55.770Z"
      },
      {
        "duration": 5,
        "start_time": "2022-11-29T22:32:56.355Z"
      },
      {
        "duration": 18,
        "start_time": "2022-11-29T22:32:57.656Z"
      },
      {
        "duration": 13,
        "start_time": "2022-11-29T22:33:01.616Z"
      },
      {
        "duration": 4,
        "start_time": "2022-11-29T22:33:03.119Z"
      },
      {
        "duration": 7,
        "start_time": "2022-11-29T22:33:03.680Z"
      },
      {
        "duration": 22,
        "start_time": "2022-11-29T22:33:04.576Z"
      },
      {
        "duration": 7,
        "start_time": "2022-11-29T22:33:58.606Z"
      },
      {
        "duration": 5,
        "start_time": "2022-11-29T22:33:58.903Z"
      },
      {
        "duration": 5,
        "start_time": "2022-11-29T22:33:59.171Z"
      },
      {
        "duration": 18,
        "start_time": "2022-11-29T22:33:59.763Z"
      },
      {
        "duration": 12,
        "start_time": "2022-11-29T22:33:59.827Z"
      },
      {
        "duration": 4,
        "start_time": "2022-11-29T22:33:59.882Z"
      },
      {
        "duration": 7,
        "start_time": "2022-11-29T22:34:00.089Z"
      },
      {
        "duration": 22,
        "start_time": "2022-11-29T22:34:03.846Z"
      },
      {
        "duration": 17,
        "start_time": "2022-11-29T22:35:16.891Z"
      },
      {
        "duration": 15,
        "start_time": "2022-11-29T22:35:24.711Z"
      },
      {
        "duration": 24,
        "start_time": "2022-11-29T22:36:27.286Z"
      },
      {
        "duration": 14,
        "start_time": "2022-11-29T22:36:32.598Z"
      },
      {
        "duration": 6,
        "start_time": "2022-11-29T22:37:11.507Z"
      },
      {
        "duration": 6,
        "start_time": "2022-11-29T22:37:12.142Z"
      },
      {
        "duration": 5,
        "start_time": "2022-11-29T22:37:12.522Z"
      },
      {
        "duration": 11,
        "start_time": "2022-11-29T22:37:12.822Z"
      },
      {
        "duration": 15,
        "start_time": "2022-11-29T22:37:14.882Z"
      },
      {
        "duration": 4,
        "start_time": "2022-11-29T22:37:15.989Z"
      },
      {
        "duration": 4,
        "start_time": "2022-11-29T22:37:16.327Z"
      },
      {
        "duration": 27,
        "start_time": "2022-11-29T22:37:17.595Z"
      },
      {
        "duration": 13,
        "start_time": "2022-11-29T22:37:34.824Z"
      },
      {
        "duration": 18,
        "start_time": "2022-11-29T22:37:39.788Z"
      },
      {
        "duration": 4,
        "start_time": "2022-11-29T22:37:49.056Z"
      },
      {
        "duration": 8,
        "start_time": "2022-11-29T22:37:49.580Z"
      },
      {
        "duration": 7,
        "start_time": "2022-11-29T22:37:50.981Z"
      },
      {
        "duration": 23,
        "start_time": "2022-11-29T22:37:51.469Z"
      },
      {
        "duration": 16,
        "start_time": "2022-11-29T22:37:58.978Z"
      },
      {
        "duration": 4,
        "start_time": "2022-11-29T22:38:40.494Z"
      },
      {
        "duration": 141,
        "start_time": "2022-11-29T22:38:42.094Z"
      },
      {
        "duration": 7,
        "start_time": "2022-11-29T22:38:48.929Z"
      },
      {
        "duration": 7,
        "start_time": "2022-11-29T22:38:49.277Z"
      },
      {
        "duration": 5,
        "start_time": "2022-11-29T22:38:49.550Z"
      },
      {
        "duration": 13,
        "start_time": "2022-11-29T22:38:49.828Z"
      },
      {
        "duration": 13,
        "start_time": "2022-11-29T22:38:50.112Z"
      },
      {
        "duration": 4,
        "start_time": "2022-11-29T22:38:51.073Z"
      },
      {
        "duration": 4,
        "start_time": "2022-11-29T22:38:51.428Z"
      },
      {
        "duration": 23,
        "start_time": "2022-11-29T22:38:54.248Z"
      },
      {
        "duration": 29,
        "start_time": "2022-11-29T22:39:30.642Z"
      },
      {
        "duration": 15,
        "start_time": "2022-11-29T22:39:37.153Z"
      },
      {
        "duration": 15,
        "start_time": "2022-11-29T22:39:38.274Z"
      },
      {
        "duration": 20,
        "start_time": "2022-11-29T22:40:50.229Z"
      },
      {
        "duration": 17,
        "start_time": "2022-11-29T22:40:57.093Z"
      },
      {
        "duration": 16,
        "start_time": "2022-11-29T22:41:05.323Z"
      },
      {
        "duration": 16,
        "start_time": "2022-11-29T22:41:20.905Z"
      },
      {
        "duration": 2009,
        "start_time": "2022-11-29T22:43:49.416Z"
      },
      {
        "duration": 93,
        "start_time": "2022-11-29T22:43:51.427Z"
      },
      {
        "duration": 4,
        "start_time": "2022-11-29T22:43:51.522Z"
      },
      {
        "duration": 5,
        "start_time": "2022-11-29T22:43:51.529Z"
      },
      {
        "duration": 13,
        "start_time": "2022-11-29T22:43:51.536Z"
      },
      {
        "duration": 3,
        "start_time": "2022-11-29T22:43:51.551Z"
      },
      {
        "duration": 58,
        "start_time": "2022-11-29T22:43:51.555Z"
      },
      {
        "duration": 11,
        "start_time": "2022-11-29T22:43:51.615Z"
      },
      {
        "duration": 10,
        "start_time": "2022-11-29T22:43:51.627Z"
      },
      {
        "duration": 5,
        "start_time": "2022-11-29T22:43:51.640Z"
      },
      {
        "duration": 72,
        "start_time": "2022-11-29T22:43:51.647Z"
      },
      {
        "duration": 20,
        "start_time": "2022-11-29T22:43:51.722Z"
      },
      {
        "duration": 5,
        "start_time": "2022-11-29T22:43:51.744Z"
      },
      {
        "duration": 92,
        "start_time": "2022-11-29T22:43:51.751Z"
      },
      {
        "duration": 80,
        "start_time": "2022-11-29T22:43:51.845Z"
      },
      {
        "duration": 5,
        "start_time": "2022-11-29T22:43:51.927Z"
      },
      {
        "duration": 0,
        "start_time": "2022-11-29T22:43:51.935Z"
      },
      {
        "duration": 0,
        "start_time": "2022-11-29T22:43:51.936Z"
      },
      {
        "duration": 0,
        "start_time": "2022-11-29T22:43:51.938Z"
      },
      {
        "duration": 0,
        "start_time": "2022-11-29T22:43:51.939Z"
      },
      {
        "duration": 0,
        "start_time": "2022-11-29T22:43:51.941Z"
      },
      {
        "duration": 0,
        "start_time": "2022-11-29T22:43:51.942Z"
      },
      {
        "duration": 0,
        "start_time": "2022-11-29T22:43:51.943Z"
      },
      {
        "duration": 0,
        "start_time": "2022-11-29T22:43:51.944Z"
      },
      {
        "duration": 0,
        "start_time": "2022-11-29T22:43:51.945Z"
      },
      {
        "duration": 0,
        "start_time": "2022-11-29T22:43:51.946Z"
      },
      {
        "duration": 0,
        "start_time": "2022-11-29T22:43:51.948Z"
      },
      {
        "duration": 0,
        "start_time": "2022-11-29T22:43:51.949Z"
      },
      {
        "duration": 0,
        "start_time": "2022-11-29T22:43:51.950Z"
      },
      {
        "duration": 0,
        "start_time": "2022-11-29T22:43:51.951Z"
      },
      {
        "duration": 0,
        "start_time": "2022-11-29T22:43:51.953Z"
      },
      {
        "duration": 0,
        "start_time": "2022-11-29T22:43:52.013Z"
      },
      {
        "duration": 0,
        "start_time": "2022-11-29T22:43:52.014Z"
      },
      {
        "duration": 0,
        "start_time": "2022-11-29T22:43:52.015Z"
      },
      {
        "duration": 0,
        "start_time": "2022-11-29T22:43:52.016Z"
      },
      {
        "duration": 0,
        "start_time": "2022-11-29T22:43:52.017Z"
      },
      {
        "duration": 0,
        "start_time": "2022-11-29T22:43:52.018Z"
      },
      {
        "duration": 0,
        "start_time": "2022-11-29T22:43:52.019Z"
      },
      {
        "duration": 0,
        "start_time": "2022-11-29T22:43:52.021Z"
      },
      {
        "duration": 0,
        "start_time": "2022-11-29T22:43:52.021Z"
      },
      {
        "duration": 0,
        "start_time": "2022-11-29T22:43:52.022Z"
      },
      {
        "duration": 0,
        "start_time": "2022-11-29T22:43:52.024Z"
      },
      {
        "duration": 0,
        "start_time": "2022-11-29T22:43:52.025Z"
      },
      {
        "duration": 0,
        "start_time": "2022-11-29T22:43:52.026Z"
      },
      {
        "duration": 0,
        "start_time": "2022-11-29T22:43:52.028Z"
      },
      {
        "duration": 0,
        "start_time": "2022-11-29T22:43:52.029Z"
      },
      {
        "duration": 6,
        "start_time": "2022-11-29T22:44:17.752Z"
      },
      {
        "duration": 6,
        "start_time": "2022-11-29T22:44:18.250Z"
      },
      {
        "duration": 4,
        "start_time": "2022-11-29T22:44:18.777Z"
      },
      {
        "duration": 12,
        "start_time": "2022-11-29T22:44:19.495Z"
      },
      {
        "duration": 14,
        "start_time": "2022-11-29T22:44:20.703Z"
      },
      {
        "duration": 4,
        "start_time": "2022-11-29T22:44:22.175Z"
      },
      {
        "duration": 8,
        "start_time": "2022-11-29T22:44:47.865Z"
      },
      {
        "duration": 8,
        "start_time": "2022-11-29T22:44:48.191Z"
      },
      {
        "duration": 5,
        "start_time": "2022-11-29T22:44:48.461Z"
      },
      {
        "duration": 12,
        "start_time": "2022-11-29T22:44:48.756Z"
      },
      {
        "duration": 13,
        "start_time": "2022-11-29T22:44:49.019Z"
      },
      {
        "duration": 5,
        "start_time": "2022-11-29T22:44:49.895Z"
      },
      {
        "duration": 16,
        "start_time": "2022-11-29T22:44:52.112Z"
      },
      {
        "duration": 19,
        "start_time": "2022-11-29T22:45:07.095Z"
      },
      {
        "duration": 1478,
        "start_time": "2022-11-29T22:45:51.451Z"
      },
      {
        "duration": 91,
        "start_time": "2022-11-29T22:45:52.932Z"
      },
      {
        "duration": 4,
        "start_time": "2022-11-29T22:45:53.025Z"
      },
      {
        "duration": 12,
        "start_time": "2022-11-29T22:45:53.032Z"
      },
      {
        "duration": 21,
        "start_time": "2022-11-29T22:45:53.045Z"
      },
      {
        "duration": 8,
        "start_time": "2022-11-29T22:45:53.112Z"
      },
      {
        "duration": 7,
        "start_time": "2022-11-29T22:45:53.122Z"
      },
      {
        "duration": 8,
        "start_time": "2022-11-29T22:45:53.131Z"
      },
      {
        "duration": 6,
        "start_time": "2022-11-29T22:45:53.141Z"
      },
      {
        "duration": 7,
        "start_time": "2022-11-29T22:45:53.150Z"
      },
      {
        "duration": 68,
        "start_time": "2022-11-29T22:45:53.159Z"
      },
      {
        "duration": 13,
        "start_time": "2022-11-29T22:45:53.228Z"
      },
      {
        "duration": 4,
        "start_time": "2022-11-29T22:45:53.243Z"
      },
      {
        "duration": 69,
        "start_time": "2022-11-29T22:45:53.248Z"
      },
      {
        "duration": 21,
        "start_time": "2022-11-29T22:45:53.318Z"
      },
      {
        "duration": 80,
        "start_time": "2022-11-29T22:45:53.340Z"
      },
      {
        "duration": 50,
        "start_time": "2022-11-29T22:45:53.422Z"
      },
      {
        "duration": 0,
        "start_time": "2022-11-29T22:45:53.474Z"
      },
      {
        "duration": 0,
        "start_time": "2022-11-29T22:45:53.475Z"
      },
      {
        "duration": 0,
        "start_time": "2022-11-29T22:45:53.476Z"
      },
      {
        "duration": 0,
        "start_time": "2022-11-29T22:45:53.478Z"
      },
      {
        "duration": 0,
        "start_time": "2022-11-29T22:45:53.513Z"
      },
      {
        "duration": 0,
        "start_time": "2022-11-29T22:45:53.514Z"
      },
      {
        "duration": 0,
        "start_time": "2022-11-29T22:45:53.515Z"
      },
      {
        "duration": 0,
        "start_time": "2022-11-29T22:45:53.516Z"
      },
      {
        "duration": 0,
        "start_time": "2022-11-29T22:45:53.517Z"
      },
      {
        "duration": 0,
        "start_time": "2022-11-29T22:45:53.518Z"
      },
      {
        "duration": 0,
        "start_time": "2022-11-29T22:45:53.519Z"
      },
      {
        "duration": 0,
        "start_time": "2022-11-29T22:45:53.520Z"
      },
      {
        "duration": 0,
        "start_time": "2022-11-29T22:45:53.521Z"
      },
      {
        "duration": 0,
        "start_time": "2022-11-29T22:45:53.523Z"
      },
      {
        "duration": 0,
        "start_time": "2022-11-29T22:45:53.524Z"
      },
      {
        "duration": 0,
        "start_time": "2022-11-29T22:45:53.525Z"
      },
      {
        "duration": 0,
        "start_time": "2022-11-29T22:45:53.526Z"
      },
      {
        "duration": 0,
        "start_time": "2022-11-29T22:45:53.527Z"
      },
      {
        "duration": 0,
        "start_time": "2022-11-29T22:45:53.528Z"
      },
      {
        "duration": 0,
        "start_time": "2022-11-29T22:45:53.529Z"
      },
      {
        "duration": 0,
        "start_time": "2022-11-29T22:45:53.530Z"
      },
      {
        "duration": 0,
        "start_time": "2022-11-29T22:45:53.531Z"
      },
      {
        "duration": 0,
        "start_time": "2022-11-29T22:45:53.532Z"
      },
      {
        "duration": 0,
        "start_time": "2022-11-29T22:45:53.533Z"
      },
      {
        "duration": 0,
        "start_time": "2022-11-29T22:45:53.535Z"
      },
      {
        "duration": 0,
        "start_time": "2022-11-29T22:45:53.536Z"
      },
      {
        "duration": 0,
        "start_time": "2022-11-29T22:45:53.537Z"
      },
      {
        "duration": 0,
        "start_time": "2022-11-29T22:45:53.538Z"
      },
      {
        "duration": 0,
        "start_time": "2022-11-29T22:45:53.539Z"
      },
      {
        "duration": 1422,
        "start_time": "2022-11-29T22:46:33.025Z"
      },
      {
        "duration": 49,
        "start_time": "2022-11-29T22:46:34.449Z"
      },
      {
        "duration": 4,
        "start_time": "2022-11-29T22:46:34.500Z"
      },
      {
        "duration": 7,
        "start_time": "2022-11-29T22:46:34.506Z"
      },
      {
        "duration": 18,
        "start_time": "2022-11-29T22:46:34.514Z"
      },
      {
        "duration": 6,
        "start_time": "2022-11-29T22:46:34.534Z"
      },
      {
        "duration": 6,
        "start_time": "2022-11-29T22:46:34.542Z"
      },
      {
        "duration": 9,
        "start_time": "2022-11-29T22:46:34.550Z"
      },
      {
        "duration": 7,
        "start_time": "2022-11-29T22:46:34.561Z"
      },
      {
        "duration": 4,
        "start_time": "2022-11-29T22:46:34.573Z"
      },
      {
        "duration": 40,
        "start_time": "2022-11-29T22:46:34.579Z"
      },
      {
        "duration": 12,
        "start_time": "2022-11-29T22:46:34.620Z"
      },
      {
        "duration": 4,
        "start_time": "2022-11-29T22:46:34.634Z"
      },
      {
        "duration": 20,
        "start_time": "2022-11-29T22:46:34.639Z"
      },
      {
        "duration": 18,
        "start_time": "2022-11-29T22:46:34.661Z"
      },
      {
        "duration": 44,
        "start_time": "2022-11-29T22:46:34.681Z"
      },
      {
        "duration": 46,
        "start_time": "2022-11-29T22:46:34.727Z"
      },
      {
        "duration": 0,
        "start_time": "2022-11-29T22:46:34.776Z"
      },
      {
        "duration": 0,
        "start_time": "2022-11-29T22:46:34.777Z"
      },
      {
        "duration": 0,
        "start_time": "2022-11-29T22:46:34.779Z"
      },
      {
        "duration": 0,
        "start_time": "2022-11-29T22:46:34.779Z"
      },
      {
        "duration": 0,
        "start_time": "2022-11-29T22:46:34.780Z"
      },
      {
        "duration": 0,
        "start_time": "2022-11-29T22:46:34.782Z"
      },
      {
        "duration": 0,
        "start_time": "2022-11-29T22:46:34.782Z"
      },
      {
        "duration": 0,
        "start_time": "2022-11-29T22:46:34.784Z"
      },
      {
        "duration": 0,
        "start_time": "2022-11-29T22:46:34.785Z"
      },
      {
        "duration": 0,
        "start_time": "2022-11-29T22:46:34.786Z"
      },
      {
        "duration": 0,
        "start_time": "2022-11-29T22:46:34.787Z"
      },
      {
        "duration": 0,
        "start_time": "2022-11-29T22:46:34.788Z"
      },
      {
        "duration": 0,
        "start_time": "2022-11-29T22:46:34.789Z"
      },
      {
        "duration": 0,
        "start_time": "2022-11-29T22:46:34.790Z"
      },
      {
        "duration": 0,
        "start_time": "2022-11-29T22:46:34.791Z"
      },
      {
        "duration": 0,
        "start_time": "2022-11-29T22:46:34.792Z"
      },
      {
        "duration": 0,
        "start_time": "2022-11-29T22:46:34.793Z"
      },
      {
        "duration": 0,
        "start_time": "2022-11-29T22:46:34.794Z"
      },
      {
        "duration": 0,
        "start_time": "2022-11-29T22:46:34.795Z"
      },
      {
        "duration": 0,
        "start_time": "2022-11-29T22:46:34.796Z"
      },
      {
        "duration": 0,
        "start_time": "2022-11-29T22:46:34.797Z"
      },
      {
        "duration": 0,
        "start_time": "2022-11-29T22:46:34.799Z"
      },
      {
        "duration": 0,
        "start_time": "2022-11-29T22:46:34.801Z"
      },
      {
        "duration": 0,
        "start_time": "2022-11-29T22:46:34.802Z"
      },
      {
        "duration": 0,
        "start_time": "2022-11-29T22:46:34.813Z"
      },
      {
        "duration": 0,
        "start_time": "2022-11-29T22:46:34.814Z"
      },
      {
        "duration": 0,
        "start_time": "2022-11-29T22:46:34.815Z"
      },
      {
        "duration": 0,
        "start_time": "2022-11-29T22:46:34.817Z"
      },
      {
        "duration": 0,
        "start_time": "2022-11-29T22:46:34.818Z"
      },
      {
        "duration": 4,
        "start_time": "2022-11-29T22:47:00.221Z"
      },
      {
        "duration": 4,
        "start_time": "2022-11-29T22:47:08.301Z"
      },
      {
        "duration": 4,
        "start_time": "2022-11-29T22:47:12.743Z"
      },
      {
        "duration": 6,
        "start_time": "2022-11-29T22:48:27.780Z"
      },
      {
        "duration": 8,
        "start_time": "2022-11-29T22:48:29.232Z"
      },
      {
        "duration": 6,
        "start_time": "2022-11-29T22:48:53.743Z"
      },
      {
        "duration": 4,
        "start_time": "2022-11-29T22:49:21.977Z"
      },
      {
        "duration": 11,
        "start_time": "2022-11-29T22:49:29.173Z"
      },
      {
        "duration": 13,
        "start_time": "2022-11-29T22:50:14.047Z"
      },
      {
        "duration": 18,
        "start_time": "2022-11-29T22:50:33.499Z"
      },
      {
        "duration": 17,
        "start_time": "2022-11-29T22:50:54.835Z"
      },
      {
        "duration": 29,
        "start_time": "2022-11-29T22:51:16.155Z"
      },
      {
        "duration": 1360,
        "start_time": "2022-11-29T22:57:27.264Z"
      },
      {
        "duration": 51,
        "start_time": "2022-11-29T22:57:28.626Z"
      },
      {
        "duration": 4,
        "start_time": "2022-11-29T22:57:28.679Z"
      },
      {
        "duration": 12,
        "start_time": "2022-11-29T22:57:28.685Z"
      },
      {
        "duration": 11,
        "start_time": "2022-11-29T22:57:28.698Z"
      },
      {
        "duration": 4,
        "start_time": "2022-11-29T22:57:28.711Z"
      },
      {
        "duration": 19,
        "start_time": "2022-11-29T22:57:28.716Z"
      },
      {
        "duration": 18,
        "start_time": "2022-11-29T22:57:28.737Z"
      },
      {
        "duration": 6,
        "start_time": "2022-11-29T22:57:28.757Z"
      },
      {
        "duration": 8,
        "start_time": "2022-11-29T22:57:28.766Z"
      },
      {
        "duration": 15,
        "start_time": "2022-11-29T22:57:28.775Z"
      },
      {
        "duration": 12,
        "start_time": "2022-11-29T22:57:28.792Z"
      },
      {
        "duration": 13,
        "start_time": "2022-11-29T22:57:28.805Z"
      },
      {
        "duration": 39,
        "start_time": "2022-11-29T22:57:28.819Z"
      },
      {
        "duration": 0,
        "start_time": "2022-11-29T22:57:28.860Z"
      },
      {
        "duration": 0,
        "start_time": "2022-11-29T22:57:28.862Z"
      },
      {
        "duration": 0,
        "start_time": "2022-11-29T22:57:28.863Z"
      },
      {
        "duration": 0,
        "start_time": "2022-11-29T22:57:28.864Z"
      },
      {
        "duration": 0,
        "start_time": "2022-11-29T22:57:28.865Z"
      },
      {
        "duration": 0,
        "start_time": "2022-11-29T22:57:28.866Z"
      },
      {
        "duration": 0,
        "start_time": "2022-11-29T22:57:28.867Z"
      },
      {
        "duration": 0,
        "start_time": "2022-11-29T22:57:28.868Z"
      },
      {
        "duration": 0,
        "start_time": "2022-11-29T22:57:28.869Z"
      },
      {
        "duration": 0,
        "start_time": "2022-11-29T22:57:28.870Z"
      },
      {
        "duration": 0,
        "start_time": "2022-11-29T22:57:28.871Z"
      },
      {
        "duration": 0,
        "start_time": "2022-11-29T22:57:28.872Z"
      },
      {
        "duration": 0,
        "start_time": "2022-11-29T22:57:28.873Z"
      },
      {
        "duration": 0,
        "start_time": "2022-11-29T22:57:28.873Z"
      },
      {
        "duration": 0,
        "start_time": "2022-11-29T22:57:28.874Z"
      },
      {
        "duration": 0,
        "start_time": "2022-11-29T22:57:28.875Z"
      },
      {
        "duration": 0,
        "start_time": "2022-11-29T22:57:28.876Z"
      },
      {
        "duration": 0,
        "start_time": "2022-11-29T22:57:28.877Z"
      },
      {
        "duration": 0,
        "start_time": "2022-11-29T22:57:28.878Z"
      },
      {
        "duration": 0,
        "start_time": "2022-11-29T22:57:28.879Z"
      },
      {
        "duration": 0,
        "start_time": "2022-11-29T22:57:28.880Z"
      },
      {
        "duration": 0,
        "start_time": "2022-11-29T22:57:28.881Z"
      },
      {
        "duration": 0,
        "start_time": "2022-11-29T22:57:28.882Z"
      },
      {
        "duration": 0,
        "start_time": "2022-11-29T22:57:28.883Z"
      },
      {
        "duration": 0,
        "start_time": "2022-11-29T22:57:28.884Z"
      },
      {
        "duration": 0,
        "start_time": "2022-11-29T22:57:28.885Z"
      },
      {
        "duration": 0,
        "start_time": "2022-11-29T22:57:28.886Z"
      },
      {
        "duration": 0,
        "start_time": "2022-11-29T22:57:28.888Z"
      },
      {
        "duration": 0,
        "start_time": "2022-11-29T22:57:28.889Z"
      },
      {
        "duration": 0,
        "start_time": "2022-11-29T22:57:28.890Z"
      },
      {
        "duration": 0,
        "start_time": "2022-11-29T22:57:28.891Z"
      },
      {
        "duration": 4,
        "start_time": "2022-11-29T22:57:57.191Z"
      },
      {
        "duration": 54,
        "start_time": "2022-11-29T22:58:00.365Z"
      },
      {
        "duration": 114,
        "start_time": "2022-11-29T22:58:08.926Z"
      },
      {
        "duration": 4,
        "start_time": "2022-11-29T22:58:35.221Z"
      },
      {
        "duration": 5,
        "start_time": "2022-11-29T22:58:58.396Z"
      },
      {
        "duration": 4,
        "start_time": "2022-11-29T23:00:02.452Z"
      },
      {
        "duration": 21,
        "start_time": "2022-11-29T23:00:16.850Z"
      },
      {
        "duration": 11,
        "start_time": "2022-11-29T23:01:56.991Z"
      },
      {
        "duration": 9,
        "start_time": "2022-11-29T23:02:12.569Z"
      },
      {
        "duration": 9,
        "start_time": "2022-11-29T23:02:22.587Z"
      },
      {
        "duration": 10,
        "start_time": "2022-11-29T23:04:08.168Z"
      },
      {
        "duration": 4,
        "start_time": "2022-11-29T23:04:23.645Z"
      },
      {
        "duration": 12,
        "start_time": "2022-11-29T23:27:26.320Z"
      },
      {
        "duration": 1458,
        "start_time": "2022-11-29T23:28:02.488Z"
      },
      {
        "duration": 51,
        "start_time": "2022-11-29T23:28:03.948Z"
      },
      {
        "duration": 4,
        "start_time": "2022-11-29T23:28:04.001Z"
      },
      {
        "duration": 11,
        "start_time": "2022-11-29T23:28:04.007Z"
      },
      {
        "duration": 11,
        "start_time": "2022-11-29T23:28:04.020Z"
      },
      {
        "duration": 11,
        "start_time": "2022-11-29T23:28:04.032Z"
      },
      {
        "duration": 8,
        "start_time": "2022-11-29T23:28:04.044Z"
      },
      {
        "duration": 14,
        "start_time": "2022-11-29T23:28:04.054Z"
      },
      {
        "duration": 13,
        "start_time": "2022-11-29T23:28:04.069Z"
      },
      {
        "duration": 11,
        "start_time": "2022-11-29T23:28:04.084Z"
      },
      {
        "duration": 23,
        "start_time": "2022-11-29T23:28:04.096Z"
      },
      {
        "duration": 12,
        "start_time": "2022-11-29T23:28:04.121Z"
      },
      {
        "duration": 15,
        "start_time": "2022-11-29T23:28:04.135Z"
      },
      {
        "duration": 24,
        "start_time": "2022-11-29T23:28:04.152Z"
      },
      {
        "duration": 20,
        "start_time": "2022-11-29T23:28:04.178Z"
      },
      {
        "duration": 29,
        "start_time": "2022-11-29T23:28:04.199Z"
      },
      {
        "duration": 50,
        "start_time": "2022-11-29T23:28:04.230Z"
      },
      {
        "duration": 1430,
        "start_time": "2022-11-29T23:28:04.282Z"
      },
      {
        "duration": 159,
        "start_time": "2022-11-29T23:28:05.713Z"
      },
      {
        "duration": 245,
        "start_time": "2022-11-29T23:28:05.873Z"
      },
      {
        "duration": 98,
        "start_time": "2022-11-29T23:28:06.120Z"
      },
      {
        "duration": 123,
        "start_time": "2022-11-29T23:28:06.220Z"
      },
      {
        "duration": 215,
        "start_time": "2022-11-29T23:28:06.413Z"
      },
      {
        "duration": 0,
        "start_time": "2022-11-29T23:28:06.710Z"
      },
      {
        "duration": 0,
        "start_time": "2022-11-29T23:28:06.712Z"
      },
      {
        "duration": 0,
        "start_time": "2022-11-29T23:28:06.713Z"
      },
      {
        "duration": 0,
        "start_time": "2022-11-29T23:28:06.714Z"
      },
      {
        "duration": 0,
        "start_time": "2022-11-29T23:28:06.715Z"
      },
      {
        "duration": 0,
        "start_time": "2022-11-29T23:28:06.716Z"
      },
      {
        "duration": 0,
        "start_time": "2022-11-29T23:28:06.717Z"
      },
      {
        "duration": 0,
        "start_time": "2022-11-29T23:28:06.718Z"
      },
      {
        "duration": 0,
        "start_time": "2022-11-29T23:28:06.719Z"
      },
      {
        "duration": 0,
        "start_time": "2022-11-29T23:28:06.720Z"
      },
      {
        "duration": 0,
        "start_time": "2022-11-29T23:28:06.721Z"
      },
      {
        "duration": 0,
        "start_time": "2022-11-29T23:28:06.722Z"
      },
      {
        "duration": 0,
        "start_time": "2022-11-29T23:28:06.723Z"
      },
      {
        "duration": 0,
        "start_time": "2022-11-29T23:28:06.724Z"
      },
      {
        "duration": 0,
        "start_time": "2022-11-29T23:28:06.725Z"
      },
      {
        "duration": 0,
        "start_time": "2022-11-29T23:28:06.726Z"
      },
      {
        "duration": 0,
        "start_time": "2022-11-29T23:28:06.727Z"
      },
      {
        "duration": 0,
        "start_time": "2022-11-29T23:28:06.728Z"
      },
      {
        "duration": 0,
        "start_time": "2022-11-29T23:28:06.729Z"
      },
      {
        "duration": 0,
        "start_time": "2022-11-29T23:28:06.730Z"
      },
      {
        "duration": 0,
        "start_time": "2022-11-29T23:28:06.731Z"
      },
      {
        "duration": 0,
        "start_time": "2022-11-29T23:28:06.732Z"
      },
      {
        "duration": 1421,
        "start_time": "2022-11-29T23:28:58.598Z"
      },
      {
        "duration": 56,
        "start_time": "2022-11-29T23:29:00.021Z"
      },
      {
        "duration": 4,
        "start_time": "2022-11-29T23:29:00.079Z"
      },
      {
        "duration": 33,
        "start_time": "2022-11-29T23:29:00.086Z"
      },
      {
        "duration": 70,
        "start_time": "2022-11-29T23:29:00.120Z"
      },
      {
        "duration": 92,
        "start_time": "2022-11-29T23:29:00.191Z"
      },
      {
        "duration": 96,
        "start_time": "2022-11-29T23:29:00.285Z"
      },
      {
        "duration": 40,
        "start_time": "2022-11-29T23:29:00.383Z"
      },
      {
        "duration": 38,
        "start_time": "2022-11-29T23:29:00.425Z"
      },
      {
        "duration": 62,
        "start_time": "2022-11-29T23:29:00.466Z"
      },
      {
        "duration": 141,
        "start_time": "2022-11-29T23:29:00.530Z"
      },
      {
        "duration": 56,
        "start_time": "2022-11-29T23:29:00.673Z"
      },
      {
        "duration": 41,
        "start_time": "2022-11-29T23:29:00.731Z"
      },
      {
        "duration": 52,
        "start_time": "2022-11-29T23:29:00.773Z"
      },
      {
        "duration": 93,
        "start_time": "2022-11-29T23:29:00.826Z"
      },
      {
        "duration": 18,
        "start_time": "2022-11-29T23:29:00.920Z"
      },
      {
        "duration": 99,
        "start_time": "2022-11-29T23:29:00.940Z"
      },
      {
        "duration": 2019,
        "start_time": "2022-11-29T23:29:01.041Z"
      },
      {
        "duration": 153,
        "start_time": "2022-11-29T23:29:03.062Z"
      },
      {
        "duration": 198,
        "start_time": "2022-11-29T23:29:03.217Z"
      },
      {
        "duration": 196,
        "start_time": "2022-11-29T23:29:03.418Z"
      },
      {
        "duration": 97,
        "start_time": "2022-11-29T23:29:03.616Z"
      },
      {
        "duration": 138,
        "start_time": "2022-11-29T23:29:03.715Z"
      },
      {
        "duration": 66,
        "start_time": "2022-11-29T23:29:03.855Z"
      },
      {
        "duration": 313,
        "start_time": "2022-11-29T23:29:04.013Z"
      },
      {
        "duration": 0,
        "start_time": "2022-11-29T23:29:04.329Z"
      },
      {
        "duration": 0,
        "start_time": "2022-11-29T23:29:04.331Z"
      },
      {
        "duration": 0,
        "start_time": "2022-11-29T23:29:04.332Z"
      },
      {
        "duration": 0,
        "start_time": "2022-11-29T23:29:04.334Z"
      },
      {
        "duration": 0,
        "start_time": "2022-11-29T23:29:04.336Z"
      },
      {
        "duration": 0,
        "start_time": "2022-11-29T23:29:04.337Z"
      },
      {
        "duration": 0,
        "start_time": "2022-11-29T23:29:04.339Z"
      },
      {
        "duration": 0,
        "start_time": "2022-11-29T23:29:04.341Z"
      },
      {
        "duration": 0,
        "start_time": "2022-11-29T23:29:04.342Z"
      },
      {
        "duration": 0,
        "start_time": "2022-11-29T23:29:04.344Z"
      },
      {
        "duration": 0,
        "start_time": "2022-11-29T23:29:04.346Z"
      },
      {
        "duration": 0,
        "start_time": "2022-11-29T23:29:04.347Z"
      },
      {
        "duration": 0,
        "start_time": "2022-11-29T23:29:04.348Z"
      },
      {
        "duration": 0,
        "start_time": "2022-11-29T23:29:04.350Z"
      },
      {
        "duration": 0,
        "start_time": "2022-11-29T23:29:04.351Z"
      },
      {
        "duration": 0,
        "start_time": "2022-11-29T23:29:04.353Z"
      },
      {
        "duration": 0,
        "start_time": "2022-11-29T23:29:04.355Z"
      },
      {
        "duration": 0,
        "start_time": "2022-11-29T23:29:04.356Z"
      },
      {
        "duration": 0,
        "start_time": "2022-11-29T23:29:04.358Z"
      },
      {
        "duration": 0,
        "start_time": "2022-11-29T23:29:04.359Z"
      },
      {
        "duration": 12,
        "start_time": "2022-11-29T23:34:14.485Z"
      },
      {
        "duration": 19,
        "start_time": "2022-11-29T23:34:18.921Z"
      },
      {
        "duration": 6,
        "start_time": "2022-11-29T23:42:16.479Z"
      },
      {
        "duration": 5,
        "start_time": "2022-11-29T23:42:16.975Z"
      },
      {
        "duration": 4,
        "start_time": "2022-11-29T23:42:17.537Z"
      },
      {
        "duration": 13,
        "start_time": "2022-11-29T23:42:19.053Z"
      },
      {
        "duration": 13,
        "start_time": "2022-11-29T23:42:22.925Z"
      },
      {
        "duration": 4,
        "start_time": "2022-11-29T23:42:23.621Z"
      },
      {
        "duration": 18,
        "start_time": "2022-11-29T23:42:24.837Z"
      },
      {
        "duration": 18,
        "start_time": "2022-11-29T23:47:13.273Z"
      },
      {
        "duration": 20,
        "start_time": "2022-11-29T23:47:47.559Z"
      },
      {
        "duration": 5,
        "start_time": "2022-11-29T23:56:57.742Z"
      },
      {
        "duration": 6,
        "start_time": "2022-11-29T23:57:24.876Z"
      },
      {
        "duration": 7,
        "start_time": "2022-11-29T23:57:50.144Z"
      },
      {
        "duration": 4,
        "start_time": "2022-11-29T23:58:00.204Z"
      },
      {
        "duration": 1373,
        "start_time": "2022-11-30T00:01:59.568Z"
      },
      {
        "duration": 60,
        "start_time": "2022-11-30T00:02:00.943Z"
      },
      {
        "duration": 4,
        "start_time": "2022-11-30T00:02:01.005Z"
      },
      {
        "duration": 8,
        "start_time": "2022-11-30T00:02:01.012Z"
      },
      {
        "duration": 16,
        "start_time": "2022-11-30T00:02:01.022Z"
      },
      {
        "duration": 10,
        "start_time": "2022-11-30T00:02:01.040Z"
      },
      {
        "duration": 14,
        "start_time": "2022-11-30T00:02:01.052Z"
      },
      {
        "duration": 24,
        "start_time": "2022-11-30T00:02:01.068Z"
      },
      {
        "duration": 16,
        "start_time": "2022-11-30T00:02:01.093Z"
      },
      {
        "duration": 21,
        "start_time": "2022-11-30T00:02:01.112Z"
      },
      {
        "duration": 19,
        "start_time": "2022-11-30T00:02:01.134Z"
      },
      {
        "duration": 18,
        "start_time": "2022-11-30T00:02:01.155Z"
      },
      {
        "duration": 19,
        "start_time": "2022-11-30T00:02:01.175Z"
      },
      {
        "duration": 28,
        "start_time": "2022-11-30T00:02:01.196Z"
      },
      {
        "duration": 18,
        "start_time": "2022-11-30T00:02:01.225Z"
      },
      {
        "duration": 35,
        "start_time": "2022-11-30T00:02:01.244Z"
      },
      {
        "duration": 4,
        "start_time": "2022-11-30T00:02:01.281Z"
      },
      {
        "duration": 55,
        "start_time": "2022-11-30T00:02:01.286Z"
      },
      {
        "duration": 1380,
        "start_time": "2022-11-30T00:02:01.343Z"
      },
      {
        "duration": 161,
        "start_time": "2022-11-30T00:02:02.726Z"
      },
      {
        "duration": 224,
        "start_time": "2022-11-30T00:02:02.889Z"
      },
      {
        "duration": 95,
        "start_time": "2022-11-30T00:02:03.118Z"
      },
      {
        "duration": 96,
        "start_time": "2022-11-30T00:02:03.215Z"
      },
      {
        "duration": 143,
        "start_time": "2022-11-30T00:02:03.313Z"
      },
      {
        "duration": 62,
        "start_time": "2022-11-30T00:02:03.458Z"
      },
      {
        "duration": 397,
        "start_time": "2022-11-30T00:02:03.522Z"
      },
      {
        "duration": 0,
        "start_time": "2022-11-30T00:02:03.922Z"
      },
      {
        "duration": 0,
        "start_time": "2022-11-30T00:02:03.924Z"
      },
      {
        "duration": 0,
        "start_time": "2022-11-30T00:02:03.926Z"
      },
      {
        "duration": 0,
        "start_time": "2022-11-30T00:02:03.927Z"
      },
      {
        "duration": 0,
        "start_time": "2022-11-30T00:02:03.929Z"
      },
      {
        "duration": 0,
        "start_time": "2022-11-30T00:02:03.931Z"
      },
      {
        "duration": 0,
        "start_time": "2022-11-30T00:02:03.932Z"
      },
      {
        "duration": 0,
        "start_time": "2022-11-30T00:02:03.933Z"
      },
      {
        "duration": 0,
        "start_time": "2022-11-30T00:02:03.935Z"
      },
      {
        "duration": 0,
        "start_time": "2022-11-30T00:02:03.936Z"
      },
      {
        "duration": 0,
        "start_time": "2022-11-30T00:02:03.938Z"
      },
      {
        "duration": 0,
        "start_time": "2022-11-30T00:02:03.939Z"
      },
      {
        "duration": 0,
        "start_time": "2022-11-30T00:02:03.941Z"
      },
      {
        "duration": 0,
        "start_time": "2022-11-30T00:02:03.942Z"
      },
      {
        "duration": 0,
        "start_time": "2022-11-30T00:02:03.944Z"
      },
      {
        "duration": 0,
        "start_time": "2022-11-30T00:02:03.945Z"
      },
      {
        "duration": 0,
        "start_time": "2022-11-30T00:02:03.946Z"
      },
      {
        "duration": 0,
        "start_time": "2022-11-30T00:02:03.948Z"
      },
      {
        "duration": 0,
        "start_time": "2022-11-30T00:02:03.950Z"
      },
      {
        "duration": 0,
        "start_time": "2022-11-30T00:02:03.951Z"
      },
      {
        "duration": 15,
        "start_time": "2022-11-30T00:03:29.537Z"
      },
      {
        "duration": 22,
        "start_time": "2022-11-30T00:03:34.399Z"
      },
      {
        "duration": 5,
        "start_time": "2022-11-30T00:03:47.095Z"
      },
      {
        "duration": 5,
        "start_time": "2022-11-30T00:04:07.007Z"
      },
      {
        "duration": 6,
        "start_time": "2022-11-30T00:04:12.432Z"
      },
      {
        "duration": 5,
        "start_time": "2022-11-30T00:04:13.444Z"
      },
      {
        "duration": 5,
        "start_time": "2022-11-30T00:04:26.442Z"
      },
      {
        "duration": 7,
        "start_time": "2022-11-30T00:04:48.640Z"
      },
      {
        "duration": 4,
        "start_time": "2022-11-30T00:04:53.518Z"
      },
      {
        "duration": 4,
        "start_time": "2022-11-30T00:04:56.330Z"
      },
      {
        "duration": 3,
        "start_time": "2022-11-30T00:04:59.746Z"
      },
      {
        "duration": 1404,
        "start_time": "2022-11-30T00:05:06.430Z"
      },
      {
        "duration": 51,
        "start_time": "2022-11-30T00:05:07.836Z"
      },
      {
        "duration": 4,
        "start_time": "2022-11-30T00:05:07.889Z"
      },
      {
        "duration": 9,
        "start_time": "2022-11-30T00:05:07.895Z"
      },
      {
        "duration": 9,
        "start_time": "2022-11-30T00:05:07.906Z"
      },
      {
        "duration": 17,
        "start_time": "2022-11-30T00:05:07.916Z"
      },
      {
        "duration": 11,
        "start_time": "2022-11-30T00:05:07.935Z"
      },
      {
        "duration": 8,
        "start_time": "2022-11-30T00:05:07.948Z"
      },
      {
        "duration": 11,
        "start_time": "2022-11-30T00:05:07.958Z"
      },
      {
        "duration": 15,
        "start_time": "2022-11-30T00:05:07.971Z"
      },
      {
        "duration": 17,
        "start_time": "2022-11-30T00:05:07.987Z"
      },
      {
        "duration": 14,
        "start_time": "2022-11-30T00:05:08.005Z"
      },
      {
        "duration": 11,
        "start_time": "2022-11-30T00:05:08.020Z"
      },
      {
        "duration": 25,
        "start_time": "2022-11-30T00:05:08.032Z"
      },
      {
        "duration": 19,
        "start_time": "2022-11-30T00:05:08.058Z"
      },
      {
        "duration": 34,
        "start_time": "2022-11-30T00:05:08.079Z"
      },
      {
        "duration": 3,
        "start_time": "2022-11-30T00:05:08.114Z"
      },
      {
        "duration": 15,
        "start_time": "2022-11-30T00:05:08.119Z"
      },
      {
        "duration": 18,
        "start_time": "2022-11-30T00:05:08.136Z"
      },
      {
        "duration": 54,
        "start_time": "2022-11-30T00:05:08.156Z"
      },
      {
        "duration": 1380,
        "start_time": "2022-11-30T00:05:08.212Z"
      },
      {
        "duration": 155,
        "start_time": "2022-11-30T00:05:09.593Z"
      },
      {
        "duration": 167,
        "start_time": "2022-11-30T00:05:09.750Z"
      },
      {
        "duration": 95,
        "start_time": "2022-11-30T00:05:09.919Z"
      },
      {
        "duration": 196,
        "start_time": "2022-11-30T00:05:10.016Z"
      },
      {
        "duration": 144,
        "start_time": "2022-11-30T00:05:10.214Z"
      },
      {
        "duration": 153,
        "start_time": "2022-11-30T00:05:10.360Z"
      },
      {
        "duration": 189,
        "start_time": "2022-11-30T00:05:10.517Z"
      },
      {
        "duration": 21,
        "start_time": "2022-11-30T00:05:10.707Z"
      },
      {
        "duration": 114,
        "start_time": "2022-11-30T00:05:10.729Z"
      },
      {
        "duration": 0,
        "start_time": "2022-11-30T00:05:10.844Z"
      },
      {
        "duration": 0,
        "start_time": "2022-11-30T00:05:10.845Z"
      },
      {
        "duration": 0,
        "start_time": "2022-11-30T00:05:10.847Z"
      },
      {
        "duration": 0,
        "start_time": "2022-11-30T00:05:10.847Z"
      },
      {
        "duration": 0,
        "start_time": "2022-11-30T00:05:10.848Z"
      },
      {
        "duration": 0,
        "start_time": "2022-11-30T00:05:10.849Z"
      },
      {
        "duration": 0,
        "start_time": "2022-11-30T00:05:10.851Z"
      },
      {
        "duration": 0,
        "start_time": "2022-11-30T00:05:10.851Z"
      },
      {
        "duration": 0,
        "start_time": "2022-11-30T00:05:10.852Z"
      },
      {
        "duration": 0,
        "start_time": "2022-11-30T00:05:10.853Z"
      },
      {
        "duration": 0,
        "start_time": "2022-11-30T00:05:10.854Z"
      },
      {
        "duration": 0,
        "start_time": "2022-11-30T00:05:10.855Z"
      },
      {
        "duration": 0,
        "start_time": "2022-11-30T00:05:10.856Z"
      },
      {
        "duration": 0,
        "start_time": "2022-11-30T00:05:10.857Z"
      },
      {
        "duration": 0,
        "start_time": "2022-11-30T00:05:10.858Z"
      },
      {
        "duration": 0,
        "start_time": "2022-11-30T00:05:10.859Z"
      },
      {
        "duration": 0,
        "start_time": "2022-11-30T00:05:10.860Z"
      },
      {
        "duration": 0,
        "start_time": "2022-11-30T00:05:10.861Z"
      },
      {
        "duration": 0,
        "start_time": "2022-11-30T00:05:10.861Z"
      },
      {
        "duration": 0,
        "start_time": "2022-11-30T00:05:10.862Z"
      },
      {
        "duration": 6,
        "start_time": "2022-11-30T00:05:28.080Z"
      },
      {
        "duration": 5,
        "start_time": "2022-11-30T00:05:30.957Z"
      },
      {
        "duration": 5,
        "start_time": "2022-11-30T00:05:38.984Z"
      },
      {
        "duration": 6,
        "start_time": "2022-11-30T00:05:53.565Z"
      },
      {
        "duration": 5,
        "start_time": "2022-11-30T00:05:59.187Z"
      },
      {
        "duration": 19,
        "start_time": "2022-11-30T00:06:05.320Z"
      },
      {
        "duration": 5,
        "start_time": "2022-11-30T00:06:44.515Z"
      },
      {
        "duration": 6,
        "start_time": "2022-11-30T00:06:48.498Z"
      },
      {
        "duration": 3,
        "start_time": "2022-11-30T00:07:09.925Z"
      },
      {
        "duration": 4,
        "start_time": "2022-11-30T00:07:16.294Z"
      },
      {
        "duration": 3,
        "start_time": "2022-11-30T00:07:27.515Z"
      },
      {
        "duration": 3,
        "start_time": "2022-11-30T00:07:30.972Z"
      },
      {
        "duration": 1436,
        "start_time": "2022-11-30T00:07:35.719Z"
      },
      {
        "duration": 52,
        "start_time": "2022-11-30T00:07:37.158Z"
      },
      {
        "duration": 5,
        "start_time": "2022-11-30T00:07:37.211Z"
      },
      {
        "duration": 10,
        "start_time": "2022-11-30T00:07:37.219Z"
      },
      {
        "duration": 8,
        "start_time": "2022-11-30T00:07:37.231Z"
      },
      {
        "duration": 8,
        "start_time": "2022-11-30T00:07:37.241Z"
      },
      {
        "duration": 12,
        "start_time": "2022-11-30T00:07:37.250Z"
      },
      {
        "duration": 8,
        "start_time": "2022-11-30T00:07:37.264Z"
      },
      {
        "duration": 11,
        "start_time": "2022-11-30T00:07:37.274Z"
      },
      {
        "duration": 12,
        "start_time": "2022-11-30T00:07:37.288Z"
      },
      {
        "duration": 21,
        "start_time": "2022-11-30T00:07:37.302Z"
      },
      {
        "duration": 12,
        "start_time": "2022-11-30T00:07:37.325Z"
      },
      {
        "duration": 11,
        "start_time": "2022-11-30T00:07:37.338Z"
      },
      {
        "duration": 29,
        "start_time": "2022-11-30T00:07:37.351Z"
      },
      {
        "duration": 32,
        "start_time": "2022-11-30T00:07:37.382Z"
      },
      {
        "duration": 17,
        "start_time": "2022-11-30T00:07:37.416Z"
      },
      {
        "duration": 12,
        "start_time": "2022-11-30T00:07:37.435Z"
      },
      {
        "duration": 20,
        "start_time": "2022-11-30T00:07:37.449Z"
      },
      {
        "duration": 12,
        "start_time": "2022-11-30T00:07:37.471Z"
      },
      {
        "duration": 66,
        "start_time": "2022-11-30T00:07:37.486Z"
      },
      {
        "duration": 2319,
        "start_time": "2022-11-30T00:07:37.553Z"
      },
      {
        "duration": 159,
        "start_time": "2022-11-30T00:07:39.873Z"
      },
      {
        "duration": 91,
        "start_time": "2022-11-30T00:07:40.034Z"
      },
      {
        "duration": 96,
        "start_time": "2022-11-30T00:07:40.216Z"
      },
      {
        "duration": 53,
        "start_time": "2022-11-30T00:07:40.314Z"
      },
      {
        "duration": 166,
        "start_time": "2022-11-30T00:07:40.414Z"
      },
      {
        "duration": 40,
        "start_time": "2022-11-30T00:07:40.582Z"
      },
      {
        "duration": 203,
        "start_time": "2022-11-30T00:07:40.716Z"
      },
      {
        "duration": 20,
        "start_time": "2022-11-30T00:07:40.921Z"
      },
      {
        "duration": 33,
        "start_time": "2022-11-30T00:07:40.943Z"
      },
      {
        "duration": 138,
        "start_time": "2022-11-30T00:07:40.978Z"
      },
      {
        "duration": 95,
        "start_time": "2022-11-30T00:07:41.118Z"
      },
      {
        "duration": 98,
        "start_time": "2022-11-30T00:07:41.215Z"
      },
      {
        "duration": 112,
        "start_time": "2022-11-30T00:07:41.315Z"
      },
      {
        "duration": 355,
        "start_time": "2022-11-30T00:07:41.428Z"
      },
      {
        "duration": 36,
        "start_time": "2022-11-30T00:07:41.785Z"
      },
      {
        "duration": 141322,
        "start_time": "2022-11-30T00:07:41.915Z"
      },
      {
        "duration": 4,
        "start_time": "2022-11-30T00:10:03.239Z"
      },
      {
        "duration": 68,
        "start_time": "2022-11-30T00:10:03.245Z"
      },
      {
        "duration": 100,
        "start_time": "2022-11-30T00:10:03.315Z"
      },
      {
        "duration": 18139,
        "start_time": "2022-11-30T00:10:03.417Z"
      },
      {
        "duration": 3,
        "start_time": "2022-11-30T00:10:21.558Z"
      },
      {
        "duration": 71,
        "start_time": "2022-11-30T00:10:21.563Z"
      },
      {
        "duration": 625,
        "start_time": "2022-11-30T00:10:21.636Z"
      },
      {
        "duration": 242,
        "start_time": "2022-11-30T00:10:22.263Z"
      },
      {
        "duration": 65876,
        "start_time": "2022-11-30T00:10:22.507Z"
      },
      {
        "duration": 5,
        "start_time": "2022-11-30T00:11:28.385Z"
      },
      {
        "duration": 552,
        "start_time": "2022-11-30T00:11:28.392Z"
      },
      {
        "duration": 40,
        "start_time": "2022-11-30T00:11:28.946Z"
      },
      {
        "duration": 239,
        "start_time": "2022-11-30T00:11:28.987Z"
      },
      {
        "duration": 42,
        "start_time": "2022-11-30T00:24:33.777Z"
      },
      {
        "duration": 41,
        "start_time": "2022-11-30T00:26:09.495Z"
      },
      {
        "duration": 41,
        "start_time": "2022-11-30T00:26:17.261Z"
      },
      {
        "duration": 41,
        "start_time": "2022-11-30T00:28:29.796Z"
      },
      {
        "duration": 47,
        "start_time": "2022-11-30T00:31:19.721Z"
      },
      {
        "duration": 25,
        "start_time": "2022-11-30T00:33:01.219Z"
      },
      {
        "duration": 188,
        "start_time": "2022-11-30T00:36:34.435Z"
      },
      {
        "duration": 32,
        "start_time": "2022-11-30T00:38:03.732Z"
      },
      {
        "duration": 194,
        "start_time": "2022-11-30T00:38:04.918Z"
      },
      {
        "duration": 584,
        "start_time": "2022-11-30T00:39:54.867Z"
      },
      {
        "duration": 229,
        "start_time": "2022-11-30T00:39:57.232Z"
      },
      {
        "duration": 32,
        "start_time": "2022-11-30T00:40:16.093Z"
      },
      {
        "duration": 184,
        "start_time": "2022-11-30T00:40:16.683Z"
      },
      {
        "duration": 562,
        "start_time": "2022-11-30T00:40:44.133Z"
      },
      {
        "duration": 257,
        "start_time": "2022-11-30T00:40:44.697Z"
      },
      {
        "duration": 436,
        "start_time": "2022-11-30T00:41:00.328Z"
      },
      {
        "duration": 743,
        "start_time": "2022-11-30T00:41:08.730Z"
      },
      {
        "duration": 44,
        "start_time": "2022-11-30T00:42:02.804Z"
      },
      {
        "duration": 24,
        "start_time": "2022-11-30T00:42:28.465Z"
      },
      {
        "duration": 31,
        "start_time": "2022-11-30T00:42:45.448Z"
      },
      {
        "duration": 190,
        "start_time": "2022-11-30T00:42:45.975Z"
      },
      {
        "duration": 26,
        "start_time": "2022-11-30T00:43:01.389Z"
      },
      {
        "duration": 282,
        "start_time": "2022-11-30T00:43:25.539Z"
      },
      {
        "duration": 228,
        "start_time": "2022-11-30T00:43:32.093Z"
      },
      {
        "duration": 717,
        "start_time": "2022-11-30T00:44:24.390Z"
      },
      {
        "duration": 732,
        "start_time": "2022-11-30T00:46:48.620Z"
      },
      {
        "duration": 718,
        "start_time": "2022-11-30T00:47:33.903Z"
      },
      {
        "duration": 968,
        "start_time": "2022-11-30T00:48:48.343Z"
      },
      {
        "duration": 436,
        "start_time": "2022-11-30T00:51:01.699Z"
      },
      {
        "duration": 244,
        "start_time": "2022-11-30T00:53:47.659Z"
      },
      {
        "duration": 465,
        "start_time": "2022-11-30T00:54:14.712Z"
      },
      {
        "duration": 764,
        "start_time": "2022-11-30T00:55:07.080Z"
      },
      {
        "duration": 318,
        "start_time": "2022-11-30T00:55:32.967Z"
      },
      {
        "duration": 1007,
        "start_time": "2022-11-30T01:02:18.940Z"
      },
      {
        "duration": 12940,
        "start_time": "2022-11-30T01:02:47.256Z"
      },
      {
        "duration": 13911,
        "start_time": "2022-11-30T01:03:16.250Z"
      },
      {
        "duration": 4,
        "start_time": "2022-11-30T01:04:24.043Z"
      },
      {
        "duration": 44,
        "start_time": "2022-11-30T01:05:26.473Z"
      },
      {
        "duration": 44,
        "start_time": "2022-11-30T01:08:38.254Z"
      },
      {
        "duration": 46437,
        "start_time": "2022-11-30T01:08:49.076Z"
      },
      {
        "duration": 3,
        "start_time": "2022-11-30T01:09:35.516Z"
      },
      {
        "duration": 792,
        "start_time": "2022-11-30T01:10:00.739Z"
      },
      {
        "duration": 48,
        "start_time": "2022-11-30T01:10:10.393Z"
      },
      {
        "duration": 82823,
        "start_time": "2022-11-30T01:14:31.341Z"
      },
      {
        "duration": 4,
        "start_time": "2022-11-30T01:15:54.167Z"
      },
      {
        "duration": 49,
        "start_time": "2022-11-30T01:15:54.173Z"
      },
      {
        "duration": 97,
        "start_time": "2022-11-30T01:15:54.224Z"
      },
      {
        "duration": 137,
        "start_time": "2022-11-30T01:15:54.413Z"
      },
      {
        "duration": 9,
        "start_time": "2022-11-30T01:16:30.121Z"
      },
      {
        "duration": 41,
        "start_time": "2022-11-30T01:16:34.275Z"
      },
      {
        "duration": 9168,
        "start_time": "2022-11-30T01:17:15.279Z"
      },
      {
        "duration": 32918,
        "start_time": "2022-11-30T01:17:56.674Z"
      },
      {
        "duration": 3,
        "start_time": "2022-11-30T01:18:29.595Z"
      },
      {
        "duration": 37,
        "start_time": "2022-11-30T01:18:49.055Z"
      },
      {
        "duration": 4,
        "start_time": "2022-11-30T01:19:06.264Z"
      },
      {
        "duration": 555,
        "start_time": "2022-11-30T01:19:12.505Z"
      },
      {
        "duration": 39,
        "start_time": "2022-11-30T01:19:26.539Z"
      },
      {
        "duration": 218,
        "start_time": "2022-11-30T01:19:30.881Z"
      },
      {
        "duration": 566,
        "start_time": "2022-11-30T01:23:22.006Z"
      },
      {
        "duration": 40,
        "start_time": "2022-11-30T01:23:29.592Z"
      },
      {
        "duration": 214,
        "start_time": "2022-11-30T01:23:48.690Z"
      },
      {
        "duration": 1367,
        "start_time": "2022-11-30T01:24:02.340Z"
      },
      {
        "duration": 51,
        "start_time": "2022-11-30T01:24:03.709Z"
      },
      {
        "duration": 5,
        "start_time": "2022-11-30T01:24:03.761Z"
      },
      {
        "duration": 12,
        "start_time": "2022-11-30T01:24:03.768Z"
      },
      {
        "duration": 22,
        "start_time": "2022-11-30T01:24:03.781Z"
      },
      {
        "duration": 6,
        "start_time": "2022-11-30T01:24:03.804Z"
      },
      {
        "duration": 10,
        "start_time": "2022-11-30T01:24:03.812Z"
      },
      {
        "duration": 9,
        "start_time": "2022-11-30T01:24:03.824Z"
      },
      {
        "duration": 7,
        "start_time": "2022-11-30T01:24:03.835Z"
      },
      {
        "duration": 5,
        "start_time": "2022-11-30T01:24:03.844Z"
      },
      {
        "duration": 18,
        "start_time": "2022-11-30T01:24:03.850Z"
      },
      {
        "duration": 13,
        "start_time": "2022-11-30T01:24:03.870Z"
      },
      {
        "duration": 4,
        "start_time": "2022-11-30T01:24:03.884Z"
      },
      {
        "duration": 33,
        "start_time": "2022-11-30T01:24:03.890Z"
      },
      {
        "duration": 11,
        "start_time": "2022-11-30T01:24:03.925Z"
      },
      {
        "duration": 20,
        "start_time": "2022-11-30T01:24:03.938Z"
      },
      {
        "duration": 19,
        "start_time": "2022-11-30T01:24:03.960Z"
      },
      {
        "duration": 19,
        "start_time": "2022-11-30T01:24:04.011Z"
      },
      {
        "duration": 3,
        "start_time": "2022-11-30T01:24:04.032Z"
      },
      {
        "duration": 5,
        "start_time": "2022-11-30T01:24:04.037Z"
      },
      {
        "duration": 6,
        "start_time": "2022-11-30T01:24:04.043Z"
      },
      {
        "duration": 41,
        "start_time": "2022-11-30T01:24:04.050Z"
      },
      {
        "duration": 1375,
        "start_time": "2022-11-30T01:24:04.093Z"
      },
      {
        "duration": 148,
        "start_time": "2022-11-30T01:24:05.469Z"
      },
      {
        "duration": 104,
        "start_time": "2022-11-30T01:24:05.619Z"
      },
      {
        "duration": 6,
        "start_time": "2022-11-30T01:24:05.813Z"
      },
      {
        "duration": 201,
        "start_time": "2022-11-30T01:24:05.821Z"
      },
      {
        "duration": 841,
        "start_time": "2022-11-30T01:24:06.115Z"
      },
      {
        "duration": 64,
        "start_time": "2022-11-30T01:24:06.958Z"
      },
      {
        "duration": 826,
        "start_time": "2022-11-30T01:24:07.114Z"
      },
      {
        "duration": 14,
        "start_time": "2022-11-30T01:24:07.942Z"
      },
      {
        "duration": 65,
        "start_time": "2022-11-30T01:24:07.957Z"
      },
      {
        "duration": 1076,
        "start_time": "2022-11-30T01:24:08.113Z"
      },
      {
        "duration": 4,
        "start_time": "2022-11-30T01:24:09.191Z"
      },
      {
        "duration": 116,
        "start_time": "2022-11-30T01:24:09.196Z"
      },
      {
        "duration": 550,
        "start_time": "2022-11-30T01:24:09.315Z"
      },
      {
        "duration": 356,
        "start_time": "2022-11-30T01:24:09.867Z"
      },
      {
        "duration": 92,
        "start_time": "2022-11-30T01:24:10.225Z"
      },
      {
        "duration": 341,
        "start_time": "2022-11-30T01:24:10.319Z"
      },
      {
        "duration": 742,
        "start_time": "2022-11-30T01:24:10.662Z"
      },
      {
        "duration": 83159,
        "start_time": "2022-11-30T01:24:11.405Z"
      },
      {
        "duration": 4,
        "start_time": "2022-11-30T01:25:34.565Z"
      },
      {
        "duration": 10,
        "start_time": "2022-11-30T01:25:34.612Z"
      },
      {
        "duration": 89,
        "start_time": "2022-11-30T01:25:34.624Z"
      },
      {
        "duration": 9337,
        "start_time": "2022-11-30T01:25:34.715Z"
      },
      {
        "duration": 4,
        "start_time": "2022-11-30T01:25:44.054Z"
      },
      {
        "duration": 75,
        "start_time": "2022-11-30T01:25:44.060Z"
      },
      {
        "duration": 33329,
        "start_time": "2022-11-30T01:25:44.137Z"
      },
      {
        "duration": 4,
        "start_time": "2022-11-30T01:26:17.467Z"
      },
      {
        "duration": 527,
        "start_time": "2022-11-30T01:26:17.473Z"
      },
      {
        "duration": 0,
        "start_time": "2022-11-30T01:26:18.002Z"
      },
      {
        "duration": 0,
        "start_time": "2022-11-30T01:26:18.003Z"
      },
      {
        "duration": 557,
        "start_time": "2022-11-30T01:26:33.338Z"
      },
      {
        "duration": 43,
        "start_time": "2022-11-30T01:26:40.384Z"
      },
      {
        "duration": 221,
        "start_time": "2022-11-30T01:26:47.051Z"
      },
      {
        "duration": 365,
        "start_time": "2022-11-30T01:31:00.955Z"
      },
      {
        "duration": 46,
        "start_time": "2022-11-30T21:51:03.938Z"
      },
      {
        "duration": 1584,
        "start_time": "2022-11-30T21:51:16.994Z"
      },
      {
        "duration": 188,
        "start_time": "2022-11-30T21:51:18.580Z"
      },
      {
        "duration": 4,
        "start_time": "2022-11-30T21:51:18.770Z"
      },
      {
        "duration": 9,
        "start_time": "2022-11-30T21:51:18.776Z"
      },
      {
        "duration": 9,
        "start_time": "2022-11-30T21:51:18.786Z"
      },
      {
        "duration": 11,
        "start_time": "2022-11-30T21:51:18.798Z"
      },
      {
        "duration": 25,
        "start_time": "2022-11-30T21:51:18.811Z"
      },
      {
        "duration": 21,
        "start_time": "2022-11-30T21:51:18.839Z"
      },
      {
        "duration": 17,
        "start_time": "2022-11-30T21:51:18.862Z"
      },
      {
        "duration": 8,
        "start_time": "2022-11-30T21:51:18.882Z"
      },
      {
        "duration": 27,
        "start_time": "2022-11-30T21:51:18.893Z"
      },
      {
        "duration": 142,
        "start_time": "2022-11-30T21:51:18.922Z"
      },
      {
        "duration": 0,
        "start_time": "2022-11-30T21:51:19.067Z"
      },
      {
        "duration": 0,
        "start_time": "2022-11-30T21:51:19.068Z"
      },
      {
        "duration": 0,
        "start_time": "2022-11-30T21:51:19.070Z"
      },
      {
        "duration": 0,
        "start_time": "2022-11-30T21:51:19.071Z"
      },
      {
        "duration": 0,
        "start_time": "2022-11-30T21:51:19.073Z"
      },
      {
        "duration": 0,
        "start_time": "2022-11-30T21:51:19.074Z"
      },
      {
        "duration": 0,
        "start_time": "2022-11-30T21:51:19.075Z"
      },
      {
        "duration": 0,
        "start_time": "2022-11-30T21:51:19.078Z"
      },
      {
        "duration": 0,
        "start_time": "2022-11-30T21:51:19.079Z"
      },
      {
        "duration": 0,
        "start_time": "2022-11-30T21:51:19.081Z"
      },
      {
        "duration": 0,
        "start_time": "2022-11-30T21:51:19.082Z"
      },
      {
        "duration": 0,
        "start_time": "2022-11-30T21:51:19.084Z"
      },
      {
        "duration": 0,
        "start_time": "2022-11-30T21:51:19.086Z"
      },
      {
        "duration": 0,
        "start_time": "2022-11-30T21:51:19.087Z"
      },
      {
        "duration": 0,
        "start_time": "2022-11-30T21:51:19.089Z"
      },
      {
        "duration": 0,
        "start_time": "2022-11-30T21:51:19.090Z"
      },
      {
        "duration": 0,
        "start_time": "2022-11-30T21:51:19.092Z"
      },
      {
        "duration": 0,
        "start_time": "2022-11-30T21:51:19.138Z"
      },
      {
        "duration": 0,
        "start_time": "2022-11-30T21:51:19.140Z"
      },
      {
        "duration": 0,
        "start_time": "2022-11-30T21:51:19.141Z"
      },
      {
        "duration": 0,
        "start_time": "2022-11-30T21:51:19.142Z"
      },
      {
        "duration": 0,
        "start_time": "2022-11-30T21:51:19.143Z"
      },
      {
        "duration": 0,
        "start_time": "2022-11-30T21:51:19.145Z"
      },
      {
        "duration": 0,
        "start_time": "2022-11-30T21:51:19.146Z"
      },
      {
        "duration": 0,
        "start_time": "2022-11-30T21:51:19.148Z"
      },
      {
        "duration": 0,
        "start_time": "2022-11-30T21:51:19.149Z"
      },
      {
        "duration": 0,
        "start_time": "2022-11-30T21:51:19.151Z"
      },
      {
        "duration": 0,
        "start_time": "2022-11-30T21:51:19.153Z"
      },
      {
        "duration": 0,
        "start_time": "2022-11-30T21:51:19.154Z"
      },
      {
        "duration": 0,
        "start_time": "2022-11-30T21:51:19.155Z"
      },
      {
        "duration": 0,
        "start_time": "2022-11-30T21:51:19.157Z"
      },
      {
        "duration": 0,
        "start_time": "2022-11-30T21:51:19.159Z"
      },
      {
        "duration": 0,
        "start_time": "2022-11-30T21:51:19.160Z"
      },
      {
        "duration": 0,
        "start_time": "2022-11-30T21:51:19.161Z"
      },
      {
        "duration": 0,
        "start_time": "2022-11-30T21:51:19.162Z"
      },
      {
        "duration": 11,
        "start_time": "2022-11-30T21:51:26.804Z"
      },
      {
        "duration": 7,
        "start_time": "2022-11-30T21:51:52.891Z"
      },
      {
        "duration": 9,
        "start_time": "2022-11-30T21:51:59.022Z"
      },
      {
        "duration": 8,
        "start_time": "2022-11-30T21:59:49.939Z"
      },
      {
        "duration": 4,
        "start_time": "2022-11-30T22:00:14.314Z"
      },
      {
        "duration": 9,
        "start_time": "2022-11-30T22:00:44.645Z"
      },
      {
        "duration": 9,
        "start_time": "2022-11-30T22:00:50.110Z"
      },
      {
        "duration": 4,
        "start_time": "2022-11-30T22:01:01.450Z"
      },
      {
        "duration": 14,
        "start_time": "2022-11-30T22:01:17.995Z"
      },
      {
        "duration": 5,
        "start_time": "2022-11-30T22:02:36.438Z"
      },
      {
        "duration": 7,
        "start_time": "2022-11-30T22:02:38.696Z"
      },
      {
        "duration": 6,
        "start_time": "2022-11-30T22:02:39.455Z"
      },
      {
        "duration": 5,
        "start_time": "2022-11-30T22:02:58.437Z"
      },
      {
        "duration": 4,
        "start_time": "2022-11-30T22:03:07.226Z"
      },
      {
        "duration": 7,
        "start_time": "2022-11-30T22:03:07.966Z"
      },
      {
        "duration": 6,
        "start_time": "2022-11-30T22:03:08.623Z"
      },
      {
        "duration": 4,
        "start_time": "2022-11-30T22:03:09.291Z"
      },
      {
        "duration": 4,
        "start_time": "2022-11-30T22:04:01.426Z"
      },
      {
        "duration": 5,
        "start_time": "2022-11-30T22:04:02.109Z"
      },
      {
        "duration": 6,
        "start_time": "2022-11-30T22:04:06.483Z"
      },
      {
        "duration": 7,
        "start_time": "2022-11-30T22:04:07.788Z"
      },
      {
        "duration": 5,
        "start_time": "2022-11-30T22:04:13.956Z"
      },
      {
        "duration": 5,
        "start_time": "2022-11-30T22:04:17.170Z"
      },
      {
        "duration": 6,
        "start_time": "2022-11-30T22:04:17.619Z"
      },
      {
        "duration": 7,
        "start_time": "2022-11-30T22:04:18.084Z"
      },
      {
        "duration": 6,
        "start_time": "2022-11-30T22:04:18.836Z"
      },
      {
        "duration": 5,
        "start_time": "2022-11-30T22:04:28.058Z"
      },
      {
        "duration": 19,
        "start_time": "2022-11-30T22:04:34.282Z"
      },
      {
        "duration": 4,
        "start_time": "2022-11-30T22:05:22.345Z"
      },
      {
        "duration": 18,
        "start_time": "2022-11-30T22:05:26.839Z"
      },
      {
        "duration": 32,
        "start_time": "2022-11-30T22:05:38.923Z"
      },
      {
        "duration": 7,
        "start_time": "2022-11-30T22:06:06.074Z"
      },
      {
        "duration": 16,
        "start_time": "2022-11-30T22:06:26.209Z"
      },
      {
        "duration": 20,
        "start_time": "2022-11-30T22:06:34.609Z"
      },
      {
        "duration": 5,
        "start_time": "2022-11-30T22:06:51.135Z"
      },
      {
        "duration": 2,
        "start_time": "2022-11-30T22:06:58.370Z"
      },
      {
        "duration": 2,
        "start_time": "2022-11-30T22:07:05.899Z"
      },
      {
        "duration": 13,
        "start_time": "2022-11-30T22:07:29.061Z"
      },
      {
        "duration": 1469,
        "start_time": "2022-11-30T22:07:41.199Z"
      },
      {
        "duration": 54,
        "start_time": "2022-11-30T22:07:42.670Z"
      },
      {
        "duration": 4,
        "start_time": "2022-11-30T22:07:42.726Z"
      },
      {
        "duration": 5,
        "start_time": "2022-11-30T22:07:42.732Z"
      },
      {
        "duration": 10,
        "start_time": "2022-11-30T22:07:42.739Z"
      },
      {
        "duration": 3,
        "start_time": "2022-11-30T22:07:42.750Z"
      },
      {
        "duration": 6,
        "start_time": "2022-11-30T22:07:42.754Z"
      },
      {
        "duration": 7,
        "start_time": "2022-11-30T22:07:42.762Z"
      },
      {
        "duration": 8,
        "start_time": "2022-11-30T22:07:42.770Z"
      },
      {
        "duration": 4,
        "start_time": "2022-11-30T22:07:42.781Z"
      },
      {
        "duration": 139,
        "start_time": "2022-11-30T22:07:42.786Z"
      },
      {
        "duration": 0,
        "start_time": "2022-11-30T22:07:42.928Z"
      },
      {
        "duration": 0,
        "start_time": "2022-11-30T22:07:42.930Z"
      },
      {
        "duration": 0,
        "start_time": "2022-11-30T22:07:42.937Z"
      },
      {
        "duration": 0,
        "start_time": "2022-11-30T22:07:42.938Z"
      },
      {
        "duration": 0,
        "start_time": "2022-11-30T22:07:42.940Z"
      },
      {
        "duration": 0,
        "start_time": "2022-11-30T22:07:42.941Z"
      },
      {
        "duration": 0,
        "start_time": "2022-11-30T22:07:42.942Z"
      },
      {
        "duration": 0,
        "start_time": "2022-11-30T22:07:42.943Z"
      },
      {
        "duration": 0,
        "start_time": "2022-11-30T22:07:42.944Z"
      },
      {
        "duration": 0,
        "start_time": "2022-11-30T22:07:42.946Z"
      },
      {
        "duration": 0,
        "start_time": "2022-11-30T22:07:42.947Z"
      },
      {
        "duration": 0,
        "start_time": "2022-11-30T22:07:42.948Z"
      },
      {
        "duration": 0,
        "start_time": "2022-11-30T22:07:42.949Z"
      },
      {
        "duration": 0,
        "start_time": "2022-11-30T22:07:42.950Z"
      },
      {
        "duration": 0,
        "start_time": "2022-11-30T22:07:42.951Z"
      },
      {
        "duration": 0,
        "start_time": "2022-11-30T22:07:42.952Z"
      },
      {
        "duration": 0,
        "start_time": "2022-11-30T22:07:42.953Z"
      },
      {
        "duration": 0,
        "start_time": "2022-11-30T22:07:42.954Z"
      },
      {
        "duration": 0,
        "start_time": "2022-11-30T22:07:42.955Z"
      },
      {
        "duration": 0,
        "start_time": "2022-11-30T22:07:42.956Z"
      },
      {
        "duration": 0,
        "start_time": "2022-11-30T22:07:42.958Z"
      },
      {
        "duration": 0,
        "start_time": "2022-11-30T22:07:42.959Z"
      },
      {
        "duration": 0,
        "start_time": "2022-11-30T22:07:42.960Z"
      },
      {
        "duration": 0,
        "start_time": "2022-11-30T22:07:42.962Z"
      },
      {
        "duration": 0,
        "start_time": "2022-11-30T22:07:42.963Z"
      },
      {
        "duration": 0,
        "start_time": "2022-11-30T22:07:42.964Z"
      },
      {
        "duration": 0,
        "start_time": "2022-11-30T22:07:42.965Z"
      },
      {
        "duration": 0,
        "start_time": "2022-11-30T22:07:42.966Z"
      },
      {
        "duration": 0,
        "start_time": "2022-11-30T22:07:42.967Z"
      },
      {
        "duration": 0,
        "start_time": "2022-11-30T22:07:42.969Z"
      },
      {
        "duration": 0,
        "start_time": "2022-11-30T22:07:42.970Z"
      },
      {
        "duration": 0,
        "start_time": "2022-11-30T22:07:42.972Z"
      },
      {
        "duration": 0,
        "start_time": "2022-11-30T22:07:42.973Z"
      },
      {
        "duration": 0,
        "start_time": "2022-11-30T22:07:43.037Z"
      },
      {
        "duration": 0,
        "start_time": "2022-11-30T22:07:43.039Z"
      },
      {
        "duration": 0,
        "start_time": "2022-11-30T22:07:43.040Z"
      },
      {
        "duration": 0,
        "start_time": "2022-11-30T22:07:43.041Z"
      },
      {
        "duration": 0,
        "start_time": "2022-11-30T22:07:43.043Z"
      },
      {
        "duration": 0,
        "start_time": "2022-11-30T22:07:43.044Z"
      },
      {
        "duration": 0,
        "start_time": "2022-11-30T22:07:43.045Z"
      },
      {
        "duration": 0,
        "start_time": "2022-11-30T22:07:43.047Z"
      },
      {
        "duration": 0,
        "start_time": "2022-11-30T22:07:43.048Z"
      },
      {
        "duration": 0,
        "start_time": "2022-11-30T22:07:43.049Z"
      },
      {
        "duration": 0,
        "start_time": "2022-11-30T22:07:43.049Z"
      },
      {
        "duration": 0,
        "start_time": "2022-11-30T22:07:43.050Z"
      },
      {
        "duration": 0,
        "start_time": "2022-11-30T22:07:43.051Z"
      },
      {
        "duration": 3,
        "start_time": "2022-11-30T22:07:55.618Z"
      },
      {
        "duration": 1459,
        "start_time": "2022-11-30T22:08:19.198Z"
      },
      {
        "duration": 57,
        "start_time": "2022-11-30T22:08:20.659Z"
      },
      {
        "duration": 4,
        "start_time": "2022-11-30T22:08:20.720Z"
      },
      {
        "duration": 20,
        "start_time": "2022-11-30T22:08:20.726Z"
      },
      {
        "duration": 32,
        "start_time": "2022-11-30T22:08:20.748Z"
      },
      {
        "duration": 6,
        "start_time": "2022-11-30T22:08:20.782Z"
      },
      {
        "duration": 14,
        "start_time": "2022-11-30T22:08:20.790Z"
      },
      {
        "duration": 27,
        "start_time": "2022-11-30T22:08:20.806Z"
      },
      {
        "duration": 30,
        "start_time": "2022-11-30T22:08:20.839Z"
      },
      {
        "duration": 19,
        "start_time": "2022-11-30T22:08:20.871Z"
      },
      {
        "duration": 36,
        "start_time": "2022-11-30T22:08:20.892Z"
      },
      {
        "duration": 22,
        "start_time": "2022-11-30T22:08:20.930Z"
      },
      {
        "duration": 46,
        "start_time": "2022-11-30T22:08:20.955Z"
      },
      {
        "duration": 28,
        "start_time": "2022-11-30T22:08:21.003Z"
      },
      {
        "duration": 29,
        "start_time": "2022-11-30T22:08:21.033Z"
      },
      {
        "duration": 6,
        "start_time": "2022-11-30T22:08:21.064Z"
      },
      {
        "duration": 6,
        "start_time": "2022-11-30T22:08:21.072Z"
      },
      {
        "duration": 5,
        "start_time": "2022-11-30T22:08:21.079Z"
      },
      {
        "duration": 8,
        "start_time": "2022-11-30T22:08:21.086Z"
      },
      {
        "duration": 5,
        "start_time": "2022-11-30T22:08:21.096Z"
      },
      {
        "duration": 7,
        "start_time": "2022-11-30T22:08:21.102Z"
      },
      {
        "duration": 5,
        "start_time": "2022-11-30T22:08:21.111Z"
      },
      {
        "duration": 8,
        "start_time": "2022-11-30T22:08:21.117Z"
      },
      {
        "duration": 4,
        "start_time": "2022-11-30T22:08:21.127Z"
      },
      {
        "duration": 6,
        "start_time": "2022-11-30T22:08:21.133Z"
      },
      {
        "duration": 41,
        "start_time": "2022-11-30T22:08:21.140Z"
      },
      {
        "duration": 1181,
        "start_time": "2022-11-30T22:08:21.185Z"
      },
      {
        "duration": 150,
        "start_time": "2022-11-30T22:08:22.368Z"
      },
      {
        "duration": 125,
        "start_time": "2022-11-30T22:08:22.520Z"
      },
      {
        "duration": 95,
        "start_time": "2022-11-30T22:08:22.647Z"
      },
      {
        "duration": 193,
        "start_time": "2022-11-30T22:08:22.744Z"
      },
      {
        "duration": 925,
        "start_time": "2022-11-30T22:08:22.945Z"
      },
      {
        "duration": 171,
        "start_time": "2022-11-30T22:08:23.872Z"
      },
      {
        "duration": 912,
        "start_time": "2022-11-30T22:08:24.046Z"
      },
      {
        "duration": 14,
        "start_time": "2022-11-30T22:08:24.959Z"
      },
      {
        "duration": 164,
        "start_time": "2022-11-30T22:08:24.975Z"
      },
      {
        "duration": 1137,
        "start_time": "2022-11-30T22:08:25.141Z"
      },
      {
        "duration": 4,
        "start_time": "2022-11-30T22:08:26.280Z"
      },
      {
        "duration": 153,
        "start_time": "2022-11-30T22:08:26.285Z"
      },
      {
        "duration": 537,
        "start_time": "2022-11-30T22:08:26.440Z"
      },
      {
        "duration": 489,
        "start_time": "2022-11-30T22:08:26.979Z"
      },
      {
        "duration": 368,
        "start_time": "2022-11-30T22:08:27.470Z"
      },
      {
        "duration": 518,
        "start_time": "2022-11-30T22:08:27.841Z"
      },
      {
        "duration": 1246,
        "start_time": "2022-11-30T22:08:28.361Z"
      },
      {
        "duration": 42145,
        "start_time": "2022-11-30T22:08:29.608Z"
      },
      {
        "duration": 4,
        "start_time": "2022-11-30T22:09:11.755Z"
      },
      {
        "duration": 17,
        "start_time": "2022-11-30T22:09:11.761Z"
      },
      {
        "duration": 160,
        "start_time": "2022-11-30T22:09:11.779Z"
      },
      {
        "duration": 9625,
        "start_time": "2022-11-30T22:09:11.941Z"
      },
      {
        "duration": 5,
        "start_time": "2022-11-30T22:09:21.568Z"
      },
      {
        "duration": 38,
        "start_time": "2022-11-30T22:09:21.575Z"
      },
      {
        "duration": 36569,
        "start_time": "2022-11-30T22:09:21.616Z"
      },
      {
        "duration": 4,
        "start_time": "2022-11-30T22:09:58.187Z"
      },
      {
        "duration": 638,
        "start_time": "2022-11-30T22:09:58.192Z"
      },
      {
        "duration": 53,
        "start_time": "2022-11-30T22:09:58.832Z"
      },
      {
        "duration": 289,
        "start_time": "2022-11-30T22:09:58.887Z"
      },
      {
        "duration": 367,
        "start_time": "2022-11-30T22:09:59.178Z"
      },
      {
        "duration": 42096,
        "start_time": "2022-11-30T22:12:52.259Z"
      },
      {
        "duration": 39297,
        "start_time": "2022-11-30T22:14:19.874Z"
      },
      {
        "duration": 11,
        "start_time": "2022-11-30T22:14:59.172Z"
      },
      {
        "duration": 153,
        "start_time": "2022-11-30T22:14:59.185Z"
      },
      {
        "duration": 9425,
        "start_time": "2022-11-30T22:14:59.341Z"
      },
      {
        "duration": 3,
        "start_time": "2022-11-30T22:15:17.396Z"
      },
      {
        "duration": 32,
        "start_time": "2022-11-30T22:15:21.905Z"
      },
      {
        "duration": 34476,
        "start_time": "2022-11-30T22:15:50.615Z"
      },
      {
        "duration": 4,
        "start_time": "2022-11-30T22:16:25.093Z"
      },
      {
        "duration": 620,
        "start_time": "2022-11-30T22:16:25.694Z"
      },
      {
        "duration": 235,
        "start_time": "2022-11-30T22:16:41.471Z"
      },
      {
        "duration": 19,
        "start_time": "2022-11-30T22:16:44.855Z"
      },
      {
        "duration": 35353,
        "start_time": "2022-11-30T22:16:56.768Z"
      },
      {
        "duration": 4,
        "start_time": "2022-11-30T22:17:32.123Z"
      },
      {
        "duration": 610,
        "start_time": "2022-11-30T22:17:32.137Z"
      },
      {
        "duration": 41,
        "start_time": "2022-11-30T22:17:32.749Z"
      },
      {
        "duration": 237,
        "start_time": "2022-11-30T22:17:32.791Z"
      },
      {
        "duration": 9108,
        "start_time": "2022-11-30T22:17:57.031Z"
      }
    ],
    "kernelspec": {
      "display_name": "Python 3 (ipykernel)",
      "language": "python",
      "name": "python3"
    },
    "language_info": {
      "codemirror_mode": {
        "name": "ipython",
        "version": 3
      },
      "file_extension": ".py",
      "mimetype": "text/x-python",
      "name": "python",
      "nbconvert_exporter": "python",
      "pygments_lexer": "ipython3",
      "version": "3.9.5"
    },
    "toc": {
      "base_numbering": 1,
      "nav_menu": {},
      "number_sections": true,
      "sideBar": true,
      "skip_h1_title": true,
      "title_cell": "Содержание",
      "title_sidebar": "Contents",
      "toc_cell": true,
      "toc_position": {},
      "toc_section_display": true,
      "toc_window_display": true
    },
    "colab": {
      "provenance": [],
      "toc_visible": true
    }
  },
  "nbformat": 4,
  "nbformat_minor": 0
}